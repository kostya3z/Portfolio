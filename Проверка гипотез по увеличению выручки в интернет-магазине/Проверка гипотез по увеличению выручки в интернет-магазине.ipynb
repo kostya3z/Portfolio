{
 "cells": [
  {
   "cell_type": "markdown",
   "id": "1c680751",
   "metadata": {
    "toc": true
   },
   "source": [
    "<h1>Table of Contents<span class=\"tocSkip\"></span></h1>\n",
    "<div class=\"toc\"><ul class=\"toc-item\"><li><span><a href=\"#Часть-1.-Приоритизация-гипотез\" data-toc-modified-id=\"Часть-1.-Приоритизация-гипотез-1\"><span class=\"toc-item-num\">1&nbsp;&nbsp;</span>Часть 1. Приоритизация гипотез</a></span><ul class=\"toc-item\"><li><span><a href=\"#Предобработка-данных\" data-toc-modified-id=\"Предобработка-данных-1.1\"><span class=\"toc-item-num\">1.1&nbsp;&nbsp;</span>Предобработка данных</a></span></li><li><span><a href=\"#Применение-фреймворка-ICE\" data-toc-modified-id=\"Применение-фреймворка-ICE-1.2\"><span class=\"toc-item-num\">1.2&nbsp;&nbsp;</span>Применение фреймворка ICE</a></span></li><li><span><a href=\"#Применение-фреймворка-RICE\" data-toc-modified-id=\"Применение-фреймворка-RICE-1.3\"><span class=\"toc-item-num\">1.3&nbsp;&nbsp;</span>Применение фреймворка RICE</a></span></li><li><span><a href=\"#Промежуточные-выводы\" data-toc-modified-id=\"Промежуточные-выводы-1.4\"><span class=\"toc-item-num\">1.4&nbsp;&nbsp;</span>Промежуточные выводы</a></span></li></ul></li><li><span><a href=\"#Часть-2.-Анализ-A/B-теста\" data-toc-modified-id=\"Часть-2.-Анализ-A/B-теста-2\"><span class=\"toc-item-num\">2&nbsp;&nbsp;</span>Часть 2. Анализ A/B-теста</a></span><ul class=\"toc-item\"><li><span><a href=\"#Предобработка-данных\" data-toc-modified-id=\"Предобработка-данных-2.1\"><span class=\"toc-item-num\">2.1&nbsp;&nbsp;</span>Предобработка данных</a></span></li><li><span><a href=\"#График-кумулятивной-выручки-по-группам.\" data-toc-modified-id=\"График-кумулятивной-выручки-по-группам.-2.2\"><span class=\"toc-item-num\">2.2&nbsp;&nbsp;</span>График кумулятивной выручки по группам.</a></span></li><li><span><a href=\"#График-кумулятивного-среднего-чека-по-группам.\" data-toc-modified-id=\"График-кумулятивного-среднего-чека-по-группам.-2.3\"><span class=\"toc-item-num\">2.3&nbsp;&nbsp;</span>График кумулятивного среднего чека по группам.</a></span></li><li><span><a href=\"#График-относительного-изменения-кумулятивного-среднего-чека-группы-B-к-группе-A\" data-toc-modified-id=\"График-относительного-изменения-кумулятивного-среднего-чека-группы-B-к-группе-A-2.4\"><span class=\"toc-item-num\">2.4&nbsp;&nbsp;</span>График относительного изменения кумулятивного среднего чека группы B к группе A</a></span></li><li><span><a href=\"#График-кумулятивного-среднего-количества-заказов-на-посетителя-по-группам\" data-toc-modified-id=\"График-кумулятивного-среднего-количества-заказов-на-посетителя-по-группам-2.5\"><span class=\"toc-item-num\">2.5&nbsp;&nbsp;</span>График кумулятивного среднего количества заказов на посетителя по группам</a></span></li><li><span><a href=\"#График-относительного-изменения-кумулятивного-среднего-количества-заказов-на-посетителя-группы-B-к-группе-A\" data-toc-modified-id=\"График-относительного-изменения-кумулятивного-среднего-количества-заказов-на-посетителя-группы-B-к-группе-A-2.6\"><span class=\"toc-item-num\">2.6&nbsp;&nbsp;</span>График относительного изменения кумулятивного среднего количества заказов на посетителя группы B к группе A</a></span></li><li><span><a href=\"#Удаление-аномальных-значений\" data-toc-modified-id=\"Удаление-аномальных-значений-2.7\"><span class=\"toc-item-num\">2.7&nbsp;&nbsp;</span>Удаление аномальных значений</a></span></li><li><span><a href=\"#Подсчет-статистических-значимостей-между-группами-по-«сырым»-данным\" data-toc-modified-id=\"Подсчет-статистических-значимостей-между-группами-по-«сырым»-данным-2.8\"><span class=\"toc-item-num\">2.8&nbsp;&nbsp;</span>Подсчет статистических значимостей между группами по «сырым» данным</a></span></li><li><span><a href=\"#Подсчет-статистических-значимостей-между-группами-по-«очищенным»-данным\" data-toc-modified-id=\"Подсчет-статистических-значимостей-между-группами-по-«очищенным»-данным-2.9\"><span class=\"toc-item-num\">2.9&nbsp;&nbsp;</span>Подсчет статистических значимостей между группами по «очищенным» данным</a></span></li></ul></li><li><span><a href=\"#Общие-выводы\" data-toc-modified-id=\"Общие-выводы-3\"><span class=\"toc-item-num\">3&nbsp;&nbsp;</span>Общие выводы</a></span><ul class=\"toc-item\"><li><span><a href=\"#Выполненные-действия\" data-toc-modified-id=\"Выполненные-действия-3.1\"><span class=\"toc-item-num\">3.1&nbsp;&nbsp;</span>Выполненные действия</a></span></li><li><span><a href=\"#Приоретизация-гипотез\" data-toc-modified-id=\"Приоретизация-гипотез-3.2\"><span class=\"toc-item-num\">3.2&nbsp;&nbsp;</span>Приоретизация гипотез</a></span></li><li><span><a href=\"#Анализ-результатов-А/В-тестирования\" data-toc-modified-id=\"Анализ-результатов-А/В-тестирования-3.3\"><span class=\"toc-item-num\">3.3&nbsp;&nbsp;</span>Анализ результатов А/В тестирования</a></span></li></ul></li></ul></div>"
   ]
  },
  {
   "cell_type": "markdown",
   "id": "7eebd18c",
   "metadata": {},
   "source": [
    "Представленное исследование состоит из 3х основных частей.    \n",
    "1я часть посвящена приоретизации предложенных гипотез, 2я - анализу А/В теста, в 3й изложены общие выводы по результатам исследования.\n",
    "\n",
    "Для проведения анализа были представлены следующие данные:\n",
    "* предложенные гипотезы; \n",
    "* данные о пользователях и их заказах;\n",
    "* данные о посещениях по дням.\n",
    "\n"
   ]
  },
  {
   "cell_type": "markdown",
   "id": "5789c09a",
   "metadata": {},
   "source": [
    "## Часть 1. Приоритизация гипотез"
   ]
  },
  {
   "cell_type": "code",
   "execution_count": 1,
   "id": "98152424",
   "metadata": {},
   "outputs": [],
   "source": [
    "import pandas as pd\n",
    "import scipy.stats as stats\n",
    "import datetime as dt\n",
    "import numpy as np\n",
    "import seaborn as sns\n",
    "from matplotlib import pyplot as plt\n",
    "import math as mth"
   ]
  },
  {
   "cell_type": "code",
   "execution_count": 2,
   "id": "6b2ae771",
   "metadata": {},
   "outputs": [],
   "source": [
    "# импортируем данные\n",
    "try:\n",
    "    data = pd.read_csv('https://code.s3.yandex.net/datasets/hypothesis.csv')\n",
    "except:\n",
    "    data = pd.read_csv('/Users/konstantinzuev/БА/Jupiter/A:B tests')"
   ]
  },
  {
   "cell_type": "code",
   "execution_count": 3,
   "id": "67be6df8",
   "metadata": {},
   "outputs": [
    {
     "data": {
      "text/html": [
       "<div>\n",
       "<style scoped>\n",
       "    .dataframe tbody tr th:only-of-type {\n",
       "        vertical-align: middle;\n",
       "    }\n",
       "\n",
       "    .dataframe tbody tr th {\n",
       "        vertical-align: top;\n",
       "    }\n",
       "\n",
       "    .dataframe thead th {\n",
       "        text-align: right;\n",
       "    }\n",
       "</style>\n",
       "<table border=\"1\" class=\"dataframe\">\n",
       "  <thead>\n",
       "    <tr style=\"text-align: right;\">\n",
       "      <th></th>\n",
       "      <th>Hypothesis</th>\n",
       "      <th>Reach</th>\n",
       "      <th>Impact</th>\n",
       "      <th>Confidence</th>\n",
       "      <th>Efforts</th>\n",
       "    </tr>\n",
       "  </thead>\n",
       "  <tbody>\n",
       "    <tr>\n",
       "      <th>0</th>\n",
       "      <td>Добавить два новых канала привлечения трафика,...</td>\n",
       "      <td>3</td>\n",
       "      <td>10</td>\n",
       "      <td>8</td>\n",
       "      <td>6</td>\n",
       "    </tr>\n",
       "    <tr>\n",
       "      <th>1</th>\n",
       "      <td>Запустить собственную службу доставки, что сок...</td>\n",
       "      <td>2</td>\n",
       "      <td>5</td>\n",
       "      <td>4</td>\n",
       "      <td>10</td>\n",
       "    </tr>\n",
       "    <tr>\n",
       "      <th>2</th>\n",
       "      <td>Добавить блоки рекомендаций товаров на сайт ин...</td>\n",
       "      <td>8</td>\n",
       "      <td>3</td>\n",
       "      <td>7</td>\n",
       "      <td>3</td>\n",
       "    </tr>\n",
       "    <tr>\n",
       "      <th>3</th>\n",
       "      <td>Изменить структура категорий, что увеличит кон...</td>\n",
       "      <td>8</td>\n",
       "      <td>3</td>\n",
       "      <td>3</td>\n",
       "      <td>8</td>\n",
       "    </tr>\n",
       "    <tr>\n",
       "      <th>4</th>\n",
       "      <td>Изменить цвет фона главной страницы, чтобы уве...</td>\n",
       "      <td>3</td>\n",
       "      <td>1</td>\n",
       "      <td>1</td>\n",
       "      <td>1</td>\n",
       "    </tr>\n",
       "  </tbody>\n",
       "</table>\n",
       "</div>"
      ],
      "text/plain": [
       "                                          Hypothesis  Reach  Impact  \\\n",
       "0  Добавить два новых канала привлечения трафика,...      3      10   \n",
       "1  Запустить собственную службу доставки, что сок...      2       5   \n",
       "2  Добавить блоки рекомендаций товаров на сайт ин...      8       3   \n",
       "3  Изменить структура категорий, что увеличит кон...      8       3   \n",
       "4  Изменить цвет фона главной страницы, чтобы уве...      3       1   \n",
       "\n",
       "   Confidence  Efforts  \n",
       "0           8        6  \n",
       "1           4       10  \n",
       "2           7        3  \n",
       "3           3        8  \n",
       "4           1        1  "
      ]
     },
     "execution_count": 3,
     "metadata": {},
     "output_type": "execute_result"
    }
   ],
   "source": [
    "# посмотрим на имеющийся датафрейм\n",
    "data.head()"
   ]
  },
  {
   "cell_type": "markdown",
   "id": "8d7344e0",
   "metadata": {},
   "source": [
    "Видим, что колонка с наименованием гипотез не открывается полностью. Выглядит не очень красиво и читабельно. Исправим это."
   ]
  },
  {
   "cell_type": "code",
   "execution_count": 4,
   "id": "3495fa99",
   "metadata": {},
   "outputs": [
    {
     "data": {
      "text/html": [
       "<div>\n",
       "<style scoped>\n",
       "    .dataframe tbody tr th:only-of-type {\n",
       "        vertical-align: middle;\n",
       "    }\n",
       "\n",
       "    .dataframe tbody tr th {\n",
       "        vertical-align: top;\n",
       "    }\n",
       "\n",
       "    .dataframe thead th {\n",
       "        text-align: right;\n",
       "    }\n",
       "</style>\n",
       "<table border=\"1\" class=\"dataframe\">\n",
       "  <thead>\n",
       "    <tr style=\"text-align: right;\">\n",
       "      <th></th>\n",
       "      <th>Hypothesis</th>\n",
       "      <th>Reach</th>\n",
       "      <th>Impact</th>\n",
       "      <th>Confidence</th>\n",
       "      <th>Efforts</th>\n",
       "    </tr>\n",
       "  </thead>\n",
       "  <tbody>\n",
       "    <tr>\n",
       "      <th>0</th>\n",
       "      <td>Добавить два новых канала привлечения трафика, что позволит привлекать на 30% больше пользователей</td>\n",
       "      <td>3</td>\n",
       "      <td>10</td>\n",
       "      <td>8</td>\n",
       "      <td>6</td>\n",
       "    </tr>\n",
       "    <tr>\n",
       "      <th>1</th>\n",
       "      <td>Запустить собственную службу доставки, что сократит срок доставки заказов</td>\n",
       "      <td>2</td>\n",
       "      <td>5</td>\n",
       "      <td>4</td>\n",
       "      <td>10</td>\n",
       "    </tr>\n",
       "    <tr>\n",
       "      <th>2</th>\n",
       "      <td>Добавить блоки рекомендаций товаров на сайт интернет магазина, чтобы повысить конверсию и средний чек заказа</td>\n",
       "      <td>8</td>\n",
       "      <td>3</td>\n",
       "      <td>7</td>\n",
       "      <td>3</td>\n",
       "    </tr>\n",
       "    <tr>\n",
       "      <th>3</th>\n",
       "      <td>Изменить структура категорий, что увеличит конверсию, т.к. пользователи быстрее найдут нужный товар</td>\n",
       "      <td>8</td>\n",
       "      <td>3</td>\n",
       "      <td>3</td>\n",
       "      <td>8</td>\n",
       "    </tr>\n",
       "    <tr>\n",
       "      <th>4</th>\n",
       "      <td>Изменить цвет фона главной страницы, чтобы увеличить вовлеченность пользователей</td>\n",
       "      <td>3</td>\n",
       "      <td>1</td>\n",
       "      <td>1</td>\n",
       "      <td>1</td>\n",
       "    </tr>\n",
       "    <tr>\n",
       "      <th>5</th>\n",
       "      <td>Добавить страницу отзывов клиентов о магазине, что позволит увеличить количество заказов</td>\n",
       "      <td>3</td>\n",
       "      <td>2</td>\n",
       "      <td>2</td>\n",
       "      <td>3</td>\n",
       "    </tr>\n",
       "    <tr>\n",
       "      <th>6</th>\n",
       "      <td>Показать на главной странице баннеры с актуальными акциями и распродажами, чтобы увеличить конверсию</td>\n",
       "      <td>5</td>\n",
       "      <td>3</td>\n",
       "      <td>8</td>\n",
       "      <td>3</td>\n",
       "    </tr>\n",
       "    <tr>\n",
       "      <th>7</th>\n",
       "      <td>Добавить форму подписки на все основные страницы, чтобы собрать базу клиентов для email-рассылок</td>\n",
       "      <td>10</td>\n",
       "      <td>7</td>\n",
       "      <td>8</td>\n",
       "      <td>5</td>\n",
       "    </tr>\n",
       "    <tr>\n",
       "      <th>8</th>\n",
       "      <td>Запустить акцию, дающую скидку на товар в день рождения</td>\n",
       "      <td>1</td>\n",
       "      <td>9</td>\n",
       "      <td>9</td>\n",
       "      <td>5</td>\n",
       "    </tr>\n",
       "  </tbody>\n",
       "</table>\n",
       "</div>"
      ],
      "text/plain": [
       "                                                                                                     Hypothesis  \\\n",
       "0            Добавить два новых канала привлечения трафика, что позволит привлекать на 30% больше пользователей   \n",
       "1                                     Запустить собственную службу доставки, что сократит срок доставки заказов   \n",
       "2  Добавить блоки рекомендаций товаров на сайт интернет магазина, чтобы повысить конверсию и средний чек заказа   \n",
       "3           Изменить структура категорий, что увеличит конверсию, т.к. пользователи быстрее найдут нужный товар   \n",
       "4                              Изменить цвет фона главной страницы, чтобы увеличить вовлеченность пользователей   \n",
       "5                      Добавить страницу отзывов клиентов о магазине, что позволит увеличить количество заказов   \n",
       "6          Показать на главной странице баннеры с актуальными акциями и распродажами, чтобы увеличить конверсию   \n",
       "7              Добавить форму подписки на все основные страницы, чтобы собрать базу клиентов для email-рассылок   \n",
       "8                                                       Запустить акцию, дающую скидку на товар в день рождения   \n",
       "\n",
       "   Reach  Impact  Confidence  Efforts  \n",
       "0      3      10           8        6  \n",
       "1      2       5           4       10  \n",
       "2      8       3           7        3  \n",
       "3      8       3           3        8  \n",
       "4      3       1           1        1  \n",
       "5      3       2           2        3  \n",
       "6      5       3           8        3  \n",
       "7     10       7           8        5  \n",
       "8      1       9           9        5  "
      ]
     },
     "execution_count": 4,
     "metadata": {},
     "output_type": "execute_result"
    }
   ],
   "source": [
    "pd.set_option('display.max_colwidth', None)\n",
    "data.head(10)"
   ]
  },
  {
   "cell_type": "markdown",
   "id": "5582bda8",
   "metadata": {},
   "source": [
    "### Предобработка данных"
   ]
  },
  {
   "cell_type": "markdown",
   "id": "d54625e0",
   "metadata": {},
   "source": [
    "Невооруженным глазом видно, что дубликатов в строках нет, как и пропусков.     \n",
    "Однако названия столбцов не соответствуют \"змеиному\" стилю. Переименуем их."
   ]
  },
  {
   "cell_type": "code",
   "execution_count": 5,
   "id": "7c15a14c",
   "metadata": {},
   "outputs": [],
   "source": [
    "data.columns = data.columns.str.lower()\n"
   ]
  },
  {
   "cell_type": "code",
   "execution_count": 6,
   "id": "a7a18653",
   "metadata": {},
   "outputs": [
    {
     "data": {
      "text/html": [
       "<div>\n",
       "<style scoped>\n",
       "    .dataframe tbody tr th:only-of-type {\n",
       "        vertical-align: middle;\n",
       "    }\n",
       "\n",
       "    .dataframe tbody tr th {\n",
       "        vertical-align: top;\n",
       "    }\n",
       "\n",
       "    .dataframe thead th {\n",
       "        text-align: right;\n",
       "    }\n",
       "</style>\n",
       "<table border=\"1\" class=\"dataframe\">\n",
       "  <thead>\n",
       "    <tr style=\"text-align: right;\">\n",
       "      <th></th>\n",
       "      <th>hypothesis</th>\n",
       "      <th>reach</th>\n",
       "      <th>impact</th>\n",
       "      <th>confidence</th>\n",
       "      <th>efforts</th>\n",
       "    </tr>\n",
       "  </thead>\n",
       "  <tbody>\n",
       "    <tr>\n",
       "      <th>0</th>\n",
       "      <td>Добавить два новых канала привлечения трафика, что позволит привлекать на 30% больше пользователей</td>\n",
       "      <td>3</td>\n",
       "      <td>10</td>\n",
       "      <td>8</td>\n",
       "      <td>6</td>\n",
       "    </tr>\n",
       "  </tbody>\n",
       "</table>\n",
       "</div>"
      ],
      "text/plain": [
       "                                                                                           hypothesis  \\\n",
       "0  Добавить два новых канала привлечения трафика, что позволит привлекать на 30% больше пользователей   \n",
       "\n",
       "   reach  impact  confidence  efforts  \n",
       "0      3      10           8        6  "
      ]
     },
     "execution_count": 6,
     "metadata": {},
     "output_type": "execute_result"
    }
   ],
   "source": [
    "data.head(1)"
   ]
  },
  {
   "cell_type": "markdown",
   "id": "e70447db",
   "metadata": {},
   "source": [
    "На этом предобработку данных в данной части проекта можно закончить."
   ]
  },
  {
   "cell_type": "markdown",
   "id": "825d38ea",
   "metadata": {},
   "source": [
    "### Применение фреймворка ICE"
   ]
  },
  {
   "cell_type": "markdown",
   "id": "b59e5f98",
   "metadata": {},
   "source": [
    "Формула для фреймворка ICE = Impact x Confidence x Ease (Impact x Confidence / Efforts).    \n",
    "Исходя из имеющихся данных мы можем применить второй вариант данной формулы."
   ]
  },
  {
   "cell_type": "code",
   "execution_count": 7,
   "id": "3ff60a08",
   "metadata": {},
   "outputs": [
    {
     "data": {
      "text/html": [
       "<div>\n",
       "<style scoped>\n",
       "    .dataframe tbody tr th:only-of-type {\n",
       "        vertical-align: middle;\n",
       "    }\n",
       "\n",
       "    .dataframe tbody tr th {\n",
       "        vertical-align: top;\n",
       "    }\n",
       "\n",
       "    .dataframe thead th {\n",
       "        text-align: right;\n",
       "    }\n",
       "</style>\n",
       "<table border=\"1\" class=\"dataframe\">\n",
       "  <thead>\n",
       "    <tr style=\"text-align: right;\">\n",
       "      <th></th>\n",
       "      <th>hypothesis</th>\n",
       "      <th>reach</th>\n",
       "      <th>impact</th>\n",
       "      <th>confidence</th>\n",
       "      <th>efforts</th>\n",
       "      <th>ice</th>\n",
       "    </tr>\n",
       "  </thead>\n",
       "  <tbody>\n",
       "    <tr>\n",
       "      <th>8</th>\n",
       "      <td>Запустить акцию, дающую скидку на товар в день рождения</td>\n",
       "      <td>1</td>\n",
       "      <td>9</td>\n",
       "      <td>9</td>\n",
       "      <td>5</td>\n",
       "      <td>16.20</td>\n",
       "    </tr>\n",
       "    <tr>\n",
       "      <th>0</th>\n",
       "      <td>Добавить два новых канала привлечения трафика, что позволит привлекать на 30% больше пользователей</td>\n",
       "      <td>3</td>\n",
       "      <td>10</td>\n",
       "      <td>8</td>\n",
       "      <td>6</td>\n",
       "      <td>13.33</td>\n",
       "    </tr>\n",
       "    <tr>\n",
       "      <th>7</th>\n",
       "      <td>Добавить форму подписки на все основные страницы, чтобы собрать базу клиентов для email-рассылок</td>\n",
       "      <td>10</td>\n",
       "      <td>7</td>\n",
       "      <td>8</td>\n",
       "      <td>5</td>\n",
       "      <td>11.20</td>\n",
       "    </tr>\n",
       "    <tr>\n",
       "      <th>6</th>\n",
       "      <td>Показать на главной странице баннеры с актуальными акциями и распродажами, чтобы увеличить конверсию</td>\n",
       "      <td>5</td>\n",
       "      <td>3</td>\n",
       "      <td>8</td>\n",
       "      <td>3</td>\n",
       "      <td>8.00</td>\n",
       "    </tr>\n",
       "    <tr>\n",
       "      <th>2</th>\n",
       "      <td>Добавить блоки рекомендаций товаров на сайт интернет магазина, чтобы повысить конверсию и средний чек заказа</td>\n",
       "      <td>8</td>\n",
       "      <td>3</td>\n",
       "      <td>7</td>\n",
       "      <td>3</td>\n",
       "      <td>7.00</td>\n",
       "    </tr>\n",
       "    <tr>\n",
       "      <th>1</th>\n",
       "      <td>Запустить собственную службу доставки, что сократит срок доставки заказов</td>\n",
       "      <td>2</td>\n",
       "      <td>5</td>\n",
       "      <td>4</td>\n",
       "      <td>10</td>\n",
       "      <td>2.00</td>\n",
       "    </tr>\n",
       "    <tr>\n",
       "      <th>5</th>\n",
       "      <td>Добавить страницу отзывов клиентов о магазине, что позволит увеличить количество заказов</td>\n",
       "      <td>3</td>\n",
       "      <td>2</td>\n",
       "      <td>2</td>\n",
       "      <td>3</td>\n",
       "      <td>1.33</td>\n",
       "    </tr>\n",
       "    <tr>\n",
       "      <th>3</th>\n",
       "      <td>Изменить структура категорий, что увеличит конверсию, т.к. пользователи быстрее найдут нужный товар</td>\n",
       "      <td>8</td>\n",
       "      <td>3</td>\n",
       "      <td>3</td>\n",
       "      <td>8</td>\n",
       "      <td>1.12</td>\n",
       "    </tr>\n",
       "    <tr>\n",
       "      <th>4</th>\n",
       "      <td>Изменить цвет фона главной страницы, чтобы увеличить вовлеченность пользователей</td>\n",
       "      <td>3</td>\n",
       "      <td>1</td>\n",
       "      <td>1</td>\n",
       "      <td>1</td>\n",
       "      <td>1.00</td>\n",
       "    </tr>\n",
       "  </tbody>\n",
       "</table>\n",
       "</div>"
      ],
      "text/plain": [
       "                                                                                                     hypothesis  \\\n",
       "8                                                       Запустить акцию, дающую скидку на товар в день рождения   \n",
       "0            Добавить два новых канала привлечения трафика, что позволит привлекать на 30% больше пользователей   \n",
       "7              Добавить форму подписки на все основные страницы, чтобы собрать базу клиентов для email-рассылок   \n",
       "6          Показать на главной странице баннеры с актуальными акциями и распродажами, чтобы увеличить конверсию   \n",
       "2  Добавить блоки рекомендаций товаров на сайт интернет магазина, чтобы повысить конверсию и средний чек заказа   \n",
       "1                                     Запустить собственную службу доставки, что сократит срок доставки заказов   \n",
       "5                      Добавить страницу отзывов клиентов о магазине, что позволит увеличить количество заказов   \n",
       "3           Изменить структура категорий, что увеличит конверсию, т.к. пользователи быстрее найдут нужный товар   \n",
       "4                              Изменить цвет фона главной страницы, чтобы увеличить вовлеченность пользователей   \n",
       "\n",
       "   reach  impact  confidence  efforts    ice  \n",
       "8      1       9           9        5  16.20  \n",
       "0      3      10           8        6  13.33  \n",
       "7     10       7           8        5  11.20  \n",
       "6      5       3           8        3   8.00  \n",
       "2      8       3           7        3   7.00  \n",
       "1      2       5           4       10   2.00  \n",
       "5      3       2           2        3   1.33  \n",
       "3      8       3           3        8   1.12  \n",
       "4      3       1           1        1   1.00  "
      ]
     },
     "execution_count": 7,
     "metadata": {},
     "output_type": "execute_result"
    }
   ],
   "source": [
    "data['ice'] = round((data['impact'] * data['confidence']) / data['efforts'], 2)\n",
    "data.sort_values(by='ice', ascending = False)"
   ]
  },
  {
   "cell_type": "markdown",
   "id": "bb45e525",
   "metadata": {},
   "source": [
    "Видим, что по данному методу наиболее приоритетными являются гипотезы № 8, 0, 7 и 6:\n",
    "* Запустить акцию, дающую скидку на товар в день рождения;\n",
    "* Добавить два новых канала привлечения трафика, что позволит привлекать на 30% больше пользователей;\n",
    "* Добавить форму подписки на все основные страницы, чтобы собрать базу клиентов для email-рассылок;\n",
    "* Показать на главной странице баннеры с актуальными акциями и распродажами, чтобы увеличить конверсию."
   ]
  },
  {
   "cell_type": "markdown",
   "id": "567953fa",
   "metadata": {},
   "source": [
    "### Применение фреймворка RICE"
   ]
  },
  {
   "cell_type": "markdown",
   "id": "ae83aac0",
   "metadata": {},
   "source": [
    "Формула для фреймворка RICE = Reach x Impact x Confidence / Efforts.    "
   ]
  },
  {
   "cell_type": "code",
   "execution_count": 8,
   "id": "db5fa35f",
   "metadata": {},
   "outputs": [
    {
     "data": {
      "text/html": [
       "<div>\n",
       "<style scoped>\n",
       "    .dataframe tbody tr th:only-of-type {\n",
       "        vertical-align: middle;\n",
       "    }\n",
       "\n",
       "    .dataframe tbody tr th {\n",
       "        vertical-align: top;\n",
       "    }\n",
       "\n",
       "    .dataframe thead th {\n",
       "        text-align: right;\n",
       "    }\n",
       "</style>\n",
       "<table border=\"1\" class=\"dataframe\">\n",
       "  <thead>\n",
       "    <tr style=\"text-align: right;\">\n",
       "      <th></th>\n",
       "      <th>hypothesis</th>\n",
       "      <th>reach</th>\n",
       "      <th>impact</th>\n",
       "      <th>confidence</th>\n",
       "      <th>efforts</th>\n",
       "      <th>ice</th>\n",
       "      <th>rice</th>\n",
       "    </tr>\n",
       "  </thead>\n",
       "  <tbody>\n",
       "    <tr>\n",
       "      <th>7</th>\n",
       "      <td>Добавить форму подписки на все основные страницы, чтобы собрать базу клиентов для email-рассылок</td>\n",
       "      <td>10</td>\n",
       "      <td>7</td>\n",
       "      <td>8</td>\n",
       "      <td>5</td>\n",
       "      <td>11.20</td>\n",
       "      <td>112.0</td>\n",
       "    </tr>\n",
       "    <tr>\n",
       "      <th>2</th>\n",
       "      <td>Добавить блоки рекомендаций товаров на сайт интернет магазина, чтобы повысить конверсию и средний чек заказа</td>\n",
       "      <td>8</td>\n",
       "      <td>3</td>\n",
       "      <td>7</td>\n",
       "      <td>3</td>\n",
       "      <td>7.00</td>\n",
       "      <td>56.0</td>\n",
       "    </tr>\n",
       "    <tr>\n",
       "      <th>0</th>\n",
       "      <td>Добавить два новых канала привлечения трафика, что позволит привлекать на 30% больше пользователей</td>\n",
       "      <td>3</td>\n",
       "      <td>10</td>\n",
       "      <td>8</td>\n",
       "      <td>6</td>\n",
       "      <td>13.33</td>\n",
       "      <td>40.0</td>\n",
       "    </tr>\n",
       "    <tr>\n",
       "      <th>6</th>\n",
       "      <td>Показать на главной странице баннеры с актуальными акциями и распродажами, чтобы увеличить конверсию</td>\n",
       "      <td>5</td>\n",
       "      <td>3</td>\n",
       "      <td>8</td>\n",
       "      <td>3</td>\n",
       "      <td>8.00</td>\n",
       "      <td>40.0</td>\n",
       "    </tr>\n",
       "    <tr>\n",
       "      <th>8</th>\n",
       "      <td>Запустить акцию, дающую скидку на товар в день рождения</td>\n",
       "      <td>1</td>\n",
       "      <td>9</td>\n",
       "      <td>9</td>\n",
       "      <td>5</td>\n",
       "      <td>16.20</td>\n",
       "      <td>16.2</td>\n",
       "    </tr>\n",
       "    <tr>\n",
       "      <th>3</th>\n",
       "      <td>Изменить структура категорий, что увеличит конверсию, т.к. пользователи быстрее найдут нужный товар</td>\n",
       "      <td>8</td>\n",
       "      <td>3</td>\n",
       "      <td>3</td>\n",
       "      <td>8</td>\n",
       "      <td>1.12</td>\n",
       "      <td>9.0</td>\n",
       "    </tr>\n",
       "    <tr>\n",
       "      <th>1</th>\n",
       "      <td>Запустить собственную службу доставки, что сократит срок доставки заказов</td>\n",
       "      <td>2</td>\n",
       "      <td>5</td>\n",
       "      <td>4</td>\n",
       "      <td>10</td>\n",
       "      <td>2.00</td>\n",
       "      <td>4.0</td>\n",
       "    </tr>\n",
       "    <tr>\n",
       "      <th>5</th>\n",
       "      <td>Добавить страницу отзывов клиентов о магазине, что позволит увеличить количество заказов</td>\n",
       "      <td>3</td>\n",
       "      <td>2</td>\n",
       "      <td>2</td>\n",
       "      <td>3</td>\n",
       "      <td>1.33</td>\n",
       "      <td>4.0</td>\n",
       "    </tr>\n",
       "    <tr>\n",
       "      <th>4</th>\n",
       "      <td>Изменить цвет фона главной страницы, чтобы увеличить вовлеченность пользователей</td>\n",
       "      <td>3</td>\n",
       "      <td>1</td>\n",
       "      <td>1</td>\n",
       "      <td>1</td>\n",
       "      <td>1.00</td>\n",
       "      <td>3.0</td>\n",
       "    </tr>\n",
       "  </tbody>\n",
       "</table>\n",
       "</div>"
      ],
      "text/plain": [
       "                                                                                                     hypothesis  \\\n",
       "7              Добавить форму подписки на все основные страницы, чтобы собрать базу клиентов для email-рассылок   \n",
       "2  Добавить блоки рекомендаций товаров на сайт интернет магазина, чтобы повысить конверсию и средний чек заказа   \n",
       "0            Добавить два новых канала привлечения трафика, что позволит привлекать на 30% больше пользователей   \n",
       "6          Показать на главной странице баннеры с актуальными акциями и распродажами, чтобы увеличить конверсию   \n",
       "8                                                       Запустить акцию, дающую скидку на товар в день рождения   \n",
       "3           Изменить структура категорий, что увеличит конверсию, т.к. пользователи быстрее найдут нужный товар   \n",
       "1                                     Запустить собственную службу доставки, что сократит срок доставки заказов   \n",
       "5                      Добавить страницу отзывов клиентов о магазине, что позволит увеличить количество заказов   \n",
       "4                              Изменить цвет фона главной страницы, чтобы увеличить вовлеченность пользователей   \n",
       "\n",
       "   reach  impact  confidence  efforts    ice   rice  \n",
       "7     10       7           8        5  11.20  112.0  \n",
       "2      8       3           7        3   7.00   56.0  \n",
       "0      3      10           8        6  13.33   40.0  \n",
       "6      5       3           8        3   8.00   40.0  \n",
       "8      1       9           9        5  16.20   16.2  \n",
       "3      8       3           3        8   1.12    9.0  \n",
       "1      2       5           4       10   2.00    4.0  \n",
       "5      3       2           2        3   1.33    4.0  \n",
       "4      3       1           1        1   1.00    3.0  "
      ]
     },
     "execution_count": 8,
     "metadata": {},
     "output_type": "execute_result"
    }
   ],
   "source": [
    "data['rice'] = round((data['reach'] * data['impact'] * data['confidence']) / data['efforts'],2)\n",
    "data.sort_values(by='rice', ascending = False)"
   ]
  },
  {
   "cell_type": "markdown",
   "id": "995a80c4",
   "metadata": {},
   "source": [
    "В результате применения фреймворка RICE видим, что картина несколько изменилась хоть и незначительно:\n",
    "* первые места занимат гипотезы №7, 2, 0 и 6 (3 из 4 по фреймворку ICE);\n",
    "** Добавить форму подписки на все основные страницы, чтобы собрать базу клиентов для email-рассылок;\n",
    "** Добавить блоки рекомендаций товаров на сайт интернет магазина, чтобы повысить конверсию и средний чек заказа;\n",
    "** Добавить два новых канала привлечения трафика, что позволит привлекать на 30% больше пользователей;\n",
    "** Показать на главной странице баннеры с актуальными акциями и распродажами, чтобы увеличить конверсию\n",
    "* теперь на 1м месте гипотеза №7, хотя ранее она была на 3м месте;\n",
    "* гипотеза №2 поднялась на 2е место с 5го по фреймворку ICE."
   ]
  },
  {
   "cell_type": "markdown",
   "id": "1cde4e34",
   "metadata": {},
   "source": [
    "Данные изменения произошли в связи с включением в фреймворк значений из столбца `reach` - скольких пользователей затронет вносимое изменение.    \n",
    "Для разных гипотез данное значение достаточно сильно отличается, что и повлияло в конечном счете на новое распределение приоритетности гипотез.\n",
    "\n"
   ]
  },
  {
   "cell_type": "markdown",
   "id": "c392f477",
   "metadata": {},
   "source": [
    "### Промежуточные выводы"
   ]
  },
  {
   "cell_type": "markdown",
   "id": "575438f6",
   "metadata": {},
   "source": [
    "На основе проведенного выше анализа, полагаю, можно выделить следующие наиболее приориттеные и перспективные гипотезы с номерами №7, 2 и 0:\n",
    "* Добавить форму подписки на все основные страницы, чтобы собрать базу клиентов для email-рассылок;\n",
    "* Добавить блоки рекомендаций товаров на сайт интернет магазина, чтобы повысить конверсию и средний чек заказа;\n",
    "* Добавить два новых канала привлечения трафика, что позволит привлекать на 30% больше пользователей.\n",
    "\n",
    "Гипотезы №6 и 8 не попали в шорт-лист ввиду следующего:\n",
    "* у гипотезы №6 хоть и большой охват, но она имеет достаточно низкое влияние на пользователей;\n",
    "* гипотеза №8 имеет чрезвычайно высокое влияние, но в то же время и чрезвычайно низкий охват.\n",
    "\n"
   ]
  },
  {
   "cell_type": "markdown",
   "id": "a834dc99",
   "metadata": {},
   "source": [
    "## Часть 2. Анализ A/B-теста"
   ]
  },
  {
   "cell_type": "markdown",
   "id": "44de39a0",
   "metadata": {},
   "source": [
    "Загрузим необходимые для проведения исследования данные."
   ]
  },
  {
   "cell_type": "code",
   "execution_count": 9,
   "id": "bb9a7441",
   "metadata": {},
   "outputs": [],
   "source": [
    "try:\n",
    "    orders = pd.read_csv('https://code.s3.yandex.net/datasets/orders.csv')\n",
    "    visitors = pd.read_csv('https://code.s3.yandex.net/datasets/visitors.csv')\n",
    "except:\n",
    "    orders = pd.read_csv('/Users/konstantinzuev/БА/Jupiter/A:B tests')\n",
    "    visitors = pd.read_csv('/Users/konstantinzuev/БА/Jupiter/A:B tests')"
   ]
  },
  {
   "cell_type": "markdown",
   "id": "fa19b46c",
   "metadata": {},
   "source": [
    "###  Предобработка данных"
   ]
  },
  {
   "cell_type": "markdown",
   "id": "98dea7a6",
   "metadata": {},
   "source": [
    "Посмотрим на данные."
   ]
  },
  {
   "cell_type": "code",
   "execution_count": 10,
   "id": "73d754d8",
   "metadata": {},
   "outputs": [
    {
     "data": {
      "text/html": [
       "<div>\n",
       "<style scoped>\n",
       "    .dataframe tbody tr th:only-of-type {\n",
       "        vertical-align: middle;\n",
       "    }\n",
       "\n",
       "    .dataframe tbody tr th {\n",
       "        vertical-align: top;\n",
       "    }\n",
       "\n",
       "    .dataframe thead th {\n",
       "        text-align: right;\n",
       "    }\n",
       "</style>\n",
       "<table border=\"1\" class=\"dataframe\">\n",
       "  <thead>\n",
       "    <tr style=\"text-align: right;\">\n",
       "      <th></th>\n",
       "      <th>transactionId</th>\n",
       "      <th>visitorId</th>\n",
       "      <th>date</th>\n",
       "      <th>revenue</th>\n",
       "      <th>group</th>\n",
       "    </tr>\n",
       "  </thead>\n",
       "  <tbody>\n",
       "    <tr>\n",
       "      <th>0</th>\n",
       "      <td>3667963787</td>\n",
       "      <td>3312258926</td>\n",
       "      <td>2019-08-15</td>\n",
       "      <td>1650</td>\n",
       "      <td>B</td>\n",
       "    </tr>\n",
       "    <tr>\n",
       "      <th>1</th>\n",
       "      <td>2804400009</td>\n",
       "      <td>3642806036</td>\n",
       "      <td>2019-08-15</td>\n",
       "      <td>730</td>\n",
       "      <td>B</td>\n",
       "    </tr>\n",
       "    <tr>\n",
       "      <th>2</th>\n",
       "      <td>2961555356</td>\n",
       "      <td>4069496402</td>\n",
       "      <td>2019-08-15</td>\n",
       "      <td>400</td>\n",
       "      <td>A</td>\n",
       "    </tr>\n",
       "    <tr>\n",
       "      <th>3</th>\n",
       "      <td>3797467345</td>\n",
       "      <td>1196621759</td>\n",
       "      <td>2019-08-15</td>\n",
       "      <td>9759</td>\n",
       "      <td>B</td>\n",
       "    </tr>\n",
       "    <tr>\n",
       "      <th>4</th>\n",
       "      <td>2282983706</td>\n",
       "      <td>2322279887</td>\n",
       "      <td>2019-08-15</td>\n",
       "      <td>2308</td>\n",
       "      <td>B</td>\n",
       "    </tr>\n",
       "  </tbody>\n",
       "</table>\n",
       "</div>"
      ],
      "text/plain": [
       "   transactionId   visitorId        date  revenue group\n",
       "0     3667963787  3312258926  2019-08-15     1650     B\n",
       "1     2804400009  3642806036  2019-08-15      730     B\n",
       "2     2961555356  4069496402  2019-08-15      400     A\n",
       "3     3797467345  1196621759  2019-08-15     9759     B\n",
       "4     2282983706  2322279887  2019-08-15     2308     B"
      ]
     },
     "execution_count": 10,
     "metadata": {},
     "output_type": "execute_result"
    }
   ],
   "source": [
    "orders.head()"
   ]
  },
  {
   "cell_type": "code",
   "execution_count": 11,
   "id": "d177b539",
   "metadata": {},
   "outputs": [
    {
     "data": {
      "text/html": [
       "<div>\n",
       "<style scoped>\n",
       "    .dataframe tbody tr th:only-of-type {\n",
       "        vertical-align: middle;\n",
       "    }\n",
       "\n",
       "    .dataframe tbody tr th {\n",
       "        vertical-align: top;\n",
       "    }\n",
       "\n",
       "    .dataframe thead th {\n",
       "        text-align: right;\n",
       "    }\n",
       "</style>\n",
       "<table border=\"1\" class=\"dataframe\">\n",
       "  <thead>\n",
       "    <tr style=\"text-align: right;\">\n",
       "      <th></th>\n",
       "      <th>date</th>\n",
       "      <th>group</th>\n",
       "      <th>visitors</th>\n",
       "    </tr>\n",
       "  </thead>\n",
       "  <tbody>\n",
       "    <tr>\n",
       "      <th>0</th>\n",
       "      <td>2019-08-01</td>\n",
       "      <td>A</td>\n",
       "      <td>719</td>\n",
       "    </tr>\n",
       "    <tr>\n",
       "      <th>1</th>\n",
       "      <td>2019-08-02</td>\n",
       "      <td>A</td>\n",
       "      <td>619</td>\n",
       "    </tr>\n",
       "    <tr>\n",
       "      <th>2</th>\n",
       "      <td>2019-08-03</td>\n",
       "      <td>A</td>\n",
       "      <td>507</td>\n",
       "    </tr>\n",
       "    <tr>\n",
       "      <th>3</th>\n",
       "      <td>2019-08-04</td>\n",
       "      <td>A</td>\n",
       "      <td>717</td>\n",
       "    </tr>\n",
       "    <tr>\n",
       "      <th>4</th>\n",
       "      <td>2019-08-05</td>\n",
       "      <td>A</td>\n",
       "      <td>756</td>\n",
       "    </tr>\n",
       "  </tbody>\n",
       "</table>\n",
       "</div>"
      ],
      "text/plain": [
       "         date group  visitors\n",
       "0  2019-08-01     A       719\n",
       "1  2019-08-02     A       619\n",
       "2  2019-08-03     A       507\n",
       "3  2019-08-04     A       717\n",
       "4  2019-08-05     A       756"
      ]
     },
     "execution_count": 11,
     "metadata": {},
     "output_type": "execute_result"
    }
   ],
   "source": [
    "visitors.head()"
   ]
  },
  {
   "cell_type": "code",
   "execution_count": 12,
   "id": "9c346bc5",
   "metadata": {},
   "outputs": [
    {
     "name": "stdout",
     "output_type": "stream",
     "text": [
      "<class 'pandas.core.frame.DataFrame'>\n",
      "RangeIndex: 1197 entries, 0 to 1196\n",
      "Data columns (total 5 columns):\n",
      " #   Column         Non-Null Count  Dtype \n",
      "---  ------         --------------  ----- \n",
      " 0   transactionId  1197 non-null   int64 \n",
      " 1   visitorId      1197 non-null   int64 \n",
      " 2   date           1197 non-null   object\n",
      " 3   revenue        1197 non-null   int64 \n",
      " 4   group          1197 non-null   object\n",
      "dtypes: int64(3), object(2)\n",
      "memory usage: 46.9+ KB\n"
     ]
    }
   ],
   "source": [
    "orders.info()"
   ]
  },
  {
   "cell_type": "code",
   "execution_count": 13,
   "id": "5892a260",
   "metadata": {},
   "outputs": [
    {
     "name": "stdout",
     "output_type": "stream",
     "text": [
      "<class 'pandas.core.frame.DataFrame'>\n",
      "RangeIndex: 62 entries, 0 to 61\n",
      "Data columns (total 3 columns):\n",
      " #   Column    Non-Null Count  Dtype \n",
      "---  ------    --------------  ----- \n",
      " 0   date      62 non-null     object\n",
      " 1   group     62 non-null     object\n",
      " 2   visitors  62 non-null     int64 \n",
      "dtypes: int64(1), object(2)\n",
      "memory usage: 1.6+ KB\n"
     ]
    }
   ],
   "source": [
    "visitors.info()"
   ]
  },
  {
   "cell_type": "markdown",
   "id": "a650cd7d",
   "metadata": {},
   "source": [
    "Посчитаем пропуски при их наличии."
   ]
  },
  {
   "cell_type": "code",
   "execution_count": 14,
   "id": "e0176501",
   "metadata": {},
   "outputs": [
    {
     "data": {
      "text/plain": [
       "transactionId    0\n",
       "visitorId        0\n",
       "date             0\n",
       "revenue          0\n",
       "group            0\n",
       "dtype: int64"
      ]
     },
     "execution_count": 14,
     "metadata": {},
     "output_type": "execute_result"
    }
   ],
   "source": [
    "orders.isna().sum() "
   ]
  },
  {
   "cell_type": "code",
   "execution_count": 15,
   "id": "458545b3",
   "metadata": {},
   "outputs": [
    {
     "data": {
      "text/plain": [
       "date        0\n",
       "group       0\n",
       "visitors    0\n",
       "dtype: int64"
      ]
     },
     "execution_count": 15,
     "metadata": {},
     "output_type": "execute_result"
    }
   ],
   "source": [
    "visitors.isna().sum()"
   ]
  },
  {
   "cell_type": "markdown",
   "id": "f272e8de",
   "metadata": {},
   "source": [
    "Видим, что пропусков нет.      \n",
    "Тем не менее, колонка `date` в обеих таблицах соответствует типу `object`. Приведем ее к типу `datetime`."
   ]
  },
  {
   "cell_type": "code",
   "execution_count": 16,
   "id": "c0fdf214",
   "metadata": {},
   "outputs": [],
   "source": [
    "# меняем тип колонок\n",
    "orders['date'] = orders['date'].map(lambda x: dt.datetime.strptime(x, '%Y-%m-%d'))\n",
    "visitors['date'] = visitors['date'].map(lambda x: dt.datetime.strptime(x, '%Y-%m-%d'))"
   ]
  },
  {
   "cell_type": "markdown",
   "id": "009709a8",
   "metadata": {},
   "source": [
    "Тип колонок исправлен. Проверим дубликаты."
   ]
  },
  {
   "cell_type": "code",
   "execution_count": 17,
   "id": "0eaa79ab",
   "metadata": {},
   "outputs": [
    {
     "name": "stdout",
     "output_type": "stream",
     "text": [
      "Количество дубликатов в датасетах равно - 0\n"
     ]
    }
   ],
   "source": [
    "print('Количество дубликатов в датасетах равно -', orders.duplicated().sum() + visitors.duplicated().sum())"
   ]
  },
  {
   "cell_type": "markdown",
   "id": "08be9c9f",
   "metadata": {},
   "source": [
    "Видим, что полных дубликатов в данных нет.\n",
    "\n",
    "Найдем самую раннюю и позднюю дату заказа для определения временных границ А/В теста."
   ]
  },
  {
   "cell_type": "code",
   "execution_count": 18,
   "id": "a9d572fe",
   "metadata": {},
   "outputs": [
    {
     "name": "stdout",
     "output_type": "stream",
     "text": [
      "Максимальная дата 2019-08-31 00:00:00\n"
     ]
    }
   ],
   "source": [
    "print('Максимальная дата', max(orders['date']))"
   ]
  },
  {
   "cell_type": "code",
   "execution_count": 19,
   "id": "85f2e251",
   "metadata": {},
   "outputs": [
    {
     "name": "stdout",
     "output_type": "stream",
     "text": [
      "Максимальная дата 2019-08-01 00:00:00\n"
     ]
    }
   ],
   "source": [
    "print('Максимальная дата', min(orders['date']))"
   ]
  },
  {
   "cell_type": "markdown",
   "id": "7683e239",
   "metadata": {},
   "source": [
    "Найдем количество уникальных пользователей в группах"
   ]
  },
  {
   "cell_type": "code",
   "execution_count": 20,
   "id": "993ef34d",
   "metadata": {
    "scrolled": true
   },
   "outputs": [
    {
     "name": "stdout",
     "output_type": "stream",
     "text": [
      "Количество уникальных пользователей в группе А - 503\n"
     ]
    }
   ],
   "source": [
    "print('Количество уникальных пользователей в группе А -', orders.loc[orders['group'] == 'A', 'visitorId'].nunique())"
   ]
  },
  {
   "cell_type": "code",
   "execution_count": 21,
   "id": "1047c8eb",
   "metadata": {},
   "outputs": [
    {
     "name": "stdout",
     "output_type": "stream",
     "text": [
      "Количество уникальных пользователей в группе А - 586\n"
     ]
    }
   ],
   "source": [
    "print('Количество уникальных пользователей в группе А -', orders.loc[orders['group'] == 'B', 'visitorId'].nunique())"
   ]
  },
  {
   "cell_type": "code",
   "execution_count": 22,
   "id": "64ff5711",
   "metadata": {},
   "outputs": [
    {
     "data": {
      "text/plain": [
       "116.50099403578528"
      ]
     },
     "execution_count": 22,
     "metadata": {},
     "output_type": "execute_result"
    }
   ],
   "source": [
    "# найдем разницу между группами в процентах\n",
    "((orders.loc[orders['group'] == 'B', 'visitorId'].nunique()) / \n",
    "(orders.loc[orders['group'] == 'A', 'visitorId'].nunique()) * 100)"
   ]
  },
  {
   "cell_type": "markdown",
   "id": "3342cf70",
   "metadata": {},
   "source": [
    "Группа В на 16% больше группы А. В целом, это некритичная разница в размерах групп."
   ]
  },
  {
   "cell_type": "markdown",
   "id": "17f1edef",
   "metadata": {},
   "source": [
    "Дубликатов нет.    \n",
    "На этом, представляется, предобработку данных в этой части можно закончить.\n",
    "\n",
    "Также, приведем краткую информацию о данных для А/В теста:\n",
    "* в тесте 2 группы: А и В, проводится парный тест;\n",
    "* даты начала и окончания теста - c 31.08.2019 по 01.08.2019;\n",
    "* в группе А - 557 пользователей, в группе В - 640, то есть на 16% больше, чем в группе А. Нельзя сказать, данные группы полностью сбалансированы, однако, полагаю, указанное различие некритично.\n",
    "\n",
    "Кроме того, необходимо проверить, нет ли в данных пользователей, участвовавших в нескольких группах теста одновременно."
   ]
  },
  {
   "cell_type": "code",
   "execution_count": 23,
   "id": "973f50ef",
   "metadata": {},
   "outputs": [
    {
     "data": {
      "text/plain": [
       "58"
      ]
     },
     "execution_count": 23,
     "metadata": {},
     "output_type": "execute_result"
    }
   ],
   "source": [
    "unique_a = orders.loc[orders['group'] == 'A', 'visitorId'].unique()\n",
    "unique_b = orders.loc[orders['group'] == 'B', 'visitorId'].unique()\n",
    "np.isin(unique_a, unique_b).sum()"
   ]
  },
  {
   "cell_type": "markdown",
   "id": "5bc21dc8",
   "metadata": {},
   "source": [
    "Видим, что есть 58 пользователей, которые есть попали в две группы одновременно.     \n",
    "Полагаю, следует оставить таких задвоенных пользователей в данных ввиду следующего.\n",
    "Если мы удалим пользователей только из одной группы, то кумулятивные значения и конверсия просядут только для одной такой группы, что может привести к искажению результатов теста. Если удалим данные из обеих групп, то соответствующие значения просядут в обеих группах, соответственно, их удаление станет бессмысленным."
   ]
  },
  {
   "cell_type": "markdown",
   "id": "b4e85187",
   "metadata": {},
   "source": [
    "### График кумулятивной выручки по группам. \n"
   ]
  },
  {
   "cell_type": "markdown",
   "id": "caf15d71",
   "metadata": {},
   "source": [
    "В качестве первого шага для анализа результатов А/В теста построим график кумулятивной выручки по группам."
   ]
  },
  {
   "cell_type": "code",
   "execution_count": 24,
   "id": "12e3911a",
   "metadata": {},
   "outputs": [],
   "source": [
    "# Cоздаем массив уникальных пар значений дат и групп теста\n",
    "datesGroups = orders[['date','group']].drop_duplicates()\n",
    "\n",
    "# Соберём агрегированные кумулятивные по дням данные о заказах\n",
    "#Получим строки таблиц orders и visitors, дата которых меньше или равна дате элемента из datesGroups, \n",
    "#а группа теста равна группе из datesGroups:\n",
    "ordersAggregated = datesGroups.apply(lambda x: orders[np.logical_and(orders['date'] <= x['date']\\\n",
    "                                                                     , orders['group'] == x['group'])]\\\n",
    "                               .agg({'date' : 'max', \n",
    "                                     'group' : 'max', \n",
    "                                     'transactionId' : 'nunique', \n",
    "                                     'visitorId' : 'nunique', \n",
    "                                     'revenue' : 'sum'}), axis=1)\\\n",
    "                               .sort_values(by=['date','group'])\n",
    "\n",
    "visitorsAggregated = datesGroups.apply(lambda x: visitors[np.logical_and(visitors['date'] <= x['date']\\\n",
    "                                                                         , visitors['group'] == x['group'])]\\\n",
    "                               .agg({'date' : 'max', 'group' : 'max', 'visitors' : 'sum'}), axis=1)\\\n",
    "                               .sort_values(by=['date','group'])\n",
    "\n",
    "# Объединяем кумулятивные данные в одной таблице\n",
    "cumulativeData = ordersAggregated.merge(visitorsAggregated, left_on=['date', 'group'], right_on=['date', 'group'])\n",
    "cumulativeData.columns = ['date', 'group', 'orders', 'buyers', 'revenue', 'visitors']"
   ]
  },
  {
   "cell_type": "code",
   "execution_count": 25,
   "id": "174ed6c1",
   "metadata": {},
   "outputs": [
    {
     "data": {
      "image/png": "[encoded data removed]",
      "text/plain": [
       "<Figure size 1300x700 with 1 Axes>"
      ]
     },
     "metadata": {},
     "output_type": "display_data"
    }
   ],
   "source": [
    "# создаем датафреймы с кумулятивным количеством заказов и кумулятивной выручкой по дням в группе А и В\n",
    "cumulativeRevenueA = cumulativeData[cumulativeData['group'] == 'A'][['date','revenue', 'orders']]\n",
    "cumulativeRevenueB = cumulativeData[cumulativeData['group'] == 'B'][['date','revenue', 'orders']]\n",
    "\n",
    "# строим графики\n",
    "plt.figure(figsize=(13,7))\n",
    "plt.plot(cumulativeRevenueA['date'], cumulativeRevenueA['revenue'], label = 'A')\n",
    "plt.plot(cumulativeRevenueB['date'], cumulativeRevenueB['revenue'], label = 'B')\n",
    "plt.xticks(rotation=20)\n",
    "plt.title('График кумулятивной выручки по группам')\n",
    "plt.xlabel('Дата')\n",
    "plt.ylabel('Размер выручки')\n",
    "plt.legend();"
   ]
  },
  {
   "cell_type": "markdown",
   "id": "44ca22a1",
   "metadata": {},
   "source": [
    "Выручка в обеих группах заказов равномерном растет, ближе к концу графика кривая роста становится стабильной. При этом выручка группы В существеннно превосходит выручку группы А. Тем не менее, указанное может объясняться резким скачком вверх, что, весьма вероятно, свидетельствует о наличии аномалий (выбросов в данных) у группы В."
   ]
  },
  {
   "cell_type": "markdown",
   "id": "7ecda5f2",
   "metadata": {},
   "source": [
    "###  График кумулятивного среднего чека по группам."
   ]
  },
  {
   "cell_type": "markdown",
   "id": "6eb481d5",
   "metadata": {},
   "source": [
    "Для более детальных выводов построим график кумулятивного среднего чека по группам."
   ]
  },
  {
   "cell_type": "code",
   "execution_count": 26,
   "id": "194660b3",
   "metadata": {},
   "outputs": [
    {
     "data": {
      "image/png": "[encoded data removed]",
      "text/plain": [
       "<Figure size 1300x700 with 1 Axes>"
      ]
     },
     "metadata": {},
     "output_type": "display_data"
    }
   ],
   "source": [
    "plt.figure(figsize=(13,7))\n",
    "plt.plot(cumulativeRevenueA['date'], cumulativeRevenueA['revenue']/cumulativeRevenueA['orders'], label='A')\n",
    "plt.plot(cumulativeRevenueB['date'], cumulativeRevenueB['revenue']/cumulativeRevenueB['orders'], label='B')\n",
    "plt.xticks(rotation=20)\n",
    "plt.title('График кумулятивного среднего чека по группам')\n",
    "plt.xlabel('Дата')\n",
    "plt.ylabel('Размер выручки')\n",
    "plt.legend();"
   ]
  },
  {
   "cell_type": "markdown",
   "id": "8ebbc1b3",
   "metadata": {},
   "source": [
    "Снова видим всплекс размера среденего чека для группы В, после чего данная величина прододжительное время продолжает снижение. В то же время время средний чек группы А после стабилизации к середине графика начинает расти.     \n",
    "Возможно, при продолжении теста мы увидим, что средний чек группы А превозойдет средний чек группы В. Однако, указанное является только предположением, так как на сырых данных однозначные выводы делать не стоит."
   ]
  },
  {
   "cell_type": "markdown",
   "id": "20cd579c",
   "metadata": {},
   "source": [
    "### График относительного изменения кумулятивного среднего чека группы B к группе A"
   ]
  },
  {
   "cell_type": "markdown",
   "id": "15ac7a83",
   "metadata": {},
   "source": [
    "Для дальнейшего анализа построим график относительного изменения кумулятивного среднего чека группы B к группе A."
   ]
  },
  {
   "cell_type": "code",
   "execution_count": 27,
   "id": "4188cc8e",
   "metadata": {},
   "outputs": [
    {
     "data": {
      "image/png": "[encoded data removed]",
      "text/plain": [
       "<Figure size 1500x700 with 1 Axes>"
      ]
     },
     "metadata": {},
     "output_type": "display_data"
    }
   ],
   "source": [
    "# соединияем все данные вместе\n",
    "mergedCumulativeRevenue = cumulativeRevenueA.merge(cumulativeRevenueB, left_on='date', \n",
    "                                                   right_on='date', how='left', suffixes=['A', 'B'])\n",
    "\n",
    "\n",
    "plt.figure(figsize=(15,7))\n",
    "plt.plot(mergedCumulativeRevenue['date'], (mergedCumulativeRevenue['revenueB'] /mergedCumulativeRevenue['ordersB'])\n",
    "                                        /(mergedCumulativeRevenue['revenueA'] /mergedCumulativeRevenue['ordersA'])-1)\n",
    "plt.axhline(y=0,  color='red', linestyle = '--')\n",
    "plt.xticks(rotation=20)\n",
    "plt.title('График относительного изменения кумулятивного среднего чека группы B к группе A')\n",
    "plt.xlabel('Дата')\n",
    "plt.ylabel('Во сколько раз средний чек группы В больше/меньше среднего чека группы А');"
   ]
  },
  {
   "cell_type": "markdown",
   "id": "18656a39",
   "metadata": {},
   "source": [
    "Видим, что данный график во второй своей половине несколько повторяет график `График кумулятивного среднего чека по группам`. При этом в первой половине мы видим новые резкие скачки. Возможно, это новые выбросы.  "
   ]
  },
  {
   "cell_type": "markdown",
   "id": "5ebd3ef6",
   "metadata": {},
   "source": [
    "### График кумулятивного среднего количества заказов на посетителя по группам"
   ]
  },
  {
   "cell_type": "markdown",
   "id": "996a06c1",
   "metadata": {},
   "source": [
    "Добавим в таблицу `cumulativeData` столбец `conversion` для расчета среднего количества заказов на посетителя по группам.    \n",
    "Предварительно еще раз найдем и укажем минимальную и максимальную дату нашего датафрейма с кумулятивными данными."
   ]
  },
  {
   "cell_type": "code",
   "execution_count": 28,
   "id": "75bc917e",
   "metadata": {},
   "outputs": [
    {
     "name": "stdout",
     "output_type": "stream",
     "text": [
      "Максимальная дата - 2019-08-31 00:00:00\n",
      "Максимальная дата - 2019-08-01 00:00:00\n"
     ]
    }
   ],
   "source": [
    "print('Максимальная дата -', max(cumulativeData['date']))\n",
    "print('Максимальная дата -', min(cumulativeData['date']))"
   ]
  },
  {
   "cell_type": "code",
   "execution_count": 29,
   "id": "18706635",
   "metadata": {},
   "outputs": [
    {
     "data": {
      "image/png": "[encoded data removed]",
      "text/plain": [
       "<Figure size 1300x700 with 1 Axes>"
      ]
     },
     "metadata": {},
     "output_type": "display_data"
    }
   ],
   "source": [
    "# добавляем столбец\n",
    "cumulativeData['conversion'] = cumulativeData['orders']/cumulativeData['visitors']\n",
    "\n",
    "# разделяем данные на группы А и В\n",
    "cumulativeDataA = cumulativeData[cumulativeData['group']=='A']\n",
    "cumulativeDataB = cumulativeData[cumulativeData['group']=='B']\n",
    "\n",
    "plt.figure(figsize=(13,7))\n",
    "\n",
    "plt.plot(cumulativeDataA['date'], cumulativeDataA['conversion'], label='A')\n",
    "plt.plot(cumulativeDataB['date'], cumulativeDataB['conversion'], label='B')\n",
    "plt.legend()\n",
    "plt.xticks(rotation=20)\n",
    "plt.title('График кумулятивного среднего количества заказов на посетителя по группам')\n",
    "plt.xlabel('Дата')\n",
    "plt.ylabel('Количество заказов')\n",
    "plt.axis([dt.datetime(2019, 8, 1), dt.datetime(2019, 8, 31), 0, 0.05])\n",
    "plt.ylim(0.025,0.04);\n"
   ]
  },
  {
   "cell_type": "markdown",
   "id": "a3887302",
   "metadata": {},
   "source": [
    "После значительных колебаний в начале графика показатели групп А и В относительно стабилизировались ближе к его концу и, в целом, динамика линий групп сходится.     \n",
    "При этом, мы видим группа В уверенно лидирует почти с самого начала графика и не пересекает линию значений группы А. Исходя из сырых данных, можно полагать, что данная картина вряд ли изменится."
   ]
  },
  {
   "cell_type": "markdown",
   "id": "bb26de75",
   "metadata": {},
   "source": [
    "### График относительного изменения кумулятивного среднего количества заказов на посетителя группы B к группе A"
   ]
  },
  {
   "cell_type": "markdown",
   "id": "b6cf59c0",
   "metadata": {},
   "source": [
    "Аналогично тому, как это было сделано выше с расчетом изменения кумулятивного среднего чека построим график относительного изменения кумулятивного среднего количества заказов на посетителя"
   ]
  },
  {
   "cell_type": "code",
   "execution_count": 30,
   "id": "63414fb6",
   "metadata": {},
   "outputs": [
    {
     "data": {
      "image/png": "[encoded data removed]",
      "text/plain": [
       "<Figure size 1500x700 with 1 Axes>"
      ]
     },
     "metadata": {},
     "output_type": "display_data"
    }
   ],
   "source": [
    "mergedCumulativeConversions = cumulativeDataA[['date','conversion']]\\\n",
    "                            .merge(cumulativeDataB[['date','conversion']], left_on='date', \n",
    "                                                                           right_on='date', how='left', \n",
    "                                                                           suffixes=['A', 'B'])\n",
    "plt.figure(figsize=(15,7))\n",
    "plt.plot(mergedCumulativeConversions['date'], \n",
    "         mergedCumulativeConversions['conversionB']/mergedCumulativeConversions['conversionA']-1)\n",
    "\n",
    "plt.xticks(rotation=20)\n",
    "plt.title('График относительного изменения кумулятивного среднего количества заказов на посетителя группы B к группе A')\n",
    "plt.xlabel('Дата')\n",
    "plt.ylabel('Во сколько раз среднее количество заказов группы В больше/меньше группы А')\n",
    "plt.axhline(y=0, color='red', linestyle='--')\n",
    "plt.axhline(y=0.14, color='grey', linestyle='--')\n",
    "plt.axis([dt.datetime(2019, 8, 1), dt.datetime(2019, 8, 31), -0.5, 0.5])\n",
    "plt.ylim(-0.2,0.3);\n"
   ]
  },
  {
   "cell_type": "markdown",
   "id": "2ac404e4",
   "metadata": {},
   "source": [
    "С самого начала графика кумулятивные показатели среднего количества заказов на посетителя группы В оказались сильнее показателей группы А. При этом, какие-либо значительные скачки ближе к концу графика отсутствуют. При этом, также ближе к концу графика видим, что значения графика находятся в тренде на увеличение. Однако, данное предположение еще необходимо проверить на \"очищенных\" данных."
   ]
  },
  {
   "cell_type": "markdown",
   "id": "511d0d48",
   "metadata": {},
   "source": [
    "### Удаление аномальных значений"
   ]
  },
  {
   "cell_type": "markdown",
   "id": "6c1c6149",
   "metadata": {},
   "source": [
    "Чтобы определить и удалить аномальные значения, определим с помощью точечного графика, а также использования перцентилей."
   ]
  },
  {
   "cell_type": "markdown",
   "id": "80eea501",
   "metadata": {},
   "source": [
    "Построим точечный график количества заказов по пользователям."
   ]
  },
  {
   "cell_type": "code",
   "execution_count": 31,
   "id": "6fcff415",
   "metadata": {},
   "outputs": [
    {
     "data": {
      "image/png": "[encoded data removed]",
      "text/plain": [
       "<Figure size 1300x700 with 1 Axes>"
      ]
     },
     "metadata": {},
     "output_type": "display_data"
    }
   ],
   "source": [
    "# считаем, сколько заказов сделал каждый пользователь.\n",
    "ordersByUsers = (orders.groupby('visitorId', as_index=False).agg({'transactionId': 'nunique'}))\n",
    "ordersByUsers.columns = ['userId', 'orders']\n",
    "\n",
    "x_values = pd.Series(range(0, len(ordersByUsers)))\n",
    "plt.figure(figsize=(13,7))\n",
    "plt.scatter(x_values, ordersByUsers['orders']);\n",
    "plt.title('График количества заказов по пользователям')\n",
    "plt.xlabel('Количество пользователей')\n",
    "plt.ylabel('Количество заказов');\n"
   ]
  },
  {
   "cell_type": "markdown",
   "id": "ce98d5ff",
   "metadata": {},
   "source": [
    "Видим, что подавляющее большинство пользователей сделало только 1 заказ. Кроме того, достаточно много пользователей сделало также и 2 заказа. Более 2х заказов сделали буквально единицы пользователей.     \n",
    "Пока, можем считать аномальными пользователей с количеством заказов больше 2х. Однако проверим данное предположенеи с использованием перцентиля."
   ]
  },
  {
   "cell_type": "code",
   "execution_count": 32,
   "id": "c0182efb",
   "metadata": {},
   "outputs": [
    {
     "data": {
      "text/plain": [
       "array([2., 4.])"
      ]
     },
     "execution_count": 32,
     "metadata": {},
     "output_type": "execute_result"
    }
   ],
   "source": [
    "np.percentile(ordersByUsers['orders'], [95,99])"
   ]
  },
  {
   "cell_type": "markdown",
   "id": "8fc9f359",
   "metadata": {},
   "source": [
    "Видим, что не более 5% процентов пользователей сделали 2 и более заказов, и не более 1% пользователей - 4 и более.    \n",
    "Полагаю, можем полагать аномалиями пользователей, совершивших более 2х заказов.     \n",
    "\n",
    "Далее выполним аналогичные действия относительно стоимости заказа."
   ]
  },
  {
   "cell_type": "code",
   "execution_count": 33,
   "id": "56b3cc94",
   "metadata": {},
   "outputs": [
    {
     "data": {
      "image/png": "[encoded data removed]",
      "text/plain": [
       "<Figure size 1300x700 with 1 Axes>"
      ]
     },
     "metadata": {},
     "output_type": "display_data"
    }
   ],
   "source": [
    "x_values = pd.Series(range(0, len(orders['revenue'])))\n",
    "plt.figure(figsize=(13,7))\n",
    "plt.scatter(x_values, orders['revenue'])\n",
    "plt.title('График стоимости заказа на пользователя')\n",
    "plt.xlabel('Количество пользователей')\n",
    "plt.ylabel('Стоимость заказа');"
   ]
  },
  {
   "cell_type": "code",
   "execution_count": 34,
   "id": "6caebda6",
   "metadata": {},
   "outputs": [
    {
     "data": {
      "text/plain": [
       "array([28000. , 58233.2])"
      ]
     },
     "execution_count": 34,
     "metadata": {},
     "output_type": "execute_result"
    }
   ],
   "source": [
    "np.percentile(orders['revenue'], [95,99])"
   ]
  },
  {
   "cell_type": "markdown",
   "id": "1bbf71c6",
   "metadata": {},
   "source": [
    "Видим, что не более 5% пользователей сделали заказы на сумму более 28 000 у.е и не более 1% - на сумму более 58233.2 у.е.    \n",
    "Полагаем, можем считать аномальными заказы, стоимость которых превышает 28 000 у.е."
   ]
  },
  {
   "cell_type": "markdown",
   "id": "796baf4b",
   "metadata": {},
   "source": [
    "### Подсчет статистических значимостей между группами по «сырым» данным"
   ]
  },
  {
   "cell_type": "markdown",
   "id": "13c8c09b",
   "metadata": {},
   "source": [
    "Посчитаем статистическую значимость различий в среднем количестве заказов на посетителя между группами, а также относительный прирост среднего числа заказов группы B c помощью непараметрического теста Мана-Уитни.\n",
    "\n",
    "Сформулируем гипотезы.     \n",
    "Н0: различий в среднем количестве заказов между группами нет.       \n",
    "Н1: различия в среднем количестве заказов между группами есть."
   ]
  },
  {
   "cell_type": "code",
   "execution_count": 35,
   "id": "bf13ec0a",
   "metadata": {
    "scrolled": true
   },
   "outputs": [],
   "source": [
    "visitorsADaily = visitors[visitors['group'] == 'A'][['date', 'visitors']]\n",
    "visitorsADaily.columns = ['date', 'visitorsPerDateA']\n",
    "\n",
    "visitorsACummulative = visitorsADaily.apply(\n",
    "    lambda x: visitorsADaily[visitorsADaily['date'] <= x['date']].agg(\n",
    "        {'date': 'max', 'visitorsPerDateA': 'sum'}\n",
    "    ),\n",
    "    axis=1,\n",
    ")\n",
    "visitorsACummulative.columns = ['date', 'visitorsCummulativeA']\n",
    "\n",
    "visitorsBDaily = visitors[visitors['group'] == 'B'][['date', 'visitors']]\n",
    "visitorsBDaily.columns = ['date', 'visitorsPerDateB']\n",
    "\n",
    "visitorsBCummulative = visitorsBDaily.apply(\n",
    "    lambda x: visitorsBDaily[visitorsBDaily['date'] <= x['date']].agg(\n",
    "        {'date': 'max', 'visitorsPerDateB': 'sum'}\n",
    "    ),\n",
    "    axis=1,\n",
    ")\n",
    "visitorsBCummulative.columns = ['date', 'visitorsCummulativeB']\n",
    "\n",
    "ordersADaily = (\n",
    "    orders[orders['group'] == 'A'][['date', 'transactionId', 'visitorId', 'revenue']]\n",
    "    .groupby('date', as_index=False)\n",
    "    .agg({'transactionId': pd.Series.nunique, 'revenue': 'sum'})\n",
    ")\n",
    "ordersADaily.columns = ['date', 'ordersPerDateA', 'revenuePerDateA']\n",
    "\n",
    "ordersACummulative = ordersADaily.apply(\n",
    "    lambda x: ordersADaily[ordersADaily['date'] <= x['date']].agg(\n",
    "        {'date': 'max', 'ordersPerDateA': 'sum', 'revenuePerDateA': 'sum'}\n",
    "    ),\n",
    "    axis=1,\n",
    ").sort_values(by=['date'])\n",
    "ordersACummulative.columns = [\n",
    "    'date',\n",
    "    'ordersCummulativeA',\n",
    "    'revenueCummulativeA',\n",
    "]\n",
    "\n",
    "ordersBDaily = (\n",
    "    orders[orders['group'] == 'B'][['date', 'transactionId', 'visitorId', 'revenue']]\n",
    "    .groupby('date', as_index=False)\n",
    "    .agg({'transactionId': pd.Series.nunique, 'revenue': 'sum'})\n",
    ")\n",
    "ordersBDaily.columns = ['date', 'ordersPerDateB', 'revenuePerDateB']\n",
    "\n",
    "ordersBCummulative = ordersBDaily.apply(\n",
    "    lambda x: ordersBDaily[ordersBDaily['date'] <= x['date']].agg(\n",
    "        {'date': 'max', 'ordersPerDateB': 'sum', 'revenuePerDateB': 'sum'}\n",
    "    ),\n",
    "    axis=1,\n",
    ").sort_values(by=['date'])\n",
    "ordersBCummulative.columns = [\n",
    "    'date',\n",
    "    'ordersCummulativeB',\n",
    "    'revenueCummulativeB',\n",
    "]\n",
    "\n",
    "data = (\n",
    "    ordersADaily.merge(\n",
    "        ordersBDaily, left_on='date', right_on='date', how='left'\n",
    "    )\n",
    "    .merge(ordersACummulative, left_on='date', right_on='date', how='left')\n",
    "    .merge(ordersBCummulative, left_on='date', right_on='date', how='left')\n",
    "    .merge(visitorsADaily, left_on='date', right_on='date', how='left')\n",
    "    .merge(visitorsBDaily, left_on='date', right_on='date', how='left')\n",
    "    .merge(visitorsACummulative, left_on='date', right_on='date', how='left')\n",
    "    .merge(visitorsBCummulative, left_on='date', right_on='date', how='left')\n",
    ")"
   ]
  },
  {
   "cell_type": "code",
   "execution_count": 36,
   "id": "c1eb83e8",
   "metadata": {},
   "outputs": [
    {
     "name": "stdout",
     "output_type": "stream",
     "text": [
      "P-value: 0.017\n",
      "Относительный прирост среднего числа заказов группы B: 0.138\n"
     ]
    }
   ],
   "source": [
    "ordersByUsersA = (\n",
    "    orders[orders['group'] == 'A']\n",
    "    .groupby('visitorId', as_index=False)\n",
    "    .agg({'transactionId': pd.Series.nunique})\n",
    ")\n",
    "ordersByUsersA.columns = ['userId', 'orders']\n",
    "\n",
    "ordersByUsersB = (\n",
    "    orders[orders['group'] == 'B']\n",
    "    .groupby('visitorId', as_index=False)\n",
    "    .agg({'transactionId': pd.Series.nunique})\n",
    ")\n",
    "ordersByUsersB.columns = ['userId', 'orders'] \n",
    "\n",
    "sampleA = pd.concat([ordersByUsersA['orders'],\n",
    "                     pd.Series(0\n",
    "                               , index=np.arange(data['visitorsPerDateA'].sum() - len(ordersByUsersA['orders']))\n",
    "                               , name='orders')],axis=0)\n",
    "\n",
    "sampleB = pd.concat([ordersByUsersB['orders']\n",
    "                     ,pd.Series(0\n",
    "                                , index=np.arange(data['visitorsPerDateB'].sum() - len(ordersByUsersB['orders']))\n",
    "                                , name='orders')],axis=0)\n",
    "\n",
    "print('P-value:', \"{0:.3f}\".format(stats.mannwhitneyu(sampleA, sampleB)[1]))\n",
    "\n",
    "print('Относительный прирост среднего числа заказов группы B:', \"{0:.3f}\".format(sampleB.mean() / sampleA.mean() - 1))"
   ]
  },
  {
   "cell_type": "markdown",
   "id": "c9a26441",
   "metadata": {},
   "source": [
    "Полученное p-value - 0.017 значительно меньше значения статистической значимости 0.05, что дает нам основания отбросить нулевую гипотезу и принять альтернативную о том, что различия в среднем между группами есть. Кроме того, среднее количество заказов в группе В на 13% больше, чем в группе А."
   ]
  },
  {
   "cell_type": "markdown",
   "id": "29b1eb4e",
   "metadata": {},
   "source": [
    "Посчитаем статистическую значимость различий в среднем чеке заказа между группами, а также относительные различия в среднем чеке между группами.\n",
    "Как и ранее, нулевая гипотеза: различий в среднем чеке между группами нет. Альтернативная: различия в среднем чеке между группами есть."
   ]
  },
  {
   "cell_type": "code",
   "execution_count": 37,
   "id": "03db5364",
   "metadata": {},
   "outputs": [
    {
     "name": "stdout",
     "output_type": "stream",
     "text": [
      "P_value: 0.729\n",
      "Относительные различия в среднем чеке между группами: 0.259\n"
     ]
    }
   ],
   "source": [
    "print('P_value:','{0:.3f}'.format(stats.mannwhitneyu(orders[orders['group']=='A']['revenue']\n",
    "                                          , orders[orders['group']=='B']['revenue'])[1]))\n",
    "print('Относительные различия в среднем чеке между группами:', '{0:.3f}'.format(orders[orders['group']=='B']['revenue']\n",
    "                       .mean()/orders[orders['group']=='A']['revenue'].mean()-1))"
   ]
  },
  {
   "cell_type": "markdown",
   "id": "14438e30",
   "metadata": {},
   "source": [
    "Полученное p-value - 0.72 выше значения статистической значимости 0.05, что не дает нам оснований отбросить нулевую гипотезу о том, что в среднем чеке есть различия. При этом, средний чек группы В в среднем на 25% больше среднего чека группы А."
   ]
  },
  {
   "cell_type": "markdown",
   "id": "11180606",
   "metadata": {},
   "source": [
    "В результате проведения статистических тестов на сырых данных можно сделать следующие промежуточные выводы:\n",
    "* существует статистически значимая разница между средним количество заказов между группами, однако такая разница между средними чеками данных групп отсутствует;\n",
    "* в группе В в среднем количество заказов и средний чек на 13% и 25% соответственно больше, чем у группы А."
   ]
  },
  {
   "cell_type": "markdown",
   "id": "6c3f2fb6",
   "metadata": {},
   "source": [
    "### Подсчет статистических значимостей между группами по «очищенным» данным"
   ]
  },
  {
   "cell_type": "markdown",
   "id": "862209ea",
   "metadata": {},
   "source": [
    "Для очистки данных от аномальных пользователей и заказов сначала составим отдельную таблицу таких пользователей.\n",
    "Послее этого, удалим из из таблицы с кумулятивными данными строки, которые содержат данные о таких пользователях.\n",
    "Для определения аномальных пользователей будем использовать значения, полученные выше с помощью точечных графиков и перцентилей."
   ]
  },
  {
   "cell_type": "markdown",
   "id": "0a4e6e56",
   "metadata": {},
   "source": [
    "Составляем таблицу с \"аномальными\" пользователями."
   ]
  },
  {
   "cell_type": "code",
   "execution_count": 38,
   "id": "d483764e",
   "metadata": {},
   "outputs": [
    {
     "data": {
      "text/plain": [
       "28000.000000000004"
      ]
     },
     "execution_count": 38,
     "metadata": {},
     "output_type": "execute_result"
    }
   ],
   "source": [
    "np.percentile(orders['revenue'], 95)"
   ]
  },
  {
   "cell_type": "code",
   "execution_count": 39,
   "id": "ff4c90ad",
   "metadata": {},
   "outputs": [],
   "source": [
    "usersWithManyOrders = pd.concat(\n",
    "    [ordersByUsersA[ordersByUsersA['orders'] > np.percentile(ordersByUsers['orders'], 95)]['userId']\n",
    "    ,ordersByUsersB[ordersByUsersB['orders'] > np.percentile(ordersByUsers['orders'], 95)]['userId']]\n",
    "    ,axis=0)\n",
    "\n",
    "usersWithExpensiveOrders = orders[orders['revenue'] > np.percentile(orders['revenue'], 95)]['visitorId']\n",
    "abnormalUsers = (pd.concat([usersWithManyOrders, usersWithExpensiveOrders], axis=0)\n",
    "    .drop_duplicates()\n",
    "    .sort_values())"
   ]
  },
  {
   "cell_type": "markdown",
   "id": "e1384aba",
   "metadata": {},
   "source": [
    "Посчитаем количество аномальных (потерянных) пользователей в абсолютных и относительных значениях."
   ]
  },
  {
   "cell_type": "code",
   "execution_count": 40,
   "id": "a5dc8755",
   "metadata": {},
   "outputs": [
    {
     "data": {
      "text/plain": [
       "74"
      ]
     },
     "execution_count": 40,
     "metadata": {},
     "output_type": "execute_result"
    }
   ],
   "source": [
    "# считаем абсолютное значение\n",
    "abnormalUsers.count()"
   ]
  },
  {
   "cell_type": "code",
   "execution_count": 41,
   "id": "ec489e26",
   "metadata": {},
   "outputs": [
    {
     "data": {
      "text/plain": [
       "7.18"
      ]
     },
     "execution_count": 41,
     "metadata": {},
     "output_type": "execute_result"
    }
   ],
   "source": [
    "#считаем относительные значения\n",
    "round(abnormalUsers.count() / orders['visitorId'].nunique() * 100, 2)"
   ]
  },
  {
   "cell_type": "markdown",
   "id": "e4208b33",
   "metadata": {},
   "source": [
    "Таким образом, в результате удаления аномальных значений из данных, мы потеряли 74 пользователй или 7.14% от числа всех уникальных пользователей."
   ]
  },
  {
   "cell_type": "markdown",
   "id": "28cc858c",
   "metadata": {},
   "source": [
    "Повторно посчитаем статистическую значимость различий в среднем количестве заказов на посетителя между группами, а также относительный прирост среднего числа заказов группы B c помощью непараметрического теста Мана-Уитни, но уже по очищенным данным.\n",
    "\n",
    "Как и ранее, нулевая гипотеза: различий в среднем количестве заказов между группами нет. Альтернативная: различия в среднем между группами есть."
   ]
  },
  {
   "cell_type": "code",
   "execution_count": 42,
   "id": "cde6a3b2",
   "metadata": {},
   "outputs": [
    {
     "name": "stdout",
     "output_type": "stream",
     "text": [
      "P_value: 0.013\n",
      "Относительный прирост среднего числа заказов группы B: 0.173\n"
     ]
    }
   ],
   "source": [
    "sampleAFiltered = pd.concat(\n",
    "    [\n",
    "        ordersByUsersA[\n",
    "            np.logical_not(ordersByUsersA['userId'].isin(abnormalUsers))\n",
    "        ]['orders'],\n",
    "        pd.Series(\n",
    "            0,\n",
    "            index=np.arange(\n",
    "                data['visitorsPerDateA'].sum() - len(ordersByUsersA['orders'])\n",
    "            ),\n",
    "            name='orders',\n",
    "        ),\n",
    "    ],\n",
    "    axis=0,\n",
    ")\n",
    "\n",
    "sampleBFiltered = pd.concat(\n",
    "    [\n",
    "        ordersByUsersB[\n",
    "            np.logical_not(ordersByUsersB['userId'].isin(abnormalUsers))\n",
    "        ]['orders'],\n",
    "        pd.Series(\n",
    "            0,\n",
    "            index=np.arange(\n",
    "                data['visitorsPerDateB'].sum() - len(ordersByUsersB['orders'])\n",
    "            ),\n",
    "            name='orders',\n",
    "        ),\n",
    "    ],\n",
    "    axis=0,\n",
    ")\n",
    "\n",
    "print('P_value:', '{0:.3f}'.format(stats.mannwhitneyu(sampleAFiltered, sampleBFiltered)[1]))\n",
    "print('Относительный прирост среднего числа заказов группы B:', '{0:.3f}'.format(sampleBFiltered.mean()/sampleAFiltered.mean()-1))"
   ]
  },
  {
   "cell_type": "markdown",
   "id": "31f963b8",
   "metadata": {},
   "source": [
    "Напомним предыдущие значения по \"сырым\" данным:\n",
    "p-value - 0.017\n",
    "Разница в среднем количестве заказов между группами -  13%.\n",
    "\n",
    "Полученное p-value - 0.013 еще меньше значения статистической значимости 0.05, что дает нам основания отбросить нулевую гипотезу и принять альтернативную о том, что различия в среднем между группами есть. При этом, среднее количество заказов в группе В увеличилось и стало на 17% больше, чем в группе А.      \n",
    "В целом, изменения незначительные.\n",
    "\n"
   ]
  },
  {
   "cell_type": "markdown",
   "id": "59da2b28",
   "metadata": {},
   "source": [
    "Повторно посчитаем статистическую значимость различий в среднем чеке заказа между группами, относительные различия в среднем чеке между группами.\n",
    "Как и ранее, нулевая гипотеза: различий в среднем чеке между группами нет. Альтернативная: различия в среднем чеке между группами есть."
   ]
  },
  {
   "cell_type": "code",
   "execution_count": 43,
   "id": "f5c7e8b4",
   "metadata": {},
   "outputs": [
    {
     "name": "stdout",
     "output_type": "stream",
     "text": [
      "P_value; 0.738\n",
      "Относительные различия в среднем чеке между группами: -0.020\n"
     ]
    }
   ],
   "source": [
    "print('P_value;',\n",
    "    '{0:.3f}'.format(\n",
    "        stats.mannwhitneyu(\n",
    "            orders[\n",
    "                np.logical_and(\n",
    "                    orders['group'] == 'A',\n",
    "                    np.logical_not(orders['visitorId'].isin(abnormalUsers)),\n",
    "                )\n",
    "            ]['revenue'],\n",
    "            orders[\n",
    "                np.logical_and(\n",
    "                    orders['group'] == 'B',\n",
    "                    np.logical_not(orders['visitorId'].isin(abnormalUsers)),\n",
    "                )\n",
    "            ]['revenue'],\n",
    "        )[1]\n",
    "    )\n",
    ")\n",
    "\n",
    "print('Относительные различия в среднем чеке между группами:',\n",
    "    \"{0:.3f}\".format(\n",
    "        orders[\n",
    "            np.logical_and(\n",
    "                orders['group'] == 'B',\n",
    "                np.logical_not(orders['visitorId'].isin(abnormalUsers)),\n",
    "            )\n",
    "        ]['revenue'].mean()\n",
    "        / orders[\n",
    "            np.logical_and(\n",
    "                orders['group'] == 'A',\n",
    "                np.logical_not(orders['visitorId'].isin(abnormalUsers)),\n",
    "            )\n",
    "        ]['revenue'].mean()\n",
    "        - 1\n",
    "    )\n",
    ")"
   ]
  },
  {
   "cell_type": "markdown",
   "id": "403c36b1",
   "metadata": {},
   "source": [
    "Напомним предыдущие значения по \"сырым\" данным:\n",
    "p-value - 0.72\n",
    "Разница в среднем чеке между группами -  -0.02%.\n",
    "\n",
    "Полученное p-value - 0.73 еще выше значения статистической значимости 0.05, что не дает нам оснований отбросить нулевую гипотезу о том, что в среднем чеке между группами есть статистически значимые различия. При этом, средний чек группы В среднем на 0.02% уже меньше среднего чека группы А, то есть почти не отличается."
   ]
  },
  {
   "cell_type": "markdown",
   "id": "107beda5",
   "metadata": {},
   "source": [
    "Также повторно посмтроим графики относительного изменения кумулятивного среднего чека и среднего количества заказов на посетителя группы B к группе A.\n"
   ]
  },
  {
   "cell_type": "markdown",
   "id": "bc3fab6d",
   "metadata": {},
   "source": [
    "Сначала отфильтруем из исходных таблиц аномальные значения, которые были ранее нами обнаружены."
   ]
  },
  {
   "cell_type": "code",
   "execution_count": 44,
   "id": "4dc5817f",
   "metadata": {},
   "outputs": [
    {
     "data": {
      "text/plain": [
       "1031"
      ]
     },
     "execution_count": 44,
     "metadata": {},
     "output_type": "execute_result"
    }
   ],
   "source": [
    "# смотрим, сколько было уникальных пользователей в изначальном датафрейме.\n",
    "orders['visitorId'].nunique()"
   ]
  },
  {
   "cell_type": "code",
   "execution_count": 45,
   "id": "fbe50e02",
   "metadata": {},
   "outputs": [
    {
     "data": {
      "text/plain": [
       "957"
      ]
     },
     "execution_count": 45,
     "metadata": {},
     "output_type": "execute_result"
    }
   ],
   "source": [
    "# удаляем аномальных пользователей\n",
    "orders = orders[~orders['visitorId'].isin(abnormalUsers)]\n",
    "\n",
    "# проверяем, чтобы цыфры сошлись\n",
    "orders['visitorId'].nunique()"
   ]
  },
  {
   "cell_type": "markdown",
   "id": "334c7fc0",
   "metadata": {},
   "source": [
    "Строим графики"
   ]
  },
  {
   "cell_type": "code",
   "execution_count": 46,
   "id": "d68be553",
   "metadata": {},
   "outputs": [
    {
     "data": {
      "image/png": "[encoded data removed]",
      "text/plain": [
       "<Figure size 1300x700 with 1 Axes>"
      ]
     },
     "metadata": {},
     "output_type": "display_data"
    }
   ],
   "source": [
    "ordersAggregated = datesGroups.apply(lambda x: orders[np.logical_and(orders['date'] <= x['date']\\\n",
    "                                                                     , orders['group'] == x['group'])]\\\n",
    "                               .agg({'date' : 'max', \n",
    "                                     'group' : 'max', \n",
    "                                     'transactionId' : 'nunique', \n",
    "                                     'visitorId' : 'nunique', \n",
    "                                     'revenue' : 'sum'}), axis=1)\\\n",
    "                               .sort_values(by=['date','group'])\n",
    "\n",
    "visitorsAggregated = datesGroups.apply(lambda x: visitors[np.logical_and(visitors['date'] <= x['date']\\\n",
    "                                                                         , visitors['group'] == x['group'])]\\\n",
    "                               .agg({'date' : 'max', 'group' : 'max', 'visitors' : 'sum'}), axis=1)\\\n",
    "                               .sort_values(by=['date','group'])\n",
    "\n",
    "\n",
    "cumulativeData = ordersAggregated.merge(visitorsAggregated, left_on=['date', 'group'], right_on=['date', 'group'])\n",
    "cumulativeData.columns = ['date', 'group', 'orders', 'buyers', 'revenue', 'visitors']\n",
    "\n",
    "cumulativeRevenueA = cumulativeData[cumulativeData['group'] == 'A'][['date','revenue', 'orders']]\n",
    "cumulativeRevenueB = cumulativeData[cumulativeData['group'] == 'B'][['date','revenue', 'orders']]\n",
    "\n",
    "mergedCumulativeRevenue = cumulativeRevenueA.merge(cumulativeRevenueB, left_on='date', \n",
    "                                                   right_on='date', how='left', suffixes=['A', 'B'])\n",
    "\n",
    "plt.figure(figsize=(13,7))\n",
    "plt.plot(mergedCumulativeRevenue['date'], (mergedCumulativeRevenue['revenueB'] /mergedCumulativeRevenue['ordersB'])\n",
    "                                        /(mergedCumulativeRevenue['revenueA'] /mergedCumulativeRevenue['ordersA'])-1)\n",
    "plt.axhline(y=0,  color='red', linestyle = '--')\n",
    "plt.xticks(rotation=20)\n",
    "plt.title('График относительного изменения кумулятивного среднего чека группы B к группе A по очищенным данным')\n",
    "plt.xlabel(' Дата')\n",
    "plt.ylabel('Во сколько раз средний чек группы В больше/меньше среднего чека группы А');"
   ]
  },
  {
   "cell_type": "code",
   "execution_count": 47,
   "id": "16b9d0b8",
   "metadata": {},
   "outputs": [
    {
     "data": {
      "image/png": "[encoded data removed]",
      "text/plain": [
       "<Figure size 1300x700 with 1 Axes>"
      ]
     },
     "metadata": {},
     "output_type": "display_data"
    }
   ],
   "source": [
    "mergedCumulativeConversions = cumulativeDataA[['date','conversion']]\\\n",
    "                            .merge(cumulativeDataB[['date','conversion']], left_on='date', \n",
    "                                                                           right_on='date', how='left', \n",
    "                                                                           suffixes=['A', 'B'])\n",
    "plt.figure(figsize=(13,7))\n",
    "plt.plot(mergedCumulativeConversions['date'], \n",
    "         mergedCumulativeConversions['conversionB']/mergedCumulativeConversions['conversionA']-1)\n",
    "\n",
    "plt.xticks(rotation=20)\n",
    "plt.title('График относительного изменения кумулятивного среднего количества заказов на посетителя группы B к группе A по очищенным данным')\n",
    "plt.xlabel('Дата')\n",
    "plt.ylabel('Во сколько раз среднее количество заказов группы В больше/меньше группы А')\n",
    "plt.axhline(y=0, color='red', linestyle='--')\n",
    "plt.axhline(y=0.14, color='grey', linestyle='--')\n",
    "plt.axis([dt.datetime(2019, 8, 1), dt.datetime(2019, 8, 31), -0.5, 0.5]);"
   ]
  },
  {
   "cell_type": "markdown",
   "id": "3c988b05",
   "metadata": {},
   "source": [
    "Также, поторно построим точечные графики количества и стомости заказов по пользователям, чтобы посмотреть, как выглядит данная картина после очистки данных от аномальных значений."
   ]
  },
  {
   "cell_type": "code",
   "execution_count": 48,
   "id": "c1128e09",
   "metadata": {
    "scrolled": false
   },
   "outputs": [
    {
     "data": {
      "image/png": "[encoded data removed]",
      "text/plain": [
       "<Figure size 1200x500 with 1 Axes>"
      ]
     },
     "metadata": {},
     "output_type": "display_data"
    }
   ],
   "source": [
    "x_values = pd.Series(range(0, len(ordersByUsers)))\n",
    "plt.figure(figsize=(12,5))\n",
    "plt.scatter(x_values, ordersByUsers['orders']);\n",
    "plt.title('График количества заказов по пользователям')\n",
    "plt.xlabel('Количество пользователей')\n",
    "plt.ylabel('Количество заказов');"
   ]
  },
  {
   "cell_type": "code",
   "execution_count": 49,
   "id": "07dc2381",
   "metadata": {},
   "outputs": [
    {
     "data": {
      "image/png": "[encoded data removed]",
      "text/plain": [
       "<Figure size 1300x700 with 1 Axes>"
      ]
     },
     "metadata": {},
     "output_type": "display_data"
    }
   ],
   "source": [
    "x_values = pd.Series(range(0, len(orders['revenue'])))\n",
    "plt.figure(figsize=(13,7))\n",
    "plt.scatter(x_values, orders['revenue'])\n",
    "plt.title('График стоимости заказа на пользователя')\n",
    "plt.xlabel('Количество пользователей')\n",
    "plt.ylabel('Стоимость заказа');"
   ]
  },
  {
   "cell_type": "markdown",
   "id": "107b114a",
   "metadata": {},
   "source": [
    "Таким образом, в результате проведенных статистических тестов по сырым и очищенным данным можно сделать следующие выводы:\n",
    "* есть статистически значимые различия по среднему количеству заказов между группами как по «сырым», так и по данным после фильтрации аномалий;\n",
    "* нет статистически значимого различия по среднему чеку между группами ни по «сырым», ни по данным после фильтрации аномалий;\n",
    "* график различия среднего количества заказов между группами сообщает, что результаты группы B устойчиво лучше группы A -  группа стабильно заказывает больше группы А - то есть приносит больше прибыли;\n",
    "* согласно графику различия среднечего чека между группамии можно сделать вывод, о том результаты группы В еще не стабилизировались: после значительно падения линия графика начала показывать устойчивый рост на увеличения разницы, что принесет еще больше прибыли от группы В. Кроме того, нет оснований полагать, что значения среднего чека группы В начнут снижатся, что нивелировало бы тот факт, что пользователи из группы В заказывают больше. \n",
    "\n",
    "Таким образом, исходя из изложенных выше фактов, тест следует остановить и признать его успешным. Группа В достаточно устойчиво показывает более лучшие результаты, чем группа А.\n"
   ]
  },
  {
   "cell_type": "markdown",
   "id": "726412fc",
   "metadata": {},
   "source": [
    "## Общие выводы"
   ]
  },
  {
   "cell_type": "markdown",
   "id": "db05e88e",
   "metadata": {},
   "source": [
    "### Выполненные действия"
   ]
  },
  {
   "cell_type": "markdown",
   "id": "f7d88099",
   "metadata": {},
   "source": [
    "В результате проведенного в рамках настоящего проекта исследования были выполнены следующие действия:\n",
    "* выполнена приоретизация предложенных гипотез в соответствии с фреймворками ICE и RICE;\n",
    "* проанализированы результаты А/В теста на основе сырых данных;\n",
    "* очищены данные от аномальных значений;\n",
    "* проанализированы результаты А/В теста на основе очищенных данных;\n",
    "* продеставлены рекомендации по результатам анализа результатов А/В теста."
   ]
  },
  {
   "cell_type": "markdown",
   "id": "71305ef3",
   "metadata": {},
   "source": [
    "### Приоретизация гипотез"
   ]
  },
  {
   "cell_type": "markdown",
   "id": "41d7c59a",
   "metadata": {},
   "source": [
    "На основе проведенного анализа можно выделить следующие наиболее приоритетные и перспективные гипотезы :\n",
    "* Добавить форму подписки на все основные страницы, чтобы собрать базу клиентов для email-рассылок (№7);\n",
    "* Добавить блоки рекомендаций товаров на сайт интернет магазина, чтобы повысить конверсию и средний чек заказа(№2);\n",
    "* Добавить два новых канала привлечения трафика, что позволит привлекать на 30% больше пользователей(№0).\n"
   ]
  },
  {
   "cell_type": "markdown",
   "id": "45dc5313",
   "metadata": {},
   "source": [
    "### Анализ результатов А/В тестирования"
   ]
  },
  {
   "cell_type": "markdown",
   "id": "cdcdcaeb",
   "metadata": {},
   "source": [
    "В результате проведенных статистических тестов по сырым и очищенным данным можно сделать следующие выводы:\n",
    "* есть статистически значимые различия по среднему количеству заказов между группами как по «сырым», так и по данным после фильтрации аномалий;\n",
    "* нет статистически значимого различия по среднему чеку между группами ни по «сырым», ни по данным после фильтрации аномалий;\n",
    "* график различия среднего количества заказов между группами сообщает, что результаты группы B устойчиво лучше группы A: группа B стабильно заказывает больше группы А - то есть приносит больше прибыли;\n",
    "* согласно графику различия среднечего чека между группамии можно сделать вывод, о том результаты группы В еще не стабилизировались: после значительно падения линия графика начала показывать устойчивый рост на увеличения разницы, что принесет еще больше прибыли от группы В. Кроме того, нет оснований полагать, что значения среднего чека группы В начнут снижатся, что нивелировало бы тот факт, что пользователи из группы В заказывают больше. \n",
    "\n",
    "Исходя из изложенных выше фактов, тест следует остановить и признать его успешным. Группа В достаточно устойчиво показывает более лучшие результаты, чем группа А."
   ]
  }
 ],
 "metadata": {
  "ExecuteTimeLog": [
   {
    "duration": 49,
    "start_time": "2023-03-04T08:57:05.966Z"
   },
   {
    "duration": 1442,
    "start_time": "2023-03-04T08:57:14.417Z"
   },
   {
    "duration": 70,
    "start_time": "2023-03-04T08:57:15.862Z"
   },
   {
    "duration": 12,
    "start_time": "2023-03-04T08:57:15.934Z"
   },
   {
    "duration": 9,
    "start_time": "2023-03-04T08:57:15.948Z"
   },
   {
    "duration": 8,
    "start_time": "2023-03-04T08:57:15.959Z"
   },
   {
    "duration": 14,
    "start_time": "2023-03-04T08:57:15.968Z"
   },
   {
    "duration": 14,
    "start_time": "2023-03-04T08:57:24.723Z"
   },
   {
    "duration": 24,
    "start_time": "2023-03-04T08:57:32.423Z"
   },
   {
    "duration": 12,
    "start_time": "2023-03-04T08:57:37.231Z"
   },
   {
    "duration": 16,
    "start_time": "2023-03-04T08:58:03.328Z"
   },
   {
    "duration": 13,
    "start_time": "2023-03-04T08:58:25.923Z"
   },
   {
    "duration": 68,
    "start_time": "2023-03-04T09:01:38.130Z"
   },
   {
    "duration": 3,
    "start_time": "2023-03-04T09:01:55.655Z"
   },
   {
    "duration": 50,
    "start_time": "2023-03-04T09:01:55.660Z"
   },
   {
    "duration": 8,
    "start_time": "2023-03-04T09:01:55.712Z"
   },
   {
    "duration": 19,
    "start_time": "2023-03-04T09:01:55.722Z"
   },
   {
    "duration": 9,
    "start_time": "2023-03-04T09:01:55.744Z"
   },
   {
    "duration": 19,
    "start_time": "2023-03-04T09:01:55.754Z"
   },
   {
    "duration": 15,
    "start_time": "2023-03-04T09:01:55.775Z"
   },
   {
    "duration": 23,
    "start_time": "2023-03-04T09:01:55.792Z"
   },
   {
    "duration": 180,
    "start_time": "2023-03-04T09:01:55.817Z"
   },
   {
    "duration": 8,
    "start_time": "2023-03-04T09:01:55.999Z"
   },
   {
    "duration": 9,
    "start_time": "2023-03-04T09:01:56.008Z"
   },
   {
    "duration": 16,
    "start_time": "2023-03-04T09:01:56.019Z"
   },
   {
    "duration": 13,
    "start_time": "2023-03-04T09:01:56.037Z"
   },
   {
    "duration": 6,
    "start_time": "2023-03-04T09:02:01.127Z"
   },
   {
    "duration": 9,
    "start_time": "2023-03-04T09:02:22.163Z"
   },
   {
    "duration": 7,
    "start_time": "2023-03-04T09:02:38.130Z"
   },
   {
    "duration": 7,
    "start_time": "2023-03-04T09:02:38.783Z"
   },
   {
    "duration": 52,
    "start_time": "2023-03-04T09:06:46.875Z"
   },
   {
    "duration": 12,
    "start_time": "2023-03-04T09:10:57.819Z"
   },
   {
    "duration": 10,
    "start_time": "2023-03-04T09:10:58.723Z"
   },
   {
    "duration": 4,
    "start_time": "2023-03-04T09:27:54.491Z"
   },
   {
    "duration": 3,
    "start_time": "2023-03-04T09:28:03.840Z"
   },
   {
    "duration": 9,
    "start_time": "2023-03-04T09:37:05.556Z"
   },
   {
    "duration": 444,
    "start_time": "2023-03-04T09:37:28.233Z"
   },
   {
    "duration": 377,
    "start_time": "2023-03-04T09:37:50.493Z"
   },
   {
    "duration": 11,
    "start_time": "2023-03-04T09:38:20.313Z"
   },
   {
    "duration": 447,
    "start_time": "2023-03-04T09:38:29.882Z"
   },
   {
    "duration": 10,
    "start_time": "2023-03-04T09:38:47.993Z"
   },
   {
    "duration": 363,
    "start_time": "2023-03-04T09:38:50.660Z"
   },
   {
    "duration": 383,
    "start_time": "2023-03-04T09:38:55.813Z"
   },
   {
    "duration": 473,
    "start_time": "2023-03-04T09:41:20.734Z"
   },
   {
    "duration": 7,
    "start_time": "2023-03-04T09:42:08.314Z"
   },
   {
    "duration": 6,
    "start_time": "2023-03-04T09:42:23.413Z"
   },
   {
    "duration": 6,
    "start_time": "2023-03-04T09:42:36.734Z"
   },
   {
    "duration": 6,
    "start_time": "2023-03-04T09:43:21.834Z"
   },
   {
    "duration": 5,
    "start_time": "2023-03-04T09:43:23.382Z"
   },
   {
    "duration": 5,
    "start_time": "2023-03-04T09:43:42.002Z"
   },
   {
    "duration": 6,
    "start_time": "2023-03-04T09:43:43.835Z"
   },
   {
    "duration": 10,
    "start_time": "2023-03-04T09:44:06.158Z"
   },
   {
    "duration": 5,
    "start_time": "2023-03-04T09:44:09.034Z"
   },
   {
    "duration": 53,
    "start_time": "2023-03-04T09:44:38.136Z"
   },
   {
    "duration": 8,
    "start_time": "2023-03-04T09:44:47.202Z"
   },
   {
    "duration": 8,
    "start_time": "2023-03-04T09:45:00.114Z"
   },
   {
    "duration": 6,
    "start_time": "2023-03-04T09:49:16.572Z"
   },
   {
    "duration": 15,
    "start_time": "2023-03-04T09:50:00.892Z"
   },
   {
    "duration": 13,
    "start_time": "2023-03-04T09:51:47.164Z"
   },
   {
    "duration": 10,
    "start_time": "2023-03-04T09:51:53.665Z"
   },
   {
    "duration": 3,
    "start_time": "2023-03-04T09:52:37.055Z"
   },
   {
    "duration": 13,
    "start_time": "2023-03-04T09:55:48.533Z"
   },
   {
    "duration": 8,
    "start_time": "2023-03-04T09:55:53.253Z"
   },
   {
    "duration": 10,
    "start_time": "2023-03-04T09:56:01.952Z"
   },
   {
    "duration": 48,
    "start_time": "2023-03-04T09:57:08.642Z"
   },
   {
    "duration": 48,
    "start_time": "2023-03-04T10:13:20.497Z"
   },
   {
    "duration": 1219,
    "start_time": "2023-03-04T10:13:29.826Z"
   },
   {
    "duration": 143,
    "start_time": "2023-03-04T10:13:31.048Z"
   },
   {
    "duration": 15,
    "start_time": "2023-03-04T10:13:31.193Z"
   },
   {
    "duration": 56,
    "start_time": "2023-03-04T10:13:31.210Z"
   },
   {
    "duration": 19,
    "start_time": "2023-03-04T10:13:31.270Z"
   },
   {
    "duration": 56,
    "start_time": "2023-03-04T10:13:31.292Z"
   },
   {
    "duration": 64,
    "start_time": "2023-03-04T10:13:31.350Z"
   },
   {
    "duration": 19,
    "start_time": "2023-03-04T10:13:31.416Z"
   },
   {
    "duration": 168,
    "start_time": "2023-03-04T10:13:31.437Z"
   },
   {
    "duration": 11,
    "start_time": "2023-03-04T10:13:31.607Z"
   },
   {
    "duration": 24,
    "start_time": "2023-03-04T10:13:31.620Z"
   },
   {
    "duration": 19,
    "start_time": "2023-03-04T10:13:31.646Z"
   },
   {
    "duration": 26,
    "start_time": "2023-03-04T10:13:31.667Z"
   },
   {
    "duration": 22,
    "start_time": "2023-03-04T10:13:31.697Z"
   },
   {
    "duration": 12,
    "start_time": "2023-03-04T10:13:31.721Z"
   },
   {
    "duration": 39,
    "start_time": "2023-03-04T10:13:31.735Z"
   },
   {
    "duration": 28,
    "start_time": "2023-03-04T10:13:31.776Z"
   },
   {
    "duration": 20,
    "start_time": "2023-03-04T10:13:31.807Z"
   },
   {
    "duration": 16,
    "start_time": "2023-03-04T10:13:31.829Z"
   },
   {
    "duration": 19,
    "start_time": "2023-03-04T10:13:31.847Z"
   },
   {
    "duration": 51,
    "start_time": "2023-03-04T10:13:31.868Z"
   },
   {
    "duration": 14,
    "start_time": "2023-03-04T10:13:31.921Z"
   },
   {
    "duration": 25,
    "start_time": "2023-03-04T10:13:31.937Z"
   },
   {
    "duration": 39,
    "start_time": "2023-03-04T10:13:31.965Z"
   },
   {
    "duration": 26,
    "start_time": "2023-03-04T10:13:32.006Z"
   },
   {
    "duration": 363,
    "start_time": "2023-03-04T10:13:32.034Z"
   },
   {
    "duration": 374,
    "start_time": "2023-03-04T10:13:32.399Z"
   },
   {
    "duration": 230,
    "start_time": "2023-03-04T10:13:32.775Z"
   },
   {
    "duration": 369,
    "start_time": "2023-03-04T10:13:33.007Z"
   },
   {
    "duration": 7,
    "start_time": "2023-03-04T10:13:33.378Z"
   },
   {
    "duration": 214,
    "start_time": "2023-03-04T10:13:33.387Z"
   },
   {
    "duration": 365,
    "start_time": "2023-03-04T10:13:33.603Z"
   },
   {
    "duration": 150,
    "start_time": "2023-03-04T10:13:33.970Z"
   },
   {
    "duration": 9,
    "start_time": "2023-03-04T10:13:34.123Z"
   },
   {
    "duration": 215,
    "start_time": "2023-03-04T10:13:34.134Z"
   },
   {
    "duration": 6,
    "start_time": "2023-03-04T10:13:34.351Z"
   },
   {
    "duration": 283,
    "start_time": "2023-03-04T10:13:34.360Z"
   },
   {
    "duration": 214,
    "start_time": "2023-03-04T10:13:34.648Z"
   },
   {
    "duration": 12,
    "start_time": "2023-03-04T10:13:34.863Z"
   },
   {
    "duration": 10,
    "start_time": "2023-03-04T10:13:34.877Z"
   },
   {
    "duration": 57,
    "start_time": "2023-03-04T10:13:34.892Z"
   },
   {
    "duration": 19,
    "start_time": "2023-03-04T10:13:34.951Z"
   },
   {
    "duration": 5,
    "start_time": "2023-03-04T10:13:34.973Z"
   },
   {
    "duration": 22,
    "start_time": "2023-03-04T10:13:34.980Z"
   },
   {
    "duration": 755,
    "start_time": "2023-03-04T10:13:35.004Z"
   },
   {
    "duration": 313,
    "start_time": "2023-03-04T10:13:35.760Z"
   },
   {
    "duration": 268,
    "start_time": "2023-03-04T10:15:17.224Z"
   },
   {
    "duration": 173,
    "start_time": "2023-03-04T10:16:12.086Z"
   },
   {
    "duration": 242,
    "start_time": "2023-03-04T10:17:01.560Z"
   },
   {
    "duration": 190,
    "start_time": "2023-03-04T10:17:21.423Z"
   },
   {
    "duration": 5,
    "start_time": "2023-03-04T10:38:53.093Z"
   },
   {
    "duration": 13,
    "start_time": "2023-03-04T10:38:57.805Z"
   },
   {
    "duration": 18,
    "start_time": "2023-03-04T10:40:29.800Z"
   },
   {
    "duration": 12,
    "start_time": "2023-03-04T10:41:23.845Z"
   },
   {
    "duration": 1160,
    "start_time": "2023-03-04T10:42:29.608Z"
   },
   {
    "duration": 75,
    "start_time": "2023-03-04T10:42:30.770Z"
   },
   {
    "duration": 19,
    "start_time": "2023-03-04T10:42:30.847Z"
   },
   {
    "duration": 41,
    "start_time": "2023-03-04T10:42:30.868Z"
   },
   {
    "duration": 21,
    "start_time": "2023-03-04T10:42:30.911Z"
   },
   {
    "duration": 40,
    "start_time": "2023-03-04T10:42:30.935Z"
   },
   {
    "duration": 88,
    "start_time": "2023-03-04T10:42:30.978Z"
   },
   {
    "duration": 39,
    "start_time": "2023-03-04T10:42:31.068Z"
   },
   {
    "duration": 101,
    "start_time": "2023-03-04T10:42:31.109Z"
   },
   {
    "duration": 8,
    "start_time": "2023-03-04T10:42:31.211Z"
   },
   {
    "duration": 58,
    "start_time": "2023-03-04T10:42:31.221Z"
   },
   {
    "duration": 62,
    "start_time": "2023-03-04T10:42:31.280Z"
   },
   {
    "duration": 46,
    "start_time": "2023-03-04T10:42:31.344Z"
   },
   {
    "duration": 35,
    "start_time": "2023-03-04T10:42:31.393Z"
   },
   {
    "duration": 30,
    "start_time": "2023-03-04T10:42:31.430Z"
   },
   {
    "duration": 40,
    "start_time": "2023-03-04T10:42:31.462Z"
   },
   {
    "duration": 40,
    "start_time": "2023-03-04T10:42:31.503Z"
   },
   {
    "duration": 47,
    "start_time": "2023-03-04T10:42:31.544Z"
   },
   {
    "duration": 25,
    "start_time": "2023-03-04T10:42:31.593Z"
   },
   {
    "duration": 40,
    "start_time": "2023-03-04T10:42:31.620Z"
   },
   {
    "duration": 26,
    "start_time": "2023-03-04T10:42:31.662Z"
   },
   {
    "duration": 22,
    "start_time": "2023-03-04T10:42:31.690Z"
   },
   {
    "duration": 35,
    "start_time": "2023-03-04T10:42:31.714Z"
   },
   {
    "duration": 24,
    "start_time": "2023-03-04T10:42:31.752Z"
   },
   {
    "duration": 16,
    "start_time": "2023-03-04T10:42:31.778Z"
   },
   {
    "duration": 312,
    "start_time": "2023-03-04T10:42:31.796Z"
   },
   {
    "duration": 289,
    "start_time": "2023-03-04T10:42:32.110Z"
   },
   {
    "duration": 217,
    "start_time": "2023-03-04T10:42:32.400Z"
   },
   {
    "duration": 340,
    "start_time": "2023-03-04T10:42:32.618Z"
   },
   {
    "duration": 6,
    "start_time": "2023-03-04T10:42:32.960Z"
   },
   {
    "duration": 215,
    "start_time": "2023-03-04T10:42:32.968Z"
   },
   {
    "duration": 304,
    "start_time": "2023-03-04T10:42:33.185Z"
   },
   {
    "duration": 140,
    "start_time": "2023-03-04T10:42:33.490Z"
   },
   {
    "duration": 6,
    "start_time": "2023-03-04T10:42:33.631Z"
   },
   {
    "duration": 157,
    "start_time": "2023-03-04T10:42:33.649Z"
   },
   {
    "duration": 4,
    "start_time": "2023-03-04T10:42:33.808Z"
   },
   {
    "duration": 256,
    "start_time": "2023-03-04T10:42:33.814Z"
   },
   {
    "duration": 210,
    "start_time": "2023-03-04T10:42:34.073Z"
   },
   {
    "duration": 15,
    "start_time": "2023-03-04T10:42:34.285Z"
   },
   {
    "duration": 13,
    "start_time": "2023-03-04T10:42:34.304Z"
   },
   {
    "duration": 52,
    "start_time": "2023-03-04T10:42:34.321Z"
   },
   {
    "duration": 15,
    "start_time": "2023-03-04T10:42:34.375Z"
   },
   {
    "duration": 5,
    "start_time": "2023-03-04T10:42:34.392Z"
   },
   {
    "duration": 8,
    "start_time": "2023-03-04T10:42:34.398Z"
   },
   {
    "duration": 722,
    "start_time": "2023-03-04T10:42:34.408Z"
   },
   {
    "duration": 334,
    "start_time": "2023-03-04T10:42:35.132Z"
   },
   {
    "duration": 4,
    "start_time": "2023-03-04T10:43:38.458Z"
   },
   {
    "duration": 11,
    "start_time": "2023-03-04T10:43:51.870Z"
   },
   {
    "duration": 5,
    "start_time": "2023-03-04T10:44:39.145Z"
   },
   {
    "duration": 4,
    "start_time": "2023-03-04T10:45:03.101Z"
   },
   {
    "duration": 15,
    "start_time": "2023-03-04T10:52:46.186Z"
   },
   {
    "duration": 1196,
    "start_time": "2023-03-04T10:53:03.082Z"
   },
   {
    "duration": 48,
    "start_time": "2023-03-04T10:53:04.281Z"
   },
   {
    "duration": 12,
    "start_time": "2023-03-04T10:53:04.330Z"
   },
   {
    "duration": 21,
    "start_time": "2023-03-04T10:53:04.343Z"
   },
   {
    "duration": 5,
    "start_time": "2023-03-04T10:53:04.366Z"
   },
   {
    "duration": 12,
    "start_time": "2023-03-04T10:53:04.373Z"
   },
   {
    "duration": 30,
    "start_time": "2023-03-04T10:53:04.387Z"
   },
   {
    "duration": 16,
    "start_time": "2023-03-04T10:53:04.419Z"
   },
   {
    "duration": 78,
    "start_time": "2023-03-04T10:53:04.437Z"
   },
   {
    "duration": 8,
    "start_time": "2023-03-04T10:53:04.517Z"
   },
   {
    "duration": 15,
    "start_time": "2023-03-04T10:53:04.527Z"
   },
   {
    "duration": 21,
    "start_time": "2023-03-04T10:53:04.544Z"
   },
   {
    "duration": 13,
    "start_time": "2023-03-04T10:53:04.567Z"
   },
   {
    "duration": 6,
    "start_time": "2023-03-04T10:53:04.583Z"
   },
   {
    "duration": 12,
    "start_time": "2023-03-04T10:53:04.591Z"
   },
   {
    "duration": 20,
    "start_time": "2023-03-04T10:53:04.604Z"
   },
   {
    "duration": 24,
    "start_time": "2023-03-04T10:53:04.625Z"
   },
   {
    "duration": 14,
    "start_time": "2023-03-04T10:53:04.651Z"
   },
   {
    "duration": 11,
    "start_time": "2023-03-04T10:53:04.666Z"
   },
   {
    "duration": 13,
    "start_time": "2023-03-04T10:53:04.679Z"
   },
   {
    "duration": 6,
    "start_time": "2023-03-04T10:53:04.694Z"
   },
   {
    "duration": 6,
    "start_time": "2023-03-04T10:53:04.702Z"
   },
   {
    "duration": 8,
    "start_time": "2023-03-04T10:53:04.710Z"
   },
   {
    "duration": 29,
    "start_time": "2023-03-04T10:53:04.720Z"
   },
   {
    "duration": 9,
    "start_time": "2023-03-04T10:53:04.751Z"
   },
   {
    "duration": 16,
    "start_time": "2023-03-04T10:53:04.762Z"
   },
   {
    "duration": 307,
    "start_time": "2023-03-04T10:53:04.780Z"
   },
   {
    "duration": 350,
    "start_time": "2023-03-04T10:53:05.089Z"
   },
   {
    "duration": 191,
    "start_time": "2023-03-04T10:53:05.441Z"
   },
   {
    "duration": 325,
    "start_time": "2023-03-04T10:53:05.633Z"
   },
   {
    "duration": 5,
    "start_time": "2023-03-04T10:53:05.960Z"
   },
   {
    "duration": 208,
    "start_time": "2023-03-04T10:53:05.966Z"
   },
   {
    "duration": 274,
    "start_time": "2023-03-04T10:53:06.176Z"
   },
   {
    "duration": 128,
    "start_time": "2023-03-04T10:53:06.452Z"
   },
   {
    "duration": 5,
    "start_time": "2023-03-04T10:53:06.582Z"
   },
   {
    "duration": 156,
    "start_time": "2023-03-04T10:53:06.588Z"
   },
   {
    "duration": 5,
    "start_time": "2023-03-04T10:53:06.748Z"
   },
   {
    "duration": 233,
    "start_time": "2023-03-04T10:53:06.754Z"
   },
   {
    "duration": 187,
    "start_time": "2023-03-04T10:53:06.989Z"
   },
   {
    "duration": 12,
    "start_time": "2023-03-04T10:53:07.178Z"
   },
   {
    "duration": 9,
    "start_time": "2023-03-04T10:53:07.194Z"
   },
   {
    "duration": 52,
    "start_time": "2023-03-04T10:53:07.204Z"
   },
   {
    "duration": 14,
    "start_time": "2023-03-04T10:53:07.258Z"
   },
   {
    "duration": 8,
    "start_time": "2023-03-04T10:53:07.274Z"
   },
   {
    "duration": 9,
    "start_time": "2023-03-04T10:53:07.283Z"
   },
   {
    "duration": 650,
    "start_time": "2023-03-04T10:53:07.294Z"
   },
   {
    "duration": 293,
    "start_time": "2023-03-04T10:53:07.948Z"
   },
   {
    "duration": 4,
    "start_time": "2023-03-04T10:53:57.400Z"
   },
   {
    "duration": 14,
    "start_time": "2023-03-04T10:54:02.519Z"
   },
   {
    "duration": 24,
    "start_time": "2023-03-04T10:55:04.555Z"
   },
   {
    "duration": 8,
    "start_time": "2023-03-04T10:55:45.454Z"
   },
   {
    "duration": 1213,
    "start_time": "2023-03-04T10:57:06.330Z"
   },
   {
    "duration": 44,
    "start_time": "2023-03-04T10:57:07.545Z"
   },
   {
    "duration": 12,
    "start_time": "2023-03-04T10:57:07.590Z"
   },
   {
    "duration": 8,
    "start_time": "2023-03-04T10:57:07.604Z"
   },
   {
    "duration": 9,
    "start_time": "2023-03-04T10:57:07.615Z"
   },
   {
    "duration": 12,
    "start_time": "2023-03-04T10:57:07.626Z"
   },
   {
    "duration": 21,
    "start_time": "2023-03-04T10:57:07.640Z"
   },
   {
    "duration": 14,
    "start_time": "2023-03-04T10:57:07.663Z"
   },
   {
    "duration": 75,
    "start_time": "2023-03-04T10:57:07.678Z"
   },
   {
    "duration": 7,
    "start_time": "2023-03-04T10:57:07.755Z"
   },
   {
    "duration": 10,
    "start_time": "2023-03-04T10:57:07.764Z"
   },
   {
    "duration": 26,
    "start_time": "2023-03-04T10:57:07.775Z"
   },
   {
    "duration": 14,
    "start_time": "2023-03-04T10:57:07.802Z"
   },
   {
    "duration": 12,
    "start_time": "2023-03-04T10:57:07.819Z"
   },
   {
    "duration": 18,
    "start_time": "2023-03-04T10:57:07.833Z"
   },
   {
    "duration": 13,
    "start_time": "2023-03-04T10:57:07.853Z"
   },
   {
    "duration": 15,
    "start_time": "2023-03-04T10:57:07.868Z"
   },
   {
    "duration": 12,
    "start_time": "2023-03-04T10:57:07.886Z"
   },
   {
    "duration": 9,
    "start_time": "2023-03-04T10:57:07.900Z"
   },
   {
    "duration": 14,
    "start_time": "2023-03-04T10:57:07.911Z"
   },
   {
    "duration": 27,
    "start_time": "2023-03-04T10:57:07.927Z"
   },
   {
    "duration": 8,
    "start_time": "2023-03-04T10:57:07.956Z"
   },
   {
    "duration": 9,
    "start_time": "2023-03-04T10:57:07.966Z"
   },
   {
    "duration": 9,
    "start_time": "2023-03-04T10:57:07.977Z"
   },
   {
    "duration": 11,
    "start_time": "2023-03-04T10:57:07.988Z"
   },
   {
    "duration": 16,
    "start_time": "2023-03-04T10:57:08.000Z"
   },
   {
    "duration": 12,
    "start_time": "2023-03-04T10:57:08.018Z"
   },
   {
    "duration": 159,
    "start_time": "2023-03-04T10:57:08.032Z"
   },
   {
    "duration": 288,
    "start_time": "2023-03-04T10:57:08.193Z"
   },
   {
    "duration": 189,
    "start_time": "2023-03-04T10:57:08.483Z"
   },
   {
    "duration": 235,
    "start_time": "2023-03-04T10:57:08.674Z"
   },
   {
    "duration": 5,
    "start_time": "2023-03-04T10:57:08.910Z"
   },
   {
    "duration": 204,
    "start_time": "2023-03-04T10:57:08.917Z"
   },
   {
    "duration": 320,
    "start_time": "2023-03-04T10:57:09.123Z"
   },
   {
    "duration": 142,
    "start_time": "2023-03-04T10:57:09.449Z"
   },
   {
    "duration": 6,
    "start_time": "2023-03-04T10:57:09.593Z"
   },
   {
    "duration": 131,
    "start_time": "2023-03-04T10:57:09.601Z"
   },
   {
    "duration": 6,
    "start_time": "2023-03-04T10:57:09.734Z"
   },
   {
    "duration": 171,
    "start_time": "2023-03-04T10:57:09.749Z"
   },
   {
    "duration": 126,
    "start_time": "2023-03-04T10:57:09.922Z"
   },
   {
    "duration": 121,
    "start_time": "2023-03-04T10:57:10.052Z"
   },
   {
    "duration": 0,
    "start_time": "2023-03-04T10:57:10.175Z"
   },
   {
    "duration": 0,
    "start_time": "2023-03-04T10:57:10.177Z"
   },
   {
    "duration": 0,
    "start_time": "2023-03-04T10:57:10.178Z"
   },
   {
    "duration": 0,
    "start_time": "2023-03-04T10:57:10.180Z"
   },
   {
    "duration": 0,
    "start_time": "2023-03-04T10:57:10.182Z"
   },
   {
    "duration": 0,
    "start_time": "2023-03-04T10:57:10.183Z"
   },
   {
    "duration": 0,
    "start_time": "2023-03-04T10:57:10.185Z"
   },
   {
    "duration": 1188,
    "start_time": "2023-03-04T10:59:43.632Z"
   },
   {
    "duration": 44,
    "start_time": "2023-03-04T10:59:44.822Z"
   },
   {
    "duration": 11,
    "start_time": "2023-03-04T10:59:44.867Z"
   },
   {
    "duration": 8,
    "start_time": "2023-03-04T10:59:44.879Z"
   },
   {
    "duration": 4,
    "start_time": "2023-03-04T10:59:44.889Z"
   },
   {
    "duration": 9,
    "start_time": "2023-03-04T10:59:44.895Z"
   },
   {
    "duration": 15,
    "start_time": "2023-03-04T10:59:44.906Z"
   },
   {
    "duration": 28,
    "start_time": "2023-03-04T10:59:44.922Z"
   },
   {
    "duration": 88,
    "start_time": "2023-03-04T10:59:44.952Z"
   },
   {
    "duration": 8,
    "start_time": "2023-03-04T10:59:45.042Z"
   },
   {
    "duration": 13,
    "start_time": "2023-03-04T10:59:45.052Z"
   },
   {
    "duration": 25,
    "start_time": "2023-03-04T10:59:45.067Z"
   },
   {
    "duration": 12,
    "start_time": "2023-03-04T10:59:45.094Z"
   },
   {
    "duration": 9,
    "start_time": "2023-03-04T10:59:45.109Z"
   },
   {
    "duration": 7,
    "start_time": "2023-03-04T10:59:45.119Z"
   },
   {
    "duration": 26,
    "start_time": "2023-03-04T10:59:45.128Z"
   },
   {
    "duration": 16,
    "start_time": "2023-03-04T10:59:45.155Z"
   },
   {
    "duration": 25,
    "start_time": "2023-03-04T10:59:45.173Z"
   },
   {
    "duration": 18,
    "start_time": "2023-03-04T10:59:45.200Z"
   },
   {
    "duration": 15,
    "start_time": "2023-03-04T10:59:45.221Z"
   },
   {
    "duration": 15,
    "start_time": "2023-03-04T10:59:45.238Z"
   },
   {
    "duration": 30,
    "start_time": "2023-03-04T10:59:45.255Z"
   },
   {
    "duration": 23,
    "start_time": "2023-03-04T10:59:45.287Z"
   },
   {
    "duration": 27,
    "start_time": "2023-03-04T10:59:45.312Z"
   },
   {
    "duration": 14,
    "start_time": "2023-03-04T10:59:45.341Z"
   },
   {
    "duration": 47,
    "start_time": "2023-03-04T10:59:45.358Z"
   },
   {
    "duration": 0,
    "start_time": "2023-03-04T10:59:45.406Z"
   },
   {
    "duration": 0,
    "start_time": "2023-03-04T10:59:45.408Z"
   },
   {
    "duration": 0,
    "start_time": "2023-03-04T10:59:45.409Z"
   },
   {
    "duration": 0,
    "start_time": "2023-03-04T10:59:45.411Z"
   },
   {
    "duration": 0,
    "start_time": "2023-03-04T10:59:45.412Z"
   },
   {
    "duration": 0,
    "start_time": "2023-03-04T10:59:45.414Z"
   },
   {
    "duration": 0,
    "start_time": "2023-03-04T10:59:45.415Z"
   },
   {
    "duration": 116,
    "start_time": "2023-03-04T10:59:45.752Z"
   },
   {
    "duration": 0,
    "start_time": "2023-03-04T10:59:45.870Z"
   },
   {
    "duration": 9,
    "start_time": "2023-03-04T10:59:45.883Z"
   },
   {
    "duration": 0,
    "start_time": "2023-03-04T10:59:45.895Z"
   },
   {
    "duration": 0,
    "start_time": "2023-03-04T10:59:45.896Z"
   },
   {
    "duration": 0,
    "start_time": "2023-03-04T10:59:45.899Z"
   },
   {
    "duration": 0,
    "start_time": "2023-03-04T10:59:45.900Z"
   },
   {
    "duration": 0,
    "start_time": "2023-03-04T10:59:45.902Z"
   },
   {
    "duration": 10,
    "start_time": "2023-03-04T10:59:46.383Z"
   },
   {
    "duration": 0,
    "start_time": "2023-03-04T10:59:46.395Z"
   },
   {
    "duration": 0,
    "start_time": "2023-03-04T10:59:46.396Z"
   },
   {
    "duration": 6,
    "start_time": "2023-03-04T10:59:46.399Z"
   },
   {
    "duration": 9,
    "start_time": "2023-03-04T10:59:46.407Z"
   },
   {
    "duration": 1,
    "start_time": "2023-03-04T10:59:46.417Z"
   },
   {
    "duration": 0,
    "start_time": "2023-03-04T10:59:46.418Z"
   },
   {
    "duration": 6,
    "start_time": "2023-03-04T11:01:07.993Z"
   },
   {
    "duration": 1221,
    "start_time": "2023-03-04T11:01:18.011Z"
   },
   {
    "duration": 55,
    "start_time": "2023-03-04T11:01:19.234Z"
   },
   {
    "duration": 17,
    "start_time": "2023-03-04T11:01:19.291Z"
   },
   {
    "duration": 13,
    "start_time": "2023-03-04T11:01:19.311Z"
   },
   {
    "duration": 7,
    "start_time": "2023-03-04T11:01:19.327Z"
   },
   {
    "duration": 12,
    "start_time": "2023-03-04T11:01:19.335Z"
   },
   {
    "duration": 17,
    "start_time": "2023-03-04T11:01:19.349Z"
   },
   {
    "duration": 14,
    "start_time": "2023-03-04T11:01:19.368Z"
   },
   {
    "duration": 128,
    "start_time": "2023-03-04T11:01:19.385Z"
   },
   {
    "duration": 12,
    "start_time": "2023-03-04T11:01:19.516Z"
   },
   {
    "duration": 12,
    "start_time": "2023-03-04T11:01:19.530Z"
   },
   {
    "duration": 13,
    "start_time": "2023-03-04T11:01:19.544Z"
   },
   {
    "duration": 13,
    "start_time": "2023-03-04T11:01:19.559Z"
   },
   {
    "duration": 8,
    "start_time": "2023-03-04T11:01:19.577Z"
   },
   {
    "duration": 10,
    "start_time": "2023-03-04T11:01:19.587Z"
   },
   {
    "duration": 18,
    "start_time": "2023-03-04T11:01:19.600Z"
   },
   {
    "duration": 34,
    "start_time": "2023-03-04T11:01:19.619Z"
   },
   {
    "duration": 14,
    "start_time": "2023-03-04T11:01:19.655Z"
   },
   {
    "duration": 10,
    "start_time": "2023-03-04T11:01:19.671Z"
   },
   {
    "duration": 7,
    "start_time": "2023-03-04T11:01:19.682Z"
   },
   {
    "duration": 7,
    "start_time": "2023-03-04T11:01:19.691Z"
   },
   {
    "duration": 7,
    "start_time": "2023-03-04T11:01:19.700Z"
   },
   {
    "duration": 43,
    "start_time": "2023-03-04T11:01:19.709Z"
   },
   {
    "duration": 9,
    "start_time": "2023-03-04T11:01:19.754Z"
   },
   {
    "duration": 8,
    "start_time": "2023-03-04T11:01:19.766Z"
   },
   {
    "duration": 6,
    "start_time": "2023-03-04T11:01:19.776Z"
   },
   {
    "duration": 11,
    "start_time": "2023-03-04T11:01:19.784Z"
   },
   {
    "duration": 320,
    "start_time": "2023-03-04T11:01:19.797Z"
   },
   {
    "duration": 280,
    "start_time": "2023-03-04T11:01:20.119Z"
   },
   {
    "duration": 202,
    "start_time": "2023-03-04T11:01:20.401Z"
   },
   {
    "duration": 302,
    "start_time": "2023-03-04T11:01:20.605Z"
   },
   {
    "duration": 6,
    "start_time": "2023-03-04T11:01:20.908Z"
   },
   {
    "duration": 208,
    "start_time": "2023-03-04T11:01:20.916Z"
   },
   {
    "duration": 322,
    "start_time": "2023-03-04T11:01:21.126Z"
   },
   {
    "duration": 145,
    "start_time": "2023-03-04T11:01:21.450Z"
   },
   {
    "duration": 5,
    "start_time": "2023-03-04T11:01:21.596Z"
   },
   {
    "duration": 155,
    "start_time": "2023-03-04T11:01:21.603Z"
   },
   {
    "duration": 5,
    "start_time": "2023-03-04T11:01:21.760Z"
   },
   {
    "duration": 246,
    "start_time": "2023-03-04T11:01:21.766Z"
   },
   {
    "duration": 192,
    "start_time": "2023-03-04T11:01:22.014Z"
   },
   {
    "duration": 10,
    "start_time": "2023-03-04T11:01:22.210Z"
   },
   {
    "duration": 26,
    "start_time": "2023-03-04T11:01:22.222Z"
   },
   {
    "duration": 30,
    "start_time": "2023-03-04T11:01:22.250Z"
   },
   {
    "duration": 13,
    "start_time": "2023-03-04T11:01:22.282Z"
   },
   {
    "duration": 4,
    "start_time": "2023-03-04T11:01:22.297Z"
   },
   {
    "duration": 7,
    "start_time": "2023-03-04T11:01:22.302Z"
   },
   {
    "duration": 723,
    "start_time": "2023-03-04T11:01:22.311Z"
   },
   {
    "duration": 327,
    "start_time": "2023-03-04T11:01:23.035Z"
   },
   {
    "duration": 6,
    "start_time": "2023-03-04T11:03:12.402Z"
   },
   {
    "duration": 101,
    "start_time": "2023-03-04T11:04:18.229Z"
   },
   {
    "duration": 4,
    "start_time": "2023-03-04T11:04:25.211Z"
   },
   {
    "duration": 6,
    "start_time": "2023-03-04T11:04:27.302Z"
   },
   {
    "duration": 14,
    "start_time": "2023-03-04T11:04:28.056Z"
   },
   {
    "duration": 7,
    "start_time": "2023-03-04T11:06:15.352Z"
   },
   {
    "duration": 22,
    "start_time": "2023-03-04T11:12:02.852Z"
   },
   {
    "duration": 9,
    "start_time": "2023-03-04T11:13:20.292Z"
   },
   {
    "duration": 1232,
    "start_time": "2023-03-04T11:13:34.325Z"
   },
   {
    "duration": 99,
    "start_time": "2023-03-04T11:13:35.560Z"
   },
   {
    "duration": 11,
    "start_time": "2023-03-04T11:13:35.661Z"
   },
   {
    "duration": 52,
    "start_time": "2023-03-04T11:13:35.673Z"
   },
   {
    "duration": 8,
    "start_time": "2023-03-04T11:13:35.727Z"
   },
   {
    "duration": 40,
    "start_time": "2023-03-04T11:13:35.736Z"
   },
   {
    "duration": 28,
    "start_time": "2023-03-04T11:13:35.778Z"
   },
   {
    "duration": 17,
    "start_time": "2023-03-04T11:13:35.808Z"
   },
   {
    "duration": 337,
    "start_time": "2023-03-04T11:13:35.827Z"
   },
   {
    "duration": 10,
    "start_time": "2023-03-04T11:13:36.166Z"
   },
   {
    "duration": 21,
    "start_time": "2023-03-04T11:13:36.178Z"
   },
   {
    "duration": 28,
    "start_time": "2023-03-04T11:13:36.201Z"
   },
   {
    "duration": 13,
    "start_time": "2023-03-04T11:13:36.230Z"
   },
   {
    "duration": 9,
    "start_time": "2023-03-04T11:13:36.247Z"
   },
   {
    "duration": 9,
    "start_time": "2023-03-04T11:13:36.258Z"
   },
   {
    "duration": 46,
    "start_time": "2023-03-04T11:13:36.270Z"
   },
   {
    "duration": 17,
    "start_time": "2023-03-04T11:13:36.318Z"
   },
   {
    "duration": 17,
    "start_time": "2023-03-04T11:13:36.338Z"
   },
   {
    "duration": 11,
    "start_time": "2023-03-04T11:13:36.357Z"
   },
   {
    "duration": 6,
    "start_time": "2023-03-04T11:13:36.371Z"
   },
   {
    "duration": 9,
    "start_time": "2023-03-04T11:13:36.380Z"
   },
   {
    "duration": 13,
    "start_time": "2023-03-04T11:13:36.391Z"
   },
   {
    "duration": 10,
    "start_time": "2023-03-04T11:13:36.405Z"
   },
   {
    "duration": 34,
    "start_time": "2023-03-04T11:13:36.417Z"
   },
   {
    "duration": 7,
    "start_time": "2023-03-04T11:13:36.453Z"
   },
   {
    "duration": 5,
    "start_time": "2023-03-04T11:13:36.462Z"
   },
   {
    "duration": 8,
    "start_time": "2023-03-04T11:13:36.469Z"
   },
   {
    "duration": 7,
    "start_time": "2023-03-04T11:13:36.478Z"
   },
   {
    "duration": 9,
    "start_time": "2023-03-04T11:13:36.487Z"
   },
   {
    "duration": 328,
    "start_time": "2023-03-04T11:13:36.498Z"
   },
   {
    "duration": 294,
    "start_time": "2023-03-04T11:13:36.828Z"
   },
   {
    "duration": 204,
    "start_time": "2023-03-04T11:13:37.124Z"
   },
   {
    "duration": 304,
    "start_time": "2023-03-04T11:13:37.330Z"
   },
   {
    "duration": 5,
    "start_time": "2023-03-04T11:13:37.636Z"
   },
   {
    "duration": 197,
    "start_time": "2023-03-04T11:13:37.653Z"
   },
   {
    "duration": 282,
    "start_time": "2023-03-04T11:13:37.853Z"
   },
   {
    "duration": 150,
    "start_time": "2023-03-04T11:13:38.137Z"
   },
   {
    "duration": 5,
    "start_time": "2023-03-04T11:13:38.289Z"
   },
   {
    "duration": 140,
    "start_time": "2023-03-04T11:13:38.296Z"
   },
   {
    "duration": 17,
    "start_time": "2023-03-04T11:13:38.438Z"
   },
   {
    "duration": 238,
    "start_time": "2023-03-04T11:13:38.461Z"
   },
   {
    "duration": 185,
    "start_time": "2023-03-04T11:13:38.701Z"
   },
   {
    "duration": 11,
    "start_time": "2023-03-04T11:13:38.888Z"
   },
   {
    "duration": 8,
    "start_time": "2023-03-04T11:13:38.901Z"
   },
   {
    "duration": 57,
    "start_time": "2023-03-04T11:13:38.911Z"
   },
   {
    "duration": 14,
    "start_time": "2023-03-04T11:13:38.970Z"
   },
   {
    "duration": 5,
    "start_time": "2023-03-04T11:13:38.986Z"
   },
   {
    "duration": 7,
    "start_time": "2023-03-04T11:13:38.992Z"
   },
   {
    "duration": 669,
    "start_time": "2023-03-04T11:13:39.000Z"
   },
   {
    "duration": 304,
    "start_time": "2023-03-04T11:13:39.672Z"
   },
   {
    "duration": 256,
    "start_time": "2023-03-04T11:17:34.258Z"
   },
   {
    "duration": 210,
    "start_time": "2023-03-04T11:17:40.114Z"
   },
   {
    "duration": 226,
    "start_time": "2023-03-04T11:17:48.260Z"
   },
   {
    "duration": 245,
    "start_time": "2023-03-04T11:18:00.232Z"
   },
   {
    "duration": 1153,
    "start_time": "2023-03-04T11:18:18.135Z"
   },
   {
    "duration": 57,
    "start_time": "2023-03-04T11:18:19.290Z"
   },
   {
    "duration": 11,
    "start_time": "2023-03-04T11:18:19.348Z"
   },
   {
    "duration": 25,
    "start_time": "2023-03-04T11:18:19.361Z"
   },
   {
    "duration": 11,
    "start_time": "2023-03-04T11:18:19.388Z"
   },
   {
    "duration": 21,
    "start_time": "2023-03-04T11:18:19.401Z"
   },
   {
    "duration": 28,
    "start_time": "2023-03-04T11:18:19.424Z"
   },
   {
    "duration": 19,
    "start_time": "2023-03-04T11:18:19.454Z"
   },
   {
    "duration": 100,
    "start_time": "2023-03-04T11:18:19.475Z"
   },
   {
    "duration": 8,
    "start_time": "2023-03-04T11:18:19.577Z"
   },
   {
    "duration": 19,
    "start_time": "2023-03-04T11:18:19.587Z"
   },
   {
    "duration": 11,
    "start_time": "2023-03-04T11:18:19.608Z"
   },
   {
    "duration": 26,
    "start_time": "2023-03-04T11:18:19.620Z"
   },
   {
    "duration": 15,
    "start_time": "2023-03-04T11:18:19.648Z"
   },
   {
    "duration": 14,
    "start_time": "2023-03-04T11:18:19.664Z"
   },
   {
    "duration": 29,
    "start_time": "2023-03-04T11:18:19.680Z"
   },
   {
    "duration": 14,
    "start_time": "2023-03-04T11:18:19.711Z"
   },
   {
    "duration": 15,
    "start_time": "2023-03-04T11:18:19.726Z"
   },
   {
    "duration": 26,
    "start_time": "2023-03-04T11:18:19.742Z"
   },
   {
    "duration": 15,
    "start_time": "2023-03-04T11:18:19.770Z"
   },
   {
    "duration": 12,
    "start_time": "2023-03-04T11:18:19.787Z"
   },
   {
    "duration": 15,
    "start_time": "2023-03-04T11:18:19.800Z"
   },
   {
    "duration": 13,
    "start_time": "2023-03-04T11:18:19.816Z"
   },
   {
    "duration": 23,
    "start_time": "2023-03-04T11:18:19.831Z"
   },
   {
    "duration": 18,
    "start_time": "2023-03-04T11:18:19.856Z"
   },
   {
    "duration": 15,
    "start_time": "2023-03-04T11:18:19.876Z"
   },
   {
    "duration": 12,
    "start_time": "2023-03-04T11:18:19.893Z"
   },
   {
    "duration": 18,
    "start_time": "2023-03-04T11:18:19.908Z"
   },
   {
    "duration": 18,
    "start_time": "2023-03-04T11:18:19.928Z"
   },
   {
    "duration": 268,
    "start_time": "2023-03-04T11:18:19.947Z"
   },
   {
    "duration": 296,
    "start_time": "2023-03-04T11:18:20.217Z"
   },
   {
    "duration": 186,
    "start_time": "2023-03-04T11:18:20.515Z"
   },
   {
    "duration": 265,
    "start_time": "2023-03-04T11:18:20.703Z"
   },
   {
    "duration": 5,
    "start_time": "2023-03-04T11:18:20.970Z"
   },
   {
    "duration": 200,
    "start_time": "2023-03-04T11:18:20.976Z"
   },
   {
    "duration": 259,
    "start_time": "2023-03-04T11:18:21.178Z"
   },
   {
    "duration": 130,
    "start_time": "2023-03-04T11:18:21.448Z"
   },
   {
    "duration": 5,
    "start_time": "2023-03-04T11:18:21.579Z"
   },
   {
    "duration": 134,
    "start_time": "2023-03-04T11:18:21.585Z"
   },
   {
    "duration": 5,
    "start_time": "2023-03-04T11:18:21.720Z"
   },
   {
    "duration": 225,
    "start_time": "2023-03-04T11:18:21.727Z"
   },
   {
    "duration": 169,
    "start_time": "2023-03-04T11:18:21.954Z"
   },
   {
    "duration": 10,
    "start_time": "2023-03-04T11:18:22.124Z"
   },
   {
    "duration": 18,
    "start_time": "2023-03-04T11:18:22.136Z"
   },
   {
    "duration": 29,
    "start_time": "2023-03-04T11:18:22.155Z"
   },
   {
    "duration": 13,
    "start_time": "2023-03-04T11:18:22.186Z"
   },
   {
    "duration": 4,
    "start_time": "2023-03-04T11:18:22.200Z"
   },
   {
    "duration": 7,
    "start_time": "2023-03-04T11:18:22.206Z"
   },
   {
    "duration": 680,
    "start_time": "2023-03-04T11:18:22.214Z"
   },
   {
    "duration": 285,
    "start_time": "2023-03-04T11:18:22.895Z"
   },
   {
    "duration": 242,
    "start_time": "2023-03-04T11:20:26.454Z"
   },
   {
    "duration": 296,
    "start_time": "2023-03-04T11:20:50.579Z"
   },
   {
    "duration": 321,
    "start_time": "2023-03-04T11:22:30.252Z"
   },
   {
    "duration": 289,
    "start_time": "2023-03-04T11:22:46.484Z"
   },
   {
    "duration": 196,
    "start_time": "2023-03-04T11:23:23.133Z"
   },
   {
    "duration": 225,
    "start_time": "2023-03-04T11:24:13.129Z"
   },
   {
    "duration": 306,
    "start_time": "2023-03-04T11:26:12.792Z"
   },
   {
    "duration": 169,
    "start_time": "2023-03-04T11:35:03.795Z"
   },
   {
    "duration": 172,
    "start_time": "2023-03-04T11:37:10.803Z"
   },
   {
    "duration": 638,
    "start_time": "2023-03-04T11:38:54.815Z"
   },
   {
    "duration": 342,
    "start_time": "2023-03-04T11:39:54.321Z"
   },
   {
    "duration": 1234,
    "start_time": "2023-03-04T12:41:44.188Z"
   },
   {
    "duration": 150,
    "start_time": "2023-03-04T12:41:45.424Z"
   },
   {
    "duration": 13,
    "start_time": "2023-03-04T12:41:45.576Z"
   },
   {
    "duration": 11,
    "start_time": "2023-03-04T12:41:45.592Z"
   },
   {
    "duration": 13,
    "start_time": "2023-03-04T12:41:45.605Z"
   },
   {
    "duration": 63,
    "start_time": "2023-03-04T12:41:45.620Z"
   },
   {
    "duration": 35,
    "start_time": "2023-03-04T12:41:45.686Z"
   },
   {
    "duration": 25,
    "start_time": "2023-03-04T12:41:45.723Z"
   },
   {
    "duration": 252,
    "start_time": "2023-03-04T12:41:45.749Z"
   },
   {
    "duration": 8,
    "start_time": "2023-03-04T12:41:46.004Z"
   },
   {
    "duration": 30,
    "start_time": "2023-03-04T12:41:46.013Z"
   },
   {
    "duration": 21,
    "start_time": "2023-03-04T12:41:46.044Z"
   },
   {
    "duration": 24,
    "start_time": "2023-03-04T12:41:46.067Z"
   },
   {
    "duration": 6,
    "start_time": "2023-03-04T12:41:46.092Z"
   },
   {
    "duration": 8,
    "start_time": "2023-03-04T12:41:46.099Z"
   },
   {
    "duration": 16,
    "start_time": "2023-03-04T12:41:46.109Z"
   },
   {
    "duration": 11,
    "start_time": "2023-03-04T12:41:46.127Z"
   },
   {
    "duration": 17,
    "start_time": "2023-03-04T12:41:46.140Z"
   },
   {
    "duration": 9,
    "start_time": "2023-03-04T12:41:46.164Z"
   },
   {
    "duration": 14,
    "start_time": "2023-03-04T12:41:46.175Z"
   },
   {
    "duration": 7,
    "start_time": "2023-03-04T12:41:46.191Z"
   },
   {
    "duration": 13,
    "start_time": "2023-03-04T12:41:46.199Z"
   },
   {
    "duration": 6,
    "start_time": "2023-03-04T12:41:46.214Z"
   },
   {
    "duration": 6,
    "start_time": "2023-03-04T12:41:46.222Z"
   },
   {
    "duration": 6,
    "start_time": "2023-03-04T12:41:46.229Z"
   },
   {
    "duration": 14,
    "start_time": "2023-03-04T12:41:46.236Z"
   },
   {
    "duration": 27,
    "start_time": "2023-03-04T12:41:46.254Z"
   },
   {
    "duration": 4,
    "start_time": "2023-03-04T12:41:46.284Z"
   },
   {
    "duration": 13,
    "start_time": "2023-03-04T12:41:46.289Z"
   },
   {
    "duration": 291,
    "start_time": "2023-03-04T12:41:46.303Z"
   },
   {
    "duration": 331,
    "start_time": "2023-03-04T12:41:46.596Z"
   },
   {
    "duration": 255,
    "start_time": "2023-03-04T12:41:46.929Z"
   },
   {
    "duration": 329,
    "start_time": "2023-03-04T12:41:47.186Z"
   },
   {
    "duration": 5,
    "start_time": "2023-03-04T12:41:47.517Z"
   },
   {
    "duration": 280,
    "start_time": "2023-03-04T12:41:47.523Z"
   },
   {
    "duration": 402,
    "start_time": "2023-03-04T12:41:47.805Z"
   },
   {
    "duration": 196,
    "start_time": "2023-03-04T12:41:48.209Z"
   },
   {
    "duration": 5,
    "start_time": "2023-03-04T12:41:48.407Z"
   },
   {
    "duration": 198,
    "start_time": "2023-03-04T12:41:48.415Z"
   },
   {
    "duration": 5,
    "start_time": "2023-03-04T12:41:48.615Z"
   },
   {
    "duration": 245,
    "start_time": "2023-03-04T12:41:48.621Z"
   },
   {
    "duration": 161,
    "start_time": "2023-03-04T12:41:48.867Z"
   },
   {
    "duration": 21,
    "start_time": "2023-03-04T12:41:49.029Z"
   },
   {
    "duration": 10,
    "start_time": "2023-03-04T12:41:49.053Z"
   },
   {
    "duration": 37,
    "start_time": "2023-03-04T12:41:49.065Z"
   },
   {
    "duration": 12,
    "start_time": "2023-03-04T12:41:49.104Z"
   },
   {
    "duration": 5,
    "start_time": "2023-03-04T12:41:49.118Z"
   },
   {
    "duration": 27,
    "start_time": "2023-03-04T12:41:49.124Z"
   },
   {
    "duration": 763,
    "start_time": "2023-03-04T12:41:49.155Z"
   },
   {
    "duration": 372,
    "start_time": "2023-03-04T12:41:49.920Z"
   },
   {
    "duration": 220,
    "start_time": "2023-03-04T12:45:39.521Z"
   },
   {
    "duration": 371,
    "start_time": "2023-03-04T12:45:53.630Z"
   },
   {
    "duration": 255,
    "start_time": "2023-03-04T12:47:07.142Z"
   },
   {
    "duration": 247,
    "start_time": "2023-03-04T12:47:19.638Z"
   },
   {
    "duration": 254,
    "start_time": "2023-03-04T12:47:47.978Z"
   },
   {
    "duration": 251,
    "start_time": "2023-03-04T12:48:07.366Z"
   },
   {
    "duration": 254,
    "start_time": "2023-03-04T12:48:17.876Z"
   },
   {
    "duration": 1240,
    "start_time": "2023-03-04T13:11:18.893Z"
   },
   {
    "duration": 67,
    "start_time": "2023-03-04T13:11:20.135Z"
   },
   {
    "duration": 10,
    "start_time": "2023-03-04T13:11:20.204Z"
   },
   {
    "duration": 8,
    "start_time": "2023-03-04T13:11:20.216Z"
   },
   {
    "duration": 6,
    "start_time": "2023-03-04T13:11:20.225Z"
   },
   {
    "duration": 10,
    "start_time": "2023-03-04T13:11:20.232Z"
   },
   {
    "duration": 42,
    "start_time": "2023-03-04T13:11:20.244Z"
   },
   {
    "duration": 12,
    "start_time": "2023-03-04T13:11:20.288Z"
   },
   {
    "duration": 107,
    "start_time": "2023-03-04T13:11:20.302Z"
   },
   {
    "duration": 8,
    "start_time": "2023-03-04T13:11:20.411Z"
   },
   {
    "duration": 14,
    "start_time": "2023-03-04T13:11:20.420Z"
   },
   {
    "duration": 28,
    "start_time": "2023-03-04T13:11:20.436Z"
   },
   {
    "duration": 20,
    "start_time": "2023-03-04T13:11:20.465Z"
   },
   {
    "duration": 14,
    "start_time": "2023-03-04T13:11:20.487Z"
   },
   {
    "duration": 13,
    "start_time": "2023-03-04T13:11:20.503Z"
   },
   {
    "duration": 23,
    "start_time": "2023-03-04T13:11:20.518Z"
   },
   {
    "duration": 18,
    "start_time": "2023-03-04T13:11:20.542Z"
   },
   {
    "duration": 23,
    "start_time": "2023-03-04T13:11:20.567Z"
   },
   {
    "duration": 10,
    "start_time": "2023-03-04T13:11:20.592Z"
   },
   {
    "duration": 5,
    "start_time": "2023-03-04T13:11:20.604Z"
   },
   {
    "duration": 7,
    "start_time": "2023-03-04T13:11:20.610Z"
   },
   {
    "duration": 7,
    "start_time": "2023-03-04T13:11:20.619Z"
   },
   {
    "duration": 13,
    "start_time": "2023-03-04T13:11:20.627Z"
   },
   {
    "duration": 18,
    "start_time": "2023-03-04T13:11:20.642Z"
   },
   {
    "duration": 31,
    "start_time": "2023-03-04T13:11:20.662Z"
   },
   {
    "duration": 8,
    "start_time": "2023-03-04T13:11:20.694Z"
   },
   {
    "duration": 17,
    "start_time": "2023-03-04T13:11:20.704Z"
   },
   {
    "duration": 11,
    "start_time": "2023-03-04T13:11:20.725Z"
   },
   {
    "duration": 26,
    "start_time": "2023-03-04T13:11:20.738Z"
   },
   {
    "duration": 355,
    "start_time": "2023-03-04T13:11:20.766Z"
   },
   {
    "duration": 317,
    "start_time": "2023-03-04T13:11:21.123Z"
   },
   {
    "duration": 256,
    "start_time": "2023-03-04T13:11:21.448Z"
   },
   {
    "duration": 335,
    "start_time": "2023-03-04T13:11:21.706Z"
   },
   {
    "duration": 22,
    "start_time": "2023-03-04T13:11:22.043Z"
   },
   {
    "duration": 251,
    "start_time": "2023-03-04T13:11:22.067Z"
   },
   {
    "duration": 376,
    "start_time": "2023-03-04T13:11:22.320Z"
   },
   {
    "duration": 213,
    "start_time": "2023-03-04T13:11:22.698Z"
   },
   {
    "duration": 5,
    "start_time": "2023-03-04T13:11:22.912Z"
   },
   {
    "duration": 187,
    "start_time": "2023-03-04T13:11:22.918Z"
   },
   {
    "duration": 5,
    "start_time": "2023-03-04T13:11:23.107Z"
   },
   {
    "duration": 236,
    "start_time": "2023-03-04T13:11:23.114Z"
   },
   {
    "duration": 178,
    "start_time": "2023-03-04T13:11:23.360Z"
   },
   {
    "duration": 20,
    "start_time": "2023-03-04T13:11:23.539Z"
   },
   {
    "duration": 22,
    "start_time": "2023-03-04T13:11:23.562Z"
   },
   {
    "duration": 31,
    "start_time": "2023-03-04T13:11:23.586Z"
   },
   {
    "duration": 12,
    "start_time": "2023-03-04T13:11:23.619Z"
   },
   {
    "duration": 8,
    "start_time": "2023-03-04T13:11:23.633Z"
   },
   {
    "duration": 28,
    "start_time": "2023-03-04T13:11:23.649Z"
   },
   {
    "duration": 722,
    "start_time": "2023-03-04T13:11:23.678Z"
   },
   {
    "duration": 384,
    "start_time": "2023-03-04T13:11:24.402Z"
   },
   {
    "duration": 1189,
    "start_time": "2023-03-04T13:18:46.403Z"
   },
   {
    "duration": 73,
    "start_time": "2023-03-04T13:18:47.594Z"
   },
   {
    "duration": 11,
    "start_time": "2023-03-04T13:18:47.668Z"
   },
   {
    "duration": 9,
    "start_time": "2023-03-04T13:18:47.681Z"
   },
   {
    "duration": 5,
    "start_time": "2023-03-04T13:18:47.692Z"
   },
   {
    "duration": 10,
    "start_time": "2023-03-04T13:18:47.698Z"
   },
   {
    "duration": 16,
    "start_time": "2023-03-04T13:18:47.710Z"
   },
   {
    "duration": 31,
    "start_time": "2023-03-04T13:18:47.728Z"
   },
   {
    "duration": 106,
    "start_time": "2023-03-04T13:18:47.768Z"
   },
   {
    "duration": 10,
    "start_time": "2023-03-04T13:18:47.877Z"
   },
   {
    "duration": 19,
    "start_time": "2023-03-04T13:18:47.889Z"
   },
   {
    "duration": 17,
    "start_time": "2023-03-04T13:18:47.911Z"
   },
   {
    "duration": 14,
    "start_time": "2023-03-04T13:18:47.931Z"
   },
   {
    "duration": 23,
    "start_time": "2023-03-04T13:18:47.947Z"
   },
   {
    "duration": 7,
    "start_time": "2023-03-04T13:18:47.972Z"
   },
   {
    "duration": 20,
    "start_time": "2023-03-04T13:18:47.981Z"
   },
   {
    "duration": 15,
    "start_time": "2023-03-04T13:18:48.003Z"
   },
   {
    "duration": 19,
    "start_time": "2023-03-04T13:18:48.020Z"
   },
   {
    "duration": 13,
    "start_time": "2023-03-04T13:18:48.041Z"
   },
   {
    "duration": 16,
    "start_time": "2023-03-04T13:18:48.055Z"
   },
   {
    "duration": 8,
    "start_time": "2023-03-04T13:18:48.073Z"
   },
   {
    "duration": 8,
    "start_time": "2023-03-04T13:18:48.082Z"
   },
   {
    "duration": 7,
    "start_time": "2023-03-04T13:18:48.092Z"
   },
   {
    "duration": 10,
    "start_time": "2023-03-04T13:18:48.100Z"
   },
   {
    "duration": 7,
    "start_time": "2023-03-04T13:18:48.111Z"
   },
   {
    "duration": 315,
    "start_time": "2023-03-04T13:18:48.120Z"
   },
   {
    "duration": 337,
    "start_time": "2023-03-04T13:18:48.436Z"
   },
   {
    "duration": 261,
    "start_time": "2023-03-04T13:18:48.777Z"
   },
   {
    "duration": 367,
    "start_time": "2023-03-04T13:18:49.040Z"
   },
   {
    "duration": 5,
    "start_time": "2023-03-04T13:18:49.409Z"
   },
   {
    "duration": 251,
    "start_time": "2023-03-04T13:18:49.415Z"
   },
   {
    "duration": 337,
    "start_time": "2023-03-04T13:18:49.670Z"
   },
   {
    "duration": 177,
    "start_time": "2023-03-04T13:18:50.009Z"
   },
   {
    "duration": 6,
    "start_time": "2023-03-04T13:18:50.187Z"
   },
   {
    "duration": 187,
    "start_time": "2023-03-04T13:18:50.194Z"
   },
   {
    "duration": 5,
    "start_time": "2023-03-04T13:18:50.383Z"
   },
   {
    "duration": 230,
    "start_time": "2023-03-04T13:18:50.389Z"
   },
   {
    "duration": 182,
    "start_time": "2023-03-04T13:18:50.621Z"
   },
   {
    "duration": 11,
    "start_time": "2023-03-04T13:18:50.805Z"
   },
   {
    "duration": 8,
    "start_time": "2023-03-04T13:18:50.818Z"
   },
   {
    "duration": 51,
    "start_time": "2023-03-04T13:18:50.828Z"
   },
   {
    "duration": 14,
    "start_time": "2023-03-04T13:18:50.881Z"
   },
   {
    "duration": 7,
    "start_time": "2023-03-04T13:18:50.897Z"
   },
   {
    "duration": 7,
    "start_time": "2023-03-04T13:18:50.906Z"
   },
   {
    "duration": 714,
    "start_time": "2023-03-04T13:18:50.915Z"
   },
   {
    "duration": 354,
    "start_time": "2023-03-04T13:18:51.631Z"
   },
   {
    "duration": 242,
    "start_time": "2023-03-04T13:19:44.461Z"
   },
   {
    "duration": 1191,
    "start_time": "2023-03-04T13:19:52.881Z"
   },
   {
    "duration": 44,
    "start_time": "2023-03-04T13:19:54.074Z"
   },
   {
    "duration": 11,
    "start_time": "2023-03-04T13:19:54.120Z"
   },
   {
    "duration": 36,
    "start_time": "2023-03-04T13:19:54.134Z"
   },
   {
    "duration": 15,
    "start_time": "2023-03-04T13:19:54.172Z"
   },
   {
    "duration": 47,
    "start_time": "2023-03-04T13:19:54.191Z"
   },
   {
    "duration": 56,
    "start_time": "2023-03-04T13:19:54.240Z"
   },
   {
    "duration": 30,
    "start_time": "2023-03-04T13:19:54.298Z"
   },
   {
    "duration": 87,
    "start_time": "2023-03-04T13:19:54.330Z"
   },
   {
    "duration": 8,
    "start_time": "2023-03-04T13:19:54.421Z"
   },
   {
    "duration": 52,
    "start_time": "2023-03-04T13:19:54.430Z"
   },
   {
    "duration": 30,
    "start_time": "2023-03-04T13:19:54.484Z"
   },
   {
    "duration": 23,
    "start_time": "2023-03-04T13:19:54.516Z"
   },
   {
    "duration": 33,
    "start_time": "2023-03-04T13:19:54.541Z"
   },
   {
    "duration": 25,
    "start_time": "2023-03-04T13:19:54.576Z"
   },
   {
    "duration": 29,
    "start_time": "2023-03-04T13:19:54.603Z"
   },
   {
    "duration": 49,
    "start_time": "2023-03-04T13:19:54.634Z"
   },
   {
    "duration": 23,
    "start_time": "2023-03-04T13:19:54.685Z"
   },
   {
    "duration": 28,
    "start_time": "2023-03-04T13:19:54.710Z"
   },
   {
    "duration": 34,
    "start_time": "2023-03-04T13:19:54.740Z"
   },
   {
    "duration": 21,
    "start_time": "2023-03-04T13:19:54.776Z"
   },
   {
    "duration": 37,
    "start_time": "2023-03-04T13:19:54.799Z"
   },
   {
    "duration": 27,
    "start_time": "2023-03-04T13:19:54.837Z"
   },
   {
    "duration": 24,
    "start_time": "2023-03-04T13:19:54.865Z"
   },
   {
    "duration": 46,
    "start_time": "2023-03-04T13:19:54.891Z"
   },
   {
    "duration": 315,
    "start_time": "2023-03-04T13:19:54.939Z"
   },
   {
    "duration": 375,
    "start_time": "2023-03-04T13:19:55.257Z"
   },
   {
    "duration": 298,
    "start_time": "2023-03-04T13:19:55.637Z"
   },
   {
    "duration": 378,
    "start_time": "2023-03-04T13:19:55.937Z"
   },
   {
    "duration": 5,
    "start_time": "2023-03-04T13:19:56.316Z"
   },
   {
    "duration": 259,
    "start_time": "2023-03-04T13:19:56.323Z"
   },
   {
    "duration": 340,
    "start_time": "2023-03-04T13:19:56.584Z"
   },
   {
    "duration": 200,
    "start_time": "2023-03-04T13:19:56.926Z"
   },
   {
    "duration": 5,
    "start_time": "2023-03-04T13:19:57.128Z"
   },
   {
    "duration": 193,
    "start_time": "2023-03-04T13:19:57.150Z"
   },
   {
    "duration": 16,
    "start_time": "2023-03-04T13:19:57.345Z"
   },
   {
    "duration": 223,
    "start_time": "2023-03-04T13:19:57.363Z"
   },
   {
    "duration": 186,
    "start_time": "2023-03-04T13:19:57.588Z"
   },
   {
    "duration": 11,
    "start_time": "2023-03-04T13:19:57.776Z"
   },
   {
    "duration": 14,
    "start_time": "2023-03-04T13:19:57.789Z"
   },
   {
    "duration": 32,
    "start_time": "2023-03-04T13:19:57.804Z"
   },
   {
    "duration": 16,
    "start_time": "2023-03-04T13:19:57.848Z"
   },
   {
    "duration": 23,
    "start_time": "2023-03-04T13:19:57.865Z"
   },
   {
    "duration": 9,
    "start_time": "2023-03-04T13:19:57.890Z"
   },
   {
    "duration": 786,
    "start_time": "2023-03-04T13:19:57.900Z"
   },
   {
    "duration": 335,
    "start_time": "2023-03-04T13:19:58.688Z"
   },
   {
    "duration": 1187,
    "start_time": "2023-03-04T13:25:28.598Z"
   },
   {
    "duration": 38,
    "start_time": "2023-03-04T13:25:29.788Z"
   },
   {
    "duration": 10,
    "start_time": "2023-03-04T13:25:29.827Z"
   },
   {
    "duration": 7,
    "start_time": "2023-03-04T13:25:29.839Z"
   },
   {
    "duration": 20,
    "start_time": "2023-03-04T13:25:29.848Z"
   },
   {
    "duration": 17,
    "start_time": "2023-03-04T13:25:29.870Z"
   },
   {
    "duration": 20,
    "start_time": "2023-03-04T13:25:29.889Z"
   },
   {
    "duration": 13,
    "start_time": "2023-03-04T13:25:29.910Z"
   },
   {
    "duration": 98,
    "start_time": "2023-03-04T13:25:29.925Z"
   },
   {
    "duration": 8,
    "start_time": "2023-03-04T13:25:30.024Z"
   },
   {
    "duration": 34,
    "start_time": "2023-03-04T13:25:30.033Z"
   },
   {
    "duration": 15,
    "start_time": "2023-03-04T13:25:30.069Z"
   },
   {
    "duration": 16,
    "start_time": "2023-03-04T13:25:30.086Z"
   },
   {
    "duration": 13,
    "start_time": "2023-03-04T13:25:30.105Z"
   },
   {
    "duration": 15,
    "start_time": "2023-03-04T13:25:30.120Z"
   },
   {
    "duration": 25,
    "start_time": "2023-03-04T13:25:30.136Z"
   },
   {
    "duration": 27,
    "start_time": "2023-03-04T13:25:30.163Z"
   },
   {
    "duration": 37,
    "start_time": "2023-03-04T13:25:30.192Z"
   },
   {
    "duration": 30,
    "start_time": "2023-03-04T13:25:30.231Z"
   },
   {
    "duration": 39,
    "start_time": "2023-03-04T13:25:30.262Z"
   },
   {
    "duration": 39,
    "start_time": "2023-03-04T13:25:30.303Z"
   },
   {
    "duration": 50,
    "start_time": "2023-03-04T13:25:30.344Z"
   },
   {
    "duration": 33,
    "start_time": "2023-03-04T13:25:30.396Z"
   },
   {
    "duration": 43,
    "start_time": "2023-03-04T13:25:30.431Z"
   },
   {
    "duration": 33,
    "start_time": "2023-03-04T13:25:30.476Z"
   },
   {
    "duration": 314,
    "start_time": "2023-03-04T13:25:30.511Z"
   },
   {
    "duration": 339,
    "start_time": "2023-03-04T13:25:30.827Z"
   },
   {
    "duration": 238,
    "start_time": "2023-03-04T13:25:31.168Z"
   },
   {
    "duration": 407,
    "start_time": "2023-03-04T13:25:31.408Z"
   },
   {
    "duration": 5,
    "start_time": "2023-03-04T13:25:31.816Z"
   },
   {
    "duration": 277,
    "start_time": "2023-03-04T13:25:31.823Z"
   },
   {
    "duration": 397,
    "start_time": "2023-03-04T13:25:32.102Z"
   },
   {
    "duration": 338,
    "start_time": "2023-03-04T13:40:24.804Z"
   },
   {
    "duration": 3,
    "start_time": "2023-03-04T13:43:33.833Z"
   },
   {
    "duration": 105,
    "start_time": "2023-03-04T13:43:33.839Z"
   },
   {
    "duration": 19,
    "start_time": "2023-03-04T13:43:33.946Z"
   },
   {
    "duration": 22,
    "start_time": "2023-03-04T13:43:33.967Z"
   },
   {
    "duration": 5,
    "start_time": "2023-03-04T13:43:33.991Z"
   },
   {
    "duration": 15,
    "start_time": "2023-03-04T13:43:33.997Z"
   },
   {
    "duration": 18,
    "start_time": "2023-03-04T13:43:34.014Z"
   },
   {
    "duration": 23,
    "start_time": "2023-03-04T13:43:34.034Z"
   },
   {
    "duration": 228,
    "start_time": "2023-03-04T13:43:34.059Z"
   },
   {
    "duration": 9,
    "start_time": "2023-03-04T13:43:34.289Z"
   },
   {
    "duration": 13,
    "start_time": "2023-03-04T13:43:34.300Z"
   },
   {
    "duration": 19,
    "start_time": "2023-03-04T13:43:34.315Z"
   },
   {
    "duration": 49,
    "start_time": "2023-03-04T13:43:34.335Z"
   },
   {
    "duration": 20,
    "start_time": "2023-03-04T13:43:34.388Z"
   },
   {
    "duration": 10,
    "start_time": "2023-03-04T13:43:34.409Z"
   },
   {
    "duration": 16,
    "start_time": "2023-03-04T13:43:34.420Z"
   },
   {
    "duration": 17,
    "start_time": "2023-03-04T13:43:34.438Z"
   },
   {
    "duration": 30,
    "start_time": "2023-03-04T13:43:34.457Z"
   },
   {
    "duration": 10,
    "start_time": "2023-03-04T13:43:34.489Z"
   },
   {
    "duration": 11,
    "start_time": "2023-03-04T13:43:34.501Z"
   },
   {
    "duration": 12,
    "start_time": "2023-03-04T13:43:34.513Z"
   },
   {
    "duration": 21,
    "start_time": "2023-03-04T13:43:34.526Z"
   },
   {
    "duration": 34,
    "start_time": "2023-03-04T13:43:34.555Z"
   },
   {
    "duration": 13,
    "start_time": "2023-03-04T13:43:34.591Z"
   },
   {
    "duration": 14,
    "start_time": "2023-03-04T13:43:34.606Z"
   },
   {
    "duration": 301,
    "start_time": "2023-03-04T13:43:34.622Z"
   },
   {
    "duration": 262,
    "start_time": "2023-03-04T13:43:34.925Z"
   },
   {
    "duration": 384,
    "start_time": "2023-03-04T13:43:35.189Z"
   },
   {
    "duration": 368,
    "start_time": "2023-03-04T13:43:35.575Z"
   },
   {
    "duration": 12,
    "start_time": "2023-03-04T13:43:35.944Z"
   },
   {
    "duration": 264,
    "start_time": "2023-03-04T13:43:35.958Z"
   },
   {
    "duration": 386,
    "start_time": "2023-03-04T13:43:36.224Z"
   },
   {
    "duration": 177,
    "start_time": "2023-03-04T13:43:36.612Z"
   },
   {
    "duration": 5,
    "start_time": "2023-03-04T13:43:36.790Z"
   },
   {
    "duration": 181,
    "start_time": "2023-03-04T13:43:42.964Z"
   },
   {
    "duration": 1121,
    "start_time": "2023-03-04T13:45:08.196Z"
   },
   {
    "duration": 66,
    "start_time": "2023-03-04T13:45:09.319Z"
   },
   {
    "duration": 10,
    "start_time": "2023-03-04T13:45:09.387Z"
   },
   {
    "duration": 8,
    "start_time": "2023-03-04T13:45:09.398Z"
   },
   {
    "duration": 5,
    "start_time": "2023-03-04T13:45:09.408Z"
   },
   {
    "duration": 8,
    "start_time": "2023-03-04T13:45:09.415Z"
   },
   {
    "duration": 13,
    "start_time": "2023-03-04T13:45:09.425Z"
   },
   {
    "duration": 18,
    "start_time": "2023-03-04T13:45:09.440Z"
   },
   {
    "duration": 125,
    "start_time": "2023-03-04T13:45:09.460Z"
   },
   {
    "duration": 8,
    "start_time": "2023-03-04T13:45:09.586Z"
   },
   {
    "duration": 10,
    "start_time": "2023-03-04T13:45:09.595Z"
   },
   {
    "duration": 13,
    "start_time": "2023-03-04T13:45:09.606Z"
   },
   {
    "duration": 11,
    "start_time": "2023-03-04T13:45:09.621Z"
   },
   {
    "duration": 6,
    "start_time": "2023-03-04T13:45:09.636Z"
   },
   {
    "duration": 43,
    "start_time": "2023-03-04T13:45:09.644Z"
   },
   {
    "duration": 16,
    "start_time": "2023-03-04T13:45:09.689Z"
   },
   {
    "duration": 12,
    "start_time": "2023-03-04T13:45:09.707Z"
   },
   {
    "duration": 10,
    "start_time": "2023-03-04T13:45:09.721Z"
   },
   {
    "duration": 8,
    "start_time": "2023-03-04T13:45:09.732Z"
   },
   {
    "duration": 16,
    "start_time": "2023-03-04T13:45:09.742Z"
   },
   {
    "duration": 20,
    "start_time": "2023-03-04T13:45:09.759Z"
   },
   {
    "duration": 15,
    "start_time": "2023-03-04T13:45:09.780Z"
   },
   {
    "duration": 5,
    "start_time": "2023-03-04T13:45:09.797Z"
   },
   {
    "duration": 8,
    "start_time": "2023-03-04T13:45:09.804Z"
   },
   {
    "duration": 9,
    "start_time": "2023-03-04T13:45:09.814Z"
   },
   {
    "duration": 302,
    "start_time": "2023-03-04T13:45:09.825Z"
   },
   {
    "duration": 330,
    "start_time": "2023-03-04T13:45:10.129Z"
   },
   {
    "duration": 249,
    "start_time": "2023-03-04T13:45:10.461Z"
   },
   {
    "duration": 403,
    "start_time": "2023-03-04T13:45:10.712Z"
   },
   {
    "duration": 6,
    "start_time": "2023-03-04T13:45:11.116Z"
   },
   {
    "duration": 307,
    "start_time": "2023-03-04T13:45:11.123Z"
   },
   {
    "duration": 375,
    "start_time": "2023-03-04T13:45:11.432Z"
   },
   {
    "duration": 208,
    "start_time": "2023-03-04T13:45:11.809Z"
   },
   {
    "duration": 6,
    "start_time": "2023-03-04T13:45:12.018Z"
   },
   {
    "duration": 204,
    "start_time": "2023-03-04T13:45:12.025Z"
   },
   {
    "duration": 5,
    "start_time": "2023-03-04T13:45:12.231Z"
   },
   {
    "duration": 247,
    "start_time": "2023-03-04T13:45:12.249Z"
   },
   {
    "duration": 196,
    "start_time": "2023-03-04T13:45:12.498Z"
   },
   {
    "duration": 12,
    "start_time": "2023-03-04T13:45:12.697Z"
   },
   {
    "duration": 8,
    "start_time": "2023-03-04T13:45:12.711Z"
   },
   {
    "duration": 64,
    "start_time": "2023-03-04T13:45:12.722Z"
   },
   {
    "duration": 13,
    "start_time": "2023-03-04T13:45:12.788Z"
   },
   {
    "duration": 7,
    "start_time": "2023-03-04T13:45:12.802Z"
   },
   {
    "duration": 20,
    "start_time": "2023-03-04T13:45:12.811Z"
   },
   {
    "duration": 769,
    "start_time": "2023-03-04T13:45:12.833Z"
   },
   {
    "duration": 406,
    "start_time": "2023-03-04T13:45:13.603Z"
   },
   {
    "duration": 177,
    "start_time": "2023-03-04T13:47:42.143Z"
   },
   {
    "duration": 208,
    "start_time": "2023-03-04T13:48:03.694Z"
   },
   {
    "duration": 15,
    "start_time": "2023-03-04T13:52:34.715Z"
   },
   {
    "duration": 11,
    "start_time": "2023-03-04T13:52:46.283Z"
   },
   {
    "duration": 18,
    "start_time": "2023-03-04T13:53:12.361Z"
   },
   {
    "duration": 64,
    "start_time": "2023-03-04T18:35:17.420Z"
   },
   {
    "duration": 1518,
    "start_time": "2023-03-04T18:35:21.639Z"
   },
   {
    "duration": 102,
    "start_time": "2023-03-04T18:35:23.159Z"
   },
   {
    "duration": 14,
    "start_time": "2023-03-04T18:35:23.263Z"
   },
   {
    "duration": 8,
    "start_time": "2023-03-04T18:35:23.278Z"
   },
   {
    "duration": 3,
    "start_time": "2023-03-04T18:35:23.289Z"
   },
   {
    "duration": 8,
    "start_time": "2023-03-04T18:35:23.293Z"
   },
   {
    "duration": 12,
    "start_time": "2023-03-04T18:35:23.303Z"
   },
   {
    "duration": 40,
    "start_time": "2023-03-04T18:35:23.316Z"
   },
   {
    "duration": 374,
    "start_time": "2023-03-04T18:35:23.357Z"
   },
   {
    "duration": 7,
    "start_time": "2023-03-04T18:35:23.733Z"
   },
   {
    "duration": 11,
    "start_time": "2023-03-04T18:35:23.742Z"
   },
   {
    "duration": 12,
    "start_time": "2023-03-04T18:35:23.754Z"
   },
   {
    "duration": 10,
    "start_time": "2023-03-04T18:35:23.767Z"
   },
   {
    "duration": 5,
    "start_time": "2023-03-04T18:35:23.780Z"
   },
   {
    "duration": 6,
    "start_time": "2023-03-04T18:35:23.786Z"
   },
   {
    "duration": 15,
    "start_time": "2023-03-04T18:35:23.793Z"
   },
   {
    "duration": 9,
    "start_time": "2023-03-04T18:35:23.809Z"
   },
   {
    "duration": 45,
    "start_time": "2023-03-04T18:35:23.819Z"
   },
   {
    "duration": 8,
    "start_time": "2023-03-04T18:35:23.866Z"
   },
   {
    "duration": 5,
    "start_time": "2023-03-04T18:35:23.875Z"
   },
   {
    "duration": 5,
    "start_time": "2023-03-04T18:35:23.881Z"
   },
   {
    "duration": 5,
    "start_time": "2023-03-04T18:35:23.888Z"
   },
   {
    "duration": 4,
    "start_time": "2023-03-04T18:35:23.894Z"
   },
   {
    "duration": 9,
    "start_time": "2023-03-04T18:35:23.899Z"
   },
   {
    "duration": 6,
    "start_time": "2023-03-04T18:35:23.909Z"
   },
   {
    "duration": 288,
    "start_time": "2023-03-04T18:35:23.954Z"
   },
   {
    "duration": 317,
    "start_time": "2023-03-04T18:35:24.244Z"
   },
   {
    "duration": 238,
    "start_time": "2023-03-04T18:35:24.563Z"
   },
   {
    "duration": 413,
    "start_time": "2023-03-04T18:35:24.803Z"
   },
   {
    "duration": 5,
    "start_time": "2023-03-04T18:35:25.217Z"
   },
   {
    "duration": 278,
    "start_time": "2023-03-04T18:35:25.224Z"
   },
   {
    "duration": 385,
    "start_time": "2023-03-04T18:35:25.504Z"
   },
   {
    "duration": 160,
    "start_time": "2023-03-04T18:35:25.891Z"
   },
   {
    "duration": 5,
    "start_time": "2023-03-04T18:35:26.056Z"
   },
   {
    "duration": 177,
    "start_time": "2023-03-04T18:35:26.062Z"
   },
   {
    "duration": 5,
    "start_time": "2023-03-04T18:35:26.241Z"
   },
   {
    "duration": 221,
    "start_time": "2023-03-04T18:35:26.256Z"
   },
   {
    "duration": 167,
    "start_time": "2023-03-04T18:35:39.643Z"
   },
   {
    "duration": 173,
    "start_time": "2023-03-04T18:36:13.591Z"
   },
   {
    "duration": 156,
    "start_time": "2023-03-04T18:36:24.341Z"
   },
   {
    "duration": 154,
    "start_time": "2023-03-04T18:36:30.371Z"
   },
   {
    "duration": 75,
    "start_time": "2023-03-04T18:37:23.172Z"
   },
   {
    "duration": 4,
    "start_time": "2023-03-04T18:37:26.811Z"
   },
   {
    "duration": 57,
    "start_time": "2023-03-04T18:37:26.817Z"
   },
   {
    "duration": 7,
    "start_time": "2023-03-04T18:37:26.876Z"
   },
   {
    "duration": 9,
    "start_time": "2023-03-04T18:37:26.884Z"
   },
   {
    "duration": 3,
    "start_time": "2023-03-04T18:37:26.894Z"
   },
   {
    "duration": 7,
    "start_time": "2023-03-04T18:37:26.963Z"
   },
   {
    "duration": 13,
    "start_time": "2023-03-04T18:37:26.973Z"
   },
   {
    "duration": 13,
    "start_time": "2023-03-04T18:37:26.987Z"
   },
   {
    "duration": 83,
    "start_time": "2023-03-04T18:37:27.002Z"
   },
   {
    "duration": 8,
    "start_time": "2023-03-04T18:37:27.087Z"
   },
   {
    "duration": 7,
    "start_time": "2023-03-04T18:37:27.119Z"
   },
   {
    "duration": 10,
    "start_time": "2023-03-04T18:37:27.128Z"
   },
   {
    "duration": 9,
    "start_time": "2023-03-04T18:37:27.140Z"
   },
   {
    "duration": 6,
    "start_time": "2023-03-04T18:37:27.151Z"
   },
   {
    "duration": 5,
    "start_time": "2023-03-04T18:37:27.159Z"
   },
   {
    "duration": 14,
    "start_time": "2023-03-04T18:37:27.165Z"
   },
   {
    "duration": 9,
    "start_time": "2023-03-04T18:37:27.180Z"
   },
   {
    "duration": 10,
    "start_time": "2023-03-04T18:37:27.283Z"
   },
   {
    "duration": 6,
    "start_time": "2023-03-04T18:37:27.295Z"
   },
   {
    "duration": 5,
    "start_time": "2023-03-04T18:37:27.302Z"
   },
   {
    "duration": 5,
    "start_time": "2023-03-04T18:37:27.308Z"
   },
   {
    "duration": 5,
    "start_time": "2023-03-04T18:37:27.315Z"
   },
   {
    "duration": 4,
    "start_time": "2023-03-04T18:37:27.321Z"
   },
   {
    "duration": 6,
    "start_time": "2023-03-04T18:37:27.438Z"
   },
   {
    "duration": 6,
    "start_time": "2023-03-04T18:37:27.446Z"
   },
   {
    "duration": 321,
    "start_time": "2023-03-04T18:37:27.591Z"
   },
   {
    "duration": 215,
    "start_time": "2023-03-04T18:37:27.914Z"
   },
   {
    "duration": 207,
    "start_time": "2023-03-04T18:37:28.130Z"
   },
   {
    "duration": 349,
    "start_time": "2023-03-04T18:37:28.338Z"
   },
   {
    "duration": 5,
    "start_time": "2023-03-04T18:37:28.689Z"
   },
   {
    "duration": 228,
    "start_time": "2023-03-04T18:37:28.696Z"
   },
   {
    "duration": 341,
    "start_time": "2023-03-04T18:37:28.925Z"
   },
   {
    "duration": 158,
    "start_time": "2023-03-04T18:37:29.267Z"
   },
   {
    "duration": 5,
    "start_time": "2023-03-04T18:37:29.426Z"
   },
   {
    "duration": 175,
    "start_time": "2023-03-04T18:37:29.432Z"
   },
   {
    "duration": 5,
    "start_time": "2023-03-04T18:37:29.608Z"
   },
   {
    "duration": 207,
    "start_time": "2023-03-04T18:37:29.615Z"
   },
   {
    "duration": 165,
    "start_time": "2023-03-04T18:37:29.824Z"
   },
   {
    "duration": 10,
    "start_time": "2023-03-04T18:37:29.991Z"
   },
   {
    "duration": 19,
    "start_time": "2023-03-04T18:37:30.002Z"
   },
   {
    "duration": 26,
    "start_time": "2023-03-04T18:37:32.359Z"
   },
   {
    "duration": 5,
    "start_time": "2023-03-04T18:42:47.610Z"
   },
   {
    "duration": 5,
    "start_time": "2023-03-04T18:42:53.758Z"
   },
   {
    "duration": 1096,
    "start_time": "2023-03-04T18:43:23.198Z"
   },
   {
    "duration": 8,
    "start_time": "2023-03-04T18:44:30.512Z"
   },
   {
    "duration": 88,
    "start_time": "2023-03-04T18:45:04.351Z"
   },
   {
    "duration": 1070,
    "start_time": "2023-03-04T18:58:00.710Z"
   },
   {
    "duration": 52,
    "start_time": "2023-03-04T18:58:01.782Z"
   },
   {
    "duration": 10,
    "start_time": "2023-03-04T18:58:01.836Z"
   },
   {
    "duration": 22,
    "start_time": "2023-03-04T18:58:01.847Z"
   },
   {
    "duration": 27,
    "start_time": "2023-03-04T18:58:01.871Z"
   },
   {
    "duration": 14,
    "start_time": "2023-03-04T18:58:01.900Z"
   },
   {
    "duration": 16,
    "start_time": "2023-03-04T18:58:01.916Z"
   },
   {
    "duration": 12,
    "start_time": "2023-03-04T18:58:01.933Z"
   },
   {
    "duration": 89,
    "start_time": "2023-03-04T18:58:01.947Z"
   },
   {
    "duration": 7,
    "start_time": "2023-03-04T18:58:02.038Z"
   },
   {
    "duration": 29,
    "start_time": "2023-03-04T18:58:02.046Z"
   },
   {
    "duration": 29,
    "start_time": "2023-03-04T18:58:02.077Z"
   },
   {
    "duration": 22,
    "start_time": "2023-03-04T18:58:02.108Z"
   },
   {
    "duration": 27,
    "start_time": "2023-03-04T18:58:02.132Z"
   },
   {
    "duration": 5,
    "start_time": "2023-03-04T18:58:02.160Z"
   },
   {
    "duration": 21,
    "start_time": "2023-03-04T18:58:02.166Z"
   },
   {
    "duration": 21,
    "start_time": "2023-03-04T18:58:02.188Z"
   },
   {
    "duration": 31,
    "start_time": "2023-03-04T18:58:02.210Z"
   },
   {
    "duration": 11,
    "start_time": "2023-03-04T18:58:02.243Z"
   },
   {
    "duration": 9,
    "start_time": "2023-03-04T18:58:02.255Z"
   },
   {
    "duration": 6,
    "start_time": "2023-03-04T18:58:02.266Z"
   },
   {
    "duration": 8,
    "start_time": "2023-03-04T18:58:02.273Z"
   },
   {
    "duration": 5,
    "start_time": "2023-03-04T18:58:02.282Z"
   },
   {
    "duration": 18,
    "start_time": "2023-03-04T18:58:02.288Z"
   },
   {
    "duration": 5,
    "start_time": "2023-03-04T18:58:02.308Z"
   },
   {
    "duration": 280,
    "start_time": "2023-03-04T18:58:02.315Z"
   },
   {
    "duration": 301,
    "start_time": "2023-03-04T18:58:02.596Z"
   },
   {
    "duration": 211,
    "start_time": "2023-03-04T18:58:02.899Z"
   },
   {
    "duration": 335,
    "start_time": "2023-03-04T18:58:03.111Z"
   },
   {
    "duration": 9,
    "start_time": "2023-03-04T18:58:03.448Z"
   },
   {
    "duration": 228,
    "start_time": "2023-03-04T18:58:03.459Z"
   },
   {
    "duration": 293,
    "start_time": "2023-03-04T18:58:03.688Z"
   },
   {
    "duration": 156,
    "start_time": "2023-03-04T18:58:03.983Z"
   },
   {
    "duration": 5,
    "start_time": "2023-03-04T18:58:04.141Z"
   },
   {
    "duration": 183,
    "start_time": "2023-03-04T18:58:04.148Z"
   },
   {
    "duration": 5,
    "start_time": "2023-03-04T18:58:04.333Z"
   },
   {
    "duration": 215,
    "start_time": "2023-03-04T18:58:04.340Z"
   },
   {
    "duration": 160,
    "start_time": "2023-03-04T18:58:04.556Z"
   },
   {
    "duration": 9,
    "start_time": "2023-03-04T18:58:04.717Z"
   },
   {
    "duration": 8,
    "start_time": "2023-03-04T18:58:04.727Z"
   },
   {
    "duration": 20,
    "start_time": "2023-03-04T18:58:04.738Z"
   },
   {
    "duration": 4,
    "start_time": "2023-03-04T18:58:18.354Z"
   },
   {
    "duration": 4,
    "start_time": "2023-03-04T18:58:27.337Z"
   },
   {
    "duration": 13,
    "start_time": "2023-03-04T18:59:37.157Z"
   },
   {
    "duration": 5,
    "start_time": "2023-03-04T18:59:51.892Z"
   },
   {
    "duration": 5,
    "start_time": "2023-03-04T19:00:48.823Z"
   },
   {
    "duration": 7,
    "start_time": "2023-03-04T19:01:09.816Z"
   },
   {
    "duration": 64,
    "start_time": "2023-03-04T19:03:13.370Z"
   },
   {
    "duration": 1111,
    "start_time": "2023-03-04T19:03:34.171Z"
   },
   {
    "duration": 46,
    "start_time": "2023-03-04T19:03:35.283Z"
   },
   {
    "duration": 11,
    "start_time": "2023-03-04T19:03:35.330Z"
   },
   {
    "duration": 8,
    "start_time": "2023-03-04T19:03:35.342Z"
   },
   {
    "duration": 3,
    "start_time": "2023-03-04T19:03:35.351Z"
   },
   {
    "duration": 7,
    "start_time": "2023-03-04T19:03:35.356Z"
   },
   {
    "duration": 14,
    "start_time": "2023-03-04T19:03:35.365Z"
   },
   {
    "duration": 16,
    "start_time": "2023-03-04T19:03:35.381Z"
   },
   {
    "duration": 202,
    "start_time": "2023-03-04T19:03:35.399Z"
   },
   {
    "duration": 8,
    "start_time": "2023-03-04T19:03:35.603Z"
   },
   {
    "duration": 9,
    "start_time": "2023-03-04T19:03:35.612Z"
   },
   {
    "duration": 10,
    "start_time": "2023-03-04T19:03:35.622Z"
   },
   {
    "duration": 11,
    "start_time": "2023-03-04T19:03:35.634Z"
   },
   {
    "duration": 17,
    "start_time": "2023-03-04T19:03:35.648Z"
   },
   {
    "duration": 11,
    "start_time": "2023-03-04T19:03:35.666Z"
   },
   {
    "duration": 18,
    "start_time": "2023-03-04T19:03:35.678Z"
   },
   {
    "duration": 10,
    "start_time": "2023-03-04T19:03:35.697Z"
   },
   {
    "duration": 25,
    "start_time": "2023-03-04T19:03:35.708Z"
   },
   {
    "duration": 23,
    "start_time": "2023-03-04T19:03:35.734Z"
   },
   {
    "duration": 23,
    "start_time": "2023-03-04T19:03:35.758Z"
   },
   {
    "duration": 7,
    "start_time": "2023-03-04T19:03:35.782Z"
   },
   {
    "duration": 5,
    "start_time": "2023-03-04T19:03:35.790Z"
   },
   {
    "duration": 7,
    "start_time": "2023-03-04T19:03:35.796Z"
   },
   {
    "duration": 18,
    "start_time": "2023-03-04T19:03:35.804Z"
   },
   {
    "duration": 7,
    "start_time": "2023-03-04T19:03:35.823Z"
   },
   {
    "duration": 275,
    "start_time": "2023-03-04T19:03:35.831Z"
   },
   {
    "duration": 293,
    "start_time": "2023-03-04T19:03:36.108Z"
   },
   {
    "duration": 210,
    "start_time": "2023-03-04T19:03:36.403Z"
   },
   {
    "duration": 365,
    "start_time": "2023-03-04T19:03:36.614Z"
   },
   {
    "duration": 6,
    "start_time": "2023-03-04T19:03:36.981Z"
   },
   {
    "duration": 243,
    "start_time": "2023-03-04T19:03:36.989Z"
   },
   {
    "duration": 338,
    "start_time": "2023-03-04T19:03:37.233Z"
   },
   {
    "duration": 155,
    "start_time": "2023-03-04T19:03:37.573Z"
   },
   {
    "duration": 5,
    "start_time": "2023-03-04T19:03:37.729Z"
   },
   {
    "duration": 172,
    "start_time": "2023-03-04T19:03:37.735Z"
   },
   {
    "duration": 4,
    "start_time": "2023-03-04T19:03:37.909Z"
   },
   {
    "duration": 218,
    "start_time": "2023-03-04T19:03:37.915Z"
   },
   {
    "duration": 159,
    "start_time": "2023-03-04T19:03:38.134Z"
   },
   {
    "duration": 9,
    "start_time": "2023-03-04T19:03:38.295Z"
   },
   {
    "duration": 5,
    "start_time": "2023-03-04T19:03:38.306Z"
   },
   {
    "duration": 9,
    "start_time": "2023-03-04T19:03:38.315Z"
   },
   {
    "duration": 31,
    "start_time": "2023-03-04T19:03:38.325Z"
   },
   {
    "duration": 5,
    "start_time": "2023-03-04T19:03:38.358Z"
   },
   {
    "duration": 27,
    "start_time": "2023-03-04T19:03:38.364Z"
   },
   {
    "duration": 13,
    "start_time": "2023-03-04T19:03:38.393Z"
   },
   {
    "duration": 5,
    "start_time": "2023-03-04T19:03:38.408Z"
   },
   {
    "duration": 43,
    "start_time": "2023-03-04T19:03:38.415Z"
   },
   {
    "duration": 662,
    "start_time": "2023-03-04T19:03:38.460Z"
   },
   {
    "duration": 343,
    "start_time": "2023-03-04T19:03:39.124Z"
   },
   {
    "duration": 148,
    "start_time": "2023-03-04T19:03:39.469Z"
   },
   {
    "duration": 178,
    "start_time": "2023-03-04T19:03:39.618Z"
   },
   {
    "duration": 138,
    "start_time": "2023-03-04T19:04:39.511Z"
   },
   {
    "duration": 134,
    "start_time": "2023-03-04T19:04:50.190Z"
   },
   {
    "duration": 140,
    "start_time": "2023-03-04T19:05:02.797Z"
   },
   {
    "duration": 132,
    "start_time": "2023-03-04T19:05:09.397Z"
   },
   {
    "duration": 10,
    "start_time": "2023-03-04T19:07:11.054Z"
   },
   {
    "duration": 13,
    "start_time": "2023-03-04T19:07:49.638Z"
   },
   {
    "duration": 1110,
    "start_time": "2023-03-04T19:11:25.977Z"
   },
   {
    "duration": 38,
    "start_time": "2023-03-04T19:11:27.089Z"
   },
   {
    "duration": 10,
    "start_time": "2023-03-04T19:11:27.128Z"
   },
   {
    "duration": 7,
    "start_time": "2023-03-04T19:11:27.140Z"
   },
   {
    "duration": 3,
    "start_time": "2023-03-04T19:11:27.148Z"
   },
   {
    "duration": 11,
    "start_time": "2023-03-04T19:11:27.153Z"
   },
   {
    "duration": 13,
    "start_time": "2023-03-04T19:11:27.166Z"
   },
   {
    "duration": 12,
    "start_time": "2023-03-04T19:11:27.180Z"
   },
   {
    "duration": 107,
    "start_time": "2023-03-04T19:11:27.193Z"
   },
   {
    "duration": 8,
    "start_time": "2023-03-04T19:11:27.302Z"
   },
   {
    "duration": 6,
    "start_time": "2023-03-04T19:11:27.312Z"
   },
   {
    "duration": 11,
    "start_time": "2023-03-04T19:11:27.320Z"
   },
   {
    "duration": 10,
    "start_time": "2023-03-04T19:11:27.332Z"
   },
   {
    "duration": 7,
    "start_time": "2023-03-04T19:11:27.345Z"
   },
   {
    "duration": 5,
    "start_time": "2023-03-04T19:11:27.354Z"
   },
   {
    "duration": 13,
    "start_time": "2023-03-04T19:11:27.361Z"
   },
   {
    "duration": 10,
    "start_time": "2023-03-04T19:11:27.376Z"
   },
   {
    "duration": 9,
    "start_time": "2023-03-04T19:11:27.388Z"
   },
   {
    "duration": 6,
    "start_time": "2023-03-04T19:11:27.399Z"
   },
   {
    "duration": 8,
    "start_time": "2023-03-04T19:11:27.407Z"
   },
   {
    "duration": 41,
    "start_time": "2023-03-04T19:11:27.417Z"
   },
   {
    "duration": 6,
    "start_time": "2023-03-04T19:11:27.459Z"
   },
   {
    "duration": 5,
    "start_time": "2023-03-04T19:11:27.467Z"
   },
   {
    "duration": 6,
    "start_time": "2023-03-04T19:11:27.474Z"
   },
   {
    "duration": 6,
    "start_time": "2023-03-04T19:11:27.482Z"
   },
   {
    "duration": 300,
    "start_time": "2023-03-04T19:11:27.489Z"
   },
   {
    "duration": 292,
    "start_time": "2023-03-04T19:11:27.790Z"
   },
   {
    "duration": 211,
    "start_time": "2023-03-04T19:11:28.083Z"
   },
   {
    "duration": 315,
    "start_time": "2023-03-04T19:11:28.296Z"
   },
   {
    "duration": 6,
    "start_time": "2023-03-04T19:11:28.612Z"
   },
   {
    "duration": 229,
    "start_time": "2023-03-04T19:11:28.619Z"
   },
   {
    "duration": 337,
    "start_time": "2023-03-04T19:11:28.849Z"
   },
   {
    "duration": 151,
    "start_time": "2023-03-04T19:11:29.187Z"
   },
   {
    "duration": 4,
    "start_time": "2023-03-04T19:11:29.340Z"
   },
   {
    "duration": 178,
    "start_time": "2023-03-04T19:11:29.355Z"
   },
   {
    "duration": 5,
    "start_time": "2023-03-04T19:11:29.534Z"
   },
   {
    "duration": 211,
    "start_time": "2023-03-04T19:11:29.540Z"
   },
   {
    "duration": 171,
    "start_time": "2023-03-04T19:11:29.752Z"
   },
   {
    "duration": 10,
    "start_time": "2023-03-04T19:11:29.924Z"
   },
   {
    "duration": 4,
    "start_time": "2023-03-04T19:11:29.935Z"
   },
   {
    "duration": 8,
    "start_time": "2023-03-04T19:11:29.956Z"
   },
   {
    "duration": 4,
    "start_time": "2023-03-04T19:11:29.965Z"
   },
   {
    "duration": 5,
    "start_time": "2023-03-04T19:11:29.970Z"
   },
   {
    "duration": 25,
    "start_time": "2023-03-04T19:11:29.976Z"
   },
   {
    "duration": 13,
    "start_time": "2023-03-04T19:11:30.002Z"
   },
   {
    "duration": 46,
    "start_time": "2023-03-04T19:11:30.016Z"
   },
   {
    "duration": 19,
    "start_time": "2023-03-04T19:11:30.064Z"
   },
   {
    "duration": 674,
    "start_time": "2023-03-04T19:11:30.085Z"
   },
   {
    "duration": 316,
    "start_time": "2023-03-04T19:11:30.760Z"
   },
   {
    "duration": 142,
    "start_time": "2023-03-04T19:11:31.078Z"
   },
   {
    "duration": 165,
    "start_time": "2023-03-04T19:11:31.221Z"
   }
  ],
  "kernelspec": {
   "display_name": "Python 3 (ipykernel)",
   "language": "python",
   "name": "python3"
  },
  "language_info": {
   "codemirror_mode": {
    "name": "ipython",
    "version": 3
   },
   "file_extension": ".py",
   "mimetype": "text/x-python",
   "name": "python",
   "nbconvert_exporter": "python",
   "pygments_lexer": "ipython3",
   "version": "3.9.12"
  },
  "toc": {
   "base_numbering": 1,
   "nav_menu": {},
   "number_sections": true,
   "sideBar": true,
   "skip_h1_title": true,
   "title_cell": "Table of Contents",
   "title_sidebar": "Contents",
   "toc_cell": true,
   "toc_position": {
    "height": "calc(100% - 180px)",
    "left": "10px",
    "top": "150px",
    "width": "165px"
   },
   "toc_section_display": true,
   "toc_window_display": false
  }
 },
 "nbformat": 4,
 "nbformat_minor": 5
}
