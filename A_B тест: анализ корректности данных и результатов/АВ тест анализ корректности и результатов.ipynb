{
 "cells": [
  {
   "cell_type": "markdown",
   "id": "521386de",
   "metadata": {
    "toc": true
   },
   "source": [
    "<h1>Table of Contents<span class=\"tocSkip\"></span></h1>\n",
    "<div class=\"toc\"><ul class=\"toc-item\"><li><span><a href=\"#Загрузка-данных-и-библиотек\" data-toc-modified-id=\"Загрузка-данных-и-библиотек-1\"><span class=\"toc-item-num\">1&nbsp;&nbsp;</span>Загрузка данных и библиотек</a></span></li><li><span><a href=\"#Исследование-данных\" data-toc-modified-id=\"Исследование-данных-2\"><span class=\"toc-item-num\">2&nbsp;&nbsp;</span>Исследование данных</a></span></li><li><span><a href=\"#Предобработка-данных\" data-toc-modified-id=\"Предобработка-данных-3\"><span class=\"toc-item-num\">3&nbsp;&nbsp;</span>Предобработка данных</a></span></li><li><span><a href=\"#Оценка-корректности-проведения-теста\" data-toc-modified-id=\"Оценка-корректности-проведения-теста-4\"><span class=\"toc-item-num\">4&nbsp;&nbsp;</span>Оценка корректности проведения теста</a></span><ul class=\"toc-item\"><li><span><a href=\"#Проверка-соответствия-данных-требованиям-технического-задани\" data-toc-modified-id=\"Проверка-соответствия-данных-требованиям-технического-задани-4.1\"><span class=\"toc-item-num\">4.1&nbsp;&nbsp;</span>Проверка соответствия данных требованиям технического задани</a></span><ul class=\"toc-item\"><li><span><a href=\"#Название-теста:-recommender_system_test\" data-toc-modified-id=\"Название-теста:-recommender_system_test-4.1.1\"><span class=\"toc-item-num\">4.1.1&nbsp;&nbsp;</span>Название теста: recommender_system_test</a></span></li><li><span><a href=\"#Группы:-А-—-контрольная,-B-—-новая-платёжная-воронка;\" data-toc-modified-id=\"Группы:-А-—-контрольная,-B-—-новая-платёжная-воронка;-4.1.2\"><span class=\"toc-item-num\">4.1.2&nbsp;&nbsp;</span>Группы: А — контрольная, B — новая платёжная воронка;</a></span></li><li><span><a href=\"#Дата-запуска-теста:-2020-12-07,-дата-остановки-набора-новых-пользователей:-2020-12-21\" data-toc-modified-id=\"Дата-запуска-теста:-2020-12-07,-дата-остановки-набора-новых-пользователей:-2020-12-21-4.1.3\"><span class=\"toc-item-num\">4.1.3&nbsp;&nbsp;</span>Дата запуска теста: 2020-12-07, дата остановки набора новых пользователей: 2020-12-21</a></span></li><li><span><a href=\"#Дата-остановки-теста:-2021-01-04\" data-toc-modified-id=\"Дата-остановки-теста:-2021-01-04-4.1.4\"><span class=\"toc-item-num\">4.1.4&nbsp;&nbsp;</span>Дата остановки теста: 2021-01-04</a></span></li><li><span><a href=\"#Аудитория:-в-тест-должно-быть-отобрано-15%-новых-пользователей-из-региона-EU\" data-toc-modified-id=\"Аудитория:-в-тест-должно-быть-отобрано-15%-новых-пользователей-из-региона-EU-4.1.5\"><span class=\"toc-item-num\">4.1.5&nbsp;&nbsp;</span>Аудитория: в тест должно быть отобрано 15% новых пользователей из региона EU</a></span></li><li><span><a href=\"#Назначение-теста:-тестирование-изменений,-связанных-с-внедрением-улучшенной-рекомендательной-системы\" data-toc-modified-id=\"Назначение-теста:-тестирование-изменений,-связанных-с-внедрением-улучшенной-рекомендательной-системы-4.1.6\"><span class=\"toc-item-num\">4.1.6&nbsp;&nbsp;</span>Назначение теста: тестирование изменений, связанных с внедрением улучшенной рекомендательной системы</a></span></li><li><span><a href=\"#Ожидаемое-количество-участников-теста:-6000.\" data-toc-modified-id=\"Ожидаемое-количество-участников-теста:-6000.-4.1.7\"><span class=\"toc-item-num\">4.1.7&nbsp;&nbsp;</span>Ожидаемое количество участников теста: 6000.</a></span></li><li><span><a href=\"#Срок-ожидаемого-эффекта\" data-toc-modified-id=\"Срок-ожидаемого-эффекта-4.1.8\"><span class=\"toc-item-num\">4.1.8&nbsp;&nbsp;</span>Срок ожидаемого эффекта</a></span></li></ul></li><li><span><a href=\"#Время-проведения-теста\" data-toc-modified-id=\"Время-проведения-теста-4.2\"><span class=\"toc-item-num\">4.2&nbsp;&nbsp;</span>Время проведения теста</a></span></li><li><span><a href=\"#Аудитория-теста\" data-toc-modified-id=\"Аудитория-теста-4.3\"><span class=\"toc-item-num\">4.3&nbsp;&nbsp;</span>Аудитория теста</a></span><ul class=\"toc-item\"><li><span><a href=\"#Проверка-пересечений-внутри-теста\" data-toc-modified-id=\"Проверка-пересечений-внутри-теста-4.3.1\"><span class=\"toc-item-num\">4.3.1&nbsp;&nbsp;</span>Проверка пересечений внутри теста</a></span></li><li><span><a href=\"#Проверка-пересечений-с-конкурирующим-тестом\" data-toc-modified-id=\"Проверка-пересечений-с-конкурирующим-тестом-4.3.2\"><span class=\"toc-item-num\">4.3.2&nbsp;&nbsp;</span>Проверка пересечений с конкурирующим тестом</a></span></li></ul></li></ul></li><li><span><a href=\"#Исследовательский-анализ-данных\" data-toc-modified-id=\"Исследовательский-анализ-данных-5\"><span class=\"toc-item-num\">5&nbsp;&nbsp;</span>Исследовательский анализ данных</a></span><ul class=\"toc-item\"><li><span><a href=\"#Распределение-количества-событий-на-пользователя-в-выборках\" data-toc-modified-id=\"Распределение-количества-событий-на-пользователя-в-выборках-5.1\"><span class=\"toc-item-num\">5.1&nbsp;&nbsp;</span>Распределение количества событий на пользователя в выборках</a></span></li><li><span><a href=\"#Распределение-числа-событий-в-выборках-по-дням\" data-toc-modified-id=\"Распределение-числа-событий-в-выборках-по-дням-5.2\"><span class=\"toc-item-num\">5.2&nbsp;&nbsp;</span>Распределение числа событий в выборках по дням</a></span></li><li><span><a href=\"#Изменение-конверсии-в-воронке-в-выборках-на-разных-этапах\" data-toc-modified-id=\"Изменение-конверсии-в-воронке-в-выборках-на-разных-этапах-5.3\"><span class=\"toc-item-num\">5.3&nbsp;&nbsp;</span>Изменение конверсии в воронке в выборках на разных этапах</a></span></li><li><span><a href=\"#Особенности,-которые-нужно-учесть,-прежде-чем-приступать-к-A/B-тестированию\" data-toc-modified-id=\"Особенности,-которые-нужно-учесть,-прежде-чем-приступать-к-A/B-тестированию-5.4\"><span class=\"toc-item-num\">5.4&nbsp;&nbsp;</span>Особенности, которые нужно учесть, прежде чем приступать к A/B-тестированию</a></span></li></ul></li><li><span><a href=\"#Оценка-резуальтатов-A/B-теста\" data-toc-modified-id=\"Оценка-резуальтатов-A/B-теста-6\"><span class=\"toc-item-num\">6&nbsp;&nbsp;</span>Оценка резуальтатов A/B-теста</a></span></li><li><span><a href=\"#Общие-выводы\" data-toc-modified-id=\"Общие-выводы-7\"><span class=\"toc-item-num\">7&nbsp;&nbsp;</span>Общие выводы</a></span></li></ul></div>"
   ]
  },
  {
   "cell_type": "markdown",
   "id": "02664950",
   "metadata": {},
   "source": [
    "## Загрузка данных и библиотек"
   ]
  },
  {
   "cell_type": "code",
   "execution_count": 1,
   "id": "9f67fe52",
   "metadata": {},
   "outputs": [
    {
     "name": "stdout",
     "output_type": "stream",
     "text": [
      "Requirement already satisfied: kaleido in /Users/konstantinzuev/opt/anaconda3/envs/da_practicum_env/lib/python3.9/site-packages (0.2.1)\n",
      "Note: you may need to restart the kernel to use updated packages.\n"
     ]
    }
   ],
   "source": [
    "pip install -U kaleido"
   ]
  },
  {
   "cell_type": "code",
   "execution_count": 2,
   "id": "d91c6893",
   "metadata": {},
   "outputs": [],
   "source": [
    "# импортируем библиотеки\n",
    "import pandas as pd\n",
    "from scipy import stats as st\n",
    "import datetime as dt\n",
    "import numpy as np\n",
    "import seaborn as sns\n",
    "from matplotlib import pyplot as plt\n",
    "import math as mth\n",
    "import plotly.express as px\n",
    "from plotly import graph_objects as go\n",
    "from plotly.subplots import make_subplots\n",
    "\n",
    "\n",
    "import warnings\n",
    "warnings.filterwarnings(\"ignore\")\n",
    "pd.set_option('display.max_colwidth', None)"
   ]
  },
  {
   "cell_type": "code",
   "execution_count": 3,
   "id": "90293084",
   "metadata": {},
   "outputs": [],
   "source": [
    "import plotly.io as pio \n",
    "pio.renderers.default = \"png\" \n",
    "svg_renderer = pio.renderers[\"png\"] \n",
    "svg_renderer.scale = 1.2\n"
   ]
  },
  {
   "cell_type": "code",
   "execution_count": 4,
   "id": "e5f968fe",
   "metadata": {
    "scrolled": false
   },
   "outputs": [],
   "source": [
    "# загружаем данные\n",
    "final_ab_events = pd.read_csv('https://code.s3.yandex.net/datasets/final_ab_events.csv')\n",
    "ab_project_marketing_events = pd.read_csv('https://code.s3.yandex.net/datasets/ab_project_marketing_events.csv')\n",
    "final_ab_new_users = pd.read_csv('https://code.s3.yandex.net/datasets/final_ab_new_users.csv')\n",
    "final_ab_participants = pd.read_csv('https://code.s3.yandex.net/datasets/final_ab_participants.csv')"
   ]
  },
  {
   "cell_type": "markdown",
   "id": "ebf803c2",
   "metadata": {},
   "source": [
    "## Исследование данных"
   ]
  },
  {
   "cell_type": "code",
   "execution_count": 5,
   "id": "2885d544",
   "metadata": {},
   "outputs": [
    {
     "data": {
      "text/html": [
       "<div>\n",
       "<style scoped>\n",
       "    .dataframe tbody tr th:only-of-type {\n",
       "        vertical-align: middle;\n",
       "    }\n",
       "\n",
       "    .dataframe tbody tr th {\n",
       "        vertical-align: top;\n",
       "    }\n",
       "\n",
       "    .dataframe thead th {\n",
       "        text-align: right;\n",
       "    }\n",
       "</style>\n",
       "<table border=\"1\" class=\"dataframe\">\n",
       "  <thead>\n",
       "    <tr style=\"text-align: right;\">\n",
       "      <th></th>\n",
       "      <th>user_id</th>\n",
       "      <th>event_dt</th>\n",
       "      <th>event_name</th>\n",
       "      <th>details</th>\n",
       "    </tr>\n",
       "  </thead>\n",
       "  <tbody>\n",
       "    <tr>\n",
       "      <th>0</th>\n",
       "      <td>E1BDDCE0DAFA2679</td>\n",
       "      <td>2020-12-07 20:22:03</td>\n",
       "      <td>purchase</td>\n",
       "      <td>99.99</td>\n",
       "    </tr>\n",
       "    <tr>\n",
       "      <th>1</th>\n",
       "      <td>7B6452F081F49504</td>\n",
       "      <td>2020-12-07 09:22:53</td>\n",
       "      <td>purchase</td>\n",
       "      <td>9.99</td>\n",
       "    </tr>\n",
       "    <tr>\n",
       "      <th>2</th>\n",
       "      <td>9CD9F34546DF254C</td>\n",
       "      <td>2020-12-07 12:59:29</td>\n",
       "      <td>purchase</td>\n",
       "      <td>4.99</td>\n",
       "    </tr>\n",
       "    <tr>\n",
       "      <th>3</th>\n",
       "      <td>96F27A054B191457</td>\n",
       "      <td>2020-12-07 04:02:40</td>\n",
       "      <td>purchase</td>\n",
       "      <td>4.99</td>\n",
       "    </tr>\n",
       "    <tr>\n",
       "      <th>4</th>\n",
       "      <td>1FD7660FDF94CA1F</td>\n",
       "      <td>2020-12-07 10:15:09</td>\n",
       "      <td>purchase</td>\n",
       "      <td>4.99</td>\n",
       "    </tr>\n",
       "  </tbody>\n",
       "</table>\n",
       "</div>"
      ],
      "text/plain": [
       "            user_id             event_dt event_name  details\n",
       "0  E1BDDCE0DAFA2679  2020-12-07 20:22:03   purchase    99.99\n",
       "1  7B6452F081F49504  2020-12-07 09:22:53   purchase     9.99\n",
       "2  9CD9F34546DF254C  2020-12-07 12:59:29   purchase     4.99\n",
       "3  96F27A054B191457  2020-12-07 04:02:40   purchase     4.99\n",
       "4  1FD7660FDF94CA1F  2020-12-07 10:15:09   purchase     4.99"
      ]
     },
     "metadata": {},
     "output_type": "display_data"
    },
    {
     "name": "stdout",
     "output_type": "stream",
     "text": [
      "<class 'pandas.core.frame.DataFrame'>\n",
      "RangeIndex: 440317 entries, 0 to 440316\n",
      "Data columns (total 4 columns):\n",
      " #   Column      Non-Null Count   Dtype  \n",
      "---  ------      --------------   -----  \n",
      " 0   user_id     440317 non-null  object \n",
      " 1   event_dt    440317 non-null  object \n",
      " 2   event_name  440317 non-null  object \n",
      " 3   details     62740 non-null   float64\n",
      "dtypes: float64(1), object(3)\n",
      "memory usage: 13.4+ MB\n"
     ]
    },
    {
     "data": {
      "text/plain": [
       "None"
      ]
     },
     "metadata": {},
     "output_type": "display_data"
    },
    {
     "data": {
      "text/plain": [
       "user_id            0\n",
       "event_dt           0\n",
       "event_name         0\n",
       "details       377577\n",
       "dtype: int64"
      ]
     },
     "execution_count": 5,
     "metadata": {},
     "output_type": "execute_result"
    }
   ],
   "source": [
    "# посмотрим на первые строки наших данных, тип столбцов и пропуски\n",
    "list_of_tables = [final_ab_events, ab_project_marketing_events, final_ab_new_users, final_ab_participants]\n",
    "\n",
    "display(final_ab_events.head())\n",
    "display(final_ab_events.info())\n",
    "final_ab_events.isna().sum()"
   ]
  },
  {
   "cell_type": "markdown",
   "id": "ed9db494",
   "metadata": {},
   "source": [
    "Видим, что столбец `event_dt` имеет неверный тип данных, необходимо будет привести его тип к дате. Названия колонок корректные. Есть пропуски в колонке `details`. Позднее, посмотрим, допустимо ли заполнить данные пропуски корректным значением."
   ]
  },
  {
   "cell_type": "code",
   "execution_count": 6,
   "id": "24624a42",
   "metadata": {},
   "outputs": [
    {
     "data": {
      "text/html": [
       "<div>\n",
       "<style scoped>\n",
       "    .dataframe tbody tr th:only-of-type {\n",
       "        vertical-align: middle;\n",
       "    }\n",
       "\n",
       "    .dataframe tbody tr th {\n",
       "        vertical-align: top;\n",
       "    }\n",
       "\n",
       "    .dataframe thead th {\n",
       "        text-align: right;\n",
       "    }\n",
       "</style>\n",
       "<table border=\"1\" class=\"dataframe\">\n",
       "  <thead>\n",
       "    <tr style=\"text-align: right;\">\n",
       "      <th></th>\n",
       "      <th>name</th>\n",
       "      <th>regions</th>\n",
       "      <th>start_dt</th>\n",
       "      <th>finish_dt</th>\n",
       "    </tr>\n",
       "  </thead>\n",
       "  <tbody>\n",
       "    <tr>\n",
       "      <th>0</th>\n",
       "      <td>Christmas&amp;New Year Promo</td>\n",
       "      <td>EU, N.America</td>\n",
       "      <td>2020-12-25</td>\n",
       "      <td>2021-01-03</td>\n",
       "    </tr>\n",
       "    <tr>\n",
       "      <th>1</th>\n",
       "      <td>St. Valentine's Day Giveaway</td>\n",
       "      <td>EU, CIS, APAC, N.America</td>\n",
       "      <td>2020-02-14</td>\n",
       "      <td>2020-02-16</td>\n",
       "    </tr>\n",
       "    <tr>\n",
       "      <th>2</th>\n",
       "      <td>St. Patric's Day Promo</td>\n",
       "      <td>EU, N.America</td>\n",
       "      <td>2020-03-17</td>\n",
       "      <td>2020-03-19</td>\n",
       "    </tr>\n",
       "    <tr>\n",
       "      <th>3</th>\n",
       "      <td>Easter Promo</td>\n",
       "      <td>EU, CIS, APAC, N.America</td>\n",
       "      <td>2020-04-12</td>\n",
       "      <td>2020-04-19</td>\n",
       "    </tr>\n",
       "    <tr>\n",
       "      <th>4</th>\n",
       "      <td>4th of July Promo</td>\n",
       "      <td>N.America</td>\n",
       "      <td>2020-07-04</td>\n",
       "      <td>2020-07-11</td>\n",
       "    </tr>\n",
       "  </tbody>\n",
       "</table>\n",
       "</div>"
      ],
      "text/plain": [
       "                           name                   regions    start_dt  \\\n",
       "0      Christmas&New Year Promo             EU, N.America  2020-12-25   \n",
       "1  St. Valentine's Day Giveaway  EU, CIS, APAC, N.America  2020-02-14   \n",
       "2        St. Patric's Day Promo             EU, N.America  2020-03-17   \n",
       "3                  Easter Promo  EU, CIS, APAC, N.America  2020-04-12   \n",
       "4             4th of July Promo                 N.America  2020-07-04   \n",
       "\n",
       "    finish_dt  \n",
       "0  2021-01-03  \n",
       "1  2020-02-16  \n",
       "2  2020-03-19  \n",
       "3  2020-04-19  \n",
       "4  2020-07-11  "
      ]
     },
     "metadata": {},
     "output_type": "display_data"
    },
    {
     "name": "stdout",
     "output_type": "stream",
     "text": [
      "<class 'pandas.core.frame.DataFrame'>\n",
      "RangeIndex: 14 entries, 0 to 13\n",
      "Data columns (total 4 columns):\n",
      " #   Column     Non-Null Count  Dtype \n",
      "---  ------     --------------  ----- \n",
      " 0   name       14 non-null     object\n",
      " 1   regions    14 non-null     object\n",
      " 2   start_dt   14 non-null     object\n",
      " 3   finish_dt  14 non-null     object\n",
      "dtypes: object(4)\n",
      "memory usage: 576.0+ bytes\n"
     ]
    },
    {
     "data": {
      "text/plain": [
       "None"
      ]
     },
     "metadata": {},
     "output_type": "display_data"
    },
    {
     "data": {
      "text/plain": [
       "name         0\n",
       "regions      0\n",
       "start_dt     0\n",
       "finish_dt    0\n",
       "dtype: int64"
      ]
     },
     "execution_count": 6,
     "metadata": {},
     "output_type": "execute_result"
    }
   ],
   "source": [
    "display(ab_project_marketing_events.head())\n",
    "display(ab_project_marketing_events.info())\n",
    "ab_project_marketing_events.isna().sum()"
   ]
  },
  {
   "cell_type": "markdown",
   "id": "46119959",
   "metadata": {},
   "source": [
    "Видим, что столбцы `start_dt` и `finish_dt` имеют неверный тип данных, необходимо будет привести их тип к дате. Названия колонок корректные. Пропусков нет."
   ]
  },
  {
   "cell_type": "code",
   "execution_count": 7,
   "id": "8fea4be5",
   "metadata": {},
   "outputs": [
    {
     "data": {
      "text/html": [
       "<div>\n",
       "<style scoped>\n",
       "    .dataframe tbody tr th:only-of-type {\n",
       "        vertical-align: middle;\n",
       "    }\n",
       "\n",
       "    .dataframe tbody tr th {\n",
       "        vertical-align: top;\n",
       "    }\n",
       "\n",
       "    .dataframe thead th {\n",
       "        text-align: right;\n",
       "    }\n",
       "</style>\n",
       "<table border=\"1\" class=\"dataframe\">\n",
       "  <thead>\n",
       "    <tr style=\"text-align: right;\">\n",
       "      <th></th>\n",
       "      <th>user_id</th>\n",
       "      <th>first_date</th>\n",
       "      <th>region</th>\n",
       "      <th>device</th>\n",
       "    </tr>\n",
       "  </thead>\n",
       "  <tbody>\n",
       "    <tr>\n",
       "      <th>0</th>\n",
       "      <td>D72A72121175D8BE</td>\n",
       "      <td>2020-12-07</td>\n",
       "      <td>EU</td>\n",
       "      <td>PC</td>\n",
       "    </tr>\n",
       "    <tr>\n",
       "      <th>1</th>\n",
       "      <td>F1C668619DFE6E65</td>\n",
       "      <td>2020-12-07</td>\n",
       "      <td>N.America</td>\n",
       "      <td>Android</td>\n",
       "    </tr>\n",
       "    <tr>\n",
       "      <th>2</th>\n",
       "      <td>2E1BF1D4C37EA01F</td>\n",
       "      <td>2020-12-07</td>\n",
       "      <td>EU</td>\n",
       "      <td>PC</td>\n",
       "    </tr>\n",
       "    <tr>\n",
       "      <th>3</th>\n",
       "      <td>50734A22C0C63768</td>\n",
       "      <td>2020-12-07</td>\n",
       "      <td>EU</td>\n",
       "      <td>iPhone</td>\n",
       "    </tr>\n",
       "    <tr>\n",
       "      <th>4</th>\n",
       "      <td>E1BDDCE0DAFA2679</td>\n",
       "      <td>2020-12-07</td>\n",
       "      <td>N.America</td>\n",
       "      <td>iPhone</td>\n",
       "    </tr>\n",
       "  </tbody>\n",
       "</table>\n",
       "</div>"
      ],
      "text/plain": [
       "            user_id  first_date     region   device\n",
       "0  D72A72121175D8BE  2020-12-07         EU       PC\n",
       "1  F1C668619DFE6E65  2020-12-07  N.America  Android\n",
       "2  2E1BF1D4C37EA01F  2020-12-07         EU       PC\n",
       "3  50734A22C0C63768  2020-12-07         EU   iPhone\n",
       "4  E1BDDCE0DAFA2679  2020-12-07  N.America   iPhone"
      ]
     },
     "metadata": {},
     "output_type": "display_data"
    },
    {
     "name": "stdout",
     "output_type": "stream",
     "text": [
      "<class 'pandas.core.frame.DataFrame'>\n",
      "RangeIndex: 61733 entries, 0 to 61732\n",
      "Data columns (total 4 columns):\n",
      " #   Column      Non-Null Count  Dtype \n",
      "---  ------      --------------  ----- \n",
      " 0   user_id     61733 non-null  object\n",
      " 1   first_date  61733 non-null  object\n",
      " 2   region      61733 non-null  object\n",
      " 3   device      61733 non-null  object\n",
      "dtypes: object(4)\n",
      "memory usage: 1.9+ MB\n"
     ]
    },
    {
     "data": {
      "text/plain": [
       "None"
      ]
     },
     "metadata": {},
     "output_type": "display_data"
    },
    {
     "data": {
      "text/plain": [
       "user_id       0\n",
       "first_date    0\n",
       "region        0\n",
       "device        0\n",
       "dtype: int64"
      ]
     },
     "execution_count": 7,
     "metadata": {},
     "output_type": "execute_result"
    }
   ],
   "source": [
    "display(final_ab_new_users.head())\n",
    "display(final_ab_new_users.info())\n",
    "final_ab_new_users.isna().sum()"
   ]
  },
  {
   "cell_type": "markdown",
   "id": "e3c55dd2",
   "metadata": {},
   "source": [
    "Столбец `first_date` имеет неверный тип данных, необходимо будет привести его тип к дате. Названия колонок корректные. Пропусков также нет."
   ]
  },
  {
   "cell_type": "code",
   "execution_count": 8,
   "id": "31d8fe19",
   "metadata": {},
   "outputs": [
    {
     "data": {
      "text/html": [
       "<div>\n",
       "<style scoped>\n",
       "    .dataframe tbody tr th:only-of-type {\n",
       "        vertical-align: middle;\n",
       "    }\n",
       "\n",
       "    .dataframe tbody tr th {\n",
       "        vertical-align: top;\n",
       "    }\n",
       "\n",
       "    .dataframe thead th {\n",
       "        text-align: right;\n",
       "    }\n",
       "</style>\n",
       "<table border=\"1\" class=\"dataframe\">\n",
       "  <thead>\n",
       "    <tr style=\"text-align: right;\">\n",
       "      <th></th>\n",
       "      <th>user_id</th>\n",
       "      <th>group</th>\n",
       "      <th>ab_test</th>\n",
       "    </tr>\n",
       "  </thead>\n",
       "  <tbody>\n",
       "    <tr>\n",
       "      <th>0</th>\n",
       "      <td>D1ABA3E2887B6A73</td>\n",
       "      <td>A</td>\n",
       "      <td>recommender_system_test</td>\n",
       "    </tr>\n",
       "    <tr>\n",
       "      <th>1</th>\n",
       "      <td>A7A3664BD6242119</td>\n",
       "      <td>A</td>\n",
       "      <td>recommender_system_test</td>\n",
       "    </tr>\n",
       "    <tr>\n",
       "      <th>2</th>\n",
       "      <td>DABC14FDDFADD29E</td>\n",
       "      <td>A</td>\n",
       "      <td>recommender_system_test</td>\n",
       "    </tr>\n",
       "    <tr>\n",
       "      <th>3</th>\n",
       "      <td>04988C5DF189632E</td>\n",
       "      <td>A</td>\n",
       "      <td>recommender_system_test</td>\n",
       "    </tr>\n",
       "    <tr>\n",
       "      <th>4</th>\n",
       "      <td>482F14783456D21B</td>\n",
       "      <td>B</td>\n",
       "      <td>recommender_system_test</td>\n",
       "    </tr>\n",
       "  </tbody>\n",
       "</table>\n",
       "</div>"
      ],
      "text/plain": [
       "            user_id group                  ab_test\n",
       "0  D1ABA3E2887B6A73     A  recommender_system_test\n",
       "1  A7A3664BD6242119     A  recommender_system_test\n",
       "2  DABC14FDDFADD29E     A  recommender_system_test\n",
       "3  04988C5DF189632E     A  recommender_system_test\n",
       "4  482F14783456D21B     B  recommender_system_test"
      ]
     },
     "metadata": {},
     "output_type": "display_data"
    },
    {
     "name": "stdout",
     "output_type": "stream",
     "text": [
      "<class 'pandas.core.frame.DataFrame'>\n",
      "RangeIndex: 18268 entries, 0 to 18267\n",
      "Data columns (total 3 columns):\n",
      " #   Column   Non-Null Count  Dtype \n",
      "---  ------   --------------  ----- \n",
      " 0   user_id  18268 non-null  object\n",
      " 1   group    18268 non-null  object\n",
      " 2   ab_test  18268 non-null  object\n",
      "dtypes: object(3)\n",
      "memory usage: 428.3+ KB\n"
     ]
    },
    {
     "data": {
      "text/plain": [
       "None"
      ]
     },
     "metadata": {},
     "output_type": "display_data"
    },
    {
     "data": {
      "text/plain": [
       "user_id    0\n",
       "group      0\n",
       "ab_test    0\n",
       "dtype: int64"
      ]
     },
     "execution_count": 8,
     "metadata": {},
     "output_type": "execute_result"
    }
   ],
   "source": [
    "display(final_ab_participants.head())\n",
    "display(final_ab_participants.info())\n",
    "final_ab_participants.isna().sum()"
   ]
  },
  {
   "cell_type": "markdown",
   "id": "22bc479e",
   "metadata": {},
   "source": [
    "Столбцы имеют корректные тип данных и наименования. Пропусков также нет."
   ]
  },
  {
   "cell_type": "markdown",
   "id": "0453e3e5",
   "metadata": {},
   "source": [
    "В результате первичного осмотра данных установлено, что некоторые столбцы в нескольких таблицах нуждаются в изменении типа данных. В также только в одной таблице имеются пропуски. Далее, посмотрим, можно ли их заполнить корректным значением."
   ]
  },
  {
   "cell_type": "markdown",
   "id": "c6bd4f91",
   "metadata": {},
   "source": [
    "## Предобработка данных"
   ]
  },
  {
   "cell_type": "markdown",
   "id": "f42e5158",
   "metadata": {},
   "source": [
    "Как было указано выше, изменим тип столбцов некоторых таблиц на даты."
   ]
  },
  {
   "cell_type": "code",
   "execution_count": 9,
   "id": "123da95c",
   "metadata": {},
   "outputs": [],
   "source": [
    "# изменяем тип данных\n",
    "final_ab_events['event_dt'] = pd.to_datetime(final_ab_events['event_dt'])\n",
    "ab_project_marketing_events['start_dt'] = pd.to_datetime(ab_project_marketing_events['start_dt'])\n",
    "ab_project_marketing_events['finish_dt'] = pd.to_datetime(ab_project_marketing_events['finish_dt'])\n",
    "final_ab_new_users['first_date'] = pd.to_datetime(final_ab_new_users['first_date'])"
   ]
  },
  {
   "cell_type": "markdown",
   "id": "578de4f5",
   "metadata": {},
   "source": [
    "Теперь посмотрим на характер пропусков в столбце `details` таблицы `final_ab_events`, чтобы понять, можем ли их заполнить."
   ]
  },
  {
   "cell_type": "code",
   "execution_count": 10,
   "id": "febb3b93",
   "metadata": {},
   "outputs": [
    {
     "data": {
      "text/html": [
       "<div>\n",
       "<style scoped>\n",
       "    .dataframe tbody tr th:only-of-type {\n",
       "        vertical-align: middle;\n",
       "    }\n",
       "\n",
       "    .dataframe tbody tr th {\n",
       "        vertical-align: top;\n",
       "    }\n",
       "\n",
       "    .dataframe thead th {\n",
       "        text-align: right;\n",
       "    }\n",
       "</style>\n",
       "<table border=\"1\" class=\"dataframe\">\n",
       "  <thead>\n",
       "    <tr style=\"text-align: right;\">\n",
       "      <th></th>\n",
       "      <th>user_id</th>\n",
       "      <th>event_dt</th>\n",
       "      <th>details</th>\n",
       "    </tr>\n",
       "    <tr>\n",
       "      <th>event_name</th>\n",
       "      <th></th>\n",
       "      <th></th>\n",
       "      <th></th>\n",
       "    </tr>\n",
       "  </thead>\n",
       "  <tbody>\n",
       "    <tr>\n",
       "      <th>login</th>\n",
       "      <td>189552</td>\n",
       "      <td>189552</td>\n",
       "      <td>0</td>\n",
       "    </tr>\n",
       "    <tr>\n",
       "      <th>product_cart</th>\n",
       "      <td>62462</td>\n",
       "      <td>62462</td>\n",
       "      <td>0</td>\n",
       "    </tr>\n",
       "    <tr>\n",
       "      <th>product_page</th>\n",
       "      <td>125563</td>\n",
       "      <td>125563</td>\n",
       "      <td>0</td>\n",
       "    </tr>\n",
       "    <tr>\n",
       "      <th>purchase</th>\n",
       "      <td>62740</td>\n",
       "      <td>62740</td>\n",
       "      <td>62740</td>\n",
       "    </tr>\n",
       "  </tbody>\n",
       "</table>\n",
       "</div>"
      ],
      "text/plain": [
       "              user_id  event_dt  details\n",
       "event_name                              \n",
       "login          189552    189552        0\n",
       "product_cart    62462     62462        0\n",
       "product_page   125563    125563        0\n",
       "purchase        62740     62740    62740"
      ]
     },
     "execution_count": 10,
     "metadata": {},
     "output_type": "execute_result"
    }
   ],
   "source": [
    "final_ab_events.groupby('event_name').count()"
   ]
  },
  {
   "cell_type": "markdown",
   "id": "cc0221fe",
   "metadata": {},
   "source": [
    "Видим, что пропуски в столбце `details` присутствует при всех значениях столбца `event_name` кроме `purchase`.       \n",
    "Cтолбец `details` содержит дополнительные данные о событиях, а у нас есть данные только об одном виде событый - `purchase`. Соответственно, мы даже примерно не представляем, как могут быть заполнены данные пропуски.     \n",
    "В связи этим, полагаю, у нас нет данных о том, как заполнить данные пропуски, и следует оставить их как есть."
   ]
  },
  {
   "cell_type": "markdown",
   "id": "1d26924b",
   "metadata": {},
   "source": [
    "Проверим дубликаты в данных."
   ]
  },
  {
   "cell_type": "code",
   "execution_count": 11,
   "id": "6a81d48b",
   "metadata": {},
   "outputs": [
    {
     "data": {
      "text/plain": [
       "0"
      ]
     },
     "metadata": {},
     "output_type": "display_data"
    },
    {
     "data": {
      "text/plain": [
       "0"
      ]
     },
     "metadata": {},
     "output_type": "display_data"
    },
    {
     "data": {
      "text/plain": [
       "0"
      ]
     },
     "metadata": {},
     "output_type": "display_data"
    },
    {
     "data": {
      "text/plain": [
       "0"
      ]
     },
     "metadata": {},
     "output_type": "display_data"
    }
   ],
   "source": [
    "#пройдемся циклом по списку таблиц \n",
    "for i in list_of_tables:\n",
    "    display(i.duplicated().sum())"
   ]
  },
  {
   "cell_type": "markdown",
   "id": "e14bc1db",
   "metadata": {},
   "source": [
    "Видим, что полных дубликатов в таблицах нет.      \n",
    "Посмотрим на неполные дубликаты."
   ]
  },
  {
   "cell_type": "markdown",
   "id": "ea0f95c8",
   "metadata": {},
   "source": [
    "В таблице `final_ab_events` в столбцах `user_id` и `event_dt` слишком разнообразные значения для поиска неполных дубликатов, в столбцах `event_name` и `details`такие дубликаты могут быть. Посмотрим на значениях в этих столбцах."
   ]
  },
  {
   "cell_type": "code",
   "execution_count": 12,
   "id": "2cab1d6a",
   "metadata": {},
   "outputs": [
    {
     "data": {
      "text/plain": [
       "login           189552\n",
       "product_page    125563\n",
       "purchase         62740\n",
       "product_cart     62462\n",
       "Name: event_name, dtype: int64"
      ]
     },
     "metadata": {},
     "output_type": "display_data"
    },
    {
     "data": {
      "text/plain": [
       "4.99      46362\n",
       "9.99       9530\n",
       "99.99      5631\n",
       "499.99     1217\n",
       "Name: details, dtype: int64"
      ]
     },
     "execution_count": 12,
     "metadata": {},
     "output_type": "execute_result"
    }
   ],
   "source": [
    "display(final_ab_events['event_name'].value_counts())\n",
    "final_ab_events['details'].value_counts()"
   ]
  },
  {
   "cell_type": "markdown",
   "id": "63327340",
   "metadata": {},
   "source": [
    "Видим, что все данные корректные, неполных дубликатов нет."
   ]
  },
  {
   "cell_type": "markdown",
   "id": "e9573fe7",
   "metadata": {},
   "source": [
    "В таблице `ab_project_marketing_events` в `start_dt` и `finish_dt` содержатся данные о датах, в них искать неполные дубликаты весьма затруднительно. Посмотрим на столбцы `name` и `regions`."
   ]
  },
  {
   "cell_type": "code",
   "execution_count": 13,
   "id": "80b3d287",
   "metadata": {},
   "outputs": [
    {
     "data": {
      "text/plain": [
       "Single's Day Gift Promo             1\n",
       "Christmas&New Year Promo            1\n",
       "Chinese Moon Festival               1\n",
       "St. Patric's Day Promo              1\n",
       "Easter Promo                        1\n",
       "St. Valentine's Day Giveaway        1\n",
       "4th of July Promo                   1\n",
       "CIS New Year Gift Lottery           1\n",
       "Dragon Boat Festival Giveaway       1\n",
       "International Women's Day Promo     1\n",
       "Chinese New Year Promo              1\n",
       "Labor day (May 1st) Ads Campaign    1\n",
       "Black Friday Ads Campaign           1\n",
       "Victory Day CIS (May 9th) Event     1\n",
       "Name: name, dtype: int64"
      ]
     },
     "metadata": {},
     "output_type": "display_data"
    },
    {
     "data": {
      "text/plain": [
       "APAC                        4\n",
       "EU, CIS, APAC, N.America    3\n",
       "EU, N.America               2\n",
       "CIS                         2\n",
       "EU, CIS, APAC               2\n",
       "N.America                   1\n",
       "Name: regions, dtype: int64"
      ]
     },
     "execution_count": 13,
     "metadata": {},
     "output_type": "execute_result"
    }
   ],
   "source": [
    "display(ab_project_marketing_events['name'].value_counts())\n",
    "ab_project_marketing_events['regions'].value_counts()"
   ]
  },
  {
   "cell_type": "markdown",
   "id": "c62408fc",
   "metadata": {},
   "source": [
    "Видим, также, что все данные корректные, неполных дубликатов нет."
   ]
  },
  {
   "cell_type": "markdown",
   "id": "44c2da2d",
   "metadata": {},
   "source": [
    "В таблице `final_ab_new_users` в столбцах `user_id` и `first_date` также сложные для проверки значения. Посмотрим на столбцы `region` и `device`."
   ]
  },
  {
   "cell_type": "code",
   "execution_count": 14,
   "id": "2bdb8e33",
   "metadata": {},
   "outputs": [
    {
     "data": {
      "text/plain": [
       "EU           46270\n",
       "N.America     9155\n",
       "CIS           3155\n",
       "APAC          3153\n",
       "Name: region, dtype: int64"
      ]
     },
     "metadata": {},
     "output_type": "display_data"
    },
    {
     "data": {
      "text/plain": [
       "Android    27520\n",
       "PC         15599\n",
       "iPhone     12530\n",
       "Mac         6084\n",
       "Name: device, dtype: int64"
      ]
     },
     "execution_count": 14,
     "metadata": {},
     "output_type": "execute_result"
    }
   ],
   "source": [
    "display(final_ab_new_users['region'].value_counts())\n",
    "final_ab_new_users['device'].value_counts()"
   ]
  },
  {
   "cell_type": "markdown",
   "id": "81ebb89e",
   "metadata": {},
   "source": [
    "Также, неожиданных значений и неполных дубликатов нет."
   ]
  },
  {
   "cell_type": "markdown",
   "id": "7c6815b7",
   "metadata": {},
   "source": [
    "В таблице `final_ab_participants` проверим столбцы `group` и `ab_test`."
   ]
  },
  {
   "cell_type": "code",
   "execution_count": 15,
   "id": "532fef12",
   "metadata": {
    "scrolled": true
   },
   "outputs": [
    {
     "data": {
      "text/plain": [
       "A    9655\n",
       "B    8613\n",
       "Name: group, dtype: int64"
      ]
     },
     "metadata": {},
     "output_type": "display_data"
    },
    {
     "data": {
      "text/plain": [
       "interface_eu_test          11567\n",
       "recommender_system_test     6701\n",
       "Name: ab_test, dtype: int64"
      ]
     },
     "execution_count": 15,
     "metadata": {},
     "output_type": "execute_result"
    }
   ],
   "source": [
    "display(final_ab_participants['group'].value_counts())\n",
    "final_ab_participants['ab_test'].value_counts()"
   ]
  },
  {
   "cell_type": "markdown",
   "id": "6734764f",
   "metadata": {},
   "source": [
    "Неполных дубликатов нет. Однако можем увидеть, что в столбце `ab_test` указанные данные о двух тестах. Необходимо учесть это при анализе данных на соответствие техническому заданию. Полагаю, на этом предобработку данных можно завершить."
   ]
  },
  {
   "cell_type": "markdown",
   "id": "4476350a",
   "metadata": {},
   "source": [
    "## Оценка корректности проведения теста"
   ]
  },
  {
   "cell_type": "markdown",
   "id": "44fd9d03",
   "metadata": {},
   "source": [
    "### Проверка соответствия данных требованиям технического задани"
   ]
  },
  {
   "cell_type": "markdown",
   "id": "5a9e2091",
   "metadata": {},
   "source": [
    "#### Название теста: recommender_system_test"
   ]
  },
  {
   "cell_type": "markdown",
   "id": "00819ae8",
   "metadata": {},
   "source": [
    "Как мы уже видели выше в таблице `final_ab_participants` имеются данные о двух тестах: `interface_eu_test` и `recommender_system_test`. Необходимо оставить оставить данные только о последнем."
   ]
  },
  {
   "cell_type": "code",
   "execution_count": 16,
   "id": "fb6bd6bc",
   "metadata": {},
   "outputs": [],
   "source": [
    "key_ab_participants = final_ab_participants.loc[final_ab_participants['ab_test'] == 'recommender_system_test']"
   ]
  },
  {
   "cell_type": "markdown",
   "id": "0f7b74e0",
   "metadata": {},
   "source": [
    "#### Группы: А — контрольная, B — новая платёжная воронка;"
   ]
  },
  {
   "cell_type": "code",
   "execution_count": 17,
   "id": "917054e4",
   "metadata": {},
   "outputs": [
    {
     "data": {
      "text/plain": [
       "A    3824\n",
       "B    2877\n",
       "Name: group, dtype: int64"
      ]
     },
     "execution_count": 17,
     "metadata": {},
     "output_type": "execute_result"
    }
   ],
   "source": [
    "key_ab_participants['group'].value_counts()"
   ]
  },
  {
   "cell_type": "markdown",
   "id": "8d8508b4",
   "metadata": {},
   "source": [
    "Видим, что у нас только 2 группы, А и В - соответствует техническому заданию."
   ]
  },
  {
   "cell_type": "markdown",
   "id": "827237c4",
   "metadata": {},
   "source": [
    "#### Дата запуска теста: 2020-12-07, дата остановки набора новых пользователей: 2020-12-21"
   ]
  },
  {
   "cell_type": "markdown",
   "id": "41a1236f",
   "metadata": {},
   "source": [
    "Даты регистрации новых пользователей указаны в столбце `first_date` таблицы `final_ab_new_users`. Проверим даты."
   ]
  },
  {
   "cell_type": "code",
   "execution_count": 18,
   "id": "08fa548d",
   "metadata": {},
   "outputs": [
    {
     "name": "stdout",
     "output_type": "stream",
     "text": [
      "Дата регистрации первого участника 2020-12-07 00:00:00\n",
      "Дата регистрации последнего участника 2020-12-23 00:00:00\n"
     ]
    }
   ],
   "source": [
    "print('Дата регистрации первого участника', final_ab_new_users['first_date'].min())\n",
    "print('Дата регистрации последнего участника', final_ab_new_users['first_date'].max())"
   ]
  },
  {
   "cell_type": "markdown",
   "id": "ad6674c0",
   "metadata": {},
   "source": [
    "Видим, что даты не совпадают с ТЗ. Вполне вероятно это из-за того, что в таблице содержатся данные не только по пользователям теста `recommender_system_test`.       \n",
    "В связи с этим, следует оставить в данной таблице только тех пользователей, которые участвовали в нужном нам тесте. Соотвествующий датафрейм мы уже получили выше. Дополним данными из него таблицу `final_ab_new_users` и оставим только пересекающихся пользователей."
   ]
  },
  {
   "cell_type": "code",
   "execution_count": 19,
   "id": "fe80f6a5",
   "metadata": {},
   "outputs": [],
   "source": [
    "ab_new_users_participants = key_ab_participants.merge(final_ab_new_users, on = 'user_id', how = 'left')\n"
   ]
  },
  {
   "cell_type": "code",
   "execution_count": 20,
   "id": "7dde7f23",
   "metadata": {},
   "outputs": [
    {
     "name": "stdout",
     "output_type": "stream",
     "text": [
      "Дата регистрации первого участника 2020-12-07 00:00:00\n",
      "Дата регистрации последнего участника 2020-12-21 00:00:00\n"
     ]
    }
   ],
   "source": [
    "# смотрим на дату регистрации первого и последнего участника\n",
    "print('Дата регистрации первого участника', ab_new_users_participants['first_date'].min())\n",
    "print('Дата регистрации последнего участника', ab_new_users_participants['first_date'].max())"
   ]
  },
  {
   "cell_type": "markdown",
   "id": "835334ff",
   "metadata": {},
   "source": [
    "Видим, что данные, представленные в датафрейме соответствуют ТЗ."
   ]
  },
  {
   "cell_type": "markdown",
   "id": "707f390a",
   "metadata": {},
   "source": [
    "#### Дата остановки теста: 2021-01-04"
   ]
  },
  {
   "cell_type": "markdown",
   "id": "b3005b2f",
   "metadata": {},
   "source": [
    "Данные о действиях пользователей указаны в таблице `final_ab_events`, соответственно дату остановки теста будем считать по данным в ней.       "
   ]
  },
  {
   "cell_type": "code",
   "execution_count": 21,
   "id": "9af6263c",
   "metadata": {},
   "outputs": [
    {
     "name": "stdout",
     "output_type": "stream",
     "text": [
      "Последнее действие, совершенное участниками теста 2020-12-30 23:36:33\n"
     ]
    }
   ],
   "source": [
    "print('Последнее действие, совершенное участниками теста', final_ab_events['event_dt'].max())"
   ]
  },
  {
   "cell_type": "markdown",
   "id": "5327ccdc",
   "metadata": {},
   "source": [
    "Видим, что последнее действие было совершено 2020-12-30, то есть на несколько дней раньше предполагаемой даты остановки теста. Полагаю, это не препятствует дальнейшему анализу. Скорее всего, это вызвано тем, что либо пользователи в новогодние праздники не совершали каких-либо действие, либо тест остановили раньше срока.    \n",
    "Также, вполне возможно в данной таблице есть данные не только по интересующим нас пользователям. Но так как в принципе последняя дата всех действий укладывается в рамки, установленные ТЗ, отсутствует необходимость дополнительного фильтрования датафрейма по данному признаку. "
   ]
  },
  {
   "cell_type": "markdown",
   "id": "435badc9",
   "metadata": {},
   "source": [
    "#### Аудитория: в тест должно быть отобрано 15% новых пользователей из региона EU"
   ]
  },
  {
   "cell_type": "code",
   "execution_count": 22,
   "id": "e2f78a6b",
   "metadata": {},
   "outputs": [],
   "source": [
    "# подготоавливаем данные для вычисления пользователей из региона EU\n",
    "# находим пользователей из EU, которые участвовали в тесте, и которые были зарегистрированы в даты, соответствуюзие ТЗ\n",
    "ab_new_users_participants_EU = ab_new_users_participants.loc[ab_new_users_participants['region'] == 'EU']\n",
    "ab_new_users_participants_EU = (\n",
    "    ab_new_users_participants_EU.loc[ab_new_users_participants_EU['first_date'] <= '2020-12-21'])\n",
    "ab_new_users_participants_EU = (\n",
    "    ab_new_users_participants_EU.loc[ab_new_users_participants_EU['first_date'] >= '2020-12-07'])\n",
    "\n",
    "\n",
    "# находим всех пользователей из EU которые были зарегистрированы в даты, соответствуюзие ТЗ\n",
    "final_ab_new_users_EU = final_ab_new_users.loc[final_ab_new_users['region'] == 'EU']\n",
    "final_ab_new_users_EU = (\n",
    "    final_ab_new_users_EU.loc[final_ab_new_users_EU['first_date'] <= '2020-12-21'])\n",
    "final_ab_new_users_EU = (\n",
    "    final_ab_new_users_EU.loc[final_ab_new_users_EU['first_date'] >= '2020-12-07'])\n"
   ]
  },
  {
   "cell_type": "code",
   "execution_count": 23,
   "id": "c8a3d533",
   "metadata": {
    "scrolled": true
   },
   "outputs": [
    {
     "name": "stdout",
     "output_type": "stream",
     "text": [
      "Доля новых пользователей из EU, участвующих в тесте, составляет 15.0 %\n"
     ]
    }
   ],
   "source": [
    "# делим количество уникальных пользователей из EU, участвующих в тесте, на общее количество уникальных пользователей из EU\n",
    "print('Доля новых пользователей из EU, участвующих в тесте, составляет', \n",
    "      round((ab_new_users_participants_EU['user_id'].nunique() \n",
    "             / final_ab_new_users_EU['user_id'].nunique()) * 100,2), '%')\n"
   ]
  },
  {
   "cell_type": "markdown",
   "id": "e02ef5f9",
   "metadata": {},
   "source": [
    "Видим, что в этой части данные соответствуют ТЗ. Ровно столько, сколько нужно."
   ]
  },
  {
   "cell_type": "markdown",
   "id": "18fab2ea",
   "metadata": {},
   "source": [
    "#### Назначение теста: тестирование изменений, связанных с внедрением улучшенной рекомендательной системы"
   ]
  },
  {
   "cell_type": "markdown",
   "id": "42921926",
   "metadata": {},
   "source": [
    "В этой части нами уже ранее была проведено необходимое фильтрование данных для целей их соответствия ТЗ."
   ]
  },
  {
   "cell_type": "markdown",
   "id": "7b691e68",
   "metadata": {},
   "source": [
    "#### Ожидаемое количество участников теста: 6000."
   ]
  },
  {
   "cell_type": "code",
   "execution_count": 24,
   "id": "8a8ed2ae",
   "metadata": {},
   "outputs": [
    {
     "name": "stdout",
     "output_type": "stream",
     "text": [
      "Количество участников теста - 6701\n"
     ]
    }
   ],
   "source": [
    "print('Количество участников теста -', ab_new_users_participants['user_id'].nunique())"
   ]
  },
  {
   "cell_type": "markdown",
   "id": "8bdf387f",
   "metadata": {},
   "source": [
    "Видим, что количество участников теста больше ожиаемого, но, полагаю, это не является проблемой. Главное, что участников было не меньше необходимого числа."
   ]
  },
  {
   "cell_type": "markdown",
   "id": "4a99053b",
   "metadata": {},
   "source": [
    "#### Срок ожидаемого эффекта"
   ]
  },
  {
   "cell_type": "markdown",
   "id": "df2360e3",
   "metadata": {},
   "source": [
    "Согласно ТЗ пользователи должны показать улучшение метрик за 14 дней с момента регистрации. Соответственно, лайфтайм каждого события должен быть не больше 14 дней. В случае, если в наших данных будут более поздние события, необходимо будет их удалить из данных.\n",
    "\n",
    "В таблице `final_ab_events` есть только данные о датах совершения действия. Соответственно необходимо добавить к ней даты регистрации пользователем, которые содержатся в таблице `final_ab_new_users`."
   ]
  },
  {
   "cell_type": "code",
   "execution_count": 25,
   "id": "bbf07880",
   "metadata": {
    "scrolled": true
   },
   "outputs": [],
   "source": [
    "# подготавливаем данные\n",
    "# объединяем таблицы\n",
    "final_ab_events_users = final_ab_events.merge(final_ab_new_users, on = 'user_id', how = 'left')\n",
    "# создаем столбец с лайфтаймом\n",
    "final_ab_events_users['lifetime'] = (\n",
    "    final_ab_events_users['event_dt'].round('d') - final_ab_events_users['first_date']).dt.days\n",
    "# оставляем только те события, лайтайм которых не превышает 14 дней\n",
    "final_ab_events_users = final_ab_events_users.query('lifetime < 15')"
   ]
  },
  {
   "cell_type": "code",
   "execution_count": 26,
   "id": "b266327a",
   "metadata": {},
   "outputs": [
    {
     "data": {
      "text/html": [
       "<div>\n",
       "<style scoped>\n",
       "    .dataframe tbody tr th:only-of-type {\n",
       "        vertical-align: middle;\n",
       "    }\n",
       "\n",
       "    .dataframe tbody tr th {\n",
       "        vertical-align: top;\n",
       "    }\n",
       "\n",
       "    .dataframe thead th {\n",
       "        text-align: right;\n",
       "    }\n",
       "</style>\n",
       "<table border=\"1\" class=\"dataframe\">\n",
       "  <thead>\n",
       "    <tr style=\"text-align: right;\">\n",
       "      <th></th>\n",
       "      <th>user_id</th>\n",
       "      <th>event_dt</th>\n",
       "      <th>event_name</th>\n",
       "      <th>details</th>\n",
       "      <th>first_date</th>\n",
       "      <th>region</th>\n",
       "      <th>device</th>\n",
       "      <th>lifetime</th>\n",
       "    </tr>\n",
       "  </thead>\n",
       "  <tbody>\n",
       "    <tr>\n",
       "      <th>0</th>\n",
       "      <td>E1BDDCE0DAFA2679</td>\n",
       "      <td>2020-12-07 20:22:03</td>\n",
       "      <td>purchase</td>\n",
       "      <td>99.99</td>\n",
       "      <td>2020-12-07</td>\n",
       "      <td>N.America</td>\n",
       "      <td>iPhone</td>\n",
       "      <td>1</td>\n",
       "    </tr>\n",
       "    <tr>\n",
       "      <th>1</th>\n",
       "      <td>7B6452F081F49504</td>\n",
       "      <td>2020-12-07 09:22:53</td>\n",
       "      <td>purchase</td>\n",
       "      <td>9.99</td>\n",
       "      <td>2020-12-07</td>\n",
       "      <td>EU</td>\n",
       "      <td>iPhone</td>\n",
       "      <td>0</td>\n",
       "    </tr>\n",
       "    <tr>\n",
       "      <th>2</th>\n",
       "      <td>9CD9F34546DF254C</td>\n",
       "      <td>2020-12-07 12:59:29</td>\n",
       "      <td>purchase</td>\n",
       "      <td>4.99</td>\n",
       "      <td>2020-12-07</td>\n",
       "      <td>N.America</td>\n",
       "      <td>iPhone</td>\n",
       "      <td>1</td>\n",
       "    </tr>\n",
       "    <tr>\n",
       "      <th>3</th>\n",
       "      <td>96F27A054B191457</td>\n",
       "      <td>2020-12-07 04:02:40</td>\n",
       "      <td>purchase</td>\n",
       "      <td>4.99</td>\n",
       "      <td>2020-12-07</td>\n",
       "      <td>EU</td>\n",
       "      <td>iPhone</td>\n",
       "      <td>0</td>\n",
       "    </tr>\n",
       "    <tr>\n",
       "      <th>4</th>\n",
       "      <td>1FD7660FDF94CA1F</td>\n",
       "      <td>2020-12-07 10:15:09</td>\n",
       "      <td>purchase</td>\n",
       "      <td>4.99</td>\n",
       "      <td>2020-12-07</td>\n",
       "      <td>EU</td>\n",
       "      <td>Android</td>\n",
       "      <td>0</td>\n",
       "    </tr>\n",
       "  </tbody>\n",
       "</table>\n",
       "</div>"
      ],
      "text/plain": [
       "            user_id            event_dt event_name  details first_date  \\\n",
       "0  E1BDDCE0DAFA2679 2020-12-07 20:22:03   purchase    99.99 2020-12-07   \n",
       "1  7B6452F081F49504 2020-12-07 09:22:53   purchase     9.99 2020-12-07   \n",
       "2  9CD9F34546DF254C 2020-12-07 12:59:29   purchase     4.99 2020-12-07   \n",
       "3  96F27A054B191457 2020-12-07 04:02:40   purchase     4.99 2020-12-07   \n",
       "4  1FD7660FDF94CA1F 2020-12-07 10:15:09   purchase     4.99 2020-12-07   \n",
       "\n",
       "      region   device  lifetime  \n",
       "0  N.America   iPhone         1  \n",
       "1         EU   iPhone         0  \n",
       "2  N.America   iPhone         1  \n",
       "3         EU   iPhone         0  \n",
       "4         EU  Android         0  "
      ]
     },
     "execution_count": 26,
     "metadata": {},
     "output_type": "execute_result"
    }
   ],
   "source": [
    "# смотрим на результат\n",
    "final_ab_events_users.head()"
   ]
  },
  {
   "cell_type": "markdown",
   "id": "380f49aa",
   "metadata": {},
   "source": [
    "### Время проведения теста"
   ]
  },
  {
   "cell_type": "markdown",
   "id": "cf158bca",
   "metadata": {},
   "source": [
    "Убедимся, что время проведения теста не совпадает с маркетинговыми и другими активностями.      \n",
    "Напомним, что дата начала проведения теста 07-12-2020, дата окончания - 04.01.2021.      \n",
    "Данные со всеми активностями содержатся в таблице `ab_project_marketing_events`. Отфильтруем данные в ней по указанным датам. Проверять будем по столбцу `start_dt`."
   ]
  },
  {
   "cell_type": "code",
   "execution_count": 27,
   "id": "c5d8c2f7",
   "metadata": {},
   "outputs": [
    {
     "data": {
      "text/html": [
       "<div>\n",
       "<style scoped>\n",
       "    .dataframe tbody tr th:only-of-type {\n",
       "        vertical-align: middle;\n",
       "    }\n",
       "\n",
       "    .dataframe tbody tr th {\n",
       "        vertical-align: top;\n",
       "    }\n",
       "\n",
       "    .dataframe thead th {\n",
       "        text-align: right;\n",
       "    }\n",
       "</style>\n",
       "<table border=\"1\" class=\"dataframe\">\n",
       "  <thead>\n",
       "    <tr style=\"text-align: right;\">\n",
       "      <th></th>\n",
       "      <th>name</th>\n",
       "      <th>regions</th>\n",
       "      <th>start_dt</th>\n",
       "      <th>finish_dt</th>\n",
       "    </tr>\n",
       "  </thead>\n",
       "  <tbody>\n",
       "    <tr>\n",
       "      <th>0</th>\n",
       "      <td>Christmas&amp;New Year Promo</td>\n",
       "      <td>EU, N.America</td>\n",
       "      <td>2020-12-25</td>\n",
       "      <td>2021-01-03</td>\n",
       "    </tr>\n",
       "    <tr>\n",
       "      <th>10</th>\n",
       "      <td>CIS New Year Gift Lottery</td>\n",
       "      <td>CIS</td>\n",
       "      <td>2020-12-30</td>\n",
       "      <td>2021-01-07</td>\n",
       "    </tr>\n",
       "  </tbody>\n",
       "</table>\n",
       "</div>"
      ],
      "text/plain": [
       "                         name        regions   start_dt  finish_dt\n",
       "0    Christmas&New Year Promo  EU, N.America 2020-12-25 2021-01-03\n",
       "10  CIS New Year Gift Lottery            CIS 2020-12-30 2021-01-07"
      ]
     },
     "execution_count": 27,
     "metadata": {},
     "output_type": "execute_result"
    }
   ],
   "source": [
    "ab_project_marketing_events.query('\"2020-12-07\" <=start_dt <= \"2021-01-04\"')"
   ]
  },
  {
   "cell_type": "code",
   "execution_count": 28,
   "id": "cfe50d87",
   "metadata": {},
   "outputs": [
    {
     "data": {
      "text/html": [
       "<div>\n",
       "<style scoped>\n",
       "    .dataframe tbody tr th:only-of-type {\n",
       "        vertical-align: middle;\n",
       "    }\n",
       "\n",
       "    .dataframe tbody tr th {\n",
       "        vertical-align: top;\n",
       "    }\n",
       "\n",
       "    .dataframe thead th {\n",
       "        text-align: right;\n",
       "    }\n",
       "</style>\n",
       "<table border=\"1\" class=\"dataframe\">\n",
       "  <thead>\n",
       "    <tr style=\"text-align: right;\">\n",
       "      <th></th>\n",
       "      <th>name</th>\n",
       "      <th>regions</th>\n",
       "      <th>start_dt</th>\n",
       "      <th>finish_dt</th>\n",
       "    </tr>\n",
       "  </thead>\n",
       "  <tbody>\n",
       "    <tr>\n",
       "      <th>0</th>\n",
       "      <td>Christmas&amp;New Year Promo</td>\n",
       "      <td>EU, N.America</td>\n",
       "      <td>2020-12-25</td>\n",
       "      <td>2021-01-03</td>\n",
       "    </tr>\n",
       "  </tbody>\n",
       "</table>\n",
       "</div>"
      ],
      "text/plain": [
       "                       name        regions   start_dt  finish_dt\n",
       "0  Christmas&New Year Promo  EU, N.America 2020-12-25 2021-01-03"
      ]
     },
     "execution_count": 28,
     "metadata": {},
     "output_type": "execute_result"
    }
   ],
   "source": [
    "ab_project_marketing_events.query('\"2020-12-07\" <=finish_dt <= \"2021-01-04\"')"
   ]
  },
  {
   "cell_type": "code",
   "execution_count": 29,
   "id": "de8e8675",
   "metadata": {},
   "outputs": [
    {
     "data": {
      "text/html": [
       "<div>\n",
       "<style scoped>\n",
       "    .dataframe tbody tr th:only-of-type {\n",
       "        vertical-align: middle;\n",
       "    }\n",
       "\n",
       "    .dataframe tbody tr th {\n",
       "        vertical-align: top;\n",
       "    }\n",
       "\n",
       "    .dataframe thead th {\n",
       "        text-align: right;\n",
       "    }\n",
       "</style>\n",
       "<table border=\"1\" class=\"dataframe\">\n",
       "  <thead>\n",
       "    <tr style=\"text-align: right;\">\n",
       "      <th></th>\n",
       "      <th>name</th>\n",
       "      <th>regions</th>\n",
       "      <th>start_dt</th>\n",
       "      <th>finish_dt</th>\n",
       "    </tr>\n",
       "  </thead>\n",
       "  <tbody>\n",
       "  </tbody>\n",
       "</table>\n",
       "</div>"
      ],
      "text/plain": [
       "Empty DataFrame\n",
       "Columns: [name, regions, start_dt, finish_dt]\n",
       "Index: []"
      ]
     },
     "execution_count": 29,
     "metadata": {},
     "output_type": "execute_result"
    }
   ],
   "source": [
    "ab_project_marketing_events.query('start_dt <= \"2020-12-07\" and \"2021-01-04\" <= finish_dt')"
   ]
  },
  {
   "cell_type": "markdown",
   "id": "6aaf8656",
   "metadata": {},
   "source": [
    "Видим, что на время проведения теста выпадают 2 маркетинговые активности. Представляется, что самостоятельно без помощи коллег мы вряд ли сможем самостоятельно определить, насколько они повлияют на поведение участников теста, так как мы не знаем содержание и цель таких активностей."
   ]
  },
  {
   "cell_type": "markdown",
   "id": "71c3f5d1",
   "metadata": {},
   "source": [
    "### Аудитория теста"
   ]
  },
  {
   "cell_type": "markdown",
   "id": "c1dc47b1",
   "metadata": {},
   "source": [
    "Проверим, что нет пересечений внутри теста и с конкурирующим тестом и нет пользователей, участвующих в двух группах теста одновременно. Также, проверим равномерность распределения по тестовым группам и правильность их формирования.\n",
    "\n",
    "Найдем пользователей, которые участвовали в 2 тестах одновременно."
   ]
  },
  {
   "cell_type": "markdown",
   "id": "ba4efbc3",
   "metadata": {},
   "source": [
    "#### Проверка пересечений внутри теста"
   ]
  },
  {
   "cell_type": "code",
   "execution_count": 30,
   "id": "c9d6313c",
   "metadata": {},
   "outputs": [
    {
     "name": "stdout",
     "output_type": "stream",
     "text": [
      "Количество пересечений пользователей между двумя группами теста - 0\n"
     ]
    }
   ],
   "source": [
    "#собираем массивы уникальных пользователей, которые есть в группах А и В и проверяем их на пересечение друг с другом\n",
    "unique_A = key_ab_participants.loc[key_ab_participants['group'] == 'A']['user_id'].unique()\n",
    "unique_B = key_ab_participants.loc[key_ab_participants['group'] == 'B']['user_id'].unique()\n",
    "print('Количество пересечений пользователей между двумя группами теста -', np.isin(unique_A, unique_B).sum())"
   ]
  },
  {
   "cell_type": "markdown",
   "id": "9ebc8481",
   "metadata": {},
   "source": [
    "Видим, что внутри нашего теста пользователи между собой не пересекаются."
   ]
  },
  {
   "cell_type": "markdown",
   "id": "db908db4",
   "metadata": {},
   "source": [
    "#### Проверка пересечений с конкурирующим тестом"
   ]
  },
  {
   "cell_type": "code",
   "execution_count": 31,
   "id": "3de4d126",
   "metadata": {},
   "outputs": [
    {
     "name": "stdout",
     "output_type": "stream",
     "text": [
      "Количество уникальных пользователей, которые участвовали в 2х тестах - 1602\n"
     ]
    }
   ],
   "source": [
    "# находим пользователей, которые участвовали в 2х тестах\n",
    "double_ab_participants = final_ab_participants.groupby('user_id').agg({'ab_test':'count'})\\\n",
    "                                        .reset_index().rename(columns={'ab_test':'test_num'})\n",
    "double_ab_participants = double_ab_participants.query('test_num > 1')\n",
    "# создаем список таких пользователй\n",
    "double_ab_participants_list = double_ab_participants['user_id'].unique()\n",
    "print('Количество уникальных пользователей, которые участвовали в 2х тестах -', double_ab_participants['user_id'].nunique())"
   ]
  },
  {
   "cell_type": "markdown",
   "id": "54015570",
   "metadata": {},
   "source": [
    "Видим, что таких пользователей 1602. Однако, полагаю, не стоит удалять их всех из наших данных, так как некоторые из них могли попасть лишь в контрольную группу, соответственно, на них конкурирующий тест не повлиял.     \n",
    "Таким образом, необходимо найти перечень пользователей, которые попали в экспериментальную группу конкурирующего теста и удалять уже их."
   ]
  },
  {
   "cell_type": "code",
   "execution_count": 32,
   "id": "2107d625",
   "metadata": {},
   "outputs": [
    {
     "name": "stdout",
     "output_type": "stream",
     "text": [
      "Количество пользователей, оторые участвовали в обоих тестах, при этом в конкурируюем тесте были в эксперементальной группе -  783\n"
     ]
    }
   ],
   "source": [
    "# создадим список пользователей, которые участвовали в конкурирубщем тесте в группе В\n",
    "compete_ab_participants_list = (\n",
    "    final_ab_participants.query('ab_test == \"interface_eu_test\" and group == \"B\"')['user_id'].unique()\n",
    ")\n",
    "\n",
    "# создаем спикок спользователей, которые участвовали в обоих тестах, при этом в конкурируюем тесте были в эксперементальной группе\n",
    "ab_participants_to_delete = double_ab_participants.query('user_id in @compete_ab_participants_list')['user_id'].unique()\n",
    "\n",
    "# отчищаем нащ датафрйем с участниками нашего теста от пользователей, которые участвовали в обоих тестах, \n",
    "# и при при этом в конкурируюем тесте были в эксперементальной группе\n",
    "key_ab_participants = key_ab_participants.query('user_id not in @ab_participants_to_delete')\n",
    "\n",
    "print('Количество пользователей, оторые участвовали в обоих тестах, при этом в конкурируюем тесте были в эксперементальной группе - ', \n",
    "     len(ab_participants_to_delete))"
   ]
  },
  {
   "cell_type": "markdown",
   "id": "6b86332e",
   "metadata": {},
   "source": [
    "Теперь проверим равномерность распределения по тестовым группам и правильность их формирования."
   ]
  },
  {
   "cell_type": "code",
   "execution_count": 33,
   "id": "d5ea5153",
   "metadata": {},
   "outputs": [
    {
     "name": "stdout",
     "output_type": "stream",
     "text": [
      "Общее количество участников после фильтрации 5918\n"
     ]
    },
    {
     "data": {
      "text/html": [
       "<div>\n",
       "<style scoped>\n",
       "    .dataframe tbody tr th:only-of-type {\n",
       "        vertical-align: middle;\n",
       "    }\n",
       "\n",
       "    .dataframe tbody tr th {\n",
       "        vertical-align: top;\n",
       "    }\n",
       "\n",
       "    .dataframe thead th {\n",
       "        text-align: right;\n",
       "    }\n",
       "</style>\n",
       "<table border=\"1\" class=\"dataframe\">\n",
       "  <thead>\n",
       "    <tr style=\"text-align: right;\">\n",
       "      <th></th>\n",
       "      <th>user_id</th>\n",
       "    </tr>\n",
       "    <tr>\n",
       "      <th>group</th>\n",
       "      <th></th>\n",
       "    </tr>\n",
       "  </thead>\n",
       "  <tbody>\n",
       "    <tr>\n",
       "      <th>A</th>\n",
       "      <td>3385</td>\n",
       "    </tr>\n",
       "    <tr>\n",
       "      <th>B</th>\n",
       "      <td>2533</td>\n",
       "    </tr>\n",
       "  </tbody>\n",
       "</table>\n",
       "</div>"
      ],
      "text/plain": [
       "       user_id\n",
       "group         \n",
       "A         3385\n",
       "B         2533"
      ]
     },
     "execution_count": 33,
     "metadata": {},
     "output_type": "execute_result"
    }
   ],
   "source": [
    "print('Общее количество участников после фильтрации', key_ab_participants['user_id'].nunique())\n",
    "key_ab_participants.groupby('group').agg({'user_id':'nunique'})"
   ]
  },
  {
   "cell_type": "markdown",
   "id": "07b0aadf",
   "metadata": {},
   "source": [
    "Видим, что количество уникальных участников теста стало меньше указанного в ТЗ количества, однако, полагаю, это не слишком критично, учитывая, что качество данных стало выше."
   ]
  },
  {
   "cell_type": "markdown",
   "id": "ea702c8a",
   "metadata": {},
   "source": [
    "## Исследовательский анализ данных"
   ]
  },
  {
   "cell_type": "markdown",
   "id": "80e2cd16",
   "metadata": {},
   "source": [
    "### Распределение количества событий на пользователя в выборках"
   ]
  },
  {
   "cell_type": "code",
   "execution_count": 34,
   "id": "b96e0472",
   "metadata": {},
   "outputs": [],
   "source": [
    "# к полученной таблице с событиями добавляем данные о группах теста\n",
    "key_ab_participants = key_ab_participants.merge(final_ab_events_users, on = 'user_id', how = 'left')\n"
   ]
  },
  {
   "cell_type": "code",
   "execution_count": 35,
   "id": "c4d62c94",
   "metadata": {},
   "outputs": [],
   "source": [
    "# посчитаем, сколько событий совершил каждый пользователь\n",
    "event_per_user = key_ab_participants.groupby('user_id')\\\n",
    "                                      .agg({'event_name':'count'}).reset_index()\\\n",
    "                                      .rename(columns={'event_name':'count'})\n",
    "# присоединяем получившуюся таблицу у основному датафрейма\n",
    "key_ab_participants = key_ab_participants.merge(event_per_user, on = 'user_id', how = 'left')\n",
    "\n",
    "#посчитаем, сколько пользователей совершило то или иное количество событий\n",
    "users_per_event = event_per_user.groupby('count').agg({'user_id':'nunique'}).reset_index()\\\n",
    "                                      .rename(columns={'user_id':'users'})\n"
   ]
  },
  {
   "cell_type": "code",
   "execution_count": 36,
   "id": "3bbbbbd6",
   "metadata": {},
   "outputs": [
    {
     "data": {
      "text/html": [
       "<div>\n",
       "<style scoped>\n",
       "    .dataframe tbody tr th:only-of-type {\n",
       "        vertical-align: middle;\n",
       "    }\n",
       "\n",
       "    .dataframe tbody tr th {\n",
       "        vertical-align: top;\n",
       "    }\n",
       "\n",
       "    .dataframe thead th {\n",
       "        text-align: right;\n",
       "    }\n",
       "</style>\n",
       "<table border=\"1\" class=\"dataframe\">\n",
       "  <thead>\n",
       "    <tr style=\"text-align: right;\">\n",
       "      <th></th>\n",
       "      <th>user_id</th>\n",
       "      <th>group</th>\n",
       "      <th>ab_test</th>\n",
       "      <th>event_dt</th>\n",
       "      <th>event_name</th>\n",
       "      <th>details</th>\n",
       "      <th>first_date</th>\n",
       "      <th>region</th>\n",
       "      <th>device</th>\n",
       "      <th>lifetime</th>\n",
       "      <th>count</th>\n",
       "      <th>users</th>\n",
       "    </tr>\n",
       "  </thead>\n",
       "  <tbody>\n",
       "    <tr>\n",
       "      <th>0</th>\n",
       "      <td>D1ABA3E2887B6A73</td>\n",
       "      <td>A</td>\n",
       "      <td>recommender_system_test</td>\n",
       "      <td>2020-12-07 14:43:27</td>\n",
       "      <td>purchase</td>\n",
       "      <td>99.99</td>\n",
       "      <td>2020-12-07</td>\n",
       "      <td>EU</td>\n",
       "      <td>PC</td>\n",
       "      <td>1.0</td>\n",
       "      <td>4</td>\n",
       "      <td>578</td>\n",
       "    </tr>\n",
       "    <tr>\n",
       "      <th>1</th>\n",
       "      <td>D1ABA3E2887B6A73</td>\n",
       "      <td>A</td>\n",
       "      <td>recommender_system_test</td>\n",
       "      <td>2020-12-07 14:43:29</td>\n",
       "      <td>product_cart</td>\n",
       "      <td>NaN</td>\n",
       "      <td>2020-12-07</td>\n",
       "      <td>EU</td>\n",
       "      <td>PC</td>\n",
       "      <td>1.0</td>\n",
       "      <td>4</td>\n",
       "      <td>578</td>\n",
       "    </tr>\n",
       "    <tr>\n",
       "      <th>2</th>\n",
       "      <td>D1ABA3E2887B6A73</td>\n",
       "      <td>A</td>\n",
       "      <td>recommender_system_test</td>\n",
       "      <td>2020-12-07 14:43:27</td>\n",
       "      <td>product_page</td>\n",
       "      <td>NaN</td>\n",
       "      <td>2020-12-07</td>\n",
       "      <td>EU</td>\n",
       "      <td>PC</td>\n",
       "      <td>1.0</td>\n",
       "      <td>4</td>\n",
       "      <td>578</td>\n",
       "    </tr>\n",
       "    <tr>\n",
       "      <th>3</th>\n",
       "      <td>D1ABA3E2887B6A73</td>\n",
       "      <td>A</td>\n",
       "      <td>recommender_system_test</td>\n",
       "      <td>2020-12-07 14:43:27</td>\n",
       "      <td>login</td>\n",
       "      <td>NaN</td>\n",
       "      <td>2020-12-07</td>\n",
       "      <td>EU</td>\n",
       "      <td>PC</td>\n",
       "      <td>1.0</td>\n",
       "      <td>4</td>\n",
       "      <td>578</td>\n",
       "    </tr>\n",
       "    <tr>\n",
       "      <th>4</th>\n",
       "      <td>A7A3664BD6242119</td>\n",
       "      <td>A</td>\n",
       "      <td>recommender_system_test</td>\n",
       "      <td>2020-12-20 15:46:06</td>\n",
       "      <td>product_page</td>\n",
       "      <td>NaN</td>\n",
       "      <td>2020-12-20</td>\n",
       "      <td>EU</td>\n",
       "      <td>iPhone</td>\n",
       "      <td>1.0</td>\n",
       "      <td>6</td>\n",
       "      <td>696</td>\n",
       "    </tr>\n",
       "  </tbody>\n",
       "</table>\n",
       "</div>"
      ],
      "text/plain": [
       "            user_id group                  ab_test            event_dt  \\\n",
       "0  D1ABA3E2887B6A73     A  recommender_system_test 2020-12-07 14:43:27   \n",
       "1  D1ABA3E2887B6A73     A  recommender_system_test 2020-12-07 14:43:29   \n",
       "2  D1ABA3E2887B6A73     A  recommender_system_test 2020-12-07 14:43:27   \n",
       "3  D1ABA3E2887B6A73     A  recommender_system_test 2020-12-07 14:43:27   \n",
       "4  A7A3664BD6242119     A  recommender_system_test 2020-12-20 15:46:06   \n",
       "\n",
       "     event_name  details first_date region  device  lifetime  count  users  \n",
       "0      purchase    99.99 2020-12-07     EU      PC       1.0      4    578  \n",
       "1  product_cart      NaN 2020-12-07     EU      PC       1.0      4    578  \n",
       "2  product_page      NaN 2020-12-07     EU      PC       1.0      4    578  \n",
       "3         login      NaN 2020-12-07     EU      PC       1.0      4    578  \n",
       "4  product_page      NaN 2020-12-20     EU  iPhone       1.0      6    696  "
      ]
     },
     "execution_count": 36,
     "metadata": {},
     "output_type": "execute_result"
    }
   ],
   "source": [
    "# присоединяем полученную таблицу к основному датафрейму\n",
    "key_ab_participants = key_ab_participants.merge(users_per_event, on = 'count', how = 'left')\n",
    "key_ab_participants.head()"
   ]
  },
  {
   "cell_type": "code",
   "execution_count": 37,
   "id": "c7a3e6e9",
   "metadata": {},
   "outputs": [
    {
     "data": {
      "text/html": [
       "<div>\n",
       "<style scoped>\n",
       "    .dataframe tbody tr th:only-of-type {\n",
       "        vertical-align: middle;\n",
       "    }\n",
       "\n",
       "    .dataframe tbody tr th {\n",
       "        vertical-align: top;\n",
       "    }\n",
       "\n",
       "    .dataframe thead th {\n",
       "        text-align: right;\n",
       "    }\n",
       "</style>\n",
       "<table border=\"1\" class=\"dataframe\">\n",
       "  <thead>\n",
       "    <tr style=\"text-align: right;\">\n",
       "      <th></th>\n",
       "      <th>count</th>\n",
       "      <th>group</th>\n",
       "      <th>user_id</th>\n",
       "    </tr>\n",
       "  </thead>\n",
       "  <tbody>\n",
       "    <tr>\n",
       "      <th>0</th>\n",
       "      <td>0</td>\n",
       "      <td>A</td>\n",
       "      <td>963</td>\n",
       "    </tr>\n",
       "    <tr>\n",
       "      <th>1</th>\n",
       "      <td>0</td>\n",
       "      <td>B</td>\n",
       "      <td>1711</td>\n",
       "    </tr>\n",
       "    <tr>\n",
       "      <th>2</th>\n",
       "      <td>1</td>\n",
       "      <td>A</td>\n",
       "      <td>33</td>\n",
       "    </tr>\n",
       "    <tr>\n",
       "      <th>3</th>\n",
       "      <td>1</td>\n",
       "      <td>B</td>\n",
       "      <td>24</td>\n",
       "    </tr>\n",
       "    <tr>\n",
       "      <th>4</th>\n",
       "      <td>2</td>\n",
       "      <td>A</td>\n",
       "      <td>194</td>\n",
       "    </tr>\n",
       "  </tbody>\n",
       "</table>\n",
       "</div>"
      ],
      "text/plain": [
       "   count group  user_id\n",
       "0      0     A      963\n",
       "1      0     B     1711\n",
       "2      1     A       33\n",
       "3      1     B       24\n",
       "4      2     A      194"
      ]
     },
     "execution_count": 37,
     "metadata": {},
     "output_type": "execute_result"
    }
   ],
   "source": [
    "dist_users_data = key_ab_participants.groupby(['count','group']).agg({'user_id':'nunique'}).reset_index()\n",
    "dist_users_data.head()"
   ]
  },
  {
   "cell_type": "markdown",
   "id": "3368f92c",
   "metadata": {},
   "source": [
    "Видим, что есть пользователи, которые совершили 0 действий. Необходимо отфильтровать их."
   ]
  },
  {
   "cell_type": "code",
   "execution_count": 38,
   "id": "506b99ca",
   "metadata": {},
   "outputs": [],
   "source": [
    "dist_users_data = dist_users_data.query('count > 0')"
   ]
  },
  {
   "cell_type": "markdown",
   "id": "8060d322",
   "metadata": {},
   "source": [
    "После выполнени всех преобразований еще раз посмотрим, сколько пользователей находится в группах."
   ]
  },
  {
   "cell_type": "code",
   "execution_count": 39,
   "id": "d7375f5b",
   "metadata": {},
   "outputs": [
    {
     "data": {
      "text/html": [
       "<div>\n",
       "<style scoped>\n",
       "    .dataframe tbody tr th:only-of-type {\n",
       "        vertical-align: middle;\n",
       "    }\n",
       "\n",
       "    .dataframe tbody tr th {\n",
       "        vertical-align: top;\n",
       "    }\n",
       "\n",
       "    .dataframe thead th {\n",
       "        text-align: right;\n",
       "    }\n",
       "</style>\n",
       "<table border=\"1\" class=\"dataframe\">\n",
       "  <thead>\n",
       "    <tr style=\"text-align: right;\">\n",
       "      <th></th>\n",
       "      <th>user_id</th>\n",
       "    </tr>\n",
       "    <tr>\n",
       "      <th>group</th>\n",
       "      <th></th>\n",
       "    </tr>\n",
       "  </thead>\n",
       "  <tbody>\n",
       "    <tr>\n",
       "      <th>A</th>\n",
       "      <td>2422</td>\n",
       "    </tr>\n",
       "    <tr>\n",
       "      <th>B</th>\n",
       "      <td>822</td>\n",
       "    </tr>\n",
       "  </tbody>\n",
       "</table>\n",
       "</div>"
      ],
      "text/plain": [
       "       user_id\n",
       "group         \n",
       "A         2422\n",
       "B          822"
      ]
     },
     "execution_count": 39,
     "metadata": {},
     "output_type": "execute_result"
    }
   ],
   "source": [
    "dist_users_data.groupby('group').agg({'user_id':'sum'})"
   ]
  },
  {
   "cell_type": "markdown",
   "id": "83185421",
   "metadata": {},
   "source": [
    "Видим, что количество пользователей в группе В стало существенно меньше количества пользователей в группе А."
   ]
  },
  {
   "cell_type": "code",
   "execution_count": 40,
   "id": "0d16e495",
   "metadata": {
    "scrolled": false
   },
   "outputs": [
    {
     "data": {
      "image/png": "[encoded data removed]"
     },
     "metadata": {},
     "output_type": "display_data"
    }
   ],
   "source": [
    "dist_users_data_fig = px.bar(\n",
    "    dist_users_data, \n",
    "    x='count', \n",
    "    y='user_id', \n",
    "    text='user_id', \n",
    "    color = 'group')\n",
    "\n",
    "dist_users_data_fig.update_layout(title='Распределение количества событий на пользователя в выборках',\n",
    "                   xaxis_title='Количество событий',\n",
    "                   yaxis_title='Количество пользователей')\n",
    "dist_users_data_fig.show()"
   ]
  },
  {
   "cell_type": "markdown",
   "id": "5f484a63",
   "metadata": {},
   "source": [
    "Видим, что, в целом, учитывая диспропорцию между группами, события рапределены одинаково по группам пользователей.\n",
    "\n",
    "Также, выше мы увидели, что в нашей итоговой таблице етсь данные по пользователям, которые не совершили ни одного действия. Следует удалить их из таблицы."
   ]
  },
  {
   "cell_type": "code",
   "execution_count": 41,
   "id": "d4a35023",
   "metadata": {},
   "outputs": [],
   "source": [
    "key_ab_participants = key_ab_participants.dropna(subset=['event_dt'])"
   ]
  },
  {
   "cell_type": "markdown",
   "id": "cc591a7c",
   "metadata": {},
   "source": [
    "### Распределение числа событий в выборках по дням"
   ]
  },
  {
   "cell_type": "markdown",
   "id": "a603686e",
   "metadata": {},
   "source": [
    "Добавим в наш основной датафрейм столбец, где будешь храниться только дата события, без времени."
   ]
  },
  {
   "cell_type": "code",
   "execution_count": 42,
   "id": "f38e1250",
   "metadata": {},
   "outputs": [],
   "source": [
    "key_ab_participants['event_only_date'] = key_ab_participants['event_dt'].dt.date\n",
    "key_ab_participants['event_only_date'] = pd.to_datetime(key_ab_participants['event_only_date'])"
   ]
  },
  {
   "cell_type": "code",
   "execution_count": 43,
   "id": "111d11ea",
   "metadata": {
    "scrolled": true
   },
   "outputs": [
    {
     "data": {
      "text/html": [
       "<div>\n",
       "<style scoped>\n",
       "    .dataframe tbody tr th:only-of-type {\n",
       "        vertical-align: middle;\n",
       "    }\n",
       "\n",
       "    .dataframe tbody tr th {\n",
       "        vertical-align: top;\n",
       "    }\n",
       "\n",
       "    .dataframe thead th {\n",
       "        text-align: right;\n",
       "    }\n",
       "</style>\n",
       "<table border=\"1\" class=\"dataframe\">\n",
       "  <thead>\n",
       "    <tr style=\"text-align: right;\">\n",
       "      <th></th>\n",
       "      <th>event_only_date</th>\n",
       "      <th>group</th>\n",
       "      <th>event_count</th>\n",
       "    </tr>\n",
       "  </thead>\n",
       "  <tbody>\n",
       "    <tr>\n",
       "      <th>0</th>\n",
       "      <td>2020-12-07</td>\n",
       "      <td>A</td>\n",
       "      <td>276</td>\n",
       "    </tr>\n",
       "    <tr>\n",
       "      <th>1</th>\n",
       "      <td>2020-12-07</td>\n",
       "      <td>B</td>\n",
       "      <td>337</td>\n",
       "    </tr>\n",
       "    <tr>\n",
       "      <th>2</th>\n",
       "      <td>2020-12-08</td>\n",
       "      <td>A</td>\n",
       "      <td>311</td>\n",
       "    </tr>\n",
       "    <tr>\n",
       "      <th>3</th>\n",
       "      <td>2020-12-08</td>\n",
       "      <td>B</td>\n",
       "      <td>221</td>\n",
       "    </tr>\n",
       "    <tr>\n",
       "      <th>4</th>\n",
       "      <td>2020-12-09</td>\n",
       "      <td>A</td>\n",
       "      <td>345</td>\n",
       "    </tr>\n",
       "  </tbody>\n",
       "</table>\n",
       "</div>"
      ],
      "text/plain": [
       "  event_only_date group  event_count\n",
       "0      2020-12-07     A          276\n",
       "1      2020-12-07     B          337\n",
       "2      2020-12-08     A          311\n",
       "3      2020-12-08     B          221\n",
       "4      2020-12-09     A          345"
      ]
     },
     "execution_count": 43,
     "metadata": {},
     "output_type": "execute_result"
    }
   ],
   "source": [
    "# подготавливаем данные для визуализации\n",
    "event_per_day_dist = key_ab_participants.groupby(['event_only_date','group']).agg({'event_dt':'count'})\\\n",
    "                                        .reset_index().rename(columns={'event_dt':'event_count'})\n",
    "event_per_day_dist.head()"
   ]
  },
  {
   "cell_type": "code",
   "execution_count": 44,
   "id": "e05c2784",
   "metadata": {},
   "outputs": [
    {
     "data": {
      "image/png": "[encoded data removed]"
     },
     "metadata": {},
     "output_type": "display_data"
    }
   ],
   "source": [
    "event_per_day_dist_fig = px.bar(\n",
    "    event_per_day_dist, \n",
    "    x='event_only_date', \n",
    "    y='event_count', \n",
    "    text='event_count', \n",
    "    color = 'group')\n",
    "\n",
    "event_per_day_dist_fig.update_layout(title='Распределение числа событий в выборках по дням',\n",
    "                   xaxis_title='День',\n",
    "                   yaxis_title='Количество событий')\n",
    "event_per_day_dist_fig.show()"
   ]
  },
  {
   "cell_type": "markdown",
   "id": "71501bb9",
   "metadata": {},
   "source": [
    "Видим, что начиная с 14 декабря у пользователей группы А резко возрастает число событий, при том, что количество событий группы В остается на примерно на одном уровне. Возможно, это связано с тем, что с 14 декабря пользователи стали собираться в основном в группу В. Проверим данное предположение.\n"
   ]
  },
  {
   "cell_type": "code",
   "execution_count": 45,
   "id": "954cad84",
   "metadata": {},
   "outputs": [
    {
     "data": {
      "text/html": [
       "<div>\n",
       "<style scoped>\n",
       "    .dataframe tbody tr th:only-of-type {\n",
       "        vertical-align: middle;\n",
       "    }\n",
       "\n",
       "    .dataframe tbody tr th {\n",
       "        vertical-align: top;\n",
       "    }\n",
       "\n",
       "    .dataframe thead th {\n",
       "        text-align: right;\n",
       "    }\n",
       "</style>\n",
       "<table border=\"1\" class=\"dataframe\">\n",
       "  <thead>\n",
       "    <tr style=\"text-align: right;\">\n",
       "      <th></th>\n",
       "      <th>first_date</th>\n",
       "      <th>group</th>\n",
       "      <th>user_count</th>\n",
       "    </tr>\n",
       "  </thead>\n",
       "  <tbody>\n",
       "    <tr>\n",
       "      <th>0</th>\n",
       "      <td>2020-12-07</td>\n",
       "      <td>A</td>\n",
       "      <td>137</td>\n",
       "    </tr>\n",
       "    <tr>\n",
       "      <th>1</th>\n",
       "      <td>2020-12-07</td>\n",
       "      <td>B</td>\n",
       "      <td>159</td>\n",
       "    </tr>\n",
       "    <tr>\n",
       "      <th>2</th>\n",
       "      <td>2020-12-08</td>\n",
       "      <td>A</td>\n",
       "      <td>89</td>\n",
       "    </tr>\n",
       "    <tr>\n",
       "      <th>3</th>\n",
       "      <td>2020-12-08</td>\n",
       "      <td>B</td>\n",
       "      <td>38</td>\n",
       "    </tr>\n",
       "    <tr>\n",
       "      <th>4</th>\n",
       "      <td>2020-12-09</td>\n",
       "      <td>A</td>\n",
       "      <td>70</td>\n",
       "    </tr>\n",
       "  </tbody>\n",
       "</table>\n",
       "</div>"
      ],
      "text/plain": [
       "  first_date group  user_count\n",
       "0 2020-12-07     A         137\n",
       "1 2020-12-07     B         159\n",
       "2 2020-12-08     A          89\n",
       "3 2020-12-08     B          38\n",
       "4 2020-12-09     A          70"
      ]
     },
     "execution_count": 45,
     "metadata": {},
     "output_type": "execute_result"
    }
   ],
   "source": [
    "participants_dist = key_ab_participants.groupby(['first_date','group']).agg({'user_id':'nunique'})\\\n",
    "                                       .reset_index().rename(columns={'user_id':'user_count'})\n",
    "participants_dist.head()"
   ]
  },
  {
   "cell_type": "code",
   "execution_count": 46,
   "id": "1974114d",
   "metadata": {},
   "outputs": [
    {
     "data": {
      "image/png": "[encoded data removed]"
     },
     "metadata": {},
     "output_type": "display_data"
    }
   ],
   "source": [
    "participants_dist_fig = px.bar(\n",
    "    participants_dist, \n",
    "    x='first_date', \n",
    "    y='user_count', \n",
    "    text='user_count', \n",
    "    color = 'group')\n",
    "\n",
    "participants_dist_fig.update_layout(title='Распределение набора новых пользователей в группы по дням',\n",
    "                   xaxis_title='День',\n",
    "                   yaxis_title='Количество пользователей')\n",
    "participants_dist_fig.show()"
   ]
  },
  {
   "cell_type": "markdown",
   "id": "5dca58f1",
   "metadata": {},
   "source": [
    "Действительно, видим, что с 14 декабря наблюдается резкий скачок набора пользователей в группу А. Соответственно, с данной даты пользователи данной группы и совершают больше всего событий."
   ]
  },
  {
   "cell_type": "markdown",
   "id": "5f1f7219",
   "metadata": {},
   "source": [
    "### Изменение конверсии в воронке в выборках на разных этапах"
   ]
  },
  {
   "cell_type": "code",
   "execution_count": 47,
   "id": "568020f6",
   "metadata": {},
   "outputs": [],
   "source": [
    "# создадим из исходного датафрейма 2 таблицы, с фильрацией по группам теста\n",
    "funnel_A = key_ab_participants.loc[key_ab_participants['group'] == 'A']\n",
    "funnel_B = key_ab_participants.loc[key_ab_participants['group'] == 'B']\n"
   ]
  },
  {
   "cell_type": "code",
   "execution_count": 48,
   "id": "79d4d677",
   "metadata": {},
   "outputs": [],
   "source": [
    "#считаем в каждой таблице количество событий (воронку событий)  \n",
    "# и процент оставшихся пользователей, дошедших до каждого этапа об общего числа\n",
    "funnel_A_cr = funnel_A.groupby('event_name').agg({'user_id':'nunique'}).reset_index()\n",
    "funnel_A_cr['%_users_A'] = round((funnel_A_cr['user_id'] / funnel_A['user_id'].nunique()) * 100,2)\n",
    "funnel_A_cr = funnel_A_cr.rename(columns={'user_id':'users_A'})\n",
    "\n",
    "funnel_B_cr = funnel_B.groupby('event_name').agg({'user_id':'nunique'}).reset_index()\n",
    "funnel_B_cr['%_users_B'] = round((funnel_B_cr['user_id'] / funnel_B['user_id'].nunique()) * 100,2)\n",
    "funnel_B_cr = funnel_B_cr.rename(columns={'user_id':'users_B'})\n",
    "\n",
    "# объединяем полученные таблицы\n",
    "funnel_AB_cr = funnel_A_cr.merge(funnel_B_cr, on = 'event_name', how = 'inner')"
   ]
  },
  {
   "cell_type": "code",
   "execution_count": 49,
   "id": "65d540b8",
   "metadata": {},
   "outputs": [
    {
     "data": {
      "text/html": [
       "<div>\n",
       "<style scoped>\n",
       "    .dataframe tbody tr th:only-of-type {\n",
       "        vertical-align: middle;\n",
       "    }\n",
       "\n",
       "    .dataframe tbody tr th {\n",
       "        vertical-align: top;\n",
       "    }\n",
       "\n",
       "    .dataframe thead th {\n",
       "        text-align: right;\n",
       "    }\n",
       "</style>\n",
       "<table border=\"1\" class=\"dataframe\">\n",
       "  <thead>\n",
       "    <tr style=\"text-align: right;\">\n",
       "      <th></th>\n",
       "      <th>event_name</th>\n",
       "      <th>users_A</th>\n",
       "      <th>%_users_A</th>\n",
       "      <th>users_B</th>\n",
       "      <th>%_users_B</th>\n",
       "    </tr>\n",
       "  </thead>\n",
       "  <tbody>\n",
       "    <tr>\n",
       "      <th>0</th>\n",
       "      <td>login</td>\n",
       "      <td>2422</td>\n",
       "      <td>100.00</td>\n",
       "      <td>821</td>\n",
       "      <td>99.88</td>\n",
       "    </tr>\n",
       "    <tr>\n",
       "      <th>1</th>\n",
       "      <td>product_cart</td>\n",
       "      <td>728</td>\n",
       "      <td>30.06</td>\n",
       "      <td>225</td>\n",
       "      <td>27.37</td>\n",
       "    </tr>\n",
       "    <tr>\n",
       "      <th>2</th>\n",
       "      <td>product_page</td>\n",
       "      <td>1571</td>\n",
       "      <td>64.86</td>\n",
       "      <td>459</td>\n",
       "      <td>55.84</td>\n",
       "    </tr>\n",
       "    <tr>\n",
       "      <th>3</th>\n",
       "      <td>purchase</td>\n",
       "      <td>773</td>\n",
       "      <td>31.92</td>\n",
       "      <td>226</td>\n",
       "      <td>27.49</td>\n",
       "    </tr>\n",
       "  </tbody>\n",
       "</table>\n",
       "</div>"
      ],
      "text/plain": [
       "     event_name  users_A  %_users_A  users_B  %_users_B\n",
       "0         login     2422     100.00      821      99.88\n",
       "1  product_cart      728      30.06      225      27.37\n",
       "2  product_page     1571      64.86      459      55.84\n",
       "3      purchase      773      31.92      226      27.49"
      ]
     },
     "execution_count": 49,
     "metadata": {},
     "output_type": "execute_result"
    }
   ],
   "source": [
    "funnel_AB_cr"
   ]
  },
  {
   "cell_type": "markdown",
   "id": "ec9a5742",
   "metadata": {},
   "source": [
    "Видим, что события расположены в некорректной последовательности. Необходимо вручную ее подправить."
   ]
  },
  {
   "cell_type": "code",
   "execution_count": 50,
   "id": "cd767452",
   "metadata": {},
   "outputs": [
    {
     "data": {
      "text/html": [
       "<div>\n",
       "<style scoped>\n",
       "    .dataframe tbody tr th:only-of-type {\n",
       "        vertical-align: middle;\n",
       "    }\n",
       "\n",
       "    .dataframe tbody tr th {\n",
       "        vertical-align: top;\n",
       "    }\n",
       "\n",
       "    .dataframe thead th {\n",
       "        text-align: right;\n",
       "    }\n",
       "</style>\n",
       "<table border=\"1\" class=\"dataframe\">\n",
       "  <thead>\n",
       "    <tr style=\"text-align: right;\">\n",
       "      <th></th>\n",
       "      <th>event_name</th>\n",
       "      <th>users_A</th>\n",
       "      <th>%_users_A</th>\n",
       "      <th>users_B</th>\n",
       "      <th>%_users_B</th>\n",
       "    </tr>\n",
       "  </thead>\n",
       "  <tbody>\n",
       "    <tr>\n",
       "      <th>0</th>\n",
       "      <td>login</td>\n",
       "      <td>2422</td>\n",
       "      <td>100.00</td>\n",
       "      <td>821</td>\n",
       "      <td>99.88</td>\n",
       "    </tr>\n",
       "    <tr>\n",
       "      <th>1</th>\n",
       "      <td>product_page</td>\n",
       "      <td>1571</td>\n",
       "      <td>64.86</td>\n",
       "      <td>459</td>\n",
       "      <td>55.84</td>\n",
       "    </tr>\n",
       "    <tr>\n",
       "      <th>2</th>\n",
       "      <td>product_cart</td>\n",
       "      <td>728</td>\n",
       "      <td>30.06</td>\n",
       "      <td>225</td>\n",
       "      <td>27.37</td>\n",
       "    </tr>\n",
       "    <tr>\n",
       "      <th>3</th>\n",
       "      <td>purchase</td>\n",
       "      <td>773</td>\n",
       "      <td>31.92</td>\n",
       "      <td>226</td>\n",
       "      <td>27.49</td>\n",
       "    </tr>\n",
       "  </tbody>\n",
       "</table>\n",
       "</div>"
      ],
      "text/plain": [
       "     event_name  users_A  %_users_A  users_B  %_users_B\n",
       "0         login     2422     100.00      821      99.88\n",
       "1  product_page     1571      64.86      459      55.84\n",
       "2  product_cart      728      30.06      225      27.37\n",
       "3      purchase      773      31.92      226      27.49"
      ]
     },
     "execution_count": 50,
     "metadata": {},
     "output_type": "execute_result"
    }
   ],
   "source": [
    "d = {1: 2, 2: 1}\n",
    "funnel_AB_cr = funnel_AB_cr.rename(d).sort_index()\n",
    "funnel_AB_cr"
   ]
  },
  {
   "cell_type": "markdown",
   "id": "514e90ac",
   "metadata": {},
   "source": [
    "Данные подготовлены, можно визуализировать."
   ]
  },
  {
   "cell_type": "code",
   "execution_count": 51,
   "id": "d66eed06",
   "metadata": {},
   "outputs": [
    {
     "data": {
      "image/png": "[encoded data removed]"
     },
     "metadata": {},
     "output_type": "display_data"
    }
   ],
   "source": [
    "fig_funnel = go.Figure()\n",
    "\n",
    "fig_funnel.add_trace(go.Funnel(\n",
    "    name = 'Группа А',\n",
    "    y = funnel_AB_cr['event_name'],\n",
    "    x = funnel_AB_cr['users_A'],\n",
    "    textinfo = \"value+percent previous\"))\n",
    "\n",
    "fig_funnel.add_trace(go.Funnel(\n",
    "    name = 'Группа В',\n",
    "    y = funnel_AB_cr['event_name'],\n",
    "    x = funnel_AB_cr['users_B'],\n",
    "    textposition = \"inside\",\n",
    "    textinfo = \"value+percent previous\"))\n",
    "fig_funnel.update_layout(title = 'Изменение конверсии в воронке в выборках')\n",
    "fig_funnel.show()"
   ]
  },
  {
   "cell_type": "markdown",
   "id": "7227fbc5",
   "metadata": {},
   "source": [
    "Видим, что на последнем этапе `purchase` конверсия выше по сравнению с предыдущим этапом. Видимо, можно совершить покупку минуя этап `product_cart` либо в исходных данных может быть ошибка. Данную информацию о двух возможных ваиантах следует дополнительно уточнить у коллег.\n",
    "\n",
    "Тем не менее, возможно, что все пользователи, которые положили товар в корзину, в конечном счете, купили его."
   ]
  },
  {
   "cell_type": "markdown",
   "id": "227215a5",
   "metadata": {},
   "source": [
    "### Особенности, которые нужно учесть, прежде чем приступать к A/B-тестированию"
   ]
  },
  {
   "cell_type": "markdown",
   "id": "5f9ac72a",
   "metadata": {},
   "source": [
    "Перечислим обнаруженные особенности данных, которые могут негативно влиять на точность теста:\n",
    "- последнее действие было совершено 2020-12-30, на несколько дней раньше ожидаемой даты прекращения теста - 2021-01-04;\n",
    "- на время проведения теста выпадают 2 маркетинговые активности: Christmas&New Year Promo и CIS New Year Gift Lottery;\n",
    "- после фильтрации пользователей, не соответствующих ТЗ, их общее количество немного стало меньше ожидаемых 6000. После удаления пользователей, которые вообще не совершили какого-либо действия, количество пользователей стало существенно меньше указанного порога, и, кроме того, размеры выборок стали сильно диспропорциональны.\n",
    "\n"
   ]
  },
  {
   "cell_type": "markdown",
   "id": "1bf0c2c2",
   "metadata": {},
   "source": [
    "## Оценка резуальтатов A/B-теста"
   ]
  },
  {
   "cell_type": "markdown",
   "id": "a4b77bab",
   "metadata": {},
   "source": [
    "Для проведения АВ теста необходимо немного изменить вид имеющихся данных."
   ]
  },
  {
   "cell_type": "code",
   "execution_count": 52,
   "id": "61dec27a",
   "metadata": {},
   "outputs": [
    {
     "data": {
      "text/html": [
       "<div>\n",
       "<style scoped>\n",
       "    .dataframe tbody tr th:only-of-type {\n",
       "        vertical-align: middle;\n",
       "    }\n",
       "\n",
       "    .dataframe tbody tr th {\n",
       "        vertical-align: top;\n",
       "    }\n",
       "\n",
       "    .dataframe thead th {\n",
       "        text-align: right;\n",
       "    }\n",
       "</style>\n",
       "<table border=\"1\" class=\"dataframe\">\n",
       "  <thead>\n",
       "    <tr style=\"text-align: right;\">\n",
       "      <th>event_name</th>\n",
       "      <th>total_users</th>\n",
       "      <th>product_page</th>\n",
       "      <th>product_cart</th>\n",
       "      <th>purchase</th>\n",
       "    </tr>\n",
       "  </thead>\n",
       "  <tbody>\n",
       "    <tr>\n",
       "      <th>users_A</th>\n",
       "      <td>2422.0</td>\n",
       "      <td>1571.0</td>\n",
       "      <td>728.0</td>\n",
       "      <td>773.0</td>\n",
       "    </tr>\n",
       "    <tr>\n",
       "      <th>users_B</th>\n",
       "      <td>821.0</td>\n",
       "      <td>459.0</td>\n",
       "      <td>225.0</td>\n",
       "      <td>226.0</td>\n",
       "    </tr>\n",
       "  </tbody>\n",
       "</table>\n",
       "</div>"
      ],
      "text/plain": [
       "event_name  total_users  product_page  product_cart  purchase\n",
       "users_A          2422.0        1571.0         728.0     773.0\n",
       "users_B           821.0         459.0         225.0     226.0"
      ]
     },
     "execution_count": 52,
     "metadata": {},
     "output_type": "execute_result"
    }
   ],
   "source": [
    "# странспониурем ранее полученную таблицу с конверсиями\n",
    "funnel_AB_cr_test = funnel_AB_cr.set_index('event_name').T\n",
    "# удалим строки с расчетом конверсии\n",
    "funnel_AB_cr_test.drop(labels = ['%_users_A','%_users_B'], axis=0, inplace = True)\n",
    "# в колонке логин уже сожержится общее число уникальных пользователей по группе, переименуем ее соответствующим образом\n",
    "funnel_AB_cr_test = funnel_AB_cr_test.rename(columns={'login':'total_users'})\n",
    "funnel_AB_cr_test"
   ]
  },
  {
   "cell_type": "code",
   "execution_count": 53,
   "id": "e37baeba",
   "metadata": {},
   "outputs": [],
   "source": [
    "# пишем функцию для теста (вложенная функция)\n",
    "def z_test (success, trials, alpha):\n",
    "    \n",
    "    p1 = success[0] / trials[0]\n",
    "    \n",
    "    p2 = success[1] / trials[1]\n",
    "    \n",
    "    print(success[0], success[1],trials[0],trials[1])\n",
    "    \n",
    "    p_combined = (success[0] + success[1]) / (trials[0] + trials[1])\n",
    "    \n",
    "    difference = p1 - p2\n",
    " \n",
    "    z_value = difference / mth.sqrt(p_combined *(1-p_combined) * (1/trials[0] + 1/trials[1]))\n",
    "    \n",
    "    distr = st.norm(0, 1) \n",
    "    \n",
    "    p_value = (1 - distr.cdf(abs(z_value))) * 2\n",
    "    \n",
    "    print('p-значение: ', p_value)\n",
    "    \n",
    "    if (p_value < alpha):\n",
    "        print(\"Отвергаем нулевую гипотезу: между долями есть значимая разница\")\n",
    "        print('')\n",
    "    else:\n",
    "        print(\"Не получилось отвергнуть нулевую гипотезу, нет оснований считать доли разными\")\n",
    "        print('')"
   ]
  },
  {
   "cell_type": "code",
   "execution_count": 54,
   "id": "38286a91",
   "metadata": {},
   "outputs": [],
   "source": [
    "# пишем функкцию, которая будет собираться данные и подавать их на вход вложенной функции\n",
    "def conduct_ztest (group_1, group_2, alpha):\n",
    "    alpha_value = alpha\n",
    "    total_users = ([funnel_AB_cr_test['total_users'].iloc[group_1], \n",
    "                    funnel_AB_cr_test['total_users'].iloc[group_2]])\n",
    "    product_page_users = ([funnel_AB_cr_test['product_page'].iloc[group_1], \n",
    "                           funnel_AB_cr_test['product_page'].iloc[group_2]])\n",
    "    product_cart_users = ([funnel_AB_cr_test['product_cart'].iloc[group_1], \n",
    "                                 funnel_AB_cr_test['product_cart'].iloc[group_2]])\n",
    "    purchase_users = ([funnel_AB_cr_test['purchase'].iloc[group_1], \n",
    "                               funnel_AB_cr_test['purchase'].iloc[group_2]])\n",
    "\n",
    "    \n",
    "    print('Результаты теста по долям total_users и product_page_users')\n",
    "    z_test(product_page_users, total_users, alpha_value)\n",
    "    \n",
    "    print('Результаты теста по долям total_users и product_cart_users')\n",
    "    z_test(product_cart_users, total_users, alpha_value)\n",
    "    \n",
    "    print('Результаты теста по долям total_users и purchase_users')\n",
    "    z_test(purchase_users, total_users, alpha_value)\n",
    "    "
   ]
  },
  {
   "cell_type": "markdown",
   "id": "3b7d4024",
   "metadata": {},
   "source": [
    "Сформулируем нулевую (Н0) и альтернативную (Н1) гипотезы.      \n",
    "Н0: между долями групп отсутствует статистически значимые различия, нет оснований полагать, что доли разные.      \n",
    "Н1: между долями групп есть статистически значимые различия, есть основания полагать, что доли разные.      \n",
    "Так как мы проводим множественное сравнение и несколько тестов, необходимо скорректировать показатель alpha. Воспользуемся методом Шидака."
   ]
  },
  {
   "cell_type": "code",
   "execution_count": 55,
   "id": "4293e8ec",
   "metadata": {},
   "outputs": [
    {
     "name": "stdout",
     "output_type": "stream",
     "text": [
      "Новое значение alpha с учетом поправки Шидака равно - 0.017 .\n"
     ]
    }
   ],
   "source": [
    "shidak_alpha = round(1 - (1 - 0.05)**(1/3),3)\n",
    "print('Новое значение alpha с учетом поправки Шидака равно -',shidak_alpha,'.')"
   ]
  },
  {
   "cell_type": "code",
   "execution_count": 56,
   "id": "cb09c8e2",
   "metadata": {},
   "outputs": [
    {
     "name": "stdout",
     "output_type": "stream",
     "text": [
      "Результаты теста по долям total_users и product_page_users\n",
      "1571.0 459.0 2422.0 821.0\n",
      "p-значение:  4.575797608152854e-06\n",
      "Отвергаем нулевую гипотезу: между долями есть значимая разница\n",
      "\n",
      "Результаты теста по долям total_users и product_cart_users\n",
      "728.0 225.0 2422.0 821.0\n",
      "p-значение:  0.14938759297956405\n",
      "Не получилось отвергнуть нулевую гипотезу, нет оснований считать доли разными\n",
      "\n",
      "Результаты теста по долям total_users и purchase_users\n",
      "773.0 226.0 2422.0 821.0\n",
      "p-значение:  0.01859038755136444\n",
      "Не получилось отвергнуть нулевую гипотезу, нет оснований считать доли разными\n",
      "\n"
     ]
    }
   ],
   "source": [
    "# проверка на наличие статистически значимых различий между группами A и В\n",
    "conduct_ztest (0, 1, shidak_alpha)"
   ]
  },
  {
   "cell_type": "markdown",
   "id": "703688eb",
   "metadata": {},
   "source": [
    "Видим, что тест нашел статистечески значимые отличия только между долями событий total_users и product_page_users. Но к статистически значимой разнице в покупке изменение не привело. Есть основания считать, что ожидаемы эффект не достигнут. Однако данный вывод можно сделать лишь условно ввиду неполного соответствия данных теста ТЗ."
   ]
  },
  {
   "cell_type": "markdown",
   "id": "15d47a07",
   "metadata": {},
   "source": [
    "## Общие выводы"
   ]
  },
  {
   "cell_type": "markdown",
   "id": "450e9a8d",
   "metadata": {},
   "source": [
    "1) Соответствие данных Техническому заданию:             \n",
    "        - последнее действие было совершено 2020-12-30, на несколько дней раньше ожидаемой даты прекращения теста - 2021-01-04;       \n",
    "        - на время проведения теста выпадают 2 маркетинговые активности: Christmas&New Year Promo и CIS New Year Gift Lottery;       \n",
    "        - много событий было совершено пользователями за пределами ожидаемых 14 дней с момента регистрации, как указано в ТЗ;        \n",
    "        - после фильтрации пользователей, не соответствующих ТЗ, их общее количество немного стало меньше ожидаемых 6000. После удаления пользователей, которые вообще не совершили какого-либо действия, количество пользователей стало существенно меньше указанного порога, и, кроме того, размеры выборок стали сильно диспропорциональны. В то же время, количество пользователей недостаточно большое, чтобы несмотря на такую диспропорцию можно было заметить ожидаемый эффект в результате теста.      \n",
    "    \n",
    "2) Очень много пользователей не совершили ни одного действия, их удаление привело к сильной диспропорции групп А и В.       \n",
    "3) Несмотря на диспропорцию между группами, события рапределены примерно одинаково по группам пользователей.       \n",
    "4) Тест нашел статистечески значимые отличия только между долями событий total_users и product_page_users.      \n",
    "5) Воронка событий некорректная: либо ошибка в данных либо пользователи могут покупать напрямую минуя шаг добавления товара в корзину. Необходимо дополнительно уточнить данные.       \n",
    "6) Учитывая, что начиная с 14 декабря у пользователей группы А резко возрастает число событий, в связи с таким же резким увеличением участников группы А, в будущем следует формировать обе группы более равномерно в разрезе времени.      \n",
    "\n",
    "**В текущих условий АВ тест проведен некорректно. Необходимо скорректировать данные и провести тест повторно.**\n",
    " "
   ]
  }
 ],
 "metadata": {
  "ExecuteTimeLog": [
   {
    "duration": 1364,
    "start_time": "2023-05-12T21:33:11.620Z"
   },
   {
    "duration": 2021,
    "start_time": "2023-05-12T21:33:12.986Z"
   },
   {
    "duration": 166,
    "start_time": "2023-05-12T21:33:15.016Z"
   },
   {
    "duration": 52,
    "start_time": "2023-05-12T21:33:15.184Z"
   },
   {
    "duration": 62,
    "start_time": "2023-05-12T21:33:15.237Z"
   },
   {
    "duration": 30,
    "start_time": "2023-05-12T21:33:15.300Z"
   },
   {
    "duration": 134,
    "start_time": "2023-05-12T21:33:15.331Z"
   },
   {
    "duration": 177,
    "start_time": "2023-05-12T21:33:15.466Z"
   },
   {
    "duration": 216,
    "start_time": "2023-05-12T21:33:15.646Z"
   },
   {
    "duration": 62,
    "start_time": "2023-05-12T21:33:15.864Z"
   },
   {
    "duration": 38,
    "start_time": "2023-05-12T21:33:15.930Z"
   },
   {
    "duration": 54,
    "start_time": "2023-05-12T21:33:15.970Z"
   },
   {
    "duration": 81,
    "start_time": "2023-05-12T21:33:16.025Z"
   },
   {
    "duration": 49,
    "start_time": "2023-05-12T21:33:16.111Z"
   },
   {
    "duration": 22,
    "start_time": "2023-05-12T21:33:16.161Z"
   },
   {
    "duration": 13,
    "start_time": "2023-05-12T21:33:16.185Z"
   },
   {
    "duration": 78,
    "start_time": "2023-05-12T21:33:16.207Z"
   },
   {
    "duration": 7,
    "start_time": "2023-05-12T21:33:16.287Z"
   },
   {
    "duration": 66,
    "start_time": "2023-05-12T21:33:16.303Z"
   },
   {
    "duration": 102,
    "start_time": "2023-05-12T21:33:16.371Z"
   },
   {
    "duration": 25,
    "start_time": "2023-05-12T21:33:16.475Z"
   },
   {
    "duration": 362,
    "start_time": "2023-05-12T21:33:16.505Z"
   },
   {
    "duration": 11,
    "start_time": "2023-05-12T21:33:16.868Z"
   },
   {
    "duration": 76,
    "start_time": "2023-05-12T21:33:16.880Z"
   },
   {
    "duration": 78,
    "start_time": "2023-05-12T21:33:16.958Z"
   },
   {
    "duration": 49,
    "start_time": "2023-05-12T21:33:17.039Z"
   },
   {
    "duration": 78,
    "start_time": "2023-05-12T21:33:17.091Z"
   },
   {
    "duration": 153,
    "start_time": "2023-05-12T21:33:17.171Z"
   },
   {
    "duration": 36,
    "start_time": "2023-05-12T21:33:17.332Z"
   },
   {
    "duration": 20,
    "start_time": "2023-05-12T21:33:17.370Z"
   },
   {
    "duration": 35,
    "start_time": "2023-05-12T21:33:17.391Z"
   },
   {
    "duration": 42,
    "start_time": "2023-05-12T21:33:17.428Z"
   },
   {
    "duration": 71,
    "start_time": "2023-05-12T21:33:17.472Z"
   },
   {
    "duration": 1004,
    "start_time": "2023-05-12T21:33:17.545Z"
   },
   {
    "duration": 8,
    "start_time": "2023-05-12T21:33:18.551Z"
   },
   {
    "duration": 50,
    "start_time": "2023-05-12T21:33:18.561Z"
   },
   {
    "duration": 80,
    "start_time": "2023-05-12T21:33:18.613Z"
   },
   {
    "duration": 97,
    "start_time": "2023-05-12T21:33:18.695Z"
   },
   {
    "duration": 34,
    "start_time": "2023-05-12T21:33:18.794Z"
   },
   {
    "duration": 98,
    "start_time": "2023-05-12T21:33:18.830Z"
   },
   {
    "duration": 15,
    "start_time": "2023-05-12T21:33:18.937Z"
   },
   {
    "duration": 47,
    "start_time": "2023-05-12T21:33:18.954Z"
   },
   {
    "duration": 46,
    "start_time": "2023-05-12T21:33:19.003Z"
   },
   {
    "duration": 24,
    "start_time": "2023-05-12T21:33:19.051Z"
   },
   {
    "duration": 15,
    "start_time": "2023-05-12T21:33:19.077Z"
   },
   {
    "duration": 46,
    "start_time": "2023-05-12T21:33:19.094Z"
   },
   {
    "duration": 9,
    "start_time": "2023-05-12T21:33:19.143Z"
   },
   {
    "duration": 21,
    "start_time": "2023-05-12T21:33:19.153Z"
   },
   {
    "duration": 9,
    "start_time": "2023-05-12T21:33:19.175Z"
   },
   {
    "duration": 59,
    "start_time": "2023-05-12T21:33:19.185Z"
   },
   {
    "duration": 21,
    "start_time": "2023-05-12T21:37:07.947Z"
   },
   {
    "duration": 9,
    "start_time": "2023-05-12T21:38:37.123Z"
   },
   {
    "duration": 7,
    "start_time": "2023-05-12T21:38:37.925Z"
   },
   {
    "duration": 9,
    "start_time": "2023-05-12T21:38:39.423Z"
   },
   {
    "duration": 30,
    "start_time": "2023-05-12T21:38:40.414Z"
   },
   {
    "duration": 1344,
    "start_time": "2023-05-13T06:06:04.550Z"
   },
   {
    "duration": 2053,
    "start_time": "2023-05-13T06:06:05.898Z"
   },
   {
    "duration": 118,
    "start_time": "2023-05-13T06:06:07.953Z"
   },
   {
    "duration": 29,
    "start_time": "2023-05-13T06:06:08.073Z"
   },
   {
    "duration": 36,
    "start_time": "2023-05-13T06:06:08.103Z"
   },
   {
    "duration": 19,
    "start_time": "2023-05-13T06:06:08.141Z"
   },
   {
    "duration": 127,
    "start_time": "2023-05-13T06:06:08.161Z"
   },
   {
    "duration": 87,
    "start_time": "2023-05-13T06:06:08.289Z"
   },
   {
    "duration": 221,
    "start_time": "2023-05-13T06:06:08.377Z"
   },
   {
    "duration": 42,
    "start_time": "2023-05-13T06:06:08.600Z"
   },
   {
    "duration": 15,
    "start_time": "2023-05-13T06:06:08.643Z"
   },
   {
    "duration": 22,
    "start_time": "2023-05-13T06:06:08.659Z"
   },
   {
    "duration": 26,
    "start_time": "2023-05-13T06:06:08.682Z"
   },
   {
    "duration": 10,
    "start_time": "2023-05-13T06:06:08.710Z"
   },
   {
    "duration": 39,
    "start_time": "2023-05-13T06:06:08.721Z"
   },
   {
    "duration": 61,
    "start_time": "2023-05-13T06:06:08.762Z"
   },
   {
    "duration": 32,
    "start_time": "2023-05-13T06:06:08.825Z"
   },
   {
    "duration": 5,
    "start_time": "2023-05-13T06:06:08.858Z"
   },
   {
    "duration": 21,
    "start_time": "2023-05-13T06:06:08.864Z"
   },
   {
    "duration": 30,
    "start_time": "2023-05-13T06:06:08.886Z"
   },
   {
    "duration": 12,
    "start_time": "2023-05-13T06:06:08.918Z"
   },
   {
    "duration": 263,
    "start_time": "2023-05-13T06:06:08.932Z"
   },
   {
    "duration": 11,
    "start_time": "2023-05-13T06:06:09.197Z"
   },
   {
    "duration": 29,
    "start_time": "2023-05-13T06:06:09.210Z"
   },
   {
    "duration": 61,
    "start_time": "2023-05-13T06:06:09.241Z"
   },
   {
    "duration": 16,
    "start_time": "2023-05-13T06:06:09.304Z"
   },
   {
    "duration": 31,
    "start_time": "2023-05-13T06:06:09.322Z"
   },
   {
    "duration": 143,
    "start_time": "2023-05-13T06:06:09.357Z"
   },
   {
    "duration": 35,
    "start_time": "2023-05-13T06:06:09.503Z"
   },
   {
    "duration": 30,
    "start_time": "2023-05-13T06:06:09.539Z"
   },
   {
    "duration": 15,
    "start_time": "2023-05-13T06:06:09.571Z"
   },
   {
    "duration": 21,
    "start_time": "2023-05-13T06:06:09.588Z"
   },
   {
    "duration": 38,
    "start_time": "2023-05-13T06:06:09.612Z"
   },
   {
    "duration": 372,
    "start_time": "2023-05-13T06:06:09.651Z"
   },
   {
    "duration": 11,
    "start_time": "2023-05-13T06:06:10.025Z"
   },
   {
    "duration": 20,
    "start_time": "2023-05-13T06:06:10.038Z"
   },
   {
    "duration": 57,
    "start_time": "2023-05-13T06:06:10.059Z"
   },
   {
    "duration": 119,
    "start_time": "2023-05-13T06:06:10.117Z"
   },
   {
    "duration": 18,
    "start_time": "2023-05-13T06:06:10.238Z"
   },
   {
    "duration": 76,
    "start_time": "2023-05-13T06:06:10.257Z"
   },
   {
    "duration": 17,
    "start_time": "2023-05-13T06:06:10.335Z"
   },
   {
    "duration": 31,
    "start_time": "2023-05-13T06:06:10.354Z"
   },
   {
    "duration": 32,
    "start_time": "2023-05-13T06:06:10.386Z"
   },
   {
    "duration": 28,
    "start_time": "2023-05-13T06:06:10.419Z"
   },
   {
    "duration": 32,
    "start_time": "2023-05-13T06:06:10.448Z"
   },
   {
    "duration": 16,
    "start_time": "2023-05-13T06:06:10.481Z"
   },
   {
    "duration": 10,
    "start_time": "2023-05-13T06:06:10.498Z"
   },
   {
    "duration": 8,
    "start_time": "2023-05-13T06:06:10.509Z"
   },
   {
    "duration": 19,
    "start_time": "2023-05-13T06:06:10.518Z"
   },
   {
    "duration": 14,
    "start_time": "2023-05-13T06:06:10.539Z"
   },
   {
    "duration": 38,
    "start_time": "2023-05-13T09:25:23.221Z"
   },
   {
    "duration": 185,
    "start_time": "2023-05-13T09:28:43.937Z"
   },
   {
    "duration": 6,
    "start_time": "2023-05-13T09:29:36.754Z"
   },
   {
    "duration": 24,
    "start_time": "2023-05-13T09:29:42.031Z"
   },
   {
    "duration": 26,
    "start_time": "2023-05-13T09:30:19.960Z"
   },
   {
    "duration": 8,
    "start_time": "2023-05-13T09:30:33.696Z"
   },
   {
    "duration": 16,
    "start_time": "2023-05-13T09:31:48.332Z"
   },
   {
    "duration": 13,
    "start_time": "2023-05-13T09:32:03.061Z"
   },
   {
    "duration": 12,
    "start_time": "2023-05-13T09:34:28.940Z"
   },
   {
    "duration": 45,
    "start_time": "2023-05-13T09:36:00.717Z"
   },
   {
    "duration": 34,
    "start_time": "2023-05-13T09:36:12.323Z"
   },
   {
    "duration": 40,
    "start_time": "2023-05-13T09:36:30.897Z"
   },
   {
    "duration": 24,
    "start_time": "2023-05-13T09:37:09.736Z"
   },
   {
    "duration": 7,
    "start_time": "2023-05-13T09:41:26.637Z"
   },
   {
    "duration": 1368,
    "start_time": "2023-05-13T09:45:08.680Z"
   },
   {
    "duration": 1231,
    "start_time": "2023-05-13T09:45:10.050Z"
   },
   {
    "duration": 190,
    "start_time": "2023-05-13T09:45:11.283Z"
   },
   {
    "duration": 29,
    "start_time": "2023-05-13T09:45:11.477Z"
   },
   {
    "duration": 58,
    "start_time": "2023-05-13T09:45:11.516Z"
   },
   {
    "duration": 43,
    "start_time": "2023-05-13T09:45:11.576Z"
   },
   {
    "duration": 129,
    "start_time": "2023-05-13T09:45:11.621Z"
   },
   {
    "duration": 115,
    "start_time": "2023-05-13T09:45:11.752Z"
   },
   {
    "duration": 242,
    "start_time": "2023-05-13T09:45:11.869Z"
   },
   {
    "duration": 57,
    "start_time": "2023-05-13T09:45:12.114Z"
   },
   {
    "duration": 8,
    "start_time": "2023-05-13T09:45:12.173Z"
   },
   {
    "duration": 41,
    "start_time": "2023-05-13T09:45:12.197Z"
   },
   {
    "duration": 18,
    "start_time": "2023-05-13T09:45:12.240Z"
   },
   {
    "duration": 11,
    "start_time": "2023-05-13T09:45:12.260Z"
   },
   {
    "duration": 13,
    "start_time": "2023-05-13T09:45:12.272Z"
   },
   {
    "duration": 6,
    "start_time": "2023-05-13T09:45:12.287Z"
   },
   {
    "duration": 58,
    "start_time": "2023-05-13T09:45:12.301Z"
   },
   {
    "duration": 5,
    "start_time": "2023-05-13T09:45:12.360Z"
   },
   {
    "duration": 17,
    "start_time": "2023-05-13T09:45:12.367Z"
   },
   {
    "duration": 34,
    "start_time": "2023-05-13T09:45:12.386Z"
   },
   {
    "duration": 39,
    "start_time": "2023-05-13T09:45:12.425Z"
   },
   {
    "duration": 6,
    "start_time": "2023-05-13T09:45:12.465Z"
   },
   {
    "duration": 332,
    "start_time": "2023-05-13T09:45:12.472Z"
   },
   {
    "duration": 20,
    "start_time": "2023-05-13T09:45:12.811Z"
   },
   {
    "duration": 25,
    "start_time": "2023-05-13T09:45:12.838Z"
   },
   {
    "duration": 11,
    "start_time": "2023-05-13T09:45:12.865Z"
   },
   {
    "duration": 12,
    "start_time": "2023-05-13T09:45:12.878Z"
   },
   {
    "duration": 7,
    "start_time": "2023-05-13T09:46:23.466Z"
   },
   {
    "duration": 2077,
    "start_time": "2023-05-13T09:46:38.850Z"
   },
   {
    "duration": 2138,
    "start_time": "2023-05-13T09:48:17.725Z"
   },
   {
    "duration": 17,
    "start_time": "2023-05-13T09:48:24.759Z"
   },
   {
    "duration": 13,
    "start_time": "2023-05-13T09:48:30.177Z"
   },
   {
    "duration": 319,
    "start_time": "2023-05-13T09:49:19.491Z"
   },
   {
    "duration": 319,
    "start_time": "2023-05-13T09:51:36.554Z"
   },
   {
    "duration": 1522,
    "start_time": "2023-05-13T09:52:30.088Z"
   },
   {
    "duration": 1154,
    "start_time": "2023-05-13T09:52:31.613Z"
   },
   {
    "duration": 150,
    "start_time": "2023-05-13T09:52:32.769Z"
   },
   {
    "duration": 17,
    "start_time": "2023-05-13T09:52:32.921Z"
   },
   {
    "duration": 64,
    "start_time": "2023-05-13T09:52:32.940Z"
   },
   {
    "duration": 25,
    "start_time": "2023-05-13T09:52:33.009Z"
   },
   {
    "duration": 122,
    "start_time": "2023-05-13T09:52:33.036Z"
   },
   {
    "duration": 101,
    "start_time": "2023-05-13T09:52:33.159Z"
   },
   {
    "duration": 207,
    "start_time": "2023-05-13T09:52:33.262Z"
   },
   {
    "duration": 65,
    "start_time": "2023-05-13T09:52:33.470Z"
   },
   {
    "duration": 8,
    "start_time": "2023-05-13T09:52:33.537Z"
   },
   {
    "duration": 34,
    "start_time": "2023-05-13T09:52:33.547Z"
   },
   {
    "duration": 21,
    "start_time": "2023-05-13T09:52:33.598Z"
   },
   {
    "duration": 4,
    "start_time": "2023-05-13T09:52:33.623Z"
   },
   {
    "duration": 16,
    "start_time": "2023-05-13T09:52:33.629Z"
   },
   {
    "duration": 10,
    "start_time": "2023-05-13T09:52:33.649Z"
   },
   {
    "duration": 35,
    "start_time": "2023-05-13T09:52:33.661Z"
   },
   {
    "duration": 8,
    "start_time": "2023-05-13T09:52:33.700Z"
   },
   {
    "duration": 11,
    "start_time": "2023-05-13T09:52:33.717Z"
   },
   {
    "duration": 44,
    "start_time": "2023-05-13T09:52:33.729Z"
   },
   {
    "duration": 14,
    "start_time": "2023-05-13T09:52:33.775Z"
   },
   {
    "duration": 6,
    "start_time": "2023-05-13T09:52:33.792Z"
   },
   {
    "duration": 333,
    "start_time": "2023-05-13T09:52:33.802Z"
   },
   {
    "duration": 11,
    "start_time": "2023-05-13T09:52:34.137Z"
   },
   {
    "duration": 11,
    "start_time": "2023-05-13T09:52:34.150Z"
   },
   {
    "duration": 256,
    "start_time": "2023-05-13T09:52:34.163Z"
   },
   {
    "duration": 25,
    "start_time": "2023-05-13T09:52:34.421Z"
   },
   {
    "duration": 14,
    "start_time": "2023-05-13T09:52:34.448Z"
   },
   {
    "duration": 34,
    "start_time": "2023-05-13T09:52:34.464Z"
   },
   {
    "duration": 157,
    "start_time": "2023-05-13T09:52:34.499Z"
   },
   {
    "duration": 42,
    "start_time": "2023-05-13T09:52:34.657Z"
   },
   {
    "duration": 28,
    "start_time": "2023-05-13T09:52:34.700Z"
   },
   {
    "duration": 28,
    "start_time": "2023-05-13T09:52:34.730Z"
   },
   {
    "duration": 6,
    "start_time": "2023-05-13T09:52:34.760Z"
   },
   {
    "duration": 14,
    "start_time": "2023-05-13T09:52:34.768Z"
   },
   {
    "duration": 402,
    "start_time": "2023-05-13T09:52:34.804Z"
   },
   {
    "duration": 8,
    "start_time": "2023-05-13T09:52:35.213Z"
   },
   {
    "duration": 21,
    "start_time": "2023-05-13T09:52:35.222Z"
   },
   {
    "duration": 66,
    "start_time": "2023-05-13T09:52:35.245Z"
   },
   {
    "duration": 115,
    "start_time": "2023-05-13T09:52:35.315Z"
   },
   {
    "duration": 22,
    "start_time": "2023-05-13T09:52:35.434Z"
   },
   {
    "duration": 104,
    "start_time": "2023-05-13T09:52:35.457Z"
   },
   {
    "duration": 12,
    "start_time": "2023-05-13T09:52:35.563Z"
   },
   {
    "duration": 42,
    "start_time": "2023-05-13T09:52:35.577Z"
   },
   {
    "duration": 18,
    "start_time": "2023-05-13T09:52:35.621Z"
   },
   {
    "duration": 23,
    "start_time": "2023-05-13T09:52:35.641Z"
   },
   {
    "duration": 22,
    "start_time": "2023-05-13T09:52:35.666Z"
   },
   {
    "duration": 46,
    "start_time": "2023-05-13T09:52:35.690Z"
   },
   {
    "duration": 33,
    "start_time": "2023-05-13T09:52:35.738Z"
   },
   {
    "duration": 12,
    "start_time": "2023-05-13T09:52:35.773Z"
   },
   {
    "duration": 32,
    "start_time": "2023-05-13T09:52:35.787Z"
   },
   {
    "duration": 19,
    "start_time": "2023-05-13T09:52:35.821Z"
   },
   {
    "duration": 1556,
    "start_time": "2023-05-13T12:19:46.752Z"
   },
   {
    "duration": 2039,
    "start_time": "2023-05-13T12:19:48.309Z"
   },
   {
    "duration": 208,
    "start_time": "2023-05-13T12:19:50.351Z"
   },
   {
    "duration": 43,
    "start_time": "2023-05-13T12:19:50.564Z"
   },
   {
    "duration": 72,
    "start_time": "2023-05-13T12:19:50.613Z"
   },
   {
    "duration": 47,
    "start_time": "2023-05-13T12:19:50.690Z"
   },
   {
    "duration": 225,
    "start_time": "2023-05-13T12:19:50.743Z"
   },
   {
    "duration": 112,
    "start_time": "2023-05-13T12:19:50.974Z"
   },
   {
    "duration": 313,
    "start_time": "2023-05-13T12:19:51.095Z"
   },
   {
    "duration": 102,
    "start_time": "2023-05-13T12:19:51.415Z"
   },
   {
    "duration": 16,
    "start_time": "2023-05-13T12:19:51.523Z"
   },
   {
    "duration": 33,
    "start_time": "2023-05-13T12:19:51.548Z"
   },
   {
    "duration": 30,
    "start_time": "2023-05-13T12:19:51.588Z"
   },
   {
    "duration": 14,
    "start_time": "2023-05-13T12:19:51.624Z"
   },
   {
    "duration": 15,
    "start_time": "2023-05-13T12:19:51.645Z"
   },
   {
    "duration": 16,
    "start_time": "2023-05-13T12:19:51.668Z"
   },
   {
    "duration": 58,
    "start_time": "2023-05-13T12:19:51.696Z"
   },
   {
    "duration": 17,
    "start_time": "2023-05-13T12:19:51.758Z"
   },
   {
    "duration": 13,
    "start_time": "2023-05-13T12:19:51.783Z"
   },
   {
    "duration": 36,
    "start_time": "2023-05-13T12:19:51.802Z"
   },
   {
    "duration": 29,
    "start_time": "2023-05-13T12:19:51.844Z"
   },
   {
    "duration": 12,
    "start_time": "2023-05-13T12:19:51.878Z"
   },
   {
    "duration": 375,
    "start_time": "2023-05-13T12:19:51.894Z"
   },
   {
    "duration": 32,
    "start_time": "2023-05-13T12:19:52.270Z"
   },
   {
    "duration": 26,
    "start_time": "2023-05-13T12:19:52.304Z"
   },
   {
    "duration": 244,
    "start_time": "2023-05-13T12:19:52.338Z"
   },
   {
    "duration": 40,
    "start_time": "2023-05-13T12:19:52.591Z"
   },
   {
    "duration": 20,
    "start_time": "2023-05-13T12:19:52.637Z"
   },
   {
    "duration": 12,
    "start_time": "2023-05-13T12:19:52.659Z"
   },
   {
    "duration": 160,
    "start_time": "2023-05-13T12:19:52.684Z"
   },
   {
    "duration": 28,
    "start_time": "2023-05-13T12:19:52.847Z"
   },
   {
    "duration": 40,
    "start_time": "2023-05-13T12:19:52.877Z"
   },
   {
    "duration": 29,
    "start_time": "2023-05-13T12:19:52.919Z"
   },
   {
    "duration": 5,
    "start_time": "2023-05-13T12:19:52.950Z"
   },
   {
    "duration": 11,
    "start_time": "2023-05-13T12:19:52.956Z"
   },
   {
    "duration": 1105,
    "start_time": "2023-05-13T12:19:52.968Z"
   },
   {
    "duration": 20,
    "start_time": "2023-05-13T12:19:54.075Z"
   },
   {
    "duration": 49,
    "start_time": "2023-05-13T12:19:54.097Z"
   },
   {
    "duration": 60,
    "start_time": "2023-05-13T12:19:54.150Z"
   },
   {
    "duration": 111,
    "start_time": "2023-05-13T12:19:54.212Z"
   },
   {
    "duration": 39,
    "start_time": "2023-05-13T12:19:54.325Z"
   },
   {
    "duration": 98,
    "start_time": "2023-05-13T12:19:54.366Z"
   },
   {
    "duration": 8,
    "start_time": "2023-05-13T12:19:54.466Z"
   },
   {
    "duration": 65,
    "start_time": "2023-05-13T12:19:54.476Z"
   },
   {
    "duration": 8,
    "start_time": "2023-05-13T12:19:54.544Z"
   },
   {
    "duration": 13,
    "start_time": "2023-05-13T12:19:54.554Z"
   },
   {
    "duration": 32,
    "start_time": "2023-05-13T12:19:54.570Z"
   },
   {
    "duration": 26,
    "start_time": "2023-05-13T12:19:54.606Z"
   },
   {
    "duration": 6,
    "start_time": "2023-05-13T12:19:54.643Z"
   },
   {
    "duration": 18,
    "start_time": "2023-05-13T12:19:54.651Z"
   },
   {
    "duration": 31,
    "start_time": "2023-05-13T12:19:54.671Z"
   },
   {
    "duration": 27,
    "start_time": "2023-05-13T12:19:54.704Z"
   },
   {
    "duration": 46,
    "start_time": "2023-05-17T17:55:31.110Z"
   },
   {
    "duration": 1379,
    "start_time": "2023-05-17T17:55:38.536Z"
   },
   {
    "duration": 1553,
    "start_time": "2023-05-17T17:55:39.917Z"
   },
   {
    "duration": 138,
    "start_time": "2023-05-17T17:55:41.472Z"
   },
   {
    "duration": 19,
    "start_time": "2023-05-17T17:55:41.611Z"
   },
   {
    "duration": 48,
    "start_time": "2023-05-17T17:55:41.632Z"
   },
   {
    "duration": 43,
    "start_time": "2023-05-17T17:55:41.681Z"
   },
   {
    "duration": 121,
    "start_time": "2023-05-17T17:55:41.725Z"
   },
   {
    "duration": 77,
    "start_time": "2023-05-17T17:55:41.848Z"
   },
   {
    "duration": 211,
    "start_time": "2023-05-17T17:55:42.128Z"
   },
   {
    "duration": 42,
    "start_time": "2023-05-17T17:55:42.341Z"
   },
   {
    "duration": 25,
    "start_time": "2023-05-17T17:55:42.384Z"
   },
   {
    "duration": 26,
    "start_time": "2023-05-17T17:55:42.411Z"
   },
   {
    "duration": 11,
    "start_time": "2023-05-17T17:55:42.439Z"
   },
   {
    "duration": 9,
    "start_time": "2023-05-17T17:55:42.452Z"
   },
   {
    "duration": 13,
    "start_time": "2023-05-17T17:55:42.463Z"
   },
   {
    "duration": 12,
    "start_time": "2023-05-17T17:55:42.477Z"
   },
   {
    "duration": 46,
    "start_time": "2023-05-17T17:55:42.490Z"
   },
   {
    "duration": 5,
    "start_time": "2023-05-17T17:55:42.537Z"
   },
   {
    "duration": 17,
    "start_time": "2023-05-17T17:55:42.543Z"
   },
   {
    "duration": 26,
    "start_time": "2023-05-17T17:55:42.562Z"
   },
   {
    "duration": 25,
    "start_time": "2023-05-17T17:55:42.589Z"
   },
   {
    "duration": 5,
    "start_time": "2023-05-17T17:55:42.933Z"
   },
   {
    "duration": 309,
    "start_time": "2023-05-17T17:55:42.940Z"
   },
   {
    "duration": 11,
    "start_time": "2023-05-17T17:55:43.250Z"
   },
   {
    "duration": 30,
    "start_time": "2023-05-17T17:55:43.262Z"
   },
   {
    "duration": 29,
    "start_time": "2023-05-17T17:55:43.294Z"
   },
   {
    "duration": 9,
    "start_time": "2023-05-17T18:03:18.523Z"
   }
  ],
  "kernelspec": {
   "display_name": "Python 3 (ipykernel)",
   "language": "python",
   "name": "python3"
  },
  "language_info": {
   "codemirror_mode": {
    "name": "ipython",
    "version": 3
   },
   "file_extension": ".py",
   "mimetype": "text/x-python",
   "name": "python",
   "nbconvert_exporter": "python",
   "pygments_lexer": "ipython3",
   "version": "3.9.12"
  },
  "toc": {
   "base_numbering": 1,
   "nav_menu": {},
   "number_sections": true,
   "sideBar": true,
   "skip_h1_title": true,
   "title_cell": "Table of Contents",
   "title_sidebar": "Contents",
   "toc_cell": true,
   "toc_position": {},
   "toc_section_display": true,
   "toc_window_display": false
  }
 },
 "nbformat": 4,
 "nbformat_minor": 5
}
