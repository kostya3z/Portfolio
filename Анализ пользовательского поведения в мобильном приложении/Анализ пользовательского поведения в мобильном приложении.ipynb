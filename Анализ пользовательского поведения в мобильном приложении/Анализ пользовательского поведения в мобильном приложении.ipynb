{
 "cells": [
  {
   "cell_type": "markdown",
   "id": "8aad6661",
   "metadata": {
    "toc": true
   },
   "source": [
    "<h1>Table of Contents<span class=\"tocSkip\"></span></h1>\n",
    "<div class=\"toc\"><ul class=\"toc-item\"><li><span><a href=\"#Предобработка-данных\" data-toc-modified-id=\"Предобработка-данных-1\"><span class=\"toc-item-num\">1&nbsp;&nbsp;</span>Предобработка данных</a></span></li><li><span><a href=\"#Изучение-и-проверка-данных\" data-toc-modified-id=\"Изучение-и-проверка-данных-2\"><span class=\"toc-item-num\">2&nbsp;&nbsp;</span>Изучение и проверка данных</a></span></li><li><span><a href=\"#Изучение-воронки-событий\" data-toc-modified-id=\"Изучение-воронки-событий-3\"><span class=\"toc-item-num\">3&nbsp;&nbsp;</span>Изучение воронки событий</a></span></li><li><span><a href=\"#Изучение-результатов-эксперимента\" data-toc-modified-id=\"Изучение-результатов-эксперимента-4\"><span class=\"toc-item-num\">4&nbsp;&nbsp;</span>Изучение результатов эксперимента</a></span></li><li><span><a href=\"#Общие-выводы\" data-toc-modified-id=\"Общие-выводы-5\"><span class=\"toc-item-num\">5&nbsp;&nbsp;</span>Общие выводы</a></span></li></ul></div>"
   ]
  },
  {
   "cell_type": "markdown",
   "id": "fbcb7a35",
   "metadata": {},
   "source": [
    "## Предобработка данных"
   ]
  },
  {
   "cell_type": "code",
   "execution_count": 1,
   "id": "5328a209",
   "metadata": {},
   "outputs": [],
   "source": [
    "# импортируем библиотеки\n",
    "import pandas as pd\n",
    "from scipy import stats as st\n",
    "import datetime as dt\n",
    "import numpy as np\n",
    "import seaborn as sns\n",
    "from matplotlib import pyplot as plt\n",
    "import math as mth\n",
    "import plotly.express as px\n",
    "from plotly import graph_objects as go\n",
    "from plotly.subplots import make_subplots\n",
    "\n",
    "import warnings\n",
    "warnings.filterwarnings(\"ignore\")"
   ]
  },
  {
   "cell_type": "code",
   "execution_count": 2,
   "id": "ef407f2d",
   "metadata": {},
   "outputs": [],
   "source": [
    "import plotly.io as pio \n",
    "pio.renderers.default = \"png\" \n",
    "svg_renderer = pio.renderers[\"png\"] \n",
    "svg_renderer.scale = 1.2\n"
   ]
  },
  {
   "cell_type": "code",
   "execution_count": 3,
   "id": "fae8ac22",
   "metadata": {},
   "outputs": [],
   "source": [
    "# импортируем данные\n",
    "try:\n",
    "    data = pd.read_csv('https://code.s3.yandex.net/datasets/logs_exp.csv', sep = '\\t') \n",
    "except:\n",
    "    data = pd.read_csv('/Users/konstantinzuev/БА/Jupiter/SP_2', sep = '\\t')"
   ]
  },
  {
   "cell_type": "code",
   "execution_count": 4,
   "id": "8c0c85d0",
   "metadata": {},
   "outputs": [
    {
     "data": {
      "text/html": [
       "<div>\n",
       "<style scoped>\n",
       "    .dataframe tbody tr th:only-of-type {\n",
       "        vertical-align: middle;\n",
       "    }\n",
       "\n",
       "    .dataframe tbody tr th {\n",
       "        vertical-align: top;\n",
       "    }\n",
       "\n",
       "    .dataframe thead th {\n",
       "        text-align: right;\n",
       "    }\n",
       "</style>\n",
       "<table border=\"1\" class=\"dataframe\">\n",
       "  <thead>\n",
       "    <tr style=\"text-align: right;\">\n",
       "      <th></th>\n",
       "      <th>EventName</th>\n",
       "      <th>DeviceIDHash</th>\n",
       "      <th>EventTimestamp</th>\n",
       "      <th>ExpId</th>\n",
       "    </tr>\n",
       "  </thead>\n",
       "  <tbody>\n",
       "    <tr>\n",
       "      <th>0</th>\n",
       "      <td>MainScreenAppear</td>\n",
       "      <td>4575588528974610257</td>\n",
       "      <td>1564029816</td>\n",
       "      <td>246</td>\n",
       "    </tr>\n",
       "    <tr>\n",
       "      <th>1</th>\n",
       "      <td>MainScreenAppear</td>\n",
       "      <td>7416695313311560658</td>\n",
       "      <td>1564053102</td>\n",
       "      <td>246</td>\n",
       "    </tr>\n",
       "    <tr>\n",
       "      <th>2</th>\n",
       "      <td>PaymentScreenSuccessful</td>\n",
       "      <td>3518123091307005509</td>\n",
       "      <td>1564054127</td>\n",
       "      <td>248</td>\n",
       "    </tr>\n",
       "    <tr>\n",
       "      <th>3</th>\n",
       "      <td>CartScreenAppear</td>\n",
       "      <td>3518123091307005509</td>\n",
       "      <td>1564054127</td>\n",
       "      <td>248</td>\n",
       "    </tr>\n",
       "    <tr>\n",
       "      <th>4</th>\n",
       "      <td>PaymentScreenSuccessful</td>\n",
       "      <td>6217807653094995999</td>\n",
       "      <td>1564055322</td>\n",
       "      <td>248</td>\n",
       "    </tr>\n",
       "  </tbody>\n",
       "</table>\n",
       "</div>"
      ],
      "text/plain": [
       "                 EventName         DeviceIDHash  EventTimestamp  ExpId\n",
       "0         MainScreenAppear  4575588528974610257      1564029816    246\n",
       "1         MainScreenAppear  7416695313311560658      1564053102    246\n",
       "2  PaymentScreenSuccessful  3518123091307005509      1564054127    248\n",
       "3         CartScreenAppear  3518123091307005509      1564054127    248\n",
       "4  PaymentScreenSuccessful  6217807653094995999      1564055322    248"
      ]
     },
     "execution_count": 4,
     "metadata": {},
     "output_type": "execute_result"
    }
   ],
   "source": [
    "pd.set_option('display.max_colwidth', None)\n",
    "data.head()"
   ]
  },
  {
   "cell_type": "markdown",
   "id": "f1ec9b7b",
   "metadata": {},
   "source": [
    "Изменим название стодбцов для более удобной работы с ними."
   ]
  },
  {
   "cell_type": "code",
   "execution_count": 5,
   "id": "a686bdfd",
   "metadata": {},
   "outputs": [],
   "source": [
    "# изменим названия столбцов для удобства работы с ними\n",
    "data.columns = data.columns.str.lower()\n",
    "data = data.rename(columns={'eventname': 'event_name', \n",
    "                            'deviceidhash':'user_deviceid_hash',\n",
    "                            'eventtimestamp':'event_time'})"
   ]
  },
  {
   "cell_type": "code",
   "execution_count": 6,
   "id": "dadde2bb",
   "metadata": {},
   "outputs": [
    {
     "data": {
      "text/html": [
       "<div>\n",
       "<style scoped>\n",
       "    .dataframe tbody tr th:only-of-type {\n",
       "        vertical-align: middle;\n",
       "    }\n",
       "\n",
       "    .dataframe tbody tr th {\n",
       "        vertical-align: top;\n",
       "    }\n",
       "\n",
       "    .dataframe thead th {\n",
       "        text-align: right;\n",
       "    }\n",
       "</style>\n",
       "<table border=\"1\" class=\"dataframe\">\n",
       "  <thead>\n",
       "    <tr style=\"text-align: right;\">\n",
       "      <th></th>\n",
       "      <th>event_name</th>\n",
       "      <th>user_deviceid_hash</th>\n",
       "      <th>event_time</th>\n",
       "      <th>expid</th>\n",
       "    </tr>\n",
       "  </thead>\n",
       "  <tbody>\n",
       "    <tr>\n",
       "      <th>0</th>\n",
       "      <td>MainScreenAppear</td>\n",
       "      <td>4575588528974610257</td>\n",
       "      <td>1564029816</td>\n",
       "      <td>246</td>\n",
       "    </tr>\n",
       "    <tr>\n",
       "      <th>1</th>\n",
       "      <td>MainScreenAppear</td>\n",
       "      <td>7416695313311560658</td>\n",
       "      <td>1564053102</td>\n",
       "      <td>246</td>\n",
       "    </tr>\n",
       "    <tr>\n",
       "      <th>2</th>\n",
       "      <td>PaymentScreenSuccessful</td>\n",
       "      <td>3518123091307005509</td>\n",
       "      <td>1564054127</td>\n",
       "      <td>248</td>\n",
       "    </tr>\n",
       "    <tr>\n",
       "      <th>3</th>\n",
       "      <td>CartScreenAppear</td>\n",
       "      <td>3518123091307005509</td>\n",
       "      <td>1564054127</td>\n",
       "      <td>248</td>\n",
       "    </tr>\n",
       "    <tr>\n",
       "      <th>4</th>\n",
       "      <td>PaymentScreenSuccessful</td>\n",
       "      <td>6217807653094995999</td>\n",
       "      <td>1564055322</td>\n",
       "      <td>248</td>\n",
       "    </tr>\n",
       "    <tr>\n",
       "      <th>...</th>\n",
       "      <td>...</td>\n",
       "      <td>...</td>\n",
       "      <td>...</td>\n",
       "      <td>...</td>\n",
       "    </tr>\n",
       "    <tr>\n",
       "      <th>244121</th>\n",
       "      <td>MainScreenAppear</td>\n",
       "      <td>4599628364049201812</td>\n",
       "      <td>1565212345</td>\n",
       "      <td>247</td>\n",
       "    </tr>\n",
       "    <tr>\n",
       "      <th>244122</th>\n",
       "      <td>MainScreenAppear</td>\n",
       "      <td>5849806612437486590</td>\n",
       "      <td>1565212439</td>\n",
       "      <td>246</td>\n",
       "    </tr>\n",
       "    <tr>\n",
       "      <th>244123</th>\n",
       "      <td>MainScreenAppear</td>\n",
       "      <td>5746969938801999050</td>\n",
       "      <td>1565212483</td>\n",
       "      <td>246</td>\n",
       "    </tr>\n",
       "    <tr>\n",
       "      <th>244124</th>\n",
       "      <td>MainScreenAppear</td>\n",
       "      <td>5746969938801999050</td>\n",
       "      <td>1565212498</td>\n",
       "      <td>246</td>\n",
       "    </tr>\n",
       "    <tr>\n",
       "      <th>244125</th>\n",
       "      <td>OffersScreenAppear</td>\n",
       "      <td>5746969938801999050</td>\n",
       "      <td>1565212517</td>\n",
       "      <td>246</td>\n",
       "    </tr>\n",
       "  </tbody>\n",
       "</table>\n",
       "<p>244126 rows × 4 columns</p>\n",
       "</div>"
      ],
      "text/plain": [
       "                     event_name   user_deviceid_hash  event_time  expid\n",
       "0              MainScreenAppear  4575588528974610257  1564029816    246\n",
       "1              MainScreenAppear  7416695313311560658  1564053102    246\n",
       "2       PaymentScreenSuccessful  3518123091307005509  1564054127    248\n",
       "3              CartScreenAppear  3518123091307005509  1564054127    248\n",
       "4       PaymentScreenSuccessful  6217807653094995999  1564055322    248\n",
       "...                         ...                  ...         ...    ...\n",
       "244121         MainScreenAppear  4599628364049201812  1565212345    247\n",
       "244122         MainScreenAppear  5849806612437486590  1565212439    246\n",
       "244123         MainScreenAppear  5746969938801999050  1565212483    246\n",
       "244124         MainScreenAppear  5746969938801999050  1565212498    246\n",
       "244125       OffersScreenAppear  5746969938801999050  1565212517    246\n",
       "\n",
       "[244126 rows x 4 columns]"
      ]
     },
     "execution_count": 6,
     "metadata": {},
     "output_type": "execute_result"
    }
   ],
   "source": [
    "data"
   ]
  },
  {
   "cell_type": "markdown",
   "id": "2a2335e9",
   "metadata": {},
   "source": [
    "После изменения названий столбцов проверим датасет на наличией пропусков в данных."
   ]
  },
  {
   "cell_type": "code",
   "execution_count": 7,
   "id": "4712d371",
   "metadata": {},
   "outputs": [
    {
     "data": {
      "text/plain": [
       "event_name            0\n",
       "user_deviceid_hash    0\n",
       "event_time            0\n",
       "expid                 0\n",
       "dtype: int64"
      ]
     },
     "execution_count": 7,
     "metadata": {},
     "output_type": "execute_result"
    }
   ],
   "source": [
    "data.isnull().sum()"
   ]
  },
  {
   "cell_type": "code",
   "execution_count": 8,
   "id": "7a82a1e5",
   "metadata": {},
   "outputs": [
    {
     "name": "stdout",
     "output_type": "stream",
     "text": [
      "<class 'pandas.core.frame.DataFrame'>\n",
      "RangeIndex: 244126 entries, 0 to 244125\n",
      "Data columns (total 4 columns):\n",
      " #   Column              Non-Null Count   Dtype \n",
      "---  ------              --------------   ----- \n",
      " 0   event_name          244126 non-null  object\n",
      " 1   user_deviceid_hash  244126 non-null  int64 \n",
      " 2   event_time          244126 non-null  int64 \n",
      " 3   expid               244126 non-null  int64 \n",
      "dtypes: int64(3), object(1)\n",
      "memory usage: 7.5+ MB\n"
     ]
    }
   ],
   "source": [
    "data.info()"
   ]
  },
  {
   "cell_type": "markdown",
   "id": "74b00300",
   "metadata": {},
   "source": [
    "Пропусков нет. Теперь проверим датафрейм на наличие полных дубликатов."
   ]
  },
  {
   "cell_type": "code",
   "execution_count": 9,
   "id": "33765e9d",
   "metadata": {},
   "outputs": [
    {
     "name": "stdout",
     "output_type": "stream",
     "text": [
      "Количество дубликатов - 413\n"
     ]
    }
   ],
   "source": [
    "print('Количество дубликатов -', data.duplicated().sum())"
   ]
  },
  {
   "cell_type": "markdown",
   "id": "aa8ade14",
   "metadata": {},
   "source": [
    "Видим, что такие дубликаты есть. Удалим их."
   ]
  },
  {
   "cell_type": "code",
   "execution_count": 10,
   "id": "45b07f2b",
   "metadata": {},
   "outputs": [],
   "source": [
    "data = data.drop_duplicates()\n"
   ]
  },
  {
   "cell_type": "markdown",
   "id": "25e19d8f",
   "metadata": {},
   "source": [
    "Также, столбец `event_time` имеет неверный тип данных, а также неудобный для работы с ним вид. Поработаем с ним."
   ]
  },
  {
   "cell_type": "code",
   "execution_count": 11,
   "id": "f852c754",
   "metadata": {},
   "outputs": [
    {
     "data": {
      "text/html": [
       "<div>\n",
       "<style scoped>\n",
       "    .dataframe tbody tr th:only-of-type {\n",
       "        vertical-align: middle;\n",
       "    }\n",
       "\n",
       "    .dataframe tbody tr th {\n",
       "        vertical-align: top;\n",
       "    }\n",
       "\n",
       "    .dataframe thead th {\n",
       "        text-align: right;\n",
       "    }\n",
       "</style>\n",
       "<table border=\"1\" class=\"dataframe\">\n",
       "  <thead>\n",
       "    <tr style=\"text-align: right;\">\n",
       "      <th></th>\n",
       "      <th>event_name</th>\n",
       "      <th>user_deviceid_hash</th>\n",
       "      <th>event_time</th>\n",
       "      <th>expid</th>\n",
       "    </tr>\n",
       "  </thead>\n",
       "  <tbody>\n",
       "    <tr>\n",
       "      <th>0</th>\n",
       "      <td>MainScreenAppear</td>\n",
       "      <td>4575588528974610257</td>\n",
       "      <td>2019-07-25 04:43:36</td>\n",
       "      <td>246</td>\n",
       "    </tr>\n",
       "    <tr>\n",
       "      <th>1</th>\n",
       "      <td>MainScreenAppear</td>\n",
       "      <td>7416695313311560658</td>\n",
       "      <td>2019-07-25 11:11:42</td>\n",
       "      <td>246</td>\n",
       "    </tr>\n",
       "    <tr>\n",
       "      <th>2</th>\n",
       "      <td>PaymentScreenSuccessful</td>\n",
       "      <td>3518123091307005509</td>\n",
       "      <td>2019-07-25 11:28:47</td>\n",
       "      <td>248</td>\n",
       "    </tr>\n",
       "    <tr>\n",
       "      <th>3</th>\n",
       "      <td>CartScreenAppear</td>\n",
       "      <td>3518123091307005509</td>\n",
       "      <td>2019-07-25 11:28:47</td>\n",
       "      <td>248</td>\n",
       "    </tr>\n",
       "    <tr>\n",
       "      <th>4</th>\n",
       "      <td>PaymentScreenSuccessful</td>\n",
       "      <td>6217807653094995999</td>\n",
       "      <td>2019-07-25 11:48:42</td>\n",
       "      <td>248</td>\n",
       "    </tr>\n",
       "    <tr>\n",
       "      <th>...</th>\n",
       "      <td>...</td>\n",
       "      <td>...</td>\n",
       "      <td>...</td>\n",
       "      <td>...</td>\n",
       "    </tr>\n",
       "    <tr>\n",
       "      <th>244121</th>\n",
       "      <td>MainScreenAppear</td>\n",
       "      <td>4599628364049201812</td>\n",
       "      <td>2019-08-07 21:12:25</td>\n",
       "      <td>247</td>\n",
       "    </tr>\n",
       "    <tr>\n",
       "      <th>244122</th>\n",
       "      <td>MainScreenAppear</td>\n",
       "      <td>5849806612437486590</td>\n",
       "      <td>2019-08-07 21:13:59</td>\n",
       "      <td>246</td>\n",
       "    </tr>\n",
       "    <tr>\n",
       "      <th>244123</th>\n",
       "      <td>MainScreenAppear</td>\n",
       "      <td>5746969938801999050</td>\n",
       "      <td>2019-08-07 21:14:43</td>\n",
       "      <td>246</td>\n",
       "    </tr>\n",
       "    <tr>\n",
       "      <th>244124</th>\n",
       "      <td>MainScreenAppear</td>\n",
       "      <td>5746969938801999050</td>\n",
       "      <td>2019-08-07 21:14:58</td>\n",
       "      <td>246</td>\n",
       "    </tr>\n",
       "    <tr>\n",
       "      <th>244125</th>\n",
       "      <td>OffersScreenAppear</td>\n",
       "      <td>5746969938801999050</td>\n",
       "      <td>2019-08-07 21:15:17</td>\n",
       "      <td>246</td>\n",
       "    </tr>\n",
       "  </tbody>\n",
       "</table>\n",
       "<p>243713 rows × 4 columns</p>\n",
       "</div>"
      ],
      "text/plain": [
       "                     event_name   user_deviceid_hash          event_time  \\\n",
       "0              MainScreenAppear  4575588528974610257 2019-07-25 04:43:36   \n",
       "1              MainScreenAppear  7416695313311560658 2019-07-25 11:11:42   \n",
       "2       PaymentScreenSuccessful  3518123091307005509 2019-07-25 11:28:47   \n",
       "3              CartScreenAppear  3518123091307005509 2019-07-25 11:28:47   \n",
       "4       PaymentScreenSuccessful  6217807653094995999 2019-07-25 11:48:42   \n",
       "...                         ...                  ...                 ...   \n",
       "244121         MainScreenAppear  4599628364049201812 2019-08-07 21:12:25   \n",
       "244122         MainScreenAppear  5849806612437486590 2019-08-07 21:13:59   \n",
       "244123         MainScreenAppear  5746969938801999050 2019-08-07 21:14:43   \n",
       "244124         MainScreenAppear  5746969938801999050 2019-08-07 21:14:58   \n",
       "244125       OffersScreenAppear  5746969938801999050 2019-08-07 21:15:17   \n",
       "\n",
       "        expid  \n",
       "0         246  \n",
       "1         246  \n",
       "2         248  \n",
       "3         248  \n",
       "4         248  \n",
       "...       ...  \n",
       "244121    247  \n",
       "244122    246  \n",
       "244123    246  \n",
       "244124    246  \n",
       "244125    246  \n",
       "\n",
       "[243713 rows x 4 columns]"
      ]
     },
     "execution_count": 11,
     "metadata": {},
     "output_type": "execute_result"
    }
   ],
   "source": [
    "data['event_time'] = pd.to_datetime(data['event_time'], unit='s')\n",
    "data"
   ]
  },
  {
   "cell_type": "code",
   "execution_count": 12,
   "id": "2d83d931",
   "metadata": {},
   "outputs": [
    {
     "name": "stdout",
     "output_type": "stream",
     "text": [
      "<class 'pandas.core.frame.DataFrame'>\n",
      "Int64Index: 243713 entries, 0 to 244125\n",
      "Data columns (total 4 columns):\n",
      " #   Column              Non-Null Count   Dtype         \n",
      "---  ------              --------------   -----         \n",
      " 0   event_name          243713 non-null  object        \n",
      " 1   user_deviceid_hash  243713 non-null  int64         \n",
      " 2   event_time          243713 non-null  datetime64[ns]\n",
      " 3   expid               243713 non-null  int64         \n",
      "dtypes: datetime64[ns](1), int64(2), object(1)\n",
      "memory usage: 9.3+ MB\n"
     ]
    }
   ],
   "source": [
    "data.info()"
   ]
  },
  {
   "cell_type": "markdown",
   "id": "e08f4530",
   "metadata": {},
   "source": [
    "Столбец `event_time` преобразовали. Добавим отдельно в датасет столбец только с датами без указания времени."
   ]
  },
  {
   "cell_type": "code",
   "execution_count": 13,
   "id": "59021347",
   "metadata": {},
   "outputs": [],
   "source": [
    "data['date'] = pd.to_datetime(data['event_time']).dt.date"
   ]
  },
  {
   "cell_type": "markdown",
   "id": "59e67c36",
   "metadata": {},
   "source": [
    "Согласно условиям задачи для анализа представлены 3 группы: 2 контрольные (группы А) и одна экспериментальная (группа В). Представляется, можно заранее сделать отдельный стольбец с указанием группы для будущей работы с ними при необходимости."
   ]
  },
  {
   "cell_type": "code",
   "execution_count": 14,
   "id": "4fe16a0a",
   "metadata": {},
   "outputs": [],
   "source": [
    "# определяем функцию для категоризации групп\n",
    "def categorize_groups(group):\n",
    "    if group in [246,247]:\n",
    "        return 'A'\n",
    "    elif group == 248:\n",
    "        return 'B'"
   ]
  },
  {
   "cell_type": "code",
   "execution_count": 15,
   "id": "f0498d3c",
   "metadata": {},
   "outputs": [
    {
     "data": {
      "text/html": [
       "<div>\n",
       "<style scoped>\n",
       "    .dataframe tbody tr th:only-of-type {\n",
       "        vertical-align: middle;\n",
       "    }\n",
       "\n",
       "    .dataframe tbody tr th {\n",
       "        vertical-align: top;\n",
       "    }\n",
       "\n",
       "    .dataframe thead th {\n",
       "        text-align: right;\n",
       "    }\n",
       "</style>\n",
       "<table border=\"1\" class=\"dataframe\">\n",
       "  <thead>\n",
       "    <tr style=\"text-align: right;\">\n",
       "      <th></th>\n",
       "      <th>event_name</th>\n",
       "      <th>user_deviceid_hash</th>\n",
       "      <th>event_time</th>\n",
       "      <th>expid</th>\n",
       "      <th>group_ab</th>\n",
       "      <th>date</th>\n",
       "    </tr>\n",
       "  </thead>\n",
       "  <tbody>\n",
       "    <tr>\n",
       "      <th>0</th>\n",
       "      <td>MainScreenAppear</td>\n",
       "      <td>4575588528974610257</td>\n",
       "      <td>2019-07-25 04:43:36</td>\n",
       "      <td>246</td>\n",
       "      <td>A</td>\n",
       "      <td>2019-07-25</td>\n",
       "    </tr>\n",
       "    <tr>\n",
       "      <th>1</th>\n",
       "      <td>MainScreenAppear</td>\n",
       "      <td>7416695313311560658</td>\n",
       "      <td>2019-07-25 11:11:42</td>\n",
       "      <td>246</td>\n",
       "      <td>A</td>\n",
       "      <td>2019-07-25</td>\n",
       "    </tr>\n",
       "    <tr>\n",
       "      <th>2</th>\n",
       "      <td>PaymentScreenSuccessful</td>\n",
       "      <td>3518123091307005509</td>\n",
       "      <td>2019-07-25 11:28:47</td>\n",
       "      <td>248</td>\n",
       "      <td>B</td>\n",
       "      <td>2019-07-25</td>\n",
       "    </tr>\n",
       "    <tr>\n",
       "      <th>3</th>\n",
       "      <td>CartScreenAppear</td>\n",
       "      <td>3518123091307005509</td>\n",
       "      <td>2019-07-25 11:28:47</td>\n",
       "      <td>248</td>\n",
       "      <td>B</td>\n",
       "      <td>2019-07-25</td>\n",
       "    </tr>\n",
       "    <tr>\n",
       "      <th>4</th>\n",
       "      <td>PaymentScreenSuccessful</td>\n",
       "      <td>6217807653094995999</td>\n",
       "      <td>2019-07-25 11:48:42</td>\n",
       "      <td>248</td>\n",
       "      <td>B</td>\n",
       "      <td>2019-07-25</td>\n",
       "    </tr>\n",
       "  </tbody>\n",
       "</table>\n",
       "</div>"
      ],
      "text/plain": [
       "                event_name   user_deviceid_hash          event_time  expid  \\\n",
       "0         MainScreenAppear  4575588528974610257 2019-07-25 04:43:36    246   \n",
       "1         MainScreenAppear  7416695313311560658 2019-07-25 11:11:42    246   \n",
       "2  PaymentScreenSuccessful  3518123091307005509 2019-07-25 11:28:47    248   \n",
       "3         CartScreenAppear  3518123091307005509 2019-07-25 11:28:47    248   \n",
       "4  PaymentScreenSuccessful  6217807653094995999 2019-07-25 11:48:42    248   \n",
       "\n",
       "  group_ab        date  \n",
       "0        A  2019-07-25  \n",
       "1        A  2019-07-25  \n",
       "2        B  2019-07-25  \n",
       "3        B  2019-07-25  \n",
       "4        B  2019-07-25  "
      ]
     },
     "execution_count": 15,
     "metadata": {},
     "output_type": "execute_result"
    }
   ],
   "source": [
    "# вставляем новый столбец\n",
    "data.insert(4, 'group_ab', data['expid'].apply(categorize_groups), False)\n",
    "data.head()"
   ]
  },
  {
   "cell_type": "markdown",
   "id": "3a8d274a",
   "metadata": {},
   "source": [
    "Полагаю, на этом предобработку можно закончить."
   ]
  },
  {
   "cell_type": "markdown",
   "id": "51ef31de",
   "metadata": {},
   "source": [
    "## Изучение и проверка данных"
   ]
  },
  {
   "cell_type": "markdown",
   "id": "2d11fff4",
   "metadata": {},
   "source": [
    "Посмотрим,сколько всего событий, пользователей в логе, и сколько в среднем событий приходится на одного пользователя.\n"
   ]
  },
  {
   "cell_type": "code",
   "execution_count": 16,
   "id": "998a086c",
   "metadata": {},
   "outputs": [
    {
     "name": "stdout",
     "output_type": "stream",
     "text": [
      "Всего событий в логе - 243713\n"
     ]
    }
   ],
   "source": [
    "# cчитаем, сколько всего событий в логе\n",
    "old_events_num = data['event_name'].count()\n",
    "print('Всего событий в логе -',old_events_num)"
   ]
  },
  {
   "cell_type": "code",
   "execution_count": 17,
   "id": "d24569e5",
   "metadata": {},
   "outputs": [
    {
     "name": "stdout",
     "output_type": "stream",
     "text": [
      "Уникальных событий -  5\n"
     ]
    }
   ],
   "source": [
    "# считаем, сколько всего уникальных событий есть\n",
    "old_unique_events = data['event_name'].nunique()\n",
    "print('Уникальных событий - ', old_unique_events)"
   ]
  },
  {
   "cell_type": "code",
   "execution_count": 18,
   "id": "00cba3ee",
   "metadata": {
    "scrolled": true
   },
   "outputs": [
    {
     "data": {
      "text/plain": [
       "MainScreenAppear           119101\n",
       "OffersScreenAppear          46808\n",
       "CartScreenAppear            42668\n",
       "PaymentScreenSuccessful     34118\n",
       "Tutorial                     1018\n",
       "Name: event_name, dtype: int64"
      ]
     },
     "execution_count": 18,
     "metadata": {},
     "output_type": "execute_result"
    }
   ],
   "source": [
    "#считаем, сколько раз встречается то или иное уникальное событие\n",
    "data['event_name'].value_counts()"
   ]
  },
  {
   "cell_type": "markdown",
   "id": "f1443531",
   "metadata": {},
   "source": [
    "Для большей наглядности построим гистограмму"
   ]
  },
  {
   "cell_type": "code",
   "execution_count": 19,
   "id": "acd281a4",
   "metadata": {},
   "outputs": [
    {
     "data": {
      "image/png": "[encoded data removed]",
      "text/plain": [
       "<Figure size 1000x400 with 1 Axes>"
      ]
     },
     "metadata": {},
     "output_type": "display_data"
    }
   ],
   "source": [
    "data['event_name'].hist(figsize=(10,4))\n",
    "plt.xlabel('Событие')\n",
    "plt.ylabel('Количество событий')\n",
    "plt.title('Распределение событий')\n",
    "plt.show()"
   ]
  },
  {
   "cell_type": "markdown",
   "id": "eeb9014c",
   "metadata": {},
   "source": [
    "Итак, в датасете 243713 события, 5 уникальных видов. Наиболее частое событие - `MainScreenAppear`, почти половина от всех, наиболее редкое событие - `Tutorial`."
   ]
  },
  {
   "cell_type": "code",
   "execution_count": 20,
   "id": "d6225682",
   "metadata": {},
   "outputs": [
    {
     "name": "stdout",
     "output_type": "stream",
     "text": [
      "В логе 7551 уникальных пользователей.\n"
     ]
    }
   ],
   "source": [
    "# считаем, сколько уникальных пользователей в логе\n",
    "old_users_num = data['user_deviceid_hash'].nunique()\n",
    "print('В логе',old_users_num, 'уникальных пользователей.')"
   ]
  },
  {
   "cell_type": "code",
   "execution_count": 21,
   "id": "78fa600e",
   "metadata": {},
   "outputs": [
    {
     "data": {
      "text/plain": [
       "event_name    32.275593\n",
       "dtype: float64"
      ]
     },
     "execution_count": 21,
     "metadata": {},
     "output_type": "execute_result"
    }
   ],
   "source": [
    "# считае, сколько в среднем событий приходится на одного пользователя\n",
    "data.groupby('user_deviceid_hash').agg({'event_name':'count'}).mean()"
   ]
  },
  {
   "cell_type": "markdown",
   "id": "72a35287",
   "metadata": {},
   "source": [
    "Видим, что в датасете 7551 уникальный пользователь, и в среднем на одного пользователя приходится 32 события.     \n",
    "Однако, в ситуации, когда в данных могут быть выбросы, считать среднее может оказаться некорректным, так как среднее значение слишком чувствительно к ним. В таком случае, следует считать медиану.     \n",
    "Посмотрим, есть ли в наших данных выбросы. Для этого воспользуемся методом `describe` и построим \"ящик с усами\"."
   ]
  },
  {
   "cell_type": "code",
   "execution_count": 22,
   "id": "59998726",
   "metadata": {},
   "outputs": [
    {
     "data": {
      "text/html": [
       "<div>\n",
       "<style scoped>\n",
       "    .dataframe tbody tr th:only-of-type {\n",
       "        vertical-align: middle;\n",
       "    }\n",
       "\n",
       "    .dataframe tbody tr th {\n",
       "        vertical-align: top;\n",
       "    }\n",
       "\n",
       "    .dataframe thead th {\n",
       "        text-align: right;\n",
       "    }\n",
       "</style>\n",
       "<table border=\"1\" class=\"dataframe\">\n",
       "  <thead>\n",
       "    <tr style=\"text-align: right;\">\n",
       "      <th></th>\n",
       "      <th>event_name</th>\n",
       "    </tr>\n",
       "  </thead>\n",
       "  <tbody>\n",
       "    <tr>\n",
       "      <th>count</th>\n",
       "      <td>7551.000000</td>\n",
       "    </tr>\n",
       "    <tr>\n",
       "      <th>mean</th>\n",
       "      <td>32.275593</td>\n",
       "    </tr>\n",
       "    <tr>\n",
       "      <th>std</th>\n",
       "      <td>65.154219</td>\n",
       "    </tr>\n",
       "    <tr>\n",
       "      <th>min</th>\n",
       "      <td>1.000000</td>\n",
       "    </tr>\n",
       "    <tr>\n",
       "      <th>25%</th>\n",
       "      <td>9.000000</td>\n",
       "    </tr>\n",
       "    <tr>\n",
       "      <th>50%</th>\n",
       "      <td>20.000000</td>\n",
       "    </tr>\n",
       "    <tr>\n",
       "      <th>75%</th>\n",
       "      <td>37.000000</td>\n",
       "    </tr>\n",
       "    <tr>\n",
       "      <th>max</th>\n",
       "      <td>2307.000000</td>\n",
       "    </tr>\n",
       "  </tbody>\n",
       "</table>\n",
       "</div>"
      ],
      "text/plain": [
       "        event_name\n",
       "count  7551.000000\n",
       "mean     32.275593\n",
       "std      65.154219\n",
       "min       1.000000\n",
       "25%       9.000000\n",
       "50%      20.000000\n",
       "75%      37.000000\n",
       "max    2307.000000"
      ]
     },
     "execution_count": 22,
     "metadata": {},
     "output_type": "execute_result"
    }
   ],
   "source": [
    "data.groupby('user_deviceid_hash')\\\n",
    "    .agg({'event_name':'count'})\\\n",
    "    .sort_values(by='event_name', ascending=False)\\\n",
    "    .describe()"
   ]
  },
  {
   "cell_type": "code",
   "execution_count": 23,
   "id": "d107f681",
   "metadata": {},
   "outputs": [
    {
     "data": {
      "image/png": "[encoded data removed]",
      "text/plain": [
       "<Figure size 1300x700 with 1 Axes>"
      ]
     },
     "metadata": {},
     "output_type": "display_data"
    }
   ],
   "source": [
    "plt.figure(figsize=(13,7))\n",
    "sns.boxplot(data=data.groupby('user_deviceid_hash').agg({'event_name':'count'}))\n",
    "plt.show()"
   ]
  },
  {
   "cell_type": "markdown",
   "id": "34152473",
   "metadata": {},
   "source": [
    "Однозначно видим, что в наших данных есть выбросы. В среднем один пользователь совершает 32 события. Однако, например, есть пользователь, который совершил аж 2307 событий. Даже один такой пользователь может существенно исказить среднее значение.     \n",
    "В таком случае мы можем удалить выбросы и далее также использовать среднее значение или посчитать медиану, которая более устойчива к выбросам.    \n",
    "Посчитаем медиану."
   ]
  },
  {
   "cell_type": "code",
   "execution_count": 24,
   "id": "cc0ae444",
   "metadata": {},
   "outputs": [
    {
     "data": {
      "text/plain": [
       "event_name    20.0\n",
       "dtype: float64"
      ]
     },
     "execution_count": 24,
     "metadata": {},
     "output_type": "execute_result"
    }
   ],
   "source": [
    "data.groupby('user_deviceid_hash').agg({'event_name':'count'}).median()"
   ]
  },
  {
   "cell_type": "markdown",
   "id": "8e970b9f",
   "metadata": {},
   "source": [
    "Медианное количество событий на одного пользователя составляет 20 событий - существенно меньше среднего значения!\n",
    "\n",
    "Хоть и медианное значение уже было посчитано при использовании метода `describe`, для наглядности мы посчитали его снова."
   ]
  },
  {
   "cell_type": "markdown",
   "id": "146bfffd",
   "metadata": {},
   "source": [
    "Определим, за какой период времени у нас имеются данные - для этого найдем минимальную и максимальную даты, а также гистограмму по дате и времени"
   ]
  },
  {
   "cell_type": "code",
   "execution_count": 25,
   "id": "5ca1b8da",
   "metadata": {},
   "outputs": [
    {
     "data": {
      "text/plain": [
       "Timestamp('2019-07-25 04:43:36')"
      ]
     },
     "execution_count": 25,
     "metadata": {},
     "output_type": "execute_result"
    }
   ],
   "source": [
    "#находим минимальную дату и время\n",
    "data['event_time'].min()"
   ]
  },
  {
   "cell_type": "code",
   "execution_count": 26,
   "id": "1695b331",
   "metadata": {},
   "outputs": [
    {
     "data": {
      "text/plain": [
       "Timestamp('2019-08-07 21:15:17')"
      ]
     },
     "execution_count": 26,
     "metadata": {},
     "output_type": "execute_result"
    }
   ],
   "source": [
    "#находим максимальную дату и время\n",
    "data['event_time'].max()"
   ]
  },
  {
   "cell_type": "code",
   "execution_count": 27,
   "id": "b55f1632",
   "metadata": {},
   "outputs": [
    {
     "data": {
      "image/png": "[encoded data removed]",
      "text/plain": [
       "<Figure size 1300x500 with 1 Axes>"
      ]
     },
     "metadata": {},
     "output_type": "display_data"
    }
   ],
   "source": [
    "# строим гистограмму\n",
    "data['event_time'].hist(figsize=(13,5), bins=100)\n",
    "plt.xlabel('Дата и время события')\n",
    "plt.ylabel('Количесто событий')\n",
    "plt.xticks(rotation=20)\n",
    "plt.title('Распределение событий по времени')\n",
    "plt.show()"
   ]
  },
  {
   "cell_type": "markdown",
   "id": "0b357db9",
   "metadata": {},
   "source": [
    "На гистограмме можно заметить определенную цикличность появления событий. При этом, четкость циклов начинает отображаться, начиная примерно с 01.08.2019. Полагаю, что до данной даты у нас собраны неполные данные, которые можно отбросить."
   ]
  },
  {
   "cell_type": "code",
   "execution_count": 28,
   "id": "461a05bb",
   "metadata": {},
   "outputs": [
    {
     "data": {
      "image/png": "[encoded data removed]",
      "text/plain": [
       "<Figure size 1300x500 with 1 Axes>"
      ]
     },
     "metadata": {},
     "output_type": "display_data"
    }
   ],
   "source": [
    "# удаляем ненужные данные из датасета и повторно строим гистограмму для проверки\n",
    "data = data.loc[data['event_time'] > '2019-08-01']\n",
    "data['event_time'].hist(figsize=(13,5), bins=100)\n",
    "plt.xlabel('Дата и время события')\n",
    "plt.ylabel('Количесто событий')\n",
    "plt.xticks(rotation=20)\n",
    "plt.title('Распределение событий по времени')\n",
    "plt.show()"
   ]
  },
  {
   "cell_type": "markdown",
   "id": "9f809a2f",
   "metadata": {},
   "source": [
    "Видим, что на графике больше нет \"хвостов\", и все циклы ровно отрисованы.    \n",
    "\n",
    "Теперь посмотрим, сколько событий и пользователей мы потеряли в результате удаления старых данных, а также убедимся, что у нас остались пользователи из всех 3х групп теста."
   ]
  },
  {
   "cell_type": "code",
   "execution_count": 29,
   "id": "1aad262c",
   "metadata": {},
   "outputs": [
    {
     "name": "stdout",
     "output_type": "stream",
     "text": [
      "Событий в логе осталось 240887 , было -  243713 \n",
      " Потеряли - 2826 . Относительная потеря (в %) - 0.012\n"
     ]
    }
   ],
   "source": [
    "# cчитаем, сколько всего событий в логе осталось\n",
    "print('Событий в логе осталось', data['event_name'].count(), ', было - ', old_events_num,\n",
    "      '\\n','Потеряли -', 243713 - data['event_name'].count(), \n",
    "      '. Относительная потеря (в %) -',  round(1 - data['event_name'].count() / old_events_num, 3))"
   ]
  },
  {
   "cell_type": "code",
   "execution_count": 30,
   "id": "81ae6e58",
   "metadata": {},
   "outputs": [
    {
     "name": "stdout",
     "output_type": "stream",
     "text": [
      "Уникальных событий в логе осталось 5 , было -  5 \n",
      " Потеряли - 0\n"
     ]
    }
   ],
   "source": [
    "# считаем, сколько всего уникальных событий осталось\n",
    "print('Уникальных событий в логе осталось', data['event_name'].nunique(), ', было - ', old_unique_events,\n",
    "      '\\n','Потеряли -', old_unique_events - data['event_name'].nunique())\n",
    "\n"
   ]
  },
  {
   "cell_type": "code",
   "execution_count": 31,
   "id": "42eeff7b",
   "metadata": {},
   "outputs": [
    {
     "data": {
      "image/png": "[encoded data removed]",
      "text/plain": [
       "<Figure size 1000x400 with 1 Axes>"
      ]
     },
     "metadata": {},
     "output_type": "display_data"
    }
   ],
   "source": [
    "data['event_name'].hist(figsize=(10,4))\n",
    "plt.xlabel('Событие')\n",
    "plt.ylabel('Количество событий')\n",
    "plt.title('Распределение событий')\n",
    "plt.show()"
   ]
  },
  {
   "cell_type": "markdown",
   "id": "2cf07d9d",
   "metadata": {},
   "source": [
    "Видим, что события `MainScreenAppear` и  `Tutorial` так и остались как наиболее часто и редко встречающиеся соответственно."
   ]
  },
  {
   "cell_type": "code",
   "execution_count": 32,
   "id": "e64ffedc",
   "metadata": {},
   "outputs": [
    {
     "name": "stdout",
     "output_type": "stream",
     "text": [
      "Уникальных пользователей в логе осталось 7534 , было -  7551 \n",
      " Потеряли - 17 . Относительная потеря (в %) - 0.225\n"
     ]
    }
   ],
   "source": [
    "# считаем, сколько уникальных пользователей осталось\n",
    "print('Уникальных пользователей в логе осталось', data['user_deviceid_hash'].nunique(), ', было - ', old_users_num,\n",
    "      '\\n','Потеряли -', 7551 - data['user_deviceid_hash'].nunique(), \n",
    "      '. Относительная потеря (в %) -',  round((1 - data['user_deviceid_hash'].nunique() / old_users_num) * 100, 3))\n",
    "\n"
   ]
  },
  {
   "cell_type": "code",
   "execution_count": 33,
   "id": "0cd6eb90",
   "metadata": {},
   "outputs": [
    {
     "data": {
      "text/plain": [
       "248    84563\n",
       "246    79302\n",
       "247    77022\n",
       "Name: expid, dtype: int64"
      ]
     },
     "execution_count": 33,
     "metadata": {},
     "output_type": "execute_result"
    }
   ],
   "source": [
    "# убедимся, что у нас остались пользователя всех 3х групп теста\n",
    "data['expid'].value_counts()"
   ]
  },
  {
   "cell_type": "markdown",
   "id": "6f625df6",
   "metadata": {},
   "source": [
    "В результате удаления части данных из датасета видим, что мы потеряли только 17 уникальных пользователей и 2826 событий, при этом все уникальные события сохранились."
   ]
  },
  {
   "cell_type": "markdown",
   "id": "7b929f3f",
   "metadata": {},
   "source": [
    "## Изучение воронки событий"
   ]
  },
  {
   "cell_type": "markdown",
   "id": "fbd4d867",
   "metadata": {},
   "source": [
    "Еще раз посмотрим, какие события встречаются в логах и отсортируем их."
   ]
  },
  {
   "cell_type": "code",
   "execution_count": 34,
   "id": "bcf9a619",
   "metadata": {},
   "outputs": [
    {
     "data": {
      "text/plain": [
       "MainScreenAppear           117328\n",
       "OffersScreenAppear          46333\n",
       "CartScreenAppear            42303\n",
       "PaymentScreenSuccessful     33918\n",
       "Tutorial                     1005\n",
       "Name: event_name, dtype: int64"
      ]
     },
     "execution_count": 34,
     "metadata": {},
     "output_type": "execute_result"
    }
   ],
   "source": [
    "data['event_name'].value_counts()\n"
   ]
  },
  {
   "cell_type": "markdown",
   "id": "acc53dfa",
   "metadata": {},
   "source": [
    "Видим, что события расположились в следующем порядке: показ главного экрана, показ экрана предложений, показ экрана с корзиной, показ экрана об  успешной оплате, обучение."
   ]
  },
  {
   "cell_type": "code",
   "execution_count": 35,
   "id": "6451ad21",
   "metadata": {},
   "outputs": [
    {
     "data": {
      "image/png": "[encoded data removed]",
      "text/plain": [
       "<Figure size 1000x500 with 1 Axes>"
      ]
     },
     "metadata": {},
     "output_type": "display_data"
    }
   ],
   "source": [
    "plt.figure(figsize=(10,5))\n",
    "sns.barplot(x='index',y='event_name', data=data['event_name'].value_counts().reset_index())\n",
    "plt.xlabel('Событие')\n",
    "plt.ylabel('Количество событий')\n",
    "plt.title('Распределение событий')\n",
    "plt.xticks(rotation=20)\n",
    "plt.show()"
   ]
  },
  {
   "cell_type": "markdown",
   "id": "80046aec",
   "metadata": {},
   "source": [
    "Также, посчитаем, сколько пользователей совершали каждое из указанных выше событий, и отсортируем события по числу пользователей. "
   ]
  },
  {
   "cell_type": "code",
   "execution_count": 36,
   "id": "f0fce311",
   "metadata": {},
   "outputs": [
    {
     "data": {
      "text/html": [
       "<div>\n",
       "<style scoped>\n",
       "    .dataframe tbody tr th:only-of-type {\n",
       "        vertical-align: middle;\n",
       "    }\n",
       "\n",
       "    .dataframe tbody tr th {\n",
       "        vertical-align: top;\n",
       "    }\n",
       "\n",
       "    .dataframe thead th {\n",
       "        text-align: right;\n",
       "    }\n",
       "</style>\n",
       "<table border=\"1\" class=\"dataframe\">\n",
       "  <thead>\n",
       "    <tr style=\"text-align: right;\">\n",
       "      <th></th>\n",
       "      <th>event_name</th>\n",
       "      <th>user_deviceid_hash</th>\n",
       "    </tr>\n",
       "  </thead>\n",
       "  <tbody>\n",
       "    <tr>\n",
       "      <th>0</th>\n",
       "      <td>MainScreenAppear</td>\n",
       "      <td>7419</td>\n",
       "    </tr>\n",
       "    <tr>\n",
       "      <th>1</th>\n",
       "      <td>OffersScreenAppear</td>\n",
       "      <td>4593</td>\n",
       "    </tr>\n",
       "    <tr>\n",
       "      <th>2</th>\n",
       "      <td>CartScreenAppear</td>\n",
       "      <td>3734</td>\n",
       "    </tr>\n",
       "    <tr>\n",
       "      <th>3</th>\n",
       "      <td>PaymentScreenSuccessful</td>\n",
       "      <td>3539</td>\n",
       "    </tr>\n",
       "    <tr>\n",
       "      <th>4</th>\n",
       "      <td>Tutorial</td>\n",
       "      <td>840</td>\n",
       "    </tr>\n",
       "  </tbody>\n",
       "</table>\n",
       "</div>"
      ],
      "text/plain": [
       "                event_name  user_deviceid_hash\n",
       "0         MainScreenAppear                7419\n",
       "1       OffersScreenAppear                4593\n",
       "2         CartScreenAppear                3734\n",
       "3  PaymentScreenSuccessful                3539\n",
       "4                 Tutorial                 840"
      ]
     },
     "execution_count": 36,
     "metadata": {},
     "output_type": "execute_result"
    }
   ],
   "source": [
    "# считаем, сколько пользователей совершали каждое из событий\n",
    "data_users_sorted = data.groupby('event_name').agg({'user_deviceid_hash':'nunique'})\\\n",
    "                          .sort_values(by=['user_deviceid_hash'], ascending=False).reset_index()\n",
    "data_users_sorted"
   ]
  },
  {
   "cell_type": "code",
   "execution_count": 37,
   "id": "c77105cf",
   "metadata": {},
   "outputs": [
    {
     "data": {
      "image/png": "[encoded data removed]",
      "text/plain": [
       "<Figure size 1000x500 with 1 Axes>"
      ]
     },
     "metadata": {},
     "output_type": "display_data"
    }
   ],
   "source": [
    "# визуализируем полученные данные\n",
    "plt.figure(figsize=(10,5))\n",
    "sns.barplot(x='event_name',y='user_deviceid_hash', data=data_users_sorted)\n",
    "plt.xlabel('Событие')\n",
    "plt.ylabel('Количество пользователей')\n",
    "plt.title('Распределение пользователей по количеству совершения событий')\n",
    "plt.xticks(rotation=20)\n",
    "plt.show()"
   ]
  },
  {
   "cell_type": "markdown",
   "id": "a2660069",
   "metadata": {},
   "source": [
    "Посчитаем долю пользователей, которые хоть раз совершали событие."
   ]
  },
  {
   "cell_type": "code",
   "execution_count": 38,
   "id": "c5ef0ccc",
   "metadata": {},
   "outputs": [
    {
     "data": {
      "text/html": [
       "<div>\n",
       "<style scoped>\n",
       "    .dataframe tbody tr th:only-of-type {\n",
       "        vertical-align: middle;\n",
       "    }\n",
       "\n",
       "    .dataframe tbody tr th {\n",
       "        vertical-align: top;\n",
       "    }\n",
       "\n",
       "    .dataframe thead th {\n",
       "        text-align: right;\n",
       "    }\n",
       "</style>\n",
       "<table border=\"1\" class=\"dataframe\">\n",
       "  <thead>\n",
       "    <tr style=\"text-align: right;\">\n",
       "      <th></th>\n",
       "      <th>event_name</th>\n",
       "      <th>user_deviceid_hash</th>\n",
       "      <th>%_users</th>\n",
       "    </tr>\n",
       "  </thead>\n",
       "  <tbody>\n",
       "    <tr>\n",
       "      <th>0</th>\n",
       "      <td>MainScreenAppear</td>\n",
       "      <td>7419</td>\n",
       "      <td>98.0</td>\n",
       "    </tr>\n",
       "    <tr>\n",
       "      <th>1</th>\n",
       "      <td>OffersScreenAppear</td>\n",
       "      <td>4593</td>\n",
       "      <td>61.0</td>\n",
       "    </tr>\n",
       "    <tr>\n",
       "      <th>2</th>\n",
       "      <td>CartScreenAppear</td>\n",
       "      <td>3734</td>\n",
       "      <td>50.0</td>\n",
       "    </tr>\n",
       "    <tr>\n",
       "      <th>3</th>\n",
       "      <td>PaymentScreenSuccessful</td>\n",
       "      <td>3539</td>\n",
       "      <td>47.0</td>\n",
       "    </tr>\n",
       "    <tr>\n",
       "      <th>4</th>\n",
       "      <td>Tutorial</td>\n",
       "      <td>840</td>\n",
       "      <td>11.0</td>\n",
       "    </tr>\n",
       "  </tbody>\n",
       "</table>\n",
       "</div>"
      ],
      "text/plain": [
       "                event_name  user_deviceid_hash  %_users\n",
       "0         MainScreenAppear                7419     98.0\n",
       "1       OffersScreenAppear                4593     61.0\n",
       "2         CartScreenAppear                3734     50.0\n",
       "3  PaymentScreenSuccessful                3539     47.0\n",
       "4                 Tutorial                 840     11.0"
      ]
     },
     "execution_count": 38,
     "metadata": {},
     "output_type": "execute_result"
    }
   ],
   "source": [
    "data_users_sorted['%_users'] = round(data_users_sorted['user_deviceid_hash'] \n",
    "                                     / data['user_deviceid_hash'].nunique(),2) * 100\n",
    "data_users_sorted"
   ]
  },
  {
   "cell_type": "markdown",
   "id": "fdcbbbef",
   "metadata": {},
   "source": [
    "\n",
    "\n",
    "Видим, что по полученным данным складывается воронка событий, которая имеет следующий вид и последовательность:\n",
    "1. показ главного экрана;\n",
    "2. показ экрана предложений;\n",
    "3. показ экрана с корзиной;\n",
    "4. показ экрана об  успешной оплате.\n",
    "\n",
    "Событие `Tutorial - обучение`, полагаем, следует отбросить, так как оно не является необходимой частью данной воронки."
   ]
  },
  {
   "cell_type": "code",
   "execution_count": 39,
   "id": "6fec685e",
   "metadata": {},
   "outputs": [
    {
     "data": {
      "text/html": [
       "<div>\n",
       "<style scoped>\n",
       "    .dataframe tbody tr th:only-of-type {\n",
       "        vertical-align: middle;\n",
       "    }\n",
       "\n",
       "    .dataframe tbody tr th {\n",
       "        vertical-align: top;\n",
       "    }\n",
       "\n",
       "    .dataframe thead th {\n",
       "        text-align: right;\n",
       "    }\n",
       "</style>\n",
       "<table border=\"1\" class=\"dataframe\">\n",
       "  <thead>\n",
       "    <tr style=\"text-align: right;\">\n",
       "      <th></th>\n",
       "      <th>event_name</th>\n",
       "      <th>user_deviceid_hash</th>\n",
       "      <th>%_users</th>\n",
       "    </tr>\n",
       "  </thead>\n",
       "  <tbody>\n",
       "    <tr>\n",
       "      <th>0</th>\n",
       "      <td>MainScreenAppear</td>\n",
       "      <td>7419</td>\n",
       "      <td>98.0</td>\n",
       "    </tr>\n",
       "    <tr>\n",
       "      <th>1</th>\n",
       "      <td>OffersScreenAppear</td>\n",
       "      <td>4593</td>\n",
       "      <td>61.0</td>\n",
       "    </tr>\n",
       "    <tr>\n",
       "      <th>2</th>\n",
       "      <td>CartScreenAppear</td>\n",
       "      <td>3734</td>\n",
       "      <td>50.0</td>\n",
       "    </tr>\n",
       "    <tr>\n",
       "      <th>3</th>\n",
       "      <td>PaymentScreenSuccessful</td>\n",
       "      <td>3539</td>\n",
       "      <td>47.0</td>\n",
       "    </tr>\n",
       "  </tbody>\n",
       "</table>\n",
       "</div>"
      ],
      "text/plain": [
       "                event_name  user_deviceid_hash  %_users\n",
       "0         MainScreenAppear                7419     98.0\n",
       "1       OffersScreenAppear                4593     61.0\n",
       "2         CartScreenAppear                3734     50.0\n",
       "3  PaymentScreenSuccessful                3539     47.0"
      ]
     },
     "execution_count": 39,
     "metadata": {},
     "output_type": "execute_result"
    }
   ],
   "source": [
    "data_users_sorted.drop(labels = [4], axis=0, inplace = True)\n",
    "data_users_sorted"
   ]
  },
  {
   "cell_type": "markdown",
   "id": "06f71d4f",
   "metadata": {},
   "source": [
    "По воронке событий посчитаем, какая доля пользователей проходит на следующий шаг воронки, а также какая доля пользователей доходит от первого события до оплаты."
   ]
  },
  {
   "cell_type": "code",
   "execution_count": 40,
   "id": "4c4e50a7",
   "metadata": {},
   "outputs": [
    {
     "data": {
      "text/html": [
       "<div>\n",
       "<style scoped>\n",
       "    .dataframe tbody tr th:only-of-type {\n",
       "        vertical-align: middle;\n",
       "    }\n",
       "\n",
       "    .dataframe tbody tr th {\n",
       "        vertical-align: top;\n",
       "    }\n",
       "\n",
       "    .dataframe thead th {\n",
       "        text-align: right;\n",
       "    }\n",
       "</style>\n",
       "<table border=\"1\" class=\"dataframe\">\n",
       "  <thead>\n",
       "    <tr style=\"text-align: right;\">\n",
       "      <th></th>\n",
       "      <th>event_name</th>\n",
       "      <th>user_deviceid_hash</th>\n",
       "      <th>%_users</th>\n",
       "      <th>sales_funnel</th>\n",
       "    </tr>\n",
       "  </thead>\n",
       "  <tbody>\n",
       "    <tr>\n",
       "      <th>0</th>\n",
       "      <td>MainScreenAppear</td>\n",
       "      <td>7419</td>\n",
       "      <td>98.0</td>\n",
       "      <td>1.00</td>\n",
       "    </tr>\n",
       "    <tr>\n",
       "      <th>1</th>\n",
       "      <td>OffersScreenAppear</td>\n",
       "      <td>4593</td>\n",
       "      <td>61.0</td>\n",
       "      <td>0.62</td>\n",
       "    </tr>\n",
       "    <tr>\n",
       "      <th>2</th>\n",
       "      <td>CartScreenAppear</td>\n",
       "      <td>3734</td>\n",
       "      <td>50.0</td>\n",
       "      <td>0.81</td>\n",
       "    </tr>\n",
       "    <tr>\n",
       "      <th>3</th>\n",
       "      <td>PaymentScreenSuccessful</td>\n",
       "      <td>3539</td>\n",
       "      <td>47.0</td>\n",
       "      <td>0.95</td>\n",
       "    </tr>\n",
       "  </tbody>\n",
       "</table>\n",
       "</div>"
      ],
      "text/plain": [
       "                event_name  user_deviceid_hash  %_users  sales_funnel\n",
       "0         MainScreenAppear                7419     98.0          1.00\n",
       "1       OffersScreenAppear                4593     61.0          0.62\n",
       "2         CartScreenAppear                3734     50.0          0.81\n",
       "3  PaymentScreenSuccessful                3539     47.0          0.95"
      ]
     },
     "execution_count": 40,
     "metadata": {},
     "output_type": "execute_result"
    }
   ],
   "source": [
    "# дополняем датасет новым столбцом, который с помощью цикла считает соотношение следующего и последующего шагов\n",
    "data_users_sorted['sales_funnel'] = 0\n",
    "for i in range(len(data_users_sorted['user_deviceid_hash'])):\n",
    "    if i == 0:\n",
    "        data_users_sorted['sales_funnel'].iloc[i] = 1\n",
    "    else: \n",
    "        data_users_sorted['sales_funnel'].iloc[i] = round(\n",
    "        (data_users_sorted['user_deviceid_hash'].iloc[i] / data_users_sorted['user_deviceid_hash'].iloc[i-1]),2)\n",
    "data_users_sorted"
   ]
  },
  {
   "cell_type": "markdown",
   "id": "a3505efe",
   "metadata": {},
   "source": [
    "Видим, следующую картину:\n",
    "* на этап `показ экрана предложений` перешли только 61% от общего количества пользователей, падение конверсии составило почти 40%;\n",
    "* на следующий этап `показ экрана с корзиной` перешло уже 81% пользователей - потеря 19% после предыдущего этапа;\n",
    "* на следующий этап `показ экрана об успешной оплате` перешли 95% пользователей - потеря 5% пользователей.\n",
    "\n",
    "Таким образом, больше всего пользователей были утеряны после этапа `показ главного экрана`, то есть 38% от общего количества пользователей не дошли до этапа `показ экрана предложений`."
   ]
  },
  {
   "cell_type": "code",
   "execution_count": 41,
   "id": "ffc3df18",
   "metadata": {},
   "outputs": [
    {
     "data": {
      "text/html": [
       "<div>\n",
       "<style scoped>\n",
       "    .dataframe tbody tr th:only-of-type {\n",
       "        vertical-align: middle;\n",
       "    }\n",
       "\n",
       "    .dataframe tbody tr th {\n",
       "        vertical-align: top;\n",
       "    }\n",
       "\n",
       "    .dataframe thead th {\n",
       "        text-align: right;\n",
       "    }\n",
       "</style>\n",
       "<table border=\"1\" class=\"dataframe\">\n",
       "  <thead>\n",
       "    <tr style=\"text-align: right;\">\n",
       "      <th></th>\n",
       "      <th>event_name</th>\n",
       "      <th>user_deviceid_hash</th>\n",
       "      <th>%_users</th>\n",
       "      <th>sales_funnel</th>\n",
       "      <th>final_sales_funnel</th>\n",
       "    </tr>\n",
       "  </thead>\n",
       "  <tbody>\n",
       "    <tr>\n",
       "      <th>0</th>\n",
       "      <td>MainScreenAppear</td>\n",
       "      <td>7419</td>\n",
       "      <td>98.0</td>\n",
       "      <td>1.00</td>\n",
       "      <td>1.00</td>\n",
       "    </tr>\n",
       "    <tr>\n",
       "      <th>1</th>\n",
       "      <td>OffersScreenAppear</td>\n",
       "      <td>4593</td>\n",
       "      <td>61.0</td>\n",
       "      <td>0.62</td>\n",
       "      <td>0.62</td>\n",
       "    </tr>\n",
       "    <tr>\n",
       "      <th>2</th>\n",
       "      <td>CartScreenAppear</td>\n",
       "      <td>3734</td>\n",
       "      <td>50.0</td>\n",
       "      <td>0.81</td>\n",
       "      <td>0.50</td>\n",
       "    </tr>\n",
       "    <tr>\n",
       "      <th>3</th>\n",
       "      <td>PaymentScreenSuccessful</td>\n",
       "      <td>3539</td>\n",
       "      <td>47.0</td>\n",
       "      <td>0.95</td>\n",
       "      <td>0.48</td>\n",
       "    </tr>\n",
       "  </tbody>\n",
       "</table>\n",
       "</div>"
      ],
      "text/plain": [
       "                event_name  user_deviceid_hash  %_users  sales_funnel  \\\n",
       "0         MainScreenAppear                7419     98.0          1.00   \n",
       "1       OffersScreenAppear                4593     61.0          0.62   \n",
       "2         CartScreenAppear                3734     50.0          0.81   \n",
       "3  PaymentScreenSuccessful                3539     47.0          0.95   \n",
       "\n",
       "   final_sales_funnel  \n",
       "0                1.00  \n",
       "1                0.62  \n",
       "2                0.50  \n",
       "3                0.48  "
      ]
     },
     "execution_count": 41,
     "metadata": {},
     "output_type": "execute_result"
    }
   ],
   "source": [
    "# аналогичным образом считаем, какая доля пользователей доходит от первого события до оплаты, немного скорректировав предыдущий цикл\n",
    "data_users_sorted['final_sales_funnel'] = 0\n",
    "for i in range(len(data_users_sorted['user_deviceid_hash'])):\n",
    "    if i == 0:\n",
    "        data_users_sorted['final_sales_funnel'].iloc[i] = 1\n",
    "    else: \n",
    "        data_users_sorted['final_sales_funnel'].iloc[i] = round(\n",
    "        (data_users_sorted['user_deviceid_hash'].iloc[i] / data_users_sorted['user_deviceid_hash'].iloc[0]),2)\n",
    "data_users_sorted"
   ]
  },
  {
   "cell_type": "markdown",
   "id": "3ce351b9",
   "metadata": {},
   "source": [
    "Видим, что до последнего этапа `показ экрана об успешной оплате` дошли 48% от общего числа имеющихся пользователей."
   ]
  },
  {
   "cell_type": "markdown",
   "id": "cccff090",
   "metadata": {},
   "source": [
    "Также, для наглядности визуализируем нашу воронку событий. Построим два графика: на одном воронка будет в долях пользователей, перешедших на следующий этап, на другом - в количестве таких уникальных пользователей."
   ]
  },
  {
   "cell_type": "code",
   "execution_count": 42,
   "id": "53a7ff76",
   "metadata": {},
   "outputs": [
    {
     "data": {
      "image/png": "[encoded data removed]"
     },
     "metadata": {},
     "output_type": "display_data"
    }
   ],
   "source": [
    "# строим воронку, показывающую долю пользователей, перешедших на следующий этап\n",
    "fig = px.funnel(data_users_sorted, x='final_sales_funnel', y='event_name')\n",
    "fig.update_layout(title=\"Воронка событий (доли пользователей, перешедших на следующий этап)\")\n",
    "fig.show()\n"
   ]
  },
  {
   "cell_type": "code",
   "execution_count": 43,
   "id": "69414047",
   "metadata": {},
   "outputs": [
    {
     "data": {
      "image/png": "[encoded data removed]"
     },
     "metadata": {},
     "output_type": "display_data"
    }
   ],
   "source": [
    "# строим воронку, показывающую количество пользователей, перешедших на следующий этап\n",
    "fig = px.funnel(data_users_sorted, x='user_deviceid_hash', y='event_name')\n",
    "fig.update_layout(title=\"Воронка событий (количество пользователей, перешедших на следующий этап)\")\n",
    "fig.show()"
   ]
  },
  {
   "cell_type": "markdown",
   "id": "2a209d36",
   "metadata": {},
   "source": [
    "## Изучение результатов эксперимента"
   ]
  },
  {
   "cell_type": "markdown",
   "id": "a9256325",
   "metadata": {},
   "source": [
    "Посмотрим, сколько пользователей в каждой экспериментальной группе."
   ]
  },
  {
   "cell_type": "code",
   "execution_count": 44,
   "id": "431337da",
   "metadata": {},
   "outputs": [
    {
     "name": "stdout",
     "output_type": "stream",
     "text": [
      "В группе 246 - 2484 уникальных пользователей.\n"
     ]
    }
   ],
   "source": [
    "print('В группе 246 -', data.loc[data['expid'] == 246]['user_deviceid_hash'].nunique(), 'уникальных пользователей.')"
   ]
  },
  {
   "cell_type": "code",
   "execution_count": 45,
   "id": "7d89cb5d",
   "metadata": {},
   "outputs": [
    {
     "name": "stdout",
     "output_type": "stream",
     "text": [
      "В группе 247 - 2513 уникальных пользователей.\n"
     ]
    }
   ],
   "source": [
    "print('В группе 247 -', data.loc[data['expid'] == 247]['user_deviceid_hash'].nunique(), 'уникальных пользователей.')"
   ]
  },
  {
   "cell_type": "code",
   "execution_count": 46,
   "id": "c393f8b1",
   "metadata": {},
   "outputs": [
    {
     "name": "stdout",
     "output_type": "stream",
     "text": [
      "В группе 248 - 2537 уникальных пользователей.\n"
     ]
    }
   ],
   "source": [
    "print('В группе 248 -', data.loc[data['expid'] == 248]['user_deviceid_hash'].nunique(), 'уникальных пользователей.')"
   ]
  },
  {
   "cell_type": "markdown",
   "id": "23fc356b",
   "metadata": {},
   "source": [
    "Видим, что самая маленькая группа - группа 246: 2484 уникальных пользователей, самая большая - группа 248: 2537 уникальных пользователей.\n",
    "\n",
    "Проверим группы на пересечение пользователей."
   ]
  },
  {
   "cell_type": "code",
   "execution_count": 47,
   "id": "d5a3e192",
   "metadata": {},
   "outputs": [
    {
     "data": {
      "text/plain": [
       "0"
      ]
     },
     "execution_count": 47,
     "metadata": {},
     "output_type": "execute_result"
    }
   ],
   "source": [
    "unique_246 = data.loc[data['expid'] == 246, 'user_deviceid_hash'].unique()\n",
    "unique_247 = data.loc[data['expid'] == 247, 'user_deviceid_hash'].unique()\n",
    "np.isin(unique_246, unique_247).sum()"
   ]
  },
  {
   "cell_type": "markdown",
   "id": "99f5e9f8",
   "metadata": {},
   "source": [
    "Видим, что пересечений пользователей в группах 246 и 247 нет. Однако, необходимо также проверить отсутствие пересечений между двумя А группами (246 и 247) и одной группой В (248) аналогичным способом. "
   ]
  },
  {
   "cell_type": "code",
   "execution_count": 48,
   "id": "ea3412f4",
   "metadata": {},
   "outputs": [
    {
     "data": {
      "text/plain": [
       "0"
      ]
     },
     "execution_count": 48,
     "metadata": {},
     "output_type": "execute_result"
    }
   ],
   "source": [
    "unique_aa = data.query('expid == 246 or expid == 247')['user_deviceid_hash'].unique()\n",
    "unique_ab = data.loc[data['expid'] == 248, 'user_deviceid_hash'].unique()\n",
    "np.isin(unique_aa, unique_ab).sum()"
   ]
  },
  {
   "cell_type": "markdown",
   "id": "f89bd3d3",
   "metadata": {},
   "source": [
    "Также видим, что пересечения между двумя А группами и одной группой В отсутствуют."
   ]
  },
  {
   "cell_type": "markdown",
   "id": "a0cf6322",
   "metadata": {},
   "source": [
    "Посмотрим, находят ли статистические критерии разницу между выборками 246 и 247, чтобы проверить корректность всех механизмов и расчётов. Для этого найдем самое популярное событие, посчитаем число пользователей, совершивших это событие в каждой из контрольных групп,  посчитаем долю пользователей, совершивших это событие.     \n",
    "Затем проделаем то же самое для всех других событий, а также для группы 248 (группа В).    \n",
    "Для начала, проверим, на сколько группа 247 больше группы 246, чтобы А/А тетс отработал корректно."
   ]
  },
  {
   "cell_type": "code",
   "execution_count": 49,
   "id": "86e8e478",
   "metadata": {},
   "outputs": [
    {
     "name": "stdout",
     "output_type": "stream",
     "text": [
      "Группа 247 больше группы 246 на 1.0 %\n"
     ]
    }
   ],
   "source": [
    "print('Группа 247 больше группы 246 на', round(1 - (data.loc[data['expid'] == 246]['user_deviceid_hash'].nunique() \n",
    "/ data.loc[data['expid'] == 247]['user_deviceid_hash'].nunique()),2) * 100, '%')"
   ]
  },
  {
   "cell_type": "markdown",
   "id": "09e815b1",
   "metadata": {},
   "source": [
    "Разница между размерами групп не превышает допустимый 1%."
   ]
  },
  {
   "cell_type": "markdown",
   "id": "5d839dd0",
   "metadata": {},
   "source": [
    "Так как код для проведения всех статистетических тестов для всех групп и событий будет почти одинаковый, следует создать одну функцию, которую мы будем использовать несколько раз. При этом, одну функцию поместим в другую.     \n",
    "Первая (вложенная фунцкция) будет лишь проводить статистический тест и выдавать его результат. Вторая (внешная) будет собирать данные для проведения теста и передать их в вложенную функцию.\n",
    "\n",
    "Для проверки результатов А/В теста будем использовать z-тест, так как он проверяет равенство пропорций - то, с чем мы, как раз, и имеем дело в нашем случае."
   ]
  },
  {
   "cell_type": "markdown",
   "id": "c16d4c36",
   "metadata": {},
   "source": [
    "Создадим сводную таблицу, из которой будем брать данные для проведения статистического теста."
   ]
  },
  {
   "cell_type": "code",
   "execution_count": 50,
   "id": "c77ecbc9",
   "metadata": {},
   "outputs": [
    {
     "data": {
      "text/html": [
       "<div>\n",
       "<style scoped>\n",
       "    .dataframe tbody tr th:only-of-type {\n",
       "        vertical-align: middle;\n",
       "    }\n",
       "\n",
       "    .dataframe tbody tr th {\n",
       "        vertical-align: top;\n",
       "    }\n",
       "\n",
       "    .dataframe thead th {\n",
       "        text-align: right;\n",
       "    }\n",
       "</style>\n",
       "<table border=\"1\" class=\"dataframe\">\n",
       "  <thead>\n",
       "    <tr style=\"text-align: right;\">\n",
       "      <th>event_name</th>\n",
       "      <th>CartScreenAppear</th>\n",
       "      <th>MainScreenAppear</th>\n",
       "      <th>OffersScreenAppear</th>\n",
       "      <th>PaymentScreenSuccessful</th>\n",
       "      <th>Tutorial</th>\n",
       "    </tr>\n",
       "    <tr>\n",
       "      <th>expid</th>\n",
       "      <th></th>\n",
       "      <th></th>\n",
       "      <th></th>\n",
       "      <th></th>\n",
       "      <th></th>\n",
       "    </tr>\n",
       "  </thead>\n",
       "  <tbody>\n",
       "    <tr>\n",
       "      <th>246</th>\n",
       "      <td>1266</td>\n",
       "      <td>2450</td>\n",
       "      <td>1542</td>\n",
       "      <td>1200</td>\n",
       "      <td>278</td>\n",
       "    </tr>\n",
       "    <tr>\n",
       "      <th>247</th>\n",
       "      <td>1238</td>\n",
       "      <td>2476</td>\n",
       "      <td>1520</td>\n",
       "      <td>1158</td>\n",
       "      <td>283</td>\n",
       "    </tr>\n",
       "    <tr>\n",
       "      <th>248</th>\n",
       "      <td>1230</td>\n",
       "      <td>2493</td>\n",
       "      <td>1531</td>\n",
       "      <td>1181</td>\n",
       "      <td>279</td>\n",
       "    </tr>\n",
       "  </tbody>\n",
       "</table>\n",
       "</div>"
      ],
      "text/plain": [
       "event_name  CartScreenAppear  MainScreenAppear  OffersScreenAppear  \\\n",
       "expid                                                                \n",
       "246                     1266              2450                1542   \n",
       "247                     1238              2476                1520   \n",
       "248                     1230              2493                1531   \n",
       "\n",
       "event_name  PaymentScreenSuccessful  Tutorial  \n",
       "expid                                          \n",
       "246                            1200       278  \n",
       "247                            1158       283  \n",
       "248                            1181       279  "
      ]
     },
     "execution_count": 50,
     "metadata": {},
     "output_type": "execute_result"
    }
   ],
   "source": [
    "data_test = data.pivot_table(index='expid', columns='event_name', values='user_deviceid_hash', aggfunc='nunique')\n",
    "data_test"
   ]
  },
  {
   "cell_type": "markdown",
   "id": "df1bc293",
   "metadata": {},
   "source": [
    "Видим, что для теста нам еще не хватает следующих данных:\n",
    "1. Не хватает столбца с общим числом уникальных пользователей для каждой группы;\n",
    "2. Не хватает строки с данными по объединенной А группе (группы 246 и 247) для проведения А/В теста.\n",
    "\n",
    "Кроме того, у нас присутствует лишний столбцец `Tutorial`, его необходимо удалить."
   ]
  },
  {
   "cell_type": "code",
   "execution_count": 51,
   "id": "67e316cc",
   "metadata": {},
   "outputs": [
    {
     "data": {
      "text/html": [
       "<div>\n",
       "<style scoped>\n",
       "    .dataframe tbody tr th:only-of-type {\n",
       "        vertical-align: middle;\n",
       "    }\n",
       "\n",
       "    .dataframe tbody tr th {\n",
       "        vertical-align: top;\n",
       "    }\n",
       "\n",
       "    .dataframe thead th {\n",
       "        text-align: right;\n",
       "    }\n",
       "</style>\n",
       "<table border=\"1\" class=\"dataframe\">\n",
       "  <thead>\n",
       "    <tr style=\"text-align: right;\">\n",
       "      <th>event_name</th>\n",
       "      <th>CartScreenAppear</th>\n",
       "      <th>MainScreenAppear</th>\n",
       "      <th>OffersScreenAppear</th>\n",
       "      <th>PaymentScreenSuccessful</th>\n",
       "      <th>Total_unique_users</th>\n",
       "    </tr>\n",
       "    <tr>\n",
       "      <th>expid</th>\n",
       "      <th></th>\n",
       "      <th></th>\n",
       "      <th></th>\n",
       "      <th></th>\n",
       "      <th></th>\n",
       "    </tr>\n",
       "  </thead>\n",
       "  <tbody>\n",
       "    <tr>\n",
       "      <th>246</th>\n",
       "      <td>1266</td>\n",
       "      <td>2450</td>\n",
       "      <td>1542</td>\n",
       "      <td>1200</td>\n",
       "      <td>2484</td>\n",
       "    </tr>\n",
       "    <tr>\n",
       "      <th>247</th>\n",
       "      <td>1238</td>\n",
       "      <td>2476</td>\n",
       "      <td>1520</td>\n",
       "      <td>1158</td>\n",
       "      <td>2513</td>\n",
       "    </tr>\n",
       "    <tr>\n",
       "      <th>248</th>\n",
       "      <td>1230</td>\n",
       "      <td>2493</td>\n",
       "      <td>1531</td>\n",
       "      <td>1181</td>\n",
       "      <td>2537</td>\n",
       "    </tr>\n",
       "    <tr>\n",
       "      <th>249</th>\n",
       "      <td>2504</td>\n",
       "      <td>4926</td>\n",
       "      <td>3062</td>\n",
       "      <td>2358</td>\n",
       "      <td>4997</td>\n",
       "    </tr>\n",
       "  </tbody>\n",
       "</table>\n",
       "</div>"
      ],
      "text/plain": [
       "event_name  CartScreenAppear  MainScreenAppear  OffersScreenAppear  \\\n",
       "expid                                                                \n",
       "246                     1266              2450                1542   \n",
       "247                     1238              2476                1520   \n",
       "248                     1230              2493                1531   \n",
       "249                     2504              4926                3062   \n",
       "\n",
       "event_name  PaymentScreenSuccessful  Total_unique_users  \n",
       "expid                                                    \n",
       "246                            1200                2484  \n",
       "247                            1158                2513  \n",
       "248                            1181                2537  \n",
       "249                            2358                4997  "
      ]
     },
     "execution_count": 51,
     "metadata": {},
     "output_type": "execute_result"
    }
   ],
   "source": [
    "#удаляем столбец Tutorial\n",
    "del data_test['Tutorial']\n",
    "# добавляем столбец с общим числом уникальных пользователей для каждой группы\n",
    "data_test['Total_unique_users'] = [data.loc[data['expid'] == 246]['user_deviceid_hash'].nunique(),\n",
    "                                  data.loc[data['expid'] == 247]['user_deviceid_hash'].nunique(),\n",
    "                                  data.loc[data['expid'] == 248]['user_deviceid_hash'].nunique()]\n",
    "#создаем стороку с данными для 249 группы (группа А)\n",
    "data_test.loc['249'] = data_test.iloc[0] + data_test.iloc[1]\n",
    "data_test"
   ]
  },
  {
   "cell_type": "markdown",
   "id": "ee4d829d",
   "metadata": {},
   "source": [
    "Теперь, все данные собраны. Можем приступать к написанию функций."
   ]
  },
  {
   "cell_type": "code",
   "execution_count": 52,
   "id": "7f7ebdfd",
   "metadata": {},
   "outputs": [],
   "source": [
    "def z_test (success, trials, alpha):\n",
    "    \n",
    "    p1 = success[0] / trials[0]\n",
    "    p2 = success[1] / trials[1]\n",
    "    \n",
    "    p_combined = (success[0] + success[1]) / (trials[0] + trials[1])\n",
    "    \n",
    "    difference = p1 - p2\n",
    "    z_value = difference / mth.sqrt(p_combined *(1-p_combined) * (1/trials[0] + 1/trials[1]))\n",
    "    \n",
    "    distr = st.norm(0, 1) \n",
    "    \n",
    "    p_value = (1 - distr.cdf(abs(z_value))) * 2\n",
    "    \n",
    "    print('p-значение: ', p_value)\n",
    "    if (p_value < alpha):\n",
    "        print(\"Отвергаем нулевую гипотезу: между долями есть значимая разница\")\n",
    "        print('')\n",
    "    else:\n",
    "        print(\"Не получилось отвергнуть нулевую гипотезу, нет оснований считать доли разными\")\n",
    "        print('')"
   ]
  },
  {
   "cell_type": "code",
   "execution_count": 53,
   "id": "9251cdf0",
   "metadata": {},
   "outputs": [],
   "source": [
    "def conduct_ztest (group_1, group_2, alpha):\n",
    "    alpha_value = alpha\n",
    "    total_users = ([data_test['Total_unique_users'].iloc[group_1], data_test['Total_unique_users'].iloc[group_2]])\n",
    "    MainScreenAppear_users = ([data_test['MainScreenAppear'].iloc[group_1], data_test['MainScreenAppear'].iloc[group_2]])\n",
    "    OffersScreenAppear_users = ([data_test['OffersScreenAppear'].iloc[group_1], data_test['OffersScreenAppear'].iloc[group_2]])\n",
    "    CartScreenAppear_users = ([data_test['CartScreenAppear'].iloc[group_1], data_test['CartScreenAppear'].iloc[group_2]])\n",
    "    PaymentScreenSuccessful_users = ([data_test['PaymentScreenSuccessful'].iloc[group_1], data_test['PaymentScreenSuccessful'].iloc[group_2]])\n",
    "    \n",
    "    print('Результаты теста по долям total_users и MainScreenAppear_users')\n",
    "    z_test(MainScreenAppear_users, total_users, alpha_value)\n",
    "    \n",
    "    print('Результаты теста по долям total_users и OffersScreenAppear_users')\n",
    "    z_test(OffersScreenAppear_users, total_users, alpha_value)\n",
    "    \n",
    "    print('Результаты теста по долям total_users и CartScreenAppear_users')\n",
    "    z_test(CartScreenAppear_users, total_users, alpha_value)\n",
    "    \n",
    "    print('Результаты теста по долям total_users и PaymentScreenSuccessful_users')\n",
    "    z_test(PaymentScreenSuccessful_users, total_users, alpha_value)\n",
    "    "
   ]
  },
  {
   "cell_type": "markdown",
   "id": "d36948bd",
   "metadata": {},
   "source": [
    "Для первого раунда тестов возьмем значение alpha равное 0.05. Затем проведем второй раунд теста с alpha равным 0.1, то есть с менее строгой проверкой, и посмотрим, как изменится результат.      \n",
    "Сформулируем нулевую (Н0) и альтернативную (Н1) гипотезы.      \n",
    "Н0: между долями групп отсутствует статистически значимые различия, нет оснований полагать, что доли разные.      \n",
    "Н1: между долями групп есть статистически значимые различия, есть основания полагать, что доли разные."
   ]
  },
  {
   "cell_type": "code",
   "execution_count": 54,
   "id": "f1bb8268",
   "metadata": {},
   "outputs": [
    {
     "name": "stdout",
     "output_type": "stream",
     "text": [
      "Результаты теста по долям total_users и MainScreenAppear_users\n",
      "p-значение:  0.7570597232046099\n",
      "Не получилось отвергнуть нулевую гипотезу, нет оснований считать доли разными\n",
      "\n",
      "Результаты теста по долям total_users и OffersScreenAppear_users\n",
      "p-значение:  0.2480954578522181\n",
      "Не получилось отвергнуть нулевую гипотезу, нет оснований считать доли разными\n",
      "\n",
      "Результаты теста по долям total_users и CartScreenAppear_users\n",
      "p-значение:  0.22883372237997213\n",
      "Не получилось отвергнуть нулевую гипотезу, нет оснований считать доли разными\n",
      "\n",
      "Результаты теста по долям total_users и PaymentScreenSuccessful_users\n",
      "p-значение:  0.11456679313141849\n",
      "Не получилось отвергнуть нулевую гипотезу, нет оснований считать доли разными\n",
      "\n"
     ]
    }
   ],
   "source": [
    "# проверка на наличие статистически значимых различий между группами 246 и 247 (А/А тест)\n",
    "conduct_ztest (0, 1, 0.05)"
   ]
  },
  {
   "cell_type": "markdown",
   "id": "b57ffd73",
   "metadata": {},
   "source": [
    "Видим, что по всем событиям не получилось отвергнуть нулевую гипотезу, соответственно нет оснований считать, что есть статистические значимые отличия между группами 246 и 247.    \n",
    "\n",
    "Теперь повторим все то же самое для всех А групп (246, 247 и 249) с В группой (группа 248)."
   ]
  },
  {
   "cell_type": "code",
   "execution_count": 55,
   "id": "51b219b8",
   "metadata": {},
   "outputs": [
    {
     "name": "stdout",
     "output_type": "stream",
     "text": [
      "Результаты теста по долям total_users и MainScreenAppear_users\n",
      "p-значение:  0.2949721933554552\n",
      "Не получилось отвергнуть нулевую гипотезу, нет оснований считать доли разными\n",
      "\n",
      "Результаты теста по долям total_users и OffersScreenAppear_users\n",
      "p-значение:  0.20836205402738917\n",
      "Не получилось отвергнуть нулевую гипотезу, нет оснований считать доли разными\n",
      "\n",
      "Результаты теста по долям total_users и CartScreenAppear_users\n",
      "p-значение:  0.07842923237520116\n",
      "Не получилось отвергнуть нулевую гипотезу, нет оснований считать доли разными\n",
      "\n",
      "Результаты теста по долям total_users и PaymentScreenSuccessful_users\n",
      "p-значение:  0.2122553275697796\n",
      "Не получилось отвергнуть нулевую гипотезу, нет оснований считать доли разными\n",
      "\n"
     ]
    }
   ],
   "source": [
    "# проверка на наличие статистически значимых различий между группами 246 и 248 (А1/В тест)\n",
    "conduct_ztest (0, 2, 0.05)"
   ]
  },
  {
   "cell_type": "code",
   "execution_count": 56,
   "id": "0ee5347c",
   "metadata": {},
   "outputs": [
    {
     "name": "stdout",
     "output_type": "stream",
     "text": [
      "Результаты теста по долям total_users и MainScreenAppear_users\n",
      "p-значение:  0.4587053616621515\n",
      "Не получилось отвергнуть нулевую гипотезу, нет оснований считать доли разными\n",
      "\n",
      "Результаты теста по долям total_users и OffersScreenAppear_users\n",
      "p-значение:  0.9197817830592261\n",
      "Не получилось отвергнуть нулевую гипотезу, нет оснований считать доли разными\n",
      "\n",
      "Результаты теста по долям total_users и CartScreenAppear_users\n",
      "p-значение:  0.5786197879539783\n",
      "Не получилось отвергнуть нулевую гипотезу, нет оснований считать доли разными\n",
      "\n",
      "Результаты теста по долям total_users и PaymentScreenSuccessful_users\n",
      "p-значение:  0.7373415053803964\n",
      "Не получилось отвергнуть нулевую гипотезу, нет оснований считать доли разными\n",
      "\n"
     ]
    }
   ],
   "source": [
    "# проверка на наличие статистически значимых различий между группами 247 и 248 (А2/В тест)\n",
    "conduct_ztest (1, 2, 0.05)"
   ]
  },
  {
   "cell_type": "code",
   "execution_count": 57,
   "id": "28a88cba",
   "metadata": {},
   "outputs": [
    {
     "name": "stdout",
     "output_type": "stream",
     "text": [
      "Результаты теста по долям total_users и MainScreenAppear_users\n",
      "p-значение:  0.29424526837179577\n",
      "Не получилось отвергнуть нулевую гипотезу, нет оснований считать доли разными\n",
      "\n",
      "Результаты теста по долям total_users и OffersScreenAppear_users\n",
      "p-значение:  0.43425549655188256\n",
      "Не получилось отвергнуть нулевую гипотезу, нет оснований считать доли разными\n",
      "\n",
      "Результаты теста по долям total_users и CartScreenAppear_users\n",
      "p-значение:  0.18175875284404386\n",
      "Не получилось отвергнуть нулевую гипотезу, нет оснований считать доли разными\n",
      "\n",
      "Результаты теста по долям total_users и PaymentScreenSuccessful_users\n",
      "p-значение:  0.6004294282308704\n",
      "Не получилось отвергнуть нулевую гипотезу, нет оснований считать доли разными\n",
      "\n"
     ]
    }
   ],
   "source": [
    "# проверка на наличие статистически значимых различий между объединенными группами 246 и 247 и группой 248 (А/В тест)\n",
    "conduct_ztest (3, 2, 0.05)"
   ]
  },
  {
   "cell_type": "markdown",
   "id": "17fe148c",
   "metadata": {},
   "source": [
    "Видим, что по результатам z-теста нет оснований для того, чтобы отвергнуть нулевую гипотезу о том, что доли равны. Соответственно, при заданном уровне статистической значимости, полагаю, изменение шрифта не оказало какого-либо значимого влияния на поведение пользователей.     \n",
    "\n",
    "Попробуем провести второй раунд теста с более высокоим уровнем alpha - 0.1."
   ]
  },
  {
   "cell_type": "code",
   "execution_count": 58,
   "id": "982bf925",
   "metadata": {},
   "outputs": [
    {
     "name": "stdout",
     "output_type": "stream",
     "text": [
      "Результаты теста по долям total_users и MainScreenAppear_users\n",
      "p-значение:  0.2949721933554552\n",
      "Не получилось отвергнуть нулевую гипотезу, нет оснований считать доли разными\n",
      "\n",
      "Результаты теста по долям total_users и OffersScreenAppear_users\n",
      "p-значение:  0.20836205402738917\n",
      "Не получилось отвергнуть нулевую гипотезу, нет оснований считать доли разными\n",
      "\n",
      "Результаты теста по долям total_users и CartScreenAppear_users\n",
      "p-значение:  0.07842923237520116\n",
      "Отвергаем нулевую гипотезу: между долями есть значимая разница\n",
      "\n",
      "Результаты теста по долям total_users и PaymentScreenSuccessful_users\n",
      "p-значение:  0.2122553275697796\n",
      "Не получилось отвергнуть нулевую гипотезу, нет оснований считать доли разными\n",
      "\n"
     ]
    }
   ],
   "source": [
    "# проверка на наличие статистически значимых различий между группами 246 и 248 (А1/В тест)\n",
    "conduct_ztest (0, 2, 0.1)"
   ]
  },
  {
   "cell_type": "code",
   "execution_count": 59,
   "id": "f163506e",
   "metadata": {},
   "outputs": [
    {
     "name": "stdout",
     "output_type": "stream",
     "text": [
      "Результаты теста по долям total_users и MainScreenAppear_users\n",
      "p-значение:  0.4587053616621515\n",
      "Не получилось отвергнуть нулевую гипотезу, нет оснований считать доли разными\n",
      "\n",
      "Результаты теста по долям total_users и OffersScreenAppear_users\n",
      "p-значение:  0.9197817830592261\n",
      "Не получилось отвергнуть нулевую гипотезу, нет оснований считать доли разными\n",
      "\n",
      "Результаты теста по долям total_users и CartScreenAppear_users\n",
      "p-значение:  0.5786197879539783\n",
      "Не получилось отвергнуть нулевую гипотезу, нет оснований считать доли разными\n",
      "\n",
      "Результаты теста по долям total_users и PaymentScreenSuccessful_users\n",
      "p-значение:  0.7373415053803964\n",
      "Не получилось отвергнуть нулевую гипотезу, нет оснований считать доли разными\n",
      "\n"
     ]
    }
   ],
   "source": [
    "# проверка на наличие статистически значимых различий между группами 247 и 248 (А2/В тест)\n",
    "conduct_ztest (1, 2, 0.1)"
   ]
  },
  {
   "cell_type": "code",
   "execution_count": 60,
   "id": "6daf0406",
   "metadata": {},
   "outputs": [
    {
     "name": "stdout",
     "output_type": "stream",
     "text": [
      "Результаты теста по долям total_users и MainScreenAppear_users\n",
      "p-значение:  0.29424526837179577\n",
      "Не получилось отвергнуть нулевую гипотезу, нет оснований считать доли разными\n",
      "\n",
      "Результаты теста по долям total_users и OffersScreenAppear_users\n",
      "p-значение:  0.43425549655188256\n",
      "Не получилось отвергнуть нулевую гипотезу, нет оснований считать доли разными\n",
      "\n",
      "Результаты теста по долям total_users и CartScreenAppear_users\n",
      "p-значение:  0.18175875284404386\n",
      "Не получилось отвергнуть нулевую гипотезу, нет оснований считать доли разными\n",
      "\n",
      "Результаты теста по долям total_users и PaymentScreenSuccessful_users\n",
      "p-значение:  0.6004294282308704\n",
      "Не получилось отвергнуть нулевую гипотезу, нет оснований считать доли разными\n",
      "\n"
     ]
    }
   ],
   "source": [
    "# проверка на наличие статистически значимых различий между группами 247 и 248 (А/В тест)\n",
    "conduct_ztest (3, 2, 0.1)"
   ]
  },
  {
   "cell_type": "markdown",
   "id": "21e37c29",
   "metadata": {},
   "source": [
    "Снова видим, что также нет оснований отклонить нулевую гипотезу, за исключением только одного случая. Соответственно, даже для менее строго уровня alpha z-тест не видит статистических значимых отличий между группами.     \n",
    "Таким образом, есть основания полагать, что новая фича в виде измененного шрифта не оправдала себя.\n",
    "\n",
    "При проведении А/В теста и анализе его результатов было выполнено 4 z-теста с уровнем статистичемской значимости alpha - 0.05, из которых 1 А/А тест, и 3 z-теста с уровнем статистичемской значимости alpha - 0.1, то есть без учета А/А теста мы проводим 3 А/В теста.     \n",
    "Однако, учитыая, что при тестировании гипотезы мы проводили множественные сравнения, для более корректного проведения статистического теста необходимо скорректировать уровень статистической значимости для снижения вероятности ложнопозитивного результата. Воспользуемся методом Шидака."
   ]
  },
  {
   "cell_type": "code",
   "execution_count": 61,
   "id": "2f4f2388",
   "metadata": {},
   "outputs": [
    {
     "name": "stdout",
     "output_type": "stream",
     "text": [
      "Новое значение alpha с учетом поправки Шидака равно - 0.017 .\n"
     ]
    }
   ],
   "source": [
    "# подставляем наши значения в формулу\n",
    "shidak_alpha = round(1 - (1 - 0.05)**(1/3),3)\n",
    "print('Новое значение alpha с учетом поправки Шидака равно -',shidak_alpha,'.')"
   ]
  },
  {
   "cell_type": "markdown",
   "id": "f579b3ae",
   "metadata": {},
   "source": [
    "Проведем еще z-тест еще раз, но с скорректированным значением alpha."
   ]
  },
  {
   "cell_type": "code",
   "execution_count": 62,
   "id": "7428c912",
   "metadata": {},
   "outputs": [
    {
     "name": "stdout",
     "output_type": "stream",
     "text": [
      "Результаты теста по долям total_users и MainScreenAppear_users\n",
      "p-значение:  0.2949721933554552\n",
      "Не получилось отвергнуть нулевую гипотезу, нет оснований считать доли разными\n",
      "\n",
      "Результаты теста по долям total_users и OffersScreenAppear_users\n",
      "p-значение:  0.20836205402738917\n",
      "Не получилось отвергнуть нулевую гипотезу, нет оснований считать доли разными\n",
      "\n",
      "Результаты теста по долям total_users и CartScreenAppear_users\n",
      "p-значение:  0.07842923237520116\n",
      "Не получилось отвергнуть нулевую гипотезу, нет оснований считать доли разными\n",
      "\n",
      "Результаты теста по долям total_users и PaymentScreenSuccessful_users\n",
      "p-значение:  0.2122553275697796\n",
      "Не получилось отвергнуть нулевую гипотезу, нет оснований считать доли разными\n",
      "\n"
     ]
    }
   ],
   "source": [
    "conduct_ztest (0, 2, shidak_alpha)"
   ]
  },
  {
   "cell_type": "code",
   "execution_count": 63,
   "id": "3911298d",
   "metadata": {},
   "outputs": [
    {
     "name": "stdout",
     "output_type": "stream",
     "text": [
      "Результаты теста по долям total_users и MainScreenAppear_users\n",
      "p-значение:  0.4587053616621515\n",
      "Не получилось отвергнуть нулевую гипотезу, нет оснований считать доли разными\n",
      "\n",
      "Результаты теста по долям total_users и OffersScreenAppear_users\n",
      "p-значение:  0.9197817830592261\n",
      "Не получилось отвергнуть нулевую гипотезу, нет оснований считать доли разными\n",
      "\n",
      "Результаты теста по долям total_users и CartScreenAppear_users\n",
      "p-значение:  0.5786197879539783\n",
      "Не получилось отвергнуть нулевую гипотезу, нет оснований считать доли разными\n",
      "\n",
      "Результаты теста по долям total_users и PaymentScreenSuccessful_users\n",
      "p-значение:  0.7373415053803964\n",
      "Не получилось отвергнуть нулевую гипотезу, нет оснований считать доли разными\n",
      "\n"
     ]
    }
   ],
   "source": [
    "conduct_ztest (1, 2, shidak_alpha)"
   ]
  },
  {
   "cell_type": "code",
   "execution_count": 64,
   "id": "d7dcc81b",
   "metadata": {},
   "outputs": [
    {
     "name": "stdout",
     "output_type": "stream",
     "text": [
      "Результаты теста по долям total_users и MainScreenAppear_users\n",
      "p-значение:  0.29424526837179577\n",
      "Не получилось отвергнуть нулевую гипотезу, нет оснований считать доли разными\n",
      "\n",
      "Результаты теста по долям total_users и OffersScreenAppear_users\n",
      "p-значение:  0.43425549655188256\n",
      "Не получилось отвергнуть нулевую гипотезу, нет оснований считать доли разными\n",
      "\n",
      "Результаты теста по долям total_users и CartScreenAppear_users\n",
      "p-значение:  0.18175875284404386\n",
      "Не получилось отвергнуть нулевую гипотезу, нет оснований считать доли разными\n",
      "\n",
      "Результаты теста по долям total_users и PaymentScreenSuccessful_users\n",
      "p-значение:  0.6004294282308704\n",
      "Не получилось отвергнуть нулевую гипотезу, нет оснований считать доли разными\n",
      "\n"
     ]
    }
   ],
   "source": [
    "conduct_ztest (3, 2, shidak_alpha)"
   ]
  },
  {
   "cell_type": "markdown",
   "id": "a38d7f5b",
   "metadata": {},
   "source": [
    "Видим, что с скорректированным значением alpha тест также не находит каких-либо статистически значимых различий между группами: изменение шрифта не привело к каким-либо изменениям в поведении пользователей."
   ]
  },
  {
   "cell_type": "markdown",
   "id": "0ad0dbba",
   "metadata": {},
   "source": [
    "## Общие выводы"
   ]
  },
  {
   "cell_type": "markdown",
   "id": "873ba807",
   "metadata": {},
   "source": [
    "В процессе выполнения и анализа А/А/В теста были выполнены следующие действия:\n",
    "* удалены старые данные в логе;\n",
    "* построена воронка событий;\n",
    "* проведен z- test.\n",
    "\n",
    "**Основной вывод** - изменение шрифта не привело к каким-либо статически значимым изменениям в поведении пользователей. Введение фичи не оправдало себя.\n",
    "\n",
    "Также , к важным наблюдениям можно отнести следующие:\n",
    "* всего былоо 7419 уникальных пользователей;\n",
    "* до последнего этапа `показ экрана об успешной оплате` дошли 48% от общего числа имеющихся пользователей, а именно - 3539;\n",
    "* больше всего пользователей были утеряны после этапа `показ главного экрана`: 2893 или 39% от общего количества пользователей не дошли до следующего этапа `показ экрана предложений`.\n"
   ]
  }
 ],
 "metadata": {
  "ExecuteTimeLog": [
   {
    "duration": 1226,
    "start_time": "2023-03-16T14:21:05.596Z"
   },
   {
    "duration": 413,
    "start_time": "2023-03-16T14:21:06.825Z"
   },
   {
    "duration": 12,
    "start_time": "2023-03-16T14:21:07.240Z"
   },
   {
    "duration": 11,
    "start_time": "2023-03-16T14:21:07.254Z"
   },
   {
    "duration": 34,
    "start_time": "2023-03-16T14:21:07.266Z"
   },
   {
    "duration": 28,
    "start_time": "2023-03-16T14:21:07.302Z"
   },
   {
    "duration": 22,
    "start_time": "2023-03-16T14:21:07.333Z"
   },
   {
    "duration": 85,
    "start_time": "2023-03-16T14:21:07.357Z"
   },
   {
    "duration": 71,
    "start_time": "2023-03-16T14:21:07.444Z"
   },
   {
    "duration": 20,
    "start_time": "2023-03-16T14:21:07.518Z"
   },
   {
    "duration": 20,
    "start_time": "2023-03-16T14:21:07.539Z"
   },
   {
    "duration": 104,
    "start_time": "2023-03-16T14:21:07.561Z"
   },
   {
    "duration": 23,
    "start_time": "2023-03-16T14:21:07.667Z"
   },
   {
    "duration": 8,
    "start_time": "2023-03-16T14:21:07.692Z"
   },
   {
    "duration": 56,
    "start_time": "2023-03-16T14:21:07.702Z"
   },
   {
    "duration": 15,
    "start_time": "2023-03-16T14:21:07.760Z"
   },
   {
    "duration": 66,
    "start_time": "2023-03-16T14:21:07.788Z"
   },
   {
    "duration": 46,
    "start_time": "2023-03-16T14:21:07.856Z"
   },
   {
    "duration": 245,
    "start_time": "2023-03-16T14:21:07.905Z"
   },
   {
    "duration": 11,
    "start_time": "2023-03-16T14:21:08.151Z"
   },
   {
    "duration": 37,
    "start_time": "2023-03-16T14:21:08.165Z"
   },
   {
    "duration": 6,
    "start_time": "2023-03-16T14:21:08.203Z"
   },
   {
    "duration": 8,
    "start_time": "2023-03-16T14:21:08.211Z"
   },
   {
    "duration": 400,
    "start_time": "2023-03-16T14:21:08.222Z"
   },
   {
    "duration": 345,
    "start_time": "2023-03-16T14:21:08.623Z"
   },
   {
    "duration": 37,
    "start_time": "2023-03-16T14:21:08.970Z"
   },
   {
    "duration": 57,
    "start_time": "2023-03-16T14:21:09.009Z"
   },
   {
    "duration": 225,
    "start_time": "2023-03-16T14:21:09.089Z"
   },
   {
    "duration": 15,
    "start_time": "2023-03-16T14:21:09.316Z"
   },
   {
    "duration": 6,
    "start_time": "2023-03-16T14:21:09.333Z"
   },
   {
    "duration": 66,
    "start_time": "2023-03-16T14:21:09.342Z"
   },
   {
    "duration": 254,
    "start_time": "2023-03-16T14:21:09.411Z"
   },
   {
    "duration": 80,
    "start_time": "2023-03-16T14:21:09.667Z"
   },
   {
    "duration": 301,
    "start_time": "2023-03-16T14:21:09.749Z"
   },
   {
    "duration": 14,
    "start_time": "2023-03-16T14:21:10.052Z"
   },
   {
    "duration": 21,
    "start_time": "2023-03-16T14:21:10.068Z"
   },
   {
    "duration": 15,
    "start_time": "2023-03-16T14:21:10.090Z"
   },
   {
    "duration": 27,
    "start_time": "2023-03-16T14:21:10.106Z"
   },
   {
    "duration": 15,
    "start_time": "2023-03-16T14:21:10.134Z"
   },
   {
    "duration": 37,
    "start_time": "2023-03-16T14:21:10.151Z"
   },
   {
    "duration": 13,
    "start_time": "2023-03-16T14:21:10.190Z"
   },
   {
    "duration": 21,
    "start_time": "2023-03-16T14:21:10.205Z"
   },
   {
    "duration": 35,
    "start_time": "2023-03-16T14:21:10.228Z"
   },
   {
    "duration": 29,
    "start_time": "2023-03-16T14:21:10.265Z"
   },
   {
    "duration": 11,
    "start_time": "2023-03-16T14:21:10.296Z"
   },
   {
    "duration": 92,
    "start_time": "2023-03-16T14:21:10.309Z"
   },
   {
    "duration": 48,
    "start_time": "2023-03-16T14:21:10.402Z"
   },
   {
    "duration": 6,
    "start_time": "2023-03-16T14:21:10.451Z"
   },
   {
    "duration": 38,
    "start_time": "2023-03-16T14:21:10.459Z"
   },
   {
    "duration": 28,
    "start_time": "2023-03-16T14:21:10.499Z"
   },
   {
    "duration": 10,
    "start_time": "2023-03-16T14:21:10.529Z"
   },
   {
    "duration": 9,
    "start_time": "2023-03-16T14:21:10.541Z"
   },
   {
    "duration": 24,
    "start_time": "2023-03-16T14:21:10.552Z"
   },
   {
    "duration": 25,
    "start_time": "2023-03-16T14:21:10.577Z"
   },
   {
    "duration": 11,
    "start_time": "2023-03-16T14:21:10.604Z"
   },
   {
    "duration": 20,
    "start_time": "2023-03-16T14:21:10.617Z"
   },
   {
    "duration": 71,
    "start_time": "2023-03-16T15:31:06.878Z"
   },
   {
    "duration": 40,
    "start_time": "2023-03-16T15:42:49.575Z"
   },
   {
    "duration": 1319,
    "start_time": "2023-03-16T15:43:01.309Z"
   },
   {
    "duration": 357,
    "start_time": "2023-03-16T15:43:02.630Z"
   },
   {
    "duration": 11,
    "start_time": "2023-03-16T15:43:02.988Z"
   },
   {
    "duration": 25,
    "start_time": "2023-03-16T15:43:03.000Z"
   },
   {
    "duration": 21,
    "start_time": "2023-03-16T15:43:03.027Z"
   },
   {
    "duration": 54,
    "start_time": "2023-03-16T15:43:03.050Z"
   },
   {
    "duration": 27,
    "start_time": "2023-03-16T15:43:03.106Z"
   },
   {
    "duration": 91,
    "start_time": "2023-03-16T15:43:03.135Z"
   },
   {
    "duration": 55,
    "start_time": "2023-03-16T15:43:03.228Z"
   },
   {
    "duration": 16,
    "start_time": "2023-03-16T15:43:03.284Z"
   },
   {
    "duration": 17,
    "start_time": "2023-03-16T15:43:03.301Z"
   },
   {
    "duration": 83,
    "start_time": "2023-03-16T15:43:03.320Z"
   },
   {
    "duration": 13,
    "start_time": "2023-03-16T15:43:03.405Z"
   },
   {
    "duration": 4,
    "start_time": "2023-03-16T15:43:03.422Z"
   },
   {
    "duration": 74,
    "start_time": "2023-03-16T15:43:03.427Z"
   },
   {
    "duration": 11,
    "start_time": "2023-03-16T15:43:03.503Z"
   },
   {
    "duration": 30,
    "start_time": "2023-03-16T15:43:03.515Z"
   },
   {
    "duration": 42,
    "start_time": "2023-03-16T15:43:03.546Z"
   },
   {
    "duration": 246,
    "start_time": "2023-03-16T15:43:03.590Z"
   },
   {
    "duration": 7,
    "start_time": "2023-03-16T15:43:03.838Z"
   },
   {
    "duration": 46,
    "start_time": "2023-03-16T15:43:03.847Z"
   },
   {
    "duration": 41,
    "start_time": "2023-03-16T15:43:03.895Z"
   },
   {
    "duration": 857,
    "start_time": "2023-03-16T15:43:03.938Z"
   },
   {
    "duration": 0,
    "start_time": "2023-03-16T15:43:04.798Z"
   },
   {
    "duration": 0,
    "start_time": "2023-03-16T15:43:04.801Z"
   },
   {
    "duration": 0,
    "start_time": "2023-03-16T15:43:04.802Z"
   },
   {
    "duration": 0,
    "start_time": "2023-03-16T15:43:04.803Z"
   },
   {
    "duration": 0,
    "start_time": "2023-03-16T15:43:04.804Z"
   },
   {
    "duration": 0,
    "start_time": "2023-03-16T15:43:04.805Z"
   },
   {
    "duration": 0,
    "start_time": "2023-03-16T15:43:04.807Z"
   },
   {
    "duration": 0,
    "start_time": "2023-03-16T15:43:04.808Z"
   },
   {
    "duration": 0,
    "start_time": "2023-03-16T15:43:04.809Z"
   },
   {
    "duration": 0,
    "start_time": "2023-03-16T15:43:04.810Z"
   },
   {
    "duration": 0,
    "start_time": "2023-03-16T15:43:04.812Z"
   },
   {
    "duration": 0,
    "start_time": "2023-03-16T15:43:04.813Z"
   },
   {
    "duration": 0,
    "start_time": "2023-03-16T15:43:04.816Z"
   },
   {
    "duration": 0,
    "start_time": "2023-03-16T15:43:04.817Z"
   },
   {
    "duration": 0,
    "start_time": "2023-03-16T15:43:04.818Z"
   },
   {
    "duration": 0,
    "start_time": "2023-03-16T15:43:04.819Z"
   },
   {
    "duration": 0,
    "start_time": "2023-03-16T15:43:04.820Z"
   },
   {
    "duration": 0,
    "start_time": "2023-03-16T15:43:04.821Z"
   },
   {
    "duration": 0,
    "start_time": "2023-03-16T15:43:04.823Z"
   },
   {
    "duration": 0,
    "start_time": "2023-03-16T15:43:04.824Z"
   },
   {
    "duration": 0,
    "start_time": "2023-03-16T15:43:04.825Z"
   },
   {
    "duration": 0,
    "start_time": "2023-03-16T15:43:04.827Z"
   },
   {
    "duration": 0,
    "start_time": "2023-03-16T15:43:04.829Z"
   },
   {
    "duration": 0,
    "start_time": "2023-03-16T15:43:04.830Z"
   },
   {
    "duration": 0,
    "start_time": "2023-03-16T15:43:04.832Z"
   },
   {
    "duration": 0,
    "start_time": "2023-03-16T15:43:04.833Z"
   },
   {
    "duration": 0,
    "start_time": "2023-03-16T15:43:04.835Z"
   },
   {
    "duration": 0,
    "start_time": "2023-03-16T15:43:04.836Z"
   },
   {
    "duration": 0,
    "start_time": "2023-03-16T15:43:04.837Z"
   },
   {
    "duration": 0,
    "start_time": "2023-03-16T15:43:04.880Z"
   },
   {
    "duration": 0,
    "start_time": "2023-03-16T15:43:04.881Z"
   },
   {
    "duration": 0,
    "start_time": "2023-03-16T15:43:04.883Z"
   },
   {
    "duration": 0,
    "start_time": "2023-03-16T15:43:04.884Z"
   },
   {
    "duration": 0,
    "start_time": "2023-03-16T15:43:04.886Z"
   },
   {
    "duration": 0,
    "start_time": "2023-03-16T15:43:04.887Z"
   },
   {
    "duration": 20,
    "start_time": "2023-03-16T15:43:44.366Z"
   },
   {
    "duration": 25,
    "start_time": "2023-03-16T15:44:07.117Z"
   },
   {
    "duration": 37,
    "start_time": "2023-03-16T15:44:25.793Z"
   },
   {
    "duration": 33,
    "start_time": "2023-03-16T15:45:06.632Z"
   },
   {
    "duration": 24,
    "start_time": "2023-03-16T15:45:42.416Z"
   },
   {
    "duration": 28,
    "start_time": "2023-03-16T15:45:53.410Z"
   },
   {
    "duration": 38,
    "start_time": "2023-03-16T15:46:18.356Z"
   },
   {
    "duration": 97,
    "start_time": "2023-03-16T15:47:22.807Z"
   },
   {
    "duration": 123,
    "start_time": "2023-03-16T15:47:43.261Z"
   },
   {
    "duration": 125,
    "start_time": "2023-03-16T15:47:57.956Z"
   },
   {
    "duration": 21,
    "start_time": "2023-03-16T15:51:39.147Z"
   },
   {
    "duration": 1014,
    "start_time": "2023-03-16T15:54:56.027Z"
   },
   {
    "duration": 407,
    "start_time": "2023-03-16T15:54:57.042Z"
   },
   {
    "duration": 10,
    "start_time": "2023-03-16T15:54:57.450Z"
   },
   {
    "duration": 17,
    "start_time": "2023-03-16T15:54:57.462Z"
   },
   {
    "duration": 10,
    "start_time": "2023-03-16T15:54:57.482Z"
   },
   {
    "duration": 35,
    "start_time": "2023-03-16T15:54:57.494Z"
   },
   {
    "duration": 18,
    "start_time": "2023-03-16T15:54:57.530Z"
   },
   {
    "duration": 67,
    "start_time": "2023-03-16T15:54:57.550Z"
   },
   {
    "duration": 49,
    "start_time": "2023-03-16T15:54:57.618Z"
   },
   {
    "duration": 15,
    "start_time": "2023-03-16T15:54:57.680Z"
   },
   {
    "duration": 24,
    "start_time": "2023-03-16T15:54:57.697Z"
   },
   {
    "duration": 125,
    "start_time": "2023-03-16T15:54:57.722Z"
   },
   {
    "duration": 16,
    "start_time": "2023-03-16T15:54:57.849Z"
   },
   {
    "duration": 4,
    "start_time": "2023-03-16T15:54:57.879Z"
   },
   {
    "duration": 60,
    "start_time": "2023-03-16T15:54:57.885Z"
   },
   {
    "duration": 34,
    "start_time": "2023-03-16T15:54:57.947Z"
   },
   {
    "duration": 26,
    "start_time": "2023-03-16T15:54:57.983Z"
   },
   {
    "duration": 20,
    "start_time": "2023-03-16T15:54:58.010Z"
   },
   {
    "duration": 212,
    "start_time": "2023-03-16T15:54:58.032Z"
   },
   {
    "duration": 10,
    "start_time": "2023-03-16T15:54:58.246Z"
   },
   {
    "duration": 62,
    "start_time": "2023-03-16T15:54:58.258Z"
   },
   {
    "duration": 39,
    "start_time": "2023-03-16T15:54:58.322Z"
   },
   {
    "duration": 113,
    "start_time": "2023-03-16T15:54:58.363Z"
   },
   {
    "duration": 18,
    "start_time": "2023-03-16T15:54:58.480Z"
   },
   {
    "duration": 4,
    "start_time": "2023-03-16T15:54:58.500Z"
   },
   {
    "duration": 8,
    "start_time": "2023-03-16T15:54:58.506Z"
   },
   {
    "duration": 344,
    "start_time": "2023-03-16T15:54:58.515Z"
   },
   {
    "duration": 299,
    "start_time": "2023-03-16T15:54:58.860Z"
   },
   {
    "duration": 26,
    "start_time": "2023-03-16T15:54:59.161Z"
   },
   {
    "duration": 47,
    "start_time": "2023-03-16T15:54:59.188Z"
   },
   {
    "duration": 202,
    "start_time": "2023-03-16T15:54:59.236Z"
   },
   {
    "duration": 12,
    "start_time": "2023-03-16T15:54:59.439Z"
   },
   {
    "duration": 29,
    "start_time": "2023-03-16T15:54:59.453Z"
   },
   {
    "duration": 20,
    "start_time": "2023-03-16T15:54:59.484Z"
   },
   {
    "duration": 228,
    "start_time": "2023-03-16T15:54:59.506Z"
   },
   {
    "duration": 61,
    "start_time": "2023-03-16T15:54:59.736Z"
   },
   {
    "duration": 147,
    "start_time": "2023-03-16T15:54:59.798Z"
   },
   {
    "duration": 12,
    "start_time": "2023-03-16T15:54:59.947Z"
   },
   {
    "duration": 23,
    "start_time": "2023-03-16T15:54:59.961Z"
   },
   {
    "duration": 34,
    "start_time": "2023-03-16T15:54:59.985Z"
   },
   {
    "duration": 30,
    "start_time": "2023-03-16T15:55:00.023Z"
   },
   {
    "duration": 43,
    "start_time": "2023-03-16T15:55:00.055Z"
   },
   {
    "duration": 24,
    "start_time": "2023-03-16T15:55:00.100Z"
   },
   {
    "duration": 19,
    "start_time": "2023-03-16T15:55:00.126Z"
   },
   {
    "duration": 24,
    "start_time": "2023-03-16T15:55:00.147Z"
   },
   {
    "duration": 29,
    "start_time": "2023-03-16T15:55:00.173Z"
   },
   {
    "duration": 22,
    "start_time": "2023-03-16T15:55:00.203Z"
   },
   {
    "duration": 28,
    "start_time": "2023-03-16T15:55:00.227Z"
   },
   {
    "duration": 104,
    "start_time": "2023-03-16T15:55:00.257Z"
   },
   {
    "duration": 31,
    "start_time": "2023-03-16T15:55:00.362Z"
   },
   {
    "duration": 20,
    "start_time": "2023-03-16T15:55:00.395Z"
   },
   {
    "duration": 16,
    "start_time": "2023-03-16T15:55:00.417Z"
   },
   {
    "duration": 25,
    "start_time": "2023-03-16T15:55:00.435Z"
   },
   {
    "duration": 21,
    "start_time": "2023-03-16T15:55:00.462Z"
   },
   {
    "duration": 32,
    "start_time": "2023-03-16T15:55:00.485Z"
   },
   {
    "duration": 48,
    "start_time": "2023-03-16T15:55:00.519Z"
   },
   {
    "duration": 20,
    "start_time": "2023-03-16T15:55:00.569Z"
   },
   {
    "duration": 37,
    "start_time": "2023-03-16T15:55:00.591Z"
   },
   {
    "duration": 30,
    "start_time": "2023-03-16T15:55:00.630Z"
   },
   {
    "duration": 21,
    "start_time": "2023-03-16T15:55:37.799Z"
   },
   {
    "duration": 171,
    "start_time": "2023-03-16T15:56:14.196Z"
   },
   {
    "duration": 1329,
    "start_time": "2023-03-17T07:55:06.829Z"
   },
   {
    "duration": 111,
    "start_time": "2023-03-17T08:00:24.596Z"
   },
   {
    "duration": 1193,
    "start_time": "2023-03-17T08:00:39.097Z"
   },
   {
    "duration": 350,
    "start_time": "2023-03-17T08:00:40.292Z"
   },
   {
    "duration": 10,
    "start_time": "2023-03-17T08:00:40.643Z"
   },
   {
    "duration": 17,
    "start_time": "2023-03-17T08:00:40.656Z"
   },
   {
    "duration": 15,
    "start_time": "2023-03-17T08:00:40.675Z"
   },
   {
    "duration": 20,
    "start_time": "2023-03-17T08:00:40.693Z"
   },
   {
    "duration": 22,
    "start_time": "2023-03-17T08:00:40.715Z"
   },
   {
    "duration": 77,
    "start_time": "2023-03-17T08:00:40.738Z"
   },
   {
    "duration": 47,
    "start_time": "2023-03-17T08:00:40.816Z"
   },
   {
    "duration": 27,
    "start_time": "2023-03-17T08:00:40.864Z"
   },
   {
    "duration": 20,
    "start_time": "2023-03-17T08:00:40.893Z"
   },
   {
    "duration": 95,
    "start_time": "2023-03-17T08:00:40.914Z"
   },
   {
    "duration": 14,
    "start_time": "2023-03-17T08:00:41.010Z"
   },
   {
    "duration": 5,
    "start_time": "2023-03-17T08:00:41.026Z"
   },
   {
    "duration": 61,
    "start_time": "2023-03-17T08:00:41.032Z"
   },
   {
    "duration": 13,
    "start_time": "2023-03-17T08:00:41.095Z"
   },
   {
    "duration": 39,
    "start_time": "2023-03-17T08:00:41.109Z"
   },
   {
    "duration": 33,
    "start_time": "2023-03-17T08:00:41.149Z"
   },
   {
    "duration": 193,
    "start_time": "2023-03-17T08:00:41.183Z"
   },
   {
    "duration": 8,
    "start_time": "2023-03-17T08:00:41.378Z"
   },
   {
    "duration": 32,
    "start_time": "2023-03-17T08:00:41.387Z"
   },
   {
    "duration": 24,
    "start_time": "2023-03-17T08:00:41.421Z"
   },
   {
    "duration": 113,
    "start_time": "2023-03-17T08:00:41.446Z"
   },
   {
    "duration": 26,
    "start_time": "2023-03-17T08:00:41.560Z"
   },
   {
    "duration": 4,
    "start_time": "2023-03-17T08:00:41.588Z"
   },
   {
    "duration": 7,
    "start_time": "2023-03-17T08:00:41.593Z"
   },
   {
    "duration": 340,
    "start_time": "2023-03-17T08:00:41.602Z"
   },
   {
    "duration": 278,
    "start_time": "2023-03-17T08:00:41.944Z"
   },
   {
    "duration": 23,
    "start_time": "2023-03-17T08:00:42.224Z"
   },
   {
    "duration": 64,
    "start_time": "2023-03-17T08:00:42.248Z"
   },
   {
    "duration": 248,
    "start_time": "2023-03-17T08:00:42.314Z"
   },
   {
    "duration": 22,
    "start_time": "2023-03-17T08:00:42.563Z"
   },
   {
    "duration": 6,
    "start_time": "2023-03-17T08:00:42.586Z"
   },
   {
    "duration": 44,
    "start_time": "2023-03-17T08:00:42.593Z"
   },
   {
    "duration": 164,
    "start_time": "2023-03-17T08:00:42.639Z"
   },
   {
    "duration": 49,
    "start_time": "2023-03-17T08:00:42.804Z"
   },
   {
    "duration": 153,
    "start_time": "2023-03-17T08:00:42.854Z"
   },
   {
    "duration": 12,
    "start_time": "2023-03-17T08:00:43.008Z"
   },
   {
    "duration": 7,
    "start_time": "2023-03-17T08:00:43.021Z"
   },
   {
    "duration": 28,
    "start_time": "2023-03-17T08:00:43.029Z"
   },
   {
    "duration": 33,
    "start_time": "2023-03-17T08:00:43.060Z"
   },
   {
    "duration": 109,
    "start_time": "2023-03-17T08:00:52.809Z"
   },
   {
    "duration": 307,
    "start_time": "2023-03-17T08:01:28.788Z"
   },
   {
    "duration": 13,
    "start_time": "2023-03-17T08:02:30.548Z"
   },
   {
    "duration": 43,
    "start_time": "2023-03-17T08:02:37.828Z"
   },
   {
    "duration": 15,
    "start_time": "2023-03-17T08:03:10.989Z"
   },
   {
    "duration": 1075,
    "start_time": "2023-03-17T08:03:47.128Z"
   },
   {
    "duration": 359,
    "start_time": "2023-03-17T08:03:48.204Z"
   },
   {
    "duration": 9,
    "start_time": "2023-03-17T08:03:48.564Z"
   },
   {
    "duration": 8,
    "start_time": "2023-03-17T08:03:48.579Z"
   },
   {
    "duration": 14,
    "start_time": "2023-03-17T08:03:48.588Z"
   },
   {
    "duration": 25,
    "start_time": "2023-03-17T08:03:48.604Z"
   },
   {
    "duration": 16,
    "start_time": "2023-03-17T08:03:48.630Z"
   },
   {
    "duration": 64,
    "start_time": "2023-03-17T08:03:48.647Z"
   },
   {
    "duration": 45,
    "start_time": "2023-03-17T08:03:48.713Z"
   },
   {
    "duration": 32,
    "start_time": "2023-03-17T08:03:48.760Z"
   },
   {
    "duration": 24,
    "start_time": "2023-03-17T08:03:48.794Z"
   },
   {
    "duration": 66,
    "start_time": "2023-03-17T08:03:48.820Z"
   },
   {
    "duration": 16,
    "start_time": "2023-03-17T08:03:48.888Z"
   },
   {
    "duration": 23,
    "start_time": "2023-03-17T08:03:48.906Z"
   },
   {
    "duration": 50,
    "start_time": "2023-03-17T08:03:48.930Z"
   },
   {
    "duration": 10,
    "start_time": "2023-03-17T08:03:48.981Z"
   },
   {
    "duration": 40,
    "start_time": "2023-03-17T08:03:48.992Z"
   },
   {
    "duration": 18,
    "start_time": "2023-03-17T08:03:49.033Z"
   },
   {
    "duration": 187,
    "start_time": "2023-03-17T08:03:49.053Z"
   },
   {
    "duration": 7,
    "start_time": "2023-03-17T08:03:49.241Z"
   },
   {
    "duration": 17,
    "start_time": "2023-03-17T08:03:49.249Z"
   },
   {
    "duration": 21,
    "start_time": "2023-03-17T08:03:49.279Z"
   },
   {
    "duration": 109,
    "start_time": "2023-03-17T08:03:49.301Z"
   },
   {
    "duration": 20,
    "start_time": "2023-03-17T08:03:49.411Z"
   },
   {
    "duration": 4,
    "start_time": "2023-03-17T08:03:49.432Z"
   },
   {
    "duration": 4,
    "start_time": "2023-03-17T08:03:49.437Z"
   },
   {
    "duration": 327,
    "start_time": "2023-03-17T08:03:49.443Z"
   },
   {
    "duration": 274,
    "start_time": "2023-03-17T08:03:49.772Z"
   },
   {
    "duration": 32,
    "start_time": "2023-03-17T08:03:50.048Z"
   },
   {
    "duration": 46,
    "start_time": "2023-03-17T08:03:50.081Z"
   },
   {
    "duration": 241,
    "start_time": "2023-03-17T08:03:50.129Z"
   },
   {
    "duration": 14,
    "start_time": "2023-03-17T08:03:50.371Z"
   },
   {
    "duration": 5,
    "start_time": "2023-03-17T08:03:50.386Z"
   },
   {
    "duration": 23,
    "start_time": "2023-03-17T08:03:50.393Z"
   },
   {
    "duration": 156,
    "start_time": "2023-03-17T08:03:50.418Z"
   },
   {
    "duration": 56,
    "start_time": "2023-03-17T08:03:50.575Z"
   },
   {
    "duration": 148,
    "start_time": "2023-03-17T08:03:50.633Z"
   },
   {
    "duration": 12,
    "start_time": "2023-03-17T08:03:50.782Z"
   },
   {
    "duration": 17,
    "start_time": "2023-03-17T08:03:50.796Z"
   },
   {
    "duration": 12,
    "start_time": "2023-03-17T08:03:50.814Z"
   },
   {
    "duration": 33,
    "start_time": "2023-03-17T08:03:50.829Z"
   },
   {
    "duration": 1428,
    "start_time": "2023-03-17T08:05:59.092Z"
   },
   {
    "duration": 510,
    "start_time": "2023-03-17T08:06:00.522Z"
   },
   {
    "duration": 10,
    "start_time": "2023-03-17T08:06:01.033Z"
   },
   {
    "duration": 45,
    "start_time": "2023-03-17T08:06:01.044Z"
   },
   {
    "duration": 48,
    "start_time": "2023-03-17T08:06:01.092Z"
   },
   {
    "duration": 50,
    "start_time": "2023-03-17T08:06:01.141Z"
   },
   {
    "duration": 54,
    "start_time": "2023-03-17T08:06:01.193Z"
   },
   {
    "duration": 85,
    "start_time": "2023-03-17T08:06:01.248Z"
   },
   {
    "duration": 50,
    "start_time": "2023-03-17T08:06:01.335Z"
   },
   {
    "duration": 16,
    "start_time": "2023-03-17T08:06:01.386Z"
   },
   {
    "duration": 38,
    "start_time": "2023-03-17T08:06:01.403Z"
   },
   {
    "duration": 88,
    "start_time": "2023-03-17T08:06:01.442Z"
   },
   {
    "duration": 64,
    "start_time": "2023-03-17T08:06:01.531Z"
   },
   {
    "duration": 50,
    "start_time": "2023-03-17T08:06:01.598Z"
   },
   {
    "duration": 96,
    "start_time": "2023-03-17T08:06:01.650Z"
   },
   {
    "duration": 24,
    "start_time": "2023-03-17T08:06:01.747Z"
   },
   {
    "duration": 65,
    "start_time": "2023-03-17T08:06:01.773Z"
   },
   {
    "duration": 35,
    "start_time": "2023-03-17T08:06:01.840Z"
   },
   {
    "duration": 222,
    "start_time": "2023-03-17T08:06:01.877Z"
   },
   {
    "duration": 6,
    "start_time": "2023-03-17T08:06:02.101Z"
   },
   {
    "duration": 30,
    "start_time": "2023-03-17T08:06:02.108Z"
   },
   {
    "duration": 23,
    "start_time": "2023-03-17T08:06:02.140Z"
   },
   {
    "duration": 120,
    "start_time": "2023-03-17T08:06:02.165Z"
   },
   {
    "duration": 18,
    "start_time": "2023-03-17T08:06:02.286Z"
   },
   {
    "duration": 10,
    "start_time": "2023-03-17T08:06:02.306Z"
   },
   {
    "duration": 5,
    "start_time": "2023-03-17T08:06:02.318Z"
   },
   {
    "duration": 349,
    "start_time": "2023-03-17T08:06:02.324Z"
   },
   {
    "duration": 276,
    "start_time": "2023-03-17T08:06:02.675Z"
   },
   {
    "duration": 29,
    "start_time": "2023-03-17T08:06:02.953Z"
   },
   {
    "duration": 49,
    "start_time": "2023-03-17T08:06:02.983Z"
   },
   {
    "duration": 312,
    "start_time": "2023-03-17T08:06:03.033Z"
   },
   {
    "duration": 12,
    "start_time": "2023-03-17T08:06:03.346Z"
   },
   {
    "duration": 20,
    "start_time": "2023-03-17T08:06:03.360Z"
   },
   {
    "duration": 93,
    "start_time": "2023-03-17T08:06:03.382Z"
   },
   {
    "duration": 161,
    "start_time": "2023-03-17T08:06:03.477Z"
   },
   {
    "duration": 51,
    "start_time": "2023-03-17T08:06:03.639Z"
   },
   {
    "duration": 154,
    "start_time": "2023-03-17T08:06:03.692Z"
   },
   {
    "duration": 12,
    "start_time": "2023-03-17T08:06:03.848Z"
   },
   {
    "duration": 19,
    "start_time": "2023-03-17T08:06:03.861Z"
   },
   {
    "duration": 11,
    "start_time": "2023-03-17T08:06:03.881Z"
   },
   {
    "duration": 59,
    "start_time": "2023-03-17T08:06:03.895Z"
   },
   {
    "duration": 109,
    "start_time": "2023-03-17T08:06:03.956Z"
   },
   {
    "duration": 305,
    "start_time": "2023-03-17T08:06:08.129Z"
   },
   {
    "duration": 120,
    "start_time": "2023-03-17T08:06:59.725Z"
   },
   {
    "duration": 40,
    "start_time": "2023-03-17T08:11:27.391Z"
   },
   {
    "duration": 39,
    "start_time": "2023-03-17T08:12:16.340Z"
   },
   {
    "duration": 122,
    "start_time": "2023-03-17T08:12:59.700Z"
   },
   {
    "duration": 55,
    "start_time": "2023-03-17T08:13:40.276Z"
   },
   {
    "duration": 1160,
    "start_time": "2023-03-17T09:11:01.538Z"
   },
   {
    "duration": 390,
    "start_time": "2023-03-17T09:11:02.699Z"
   },
   {
    "duration": 17,
    "start_time": "2023-03-17T09:11:03.090Z"
   },
   {
    "duration": 34,
    "start_time": "2023-03-17T09:11:03.109Z"
   },
   {
    "duration": 61,
    "start_time": "2023-03-17T09:11:03.145Z"
   },
   {
    "duration": 28,
    "start_time": "2023-03-17T09:11:03.207Z"
   },
   {
    "duration": 17,
    "start_time": "2023-03-17T09:11:03.237Z"
   },
   {
    "duration": 73,
    "start_time": "2023-03-17T09:11:03.256Z"
   },
   {
    "duration": 67,
    "start_time": "2023-03-17T09:11:03.330Z"
   },
   {
    "duration": 19,
    "start_time": "2023-03-17T09:11:03.399Z"
   },
   {
    "duration": 24,
    "start_time": "2023-03-17T09:11:03.419Z"
   },
   {
    "duration": 81,
    "start_time": "2023-03-17T09:11:03.445Z"
   },
   {
    "duration": 16,
    "start_time": "2023-03-17T09:11:03.528Z"
   },
   {
    "duration": 14,
    "start_time": "2023-03-17T09:11:03.548Z"
   },
   {
    "duration": 100,
    "start_time": "2023-03-17T09:11:03.563Z"
   },
   {
    "duration": 11,
    "start_time": "2023-03-17T09:11:03.665Z"
   },
   {
    "duration": 54,
    "start_time": "2023-03-17T09:11:03.679Z"
   },
   {
    "duration": 29,
    "start_time": "2023-03-17T09:11:03.736Z"
   },
   {
    "duration": 243,
    "start_time": "2023-03-17T09:11:03.767Z"
   },
   {
    "duration": 7,
    "start_time": "2023-03-17T09:11:04.012Z"
   },
   {
    "duration": 37,
    "start_time": "2023-03-17T09:11:04.021Z"
   },
   {
    "duration": 39,
    "start_time": "2023-03-17T09:11:04.060Z"
   },
   {
    "duration": 131,
    "start_time": "2023-03-17T09:11:04.101Z"
   },
   {
    "duration": 21,
    "start_time": "2023-03-17T09:11:04.234Z"
   },
   {
    "duration": 5,
    "start_time": "2023-03-17T09:11:04.256Z"
   },
   {
    "duration": 68,
    "start_time": "2023-03-17T09:11:04.263Z"
   },
   {
    "duration": 384,
    "start_time": "2023-03-17T09:11:04.333Z"
   },
   {
    "duration": 342,
    "start_time": "2023-03-17T09:11:04.718Z"
   },
   {
    "duration": 59,
    "start_time": "2023-03-17T09:11:05.062Z"
   },
   {
    "duration": 100,
    "start_time": "2023-03-17T09:11:05.123Z"
   },
   {
    "duration": 390,
    "start_time": "2023-03-17T09:11:05.225Z"
   },
   {
    "duration": 52,
    "start_time": "2023-03-17T09:11:05.617Z"
   },
   {
    "duration": 27,
    "start_time": "2023-03-17T09:11:05.671Z"
   },
   {
    "duration": 25,
    "start_time": "2023-03-17T09:11:05.699Z"
   },
   {
    "duration": 185,
    "start_time": "2023-03-17T09:11:05.728Z"
   },
   {
    "duration": 82,
    "start_time": "2023-03-17T09:11:05.915Z"
   },
   {
    "duration": 214,
    "start_time": "2023-03-17T09:11:05.998Z"
   },
   {
    "duration": 16,
    "start_time": "2023-03-17T09:11:06.215Z"
   },
   {
    "duration": 9,
    "start_time": "2023-03-17T09:11:06.233Z"
   },
   {
    "duration": 23,
    "start_time": "2023-03-17T09:11:06.244Z"
   },
   {
    "duration": 27,
    "start_time": "2023-03-17T09:11:06.288Z"
   },
   {
    "duration": 423,
    "start_time": "2023-03-17T09:11:06.317Z"
   },
   {
    "duration": 13,
    "start_time": "2023-03-17T09:11:06.742Z"
   },
   {
    "duration": 14,
    "start_time": "2023-03-17T09:11:06.757Z"
   },
   {
    "duration": 15,
    "start_time": "2023-03-17T09:11:06.789Z"
   },
   {
    "duration": 15,
    "start_time": "2023-03-17T09:11:06.806Z"
   },
   {
    "duration": 81,
    "start_time": "2023-03-17T09:11:06.823Z"
   },
   {
    "duration": 21,
    "start_time": "2023-03-17T09:11:06.907Z"
   },
   {
    "duration": 10,
    "start_time": "2023-03-17T09:11:06.930Z"
   },
   {
    "duration": 119,
    "start_time": "2023-03-17T09:11:06.942Z"
   },
   {
    "duration": 55,
    "start_time": "2023-03-17T09:11:07.063Z"
   },
   {
    "duration": 5,
    "start_time": "2023-03-17T09:11:07.120Z"
   },
   {
    "duration": 7,
    "start_time": "2023-03-17T09:11:07.126Z"
   },
   {
    "duration": 26,
    "start_time": "2023-03-17T09:11:07.134Z"
   },
   {
    "duration": 22,
    "start_time": "2023-03-17T09:11:07.163Z"
   },
   {
    "duration": 12,
    "start_time": "2023-03-17T09:11:07.197Z"
   },
   {
    "duration": 9,
    "start_time": "2023-03-17T09:11:07.211Z"
   },
   {
    "duration": 12,
    "start_time": "2023-03-17T09:11:07.223Z"
   },
   {
    "duration": 15,
    "start_time": "2023-03-17T09:11:07.237Z"
   },
   {
    "duration": 15,
    "start_time": "2023-03-17T09:11:07.254Z"
   },
   {
    "duration": 171,
    "start_time": "2023-03-17T09:12:38.394Z"
   },
   {
    "duration": 3,
    "start_time": "2023-03-17T09:13:00.515Z"
   },
   {
    "duration": 67,
    "start_time": "2023-03-17T09:13:09.695Z"
   },
   {
    "duration": 13,
    "start_time": "2023-03-17T09:15:55.295Z"
   },
   {
    "duration": 4,
    "start_time": "2023-03-17T09:17:11.263Z"
   },
   {
    "duration": 45,
    "start_time": "2023-03-17T09:17:16.349Z"
   },
   {
    "duration": 22,
    "start_time": "2023-03-17T09:18:16.996Z"
   },
   {
    "duration": 21,
    "start_time": "2023-03-17T09:18:26.435Z"
   },
   {
    "duration": 22,
    "start_time": "2023-03-17T09:18:31.417Z"
   },
   {
    "duration": 38,
    "start_time": "2023-03-17T09:18:59.590Z"
   },
   {
    "duration": 403,
    "start_time": "2023-03-17T09:20:02.202Z"
   },
   {
    "duration": 15,
    "start_time": "2023-03-17T09:36:47.178Z"
   },
   {
    "duration": 3,
    "start_time": "2023-03-17T09:36:55.476Z"
   },
   {
    "duration": 4,
    "start_time": "2023-03-17T09:37:00.358Z"
   },
   {
    "duration": 3,
    "start_time": "2023-03-17T09:37:09.397Z"
   },
   {
    "duration": 4,
    "start_time": "2023-03-17T09:38:00.422Z"
   },
   {
    "duration": 3,
    "start_time": "2023-03-17T09:38:10.319Z"
   },
   {
    "duration": 4,
    "start_time": "2023-03-17T09:38:13.335Z"
   },
   {
    "duration": 9,
    "start_time": "2023-03-17T09:39:11.715Z"
   },
   {
    "duration": 11,
    "start_time": "2023-03-17T09:39:36.135Z"
   },
   {
    "duration": 37,
    "start_time": "2023-03-17T09:39:36.148Z"
   },
   {
    "duration": 1335,
    "start_time": "2023-03-17T14:44:14.414Z"
   },
   {
    "duration": 388,
    "start_time": "2023-03-17T14:44:15.752Z"
   },
   {
    "duration": 15,
    "start_time": "2023-03-17T14:44:16.141Z"
   },
   {
    "duration": 28,
    "start_time": "2023-03-17T14:44:16.158Z"
   },
   {
    "duration": 18,
    "start_time": "2023-03-17T14:44:16.189Z"
   },
   {
    "duration": 22,
    "start_time": "2023-03-17T14:44:16.209Z"
   },
   {
    "duration": 20,
    "start_time": "2023-03-17T14:44:16.233Z"
   },
   {
    "duration": 86,
    "start_time": "2023-03-17T14:44:16.254Z"
   },
   {
    "duration": 76,
    "start_time": "2023-03-17T14:44:16.341Z"
   },
   {
    "duration": 18,
    "start_time": "2023-03-17T14:44:16.419Z"
   },
   {
    "duration": 19,
    "start_time": "2023-03-17T14:44:16.438Z"
   },
   {
    "duration": 84,
    "start_time": "2023-03-17T14:44:16.478Z"
   },
   {
    "duration": 22,
    "start_time": "2023-03-17T14:44:16.564Z"
   },
   {
    "duration": 12,
    "start_time": "2023-03-17T14:44:16.589Z"
   },
   {
    "duration": 56,
    "start_time": "2023-03-17T14:44:16.603Z"
   },
   {
    "duration": 29,
    "start_time": "2023-03-17T14:44:16.660Z"
   },
   {
    "duration": 31,
    "start_time": "2023-03-17T14:44:16.700Z"
   },
   {
    "duration": 23,
    "start_time": "2023-03-17T14:44:16.733Z"
   },
   {
    "duration": 246,
    "start_time": "2023-03-17T14:44:16.758Z"
   },
   {
    "duration": 9,
    "start_time": "2023-03-17T14:44:17.007Z"
   },
   {
    "duration": 21,
    "start_time": "2023-03-17T14:44:17.017Z"
   },
   {
    "duration": 57,
    "start_time": "2023-03-17T14:44:17.040Z"
   },
   {
    "duration": 132,
    "start_time": "2023-03-17T14:44:17.100Z"
   },
   {
    "duration": 23,
    "start_time": "2023-03-17T14:44:17.233Z"
   },
   {
    "duration": 5,
    "start_time": "2023-03-17T14:44:17.258Z"
   },
   {
    "duration": 36,
    "start_time": "2023-03-17T14:44:17.264Z"
   },
   {
    "duration": 417,
    "start_time": "2023-03-17T14:44:17.302Z"
   },
   {
    "duration": 393,
    "start_time": "2023-03-17T14:44:17.720Z"
   },
   {
    "duration": 27,
    "start_time": "2023-03-17T14:44:18.115Z"
   },
   {
    "duration": 77,
    "start_time": "2023-03-17T14:44:18.144Z"
   },
   {
    "duration": 343,
    "start_time": "2023-03-17T14:44:18.223Z"
   },
   {
    "duration": 29,
    "start_time": "2023-03-17T14:44:18.568Z"
   },
   {
    "duration": 8,
    "start_time": "2023-03-17T14:44:18.604Z"
   },
   {
    "duration": 23,
    "start_time": "2023-03-17T14:44:18.614Z"
   },
   {
    "duration": 198,
    "start_time": "2023-03-17T14:44:18.639Z"
   },
   {
    "duration": 72,
    "start_time": "2023-03-17T14:44:18.839Z"
   },
   {
    "duration": 195,
    "start_time": "2023-03-17T14:44:18.913Z"
   },
   {
    "duration": 15,
    "start_time": "2023-03-17T14:44:19.109Z"
   },
   {
    "duration": 9,
    "start_time": "2023-03-17T14:44:19.126Z"
   },
   {
    "duration": 15,
    "start_time": "2023-03-17T14:44:19.137Z"
   },
   {
    "duration": 22,
    "start_time": "2023-03-17T14:44:19.183Z"
   },
   {
    "duration": 499,
    "start_time": "2023-03-17T14:44:19.206Z"
   },
   {
    "duration": 89,
    "start_time": "2023-03-17T14:44:19.709Z"
   },
   {
    "duration": 14,
    "start_time": "2023-03-17T14:44:19.800Z"
   },
   {
    "duration": 12,
    "start_time": "2023-03-17T14:44:19.816Z"
   },
   {
    "duration": 66,
    "start_time": "2023-03-17T14:44:19.830Z"
   },
   {
    "duration": 15,
    "start_time": "2023-03-17T14:44:19.903Z"
   },
   {
    "duration": 24,
    "start_time": "2023-03-17T14:44:19.919Z"
   },
   {
    "duration": 50,
    "start_time": "2023-03-17T14:44:19.945Z"
   },
   {
    "duration": 13,
    "start_time": "2023-03-17T14:44:19.997Z"
   },
   {
    "duration": 99,
    "start_time": "2023-03-17T14:44:20.012Z"
   },
   {
    "duration": 39,
    "start_time": "2023-03-17T14:44:20.113Z"
   },
   {
    "duration": 5,
    "start_time": "2023-03-17T14:44:20.154Z"
   },
   {
    "duration": 16,
    "start_time": "2023-03-17T14:44:20.181Z"
   },
   {
    "duration": 15,
    "start_time": "2023-03-17T14:44:20.199Z"
   },
   {
    "duration": 11,
    "start_time": "2023-03-17T14:44:20.216Z"
   },
   {
    "duration": 17,
    "start_time": "2023-03-17T14:44:20.228Z"
   },
   {
    "duration": 10,
    "start_time": "2023-03-17T14:44:20.246Z"
   },
   {
    "duration": 42,
    "start_time": "2023-03-17T14:44:20.257Z"
   },
   {
    "duration": 11,
    "start_time": "2023-03-17T14:44:20.301Z"
   },
   {
    "duration": 10,
    "start_time": "2023-03-17T14:44:20.314Z"
   },
   {
    "duration": 9,
    "start_time": "2023-03-17T14:44:20.326Z"
   },
   {
    "duration": 12,
    "start_time": "2023-03-17T14:44:20.337Z"
   },
   {
    "duration": 39,
    "start_time": "2023-03-17T14:44:20.351Z"
   },
   {
    "duration": 13,
    "start_time": "2023-03-17T14:44:20.391Z"
   }
  ],
  "kernelspec": {
   "display_name": "Python 3 (ipykernel)",
   "language": "python",
   "name": "python3"
  },
  "language_info": {
   "codemirror_mode": {
    "name": "ipython",
    "version": 3
   },
   "file_extension": ".py",
   "mimetype": "text/x-python",
   "name": "python",
   "nbconvert_exporter": "python",
   "pygments_lexer": "ipython3",
   "version": "3.9.12"
  },
  "toc": {
   "base_numbering": 1,
   "nav_menu": {},
   "number_sections": true,
   "sideBar": true,
   "skip_h1_title": true,
   "title_cell": "Table of Contents",
   "title_sidebar": "Contents",
   "toc_cell": true,
   "toc_position": {},
   "toc_section_display": true,
   "toc_window_display": false
  }
 },
 "nbformat": 4,
 "nbformat_minor": 5
}
